{
 "cells": [
  {
   "cell_type": "code",
   "execution_count": 1,
   "id": "bc188462",
   "metadata": {},
   "outputs": [],
   "source": [
    "import os\n",
    "import json\n",
    "from collections import defaultdict\n",
    "from collections import Counter\n",
    "from copy import deepcopy\n",
    "import matplotlib.pyplot as plt"
   ]
  },
  {
   "cell_type": "code",
   "execution_count": 2,
   "id": "3c1ba1c4",
   "metadata": {},
   "outputs": [],
   "source": [
    "RESULTS = 'results/CUB'"
   ]
  },
  {
   "cell_type": "code",
   "execution_count": 3,
   "id": "5667e3ad",
   "metadata": {},
   "outputs": [],
   "source": [
    "gemini = json.load(open(f'{RESULTS}/0_1000_gemini.json'))"
   ]
  },
  {
   "cell_type": "code",
   "execution_count": 4,
   "id": "77af6ea9",
   "metadata": {},
   "outputs": [],
   "source": [
    "gpt = json.load(open(f'{RESULTS}/0_1000_gpt.json'))"
   ]
  },
  {
   "cell_type": "code",
   "execution_count": 27,
   "id": "9398f998",
   "metadata": {},
   "outputs": [],
   "source": [
    "llava = [json.loads(q) for q in open(os.path.expanduser(f'{RESULTS}/0_529_llava.jsonl'), \"r\")]"
   ]
  },
  {
   "cell_type": "markdown",
   "id": "31036a81",
   "metadata": {},
   "source": [
    "# sanity check"
   ]
  },
  {
   "cell_type": "code",
   "execution_count": 5,
   "id": "516bb2df",
   "metadata": {},
   "outputs": [
    {
     "name": "stdout",
     "output_type": "stream",
     "text": [
      "{'image_1': 'cub_200_2011/att_cls_images/test\\\\231_36\\\\Northern_Flicker_0131_28962.jpg', 'image_2': 'cub_200_2011/att_cls_images/test\\\\231_36\\\\Northern_Flicker_0138_28476.jpg', 'answer': 'Left', 'question': 'Which bird is clinging to a tree more?', 'gpt_answer': 'GPT error'}\n",
      "{'image_1': 'att_cls_images/test/231_48/European_Goldfinch_0062_794657.jpg', 'image_2': 'att_cls_images/test/231_48/European_Goldfinch_0074_33348.jpg', 'answer': 'Right', 'question': 'Which bird is clinging to a tree more?', 'gpt_answer': 'GPT error'}\n",
      "{'image_1': 'cub_200_2011/att_cls_images/test\\\\131_189\\\\Red_Bellied_Woodpecker_0049_180755.jpg', 'image_2': 'cub_200_2011/att_cls_images/test\\\\131_189\\\\Red_Bellied_Woodpecker_0114_181092.jpg', 'answer': 'Left', 'question': 'Which bird has more orange on its throat?', 'gpt_answer': 'GPT error'}\n"
     ]
    }
   ],
   "source": [
    "refine = []\n",
    "rerun = []\n",
    "error = []\n",
    "for pair in gpt:\n",
    "    new = deepcopy(pair)\n",
    "    if pair['gpt_answer'] == None :\n",
    "        rerun.append(pair)\n",
    "    elif 'Right' in pair['gpt_answer']:\n",
    "        new['gpt_answer'] = 'Right'\n",
    "        refine.append(new)\n",
    "    elif 'Left' in pair['gpt_answer']:\n",
    "        new['gpt_answer'] = 'Left'\n",
    "        refine.append(new)\n",
    "    else:\n",
    "        error.append(pair)\n",
    "        print(pair)\n",
    "        "
   ]
  },
  {
   "cell_type": "code",
   "execution_count": 6,
   "id": "e88f06c5",
   "metadata": {},
   "outputs": [],
   "source": [
    "#error = []\n",
    "correct_pred = []\n",
    "wrong_pred = []\n",
    "gt = []\n",
    "correct = []\n",
    "wrong = []\n",
    "\n",
    "for pair in refine:\n",
    "    gt.append(pair['answer'])\n",
    "    # if pair['gpt_answer'] not in ('Left', \"Right\"):\n",
    "    #     # print(pair)\n",
    "    #     error.append(pair)\n",
    "    #     continue\n",
    "    if pair['answer'] == pair['gpt_answer']:\n",
    "            correct.append(pair)\n",
    "            correct_pred.append(pair['gpt_answer'])\n",
    "    elif pair['answer'] != pair['gpt_answer']:\n",
    "            wrong.append(pair)\n",
    "            wrong_pred.append(pair['gpt_answer'])\n",
    "    else:\n",
    "        print('fuck')"
   ]
  },
  {
   "cell_type": "code",
   "execution_count": 7,
   "id": "977927a3",
   "metadata": {},
   "outputs": [
    {
     "data": {
      "text/plain": [
       "0.7151095732410612"
      ]
     },
     "execution_count": 7,
     "metadata": {},
     "output_type": "execute_result"
    }
   ],
   "source": [
    "len(correct) / (len(correct) + len(wrong))"
   ]
  },
  {
   "cell_type": "code",
   "execution_count": 8,
   "id": "060a926d",
   "metadata": {},
   "outputs": [
    {
     "data": {
      "text/plain": [
       "Counter({'Right': 467, 'Left': 400})"
      ]
     },
     "execution_count": 8,
     "metadata": {},
     "output_type": "execute_result"
    }
   ],
   "source": [
    "Counter(wrong_pred+correct_pred)"
   ]
  },
  {
   "cell_type": "code",
   "execution_count": 9,
   "id": "3396aeec",
   "metadata": {},
   "outputs": [
    {
     "data": {
      "text/plain": [
       "870"
      ]
     },
     "execution_count": 9,
     "metadata": {},
     "output_type": "execute_result"
    }
   ],
   "source": [
    "len(gpt)"
   ]
  },
  {
   "cell_type": "code",
   "execution_count": 11,
   "id": "0eb10cc0",
   "metadata": {},
   "outputs": [
    {
     "data": {
      "image/png": "[encoded data removed]",
      "text/plain": [
       "<Figure size 432x288 with 1 Axes>"
      ]
     },
     "metadata": {},
     "output_type": "display_data"
    }
   ],
   "source": [
    "sizes = [len(correct), len(wrong), len(error)]\n",
    "# Labels with percentages and exact counts\n",
    "labels = [f'Correct - {sizes[0]} items ({sizes[0]/sum(sizes)*100:.2f}%)',\n",
    "          f'Wrong - {sizes[1]} items ({sizes[1]/sum(sizes)*100:.2f}%)', \n",
    "         f'Error - {sizes[2]} items ({sizes[2]/sum(sizes)*100:.2f}%)', \n",
    "         ]\n",
    "\n",
    "# Colors for each section\n",
    "colors = ['gold', 'yellowgreen', 'lightcoral']\n",
    "\n",
    "# Plotting the pie chart\n",
    "plt.pie(sizes, labels=labels, colors=colors, autopct='%1.1f%%', startangle=140)\n",
    "plt.axis('equal')  # Equal aspect ratio ensures that pie is drawn as a circle.\n",
    "plt.title('CUB GPT')\n",
    "plt.show()"
   ]
  },
  {
   "cell_type": "code",
   "execution_count": null,
   "id": "ae3fb1ce",
   "metadata": {
    "collapsed": true
   },
   "outputs": [],
   "source": []
  },
  {
   "cell_type": "markdown",
   "id": "07e5b854",
   "metadata": {},
   "source": [
    "# Geimini"
   ]
  },
  {
   "cell_type": "code",
   "execution_count": 15,
   "id": "b4fcabc4",
   "metadata": {},
   "outputs": [
    {
     "data": {
      "text/plain": [
       "{'image_1': 'celeba/adj_images/test/Smiling/026618.jpg',\n",
       " 'image_2': 'celeba/adj_images/test/Smiling/122442.jpg',\n",
       " 'question': 'Which person smiles more?',\n",
       " 'answer': 'Left',\n",
       " 'gemini_answer': ' Left'}"
      ]
     },
     "execution_count": 15,
     "metadata": {},
     "output_type": "execute_result"
    }
   ],
   "source": [
    "gemini[0]"
   ]
  },
  {
   "cell_type": "code",
   "execution_count": 13,
   "id": "6aa6ef4f",
   "metadata": {},
   "outputs": [],
   "source": [
    "error = []\n",
    "refine = []\n",
    "for pair in gemini:\n",
    "    new = deepcopy(pair)\n",
    "    if 'First' in pair['gemini_answer']:\n",
    "        new['gemini_answer'] = 'Left'\n",
    "        refine.append(new)\n",
    "    elif 'Second' in pair['gemini_answer']:\n",
    "        new['gemini_answer'] = 'Right'\n",
    "        refine.append(new)\n",
    "    else:\n",
    "        \n",
    "        #refine.append(pair)\n",
    "        error.append(pair)\n",
    "        print(pair)\n",
    "        "
   ]
  },
  {
   "cell_type": "code",
   "execution_count": 14,
   "id": "94f73754",
   "metadata": {},
   "outputs": [],
   "source": [
    "#error = []\n",
    "correct_pred = []\n",
    "wrong_pred = []\n",
    "gt = []\n",
    "correct = []\n",
    "wrong = []\n",
    "\n",
    "for pair in refine:\n",
    "    gt.append(pair['answer'])\n",
    "    # if pair['gemini_answer'] not in ('Left', \"Right\"):\n",
    "    #     # print(pair)\n",
    "    #     error.append(pair)\n",
    "    #     continue\n",
    "    if pair['answer'] == pair['gemini_answer']:\n",
    "            correct.append(pair)\n",
    "            correct_pred.append(pair['gemini_answer'])\n",
    "    elif pair['answer'] != pair['gemini_answer']:\n",
    "            wrong.append(pair)\n",
    "            wrong_pred.append(pair['gemini_answer'])\n",
    "    else:\n",
    "        print('fuck')"
   ]
  },
  {
   "cell_type": "code",
   "execution_count": 15,
   "id": "5d924a11",
   "metadata": {},
   "outputs": [
    {
     "data": {
      "text/plain": [
       "Counter({'Left': 571, 'Right': 299})"
      ]
     },
     "execution_count": 15,
     "metadata": {},
     "output_type": "execute_result"
    }
   ],
   "source": [
    "Counter(correct_pred+wrong_pred)"
   ]
  },
  {
   "cell_type": "code",
   "execution_count": 16,
   "id": "aac16a73",
   "metadata": {},
   "outputs": [
    {
     "data": {
      "text/plain": [
       "0.593103448275862"
      ]
     },
     "execution_count": 16,
     "metadata": {},
     "output_type": "execute_result"
    }
   ],
   "source": [
    "len(correct) / (len(correct) + len(wrong))"
   ]
  },
  {
   "cell_type": "code",
   "execution_count": 18,
   "id": "cdd7e85f",
   "metadata": {},
   "outputs": [
    {
     "data": {
      "image/png": "[encoded data removed]",
      "text/plain": [
       "<Figure size 432x288 with 1 Axes>"
      ]
     },
     "metadata": {},
     "output_type": "display_data"
    }
   ],
   "source": [
    "sizes = [len(correct), len(wrong), len(error)]\n",
    "# Labels with percentages and exact counts\n",
    "labels = [f'Correct - {sizes[0]} items ({sizes[0]/sum(sizes)*100:.2f}%)',\n",
    "          f'Wrong - {sizes[1]} items ({sizes[1]/sum(sizes)*100:.2f}%)', \n",
    "         f'Error - {sizes[2]} items ({sizes[2]/sum(sizes)*100:.2f}%)', \n",
    "         ]\n",
    "\n",
    "# Colors for each section\n",
    "colors = ['gold', 'yellowgreen', 'lightcoral']\n",
    "\n",
    "# Plotting the pie chart\n",
    "plt.pie(sizes, labels=labels, colors=colors, autopct='%1.1f%%', startangle=140)\n",
    "plt.axis('equal')  # Equal aspect ratio ensures that pie is drawn as a circle.\n",
    "plt.title('CUB Gemini')\n",
    "plt.show()"
   ]
  },
  {
   "cell_type": "code",
   "execution_count": null,
   "id": "64516918",
   "metadata": {},
   "outputs": [],
   "source": []
  },
  {
   "cell_type": "markdown",
   "id": "3f649018",
   "metadata": {},
   "source": [
    "# LLaVA-1.6"
   ]
  },
  {
   "cell_type": "code",
   "execution_count": 53,
   "id": "2cb664ee",
   "metadata": {},
   "outputs": [
    {
     "name": "stdout",
     "output_type": "stream",
     "text": [
      "{'image_1': 'obj_images/test/microwave/', 'image_2': 'obj_images/test/microwave/571.jpg', 'answer': 'Left', 'question': 'Which microwave is closer to the camera?', 'llava_answer': 'wrong path'}\n",
      "{'image_1': 'obj_images/test/electrical outlet/141.jpg', 'image_2': 'obj_images/test/electrical outlet/', 'answer': 'Left', 'question': 'Which electrical outlet is closer to the camera?', 'llava_answer': 'wrong path'}\n",
      "{'image_1': 'obj_images/test/chair/607.jpg', 'image_2': 'obj_images/test/chair/', 'answer': 'Left', 'question': 'Which chair is closer to the camera?', 'llava_answer': 'wrong path'}\n",
      "{'image_1': 'obj_images/test/container/318.jpg', 'image_2': 'obj_images/test/container/', 'answer': 'Left', 'question': 'Which container is closer to the camera?', 'llava_answer': 'wrong path'}\n",
      "{'image_1': 'obj_images/test/ottoman/433.jpg', 'image_2': 'obj_images/test/ottoman/', 'answer': 'Left', 'question': 'Which ottoman is closer to the camera?', 'llava_answer': 'wrong path'}\n"
     ]
    }
   ],
   "source": [
    "error = []\n",
    "refine = []\n",
    "rerun = []\n",
    "for pair in llava:\n",
    "    new = deepcopy(pair)\n",
    "    if pair['llava_answer'] == None :\n",
    "        rerun.append(pair)\n",
    "    elif 'Right' in pair['llava_answer']:\n",
    "        new['llava_answer'] = 'Right'\n",
    "        refine.append(new)\n",
    "    elif 'Left' in pair['llava_answer']:\n",
    "        new['llava_answer'] = 'Left'\n",
    "        refine.append(new)\n",
    "    else:\n",
    "        error.append(pair)\n",
    "        print(pair)"
   ]
  },
  {
   "cell_type": "code",
   "execution_count": 54,
   "id": "d3865575",
   "metadata": {},
   "outputs": [],
   "source": [
    "#error = []\n",
    "correct_pred = []\n",
    "wrong_pred = []\n",
    "gt = []\n",
    "correct = []\n",
    "wrong = []\n",
    "\n",
    "for pair in refine:\n",
    "    gt.append(pair['answer'])\n",
    "    # if pair['llava_answer'] not in ('Left', \"Right\"):\n",
    "    #     # print(pair)\n",
    "    #     error.append(pair)\n",
    "    #     continue\n",
    "    if pair['answer'] == pair['llava_answer']:\n",
    "            correct.append(pair)\n",
    "            correct_pred.append(pair['llava_answer'])\n",
    "    elif pair['answer'] != pair['llava_answer']:\n",
    "            wrong.append(pair)\n",
    "            wrong_pred.append(pair['llava_answer'])\n",
    "    else:\n",
    "        print('fuck')"
   ]
  },
  {
   "cell_type": "code",
   "execution_count": 55,
   "id": "adad2178",
   "metadata": {},
   "outputs": [
    {
     "data": {
      "text/plain": [
       "0.6326860841423948"
      ]
     },
     "execution_count": 55,
     "metadata": {},
     "output_type": "execute_result"
    }
   ],
   "source": [
    "len(correct) / (len(correct) + len(wrong))"
   ]
  },
  {
   "cell_type": "code",
   "execution_count": 57,
   "id": "b0474b0c",
   "metadata": {},
   "outputs": [
    {
     "data": {
      "text/plain": [
       "Counter({'Left': 958, 'Right': 896})"
      ]
     },
     "execution_count": 57,
     "metadata": {},
     "output_type": "execute_result"
    }
   ],
   "source": [
    "Counter(wrong_pred+correct_pred)"
   ]
  },
  {
   "cell_type": "code",
   "execution_count": 58,
   "id": "0749b7f0",
   "metadata": {},
   "outputs": [
    {
     "data": {
      "text/plain": [
       "1859"
      ]
     },
     "execution_count": 58,
     "metadata": {},
     "output_type": "execute_result"
    }
   ],
   "source": [
    "len(llava)"
   ]
  },
  {
   "cell_type": "code",
   "execution_count": 59,
   "id": "720a98ed",
   "metadata": {},
   "outputs": [
    {
     "data": {
      "image/png": "[encoded data removed]",
      "text/plain": [
       "<Figure size 640x480 with 1 Axes>"
      ]
     },
     "metadata": {},
     "output_type": "display_data"
    }
   ],
   "source": [
    "sizes = [len(correct), len(wrong), len(error)]\n",
    "# Labels with percentages and exact counts\n",
    "labels = [f'Correct - {sizes[0]} items ({sizes[0]/sum(sizes)*100:.2f}%)',\n",
    "          f'Wrong - {sizes[1]} items ({sizes[1]/sum(sizes)*100:.2f}%)', \n",
    "         f'Error - {sizes[2]} items ({sizes[2]/sum(sizes)*100:.2f}%)', \n",
    "         ]\n",
    "\n",
    "# Colors for each section\n",
    "colors = ['gold', 'yellowgreen', 'lightcoral']\n",
    "\n",
    "# Plotting the pie chart\n",
    "plt.pie(sizes, labels=labels, colors=colors, autopct='%1.1f%%', startangle=140)\n",
    "plt.axis('equal')  # Equal aspect ratio ensures that pie is drawn as a circle.\n",
    "plt.title('NYU Depth LLaVa-1.6')\n",
    "plt.show()"
   ]
  }
 ],
 "metadata": {
  "kernelspec": {
   "display_name": "ht",
   "language": "python",
   "name": "ht"
  },
  "language_info": {
   "codemirror_mode": {
    "name": "ipython",
    "version": 3
   },
   "file_extension": ".py",
   "mimetype": "text/x-python",
   "name": "python",
   "nbconvert_exporter": "python",
   "pygments_lexer": "ipython3",
   "version": "3.9.6"
  },
  "vscode": {
   "interpreter": {
    "hash": "9e661d40c8188a26cf79371062655916cda7c58b8d0eda8499f8a3a5b7eb1ad0"
   }
  }
 },
 "nbformat": 4,
 "nbformat_minor": 5
}
