{
 "cells": [
  {
   "cell_type": "code",
   "execution_count": 2,
   "id": "bc188462",
   "metadata": {},
   "outputs": [],
   "source": [
    "import os\n",
    "import json\n",
    "from collections import defaultdict\n",
    "from collections import Counter\n",
    "from copy import deepcopy\n",
    "import matplotlib.pyplot as plt"
   ]
  },
  {
   "cell_type": "code",
   "execution_count": 3,
   "id": "3c1ba1c4",
   "metadata": {},
   "outputs": [],
   "source": [
    "RESULTS = '../results/wildfish'"
   ]
  },
  {
   "cell_type": "code",
   "execution_count": 20,
   "id": "9398f998",
   "metadata": {},
   "outputs": [],
   "source": [
    "llava = [json.loads(q) for q in open(os.path.expanduser(f'{RESULTS}/0_60_500_rebalanced_llava.jsonl'), \"r\")]"
   ]
  },
  {
   "cell_type": "code",
   "execution_count": 21,
   "id": "e98b7ad8",
   "metadata": {},
   "outputs": [],
   "source": [
    "vila = [json.loads(q) for q in open(os.path.expanduser(f'{RESULTS}/0_60_500_rebalanced_vila.jsonl'), \"r\")]"
   ]
  },
  {
   "cell_type": "code",
   "execution_count": 4,
   "id": "4ba0d450",
   "metadata": {},
   "outputs": [],
   "source": [
    "gpt = json.load(open(f'{RESULTS}/0_60_500sample_rebalanced_gpt.json'))\n",
    "gemini = json.load(open(f'{RESULTS}/0_60_500sample_rebalanced_gemini.json'))"
   ]
  },
  {
   "cell_type": "markdown",
   "id": "31036a81",
   "metadata": {},
   "source": [
    "# GPT"
   ]
  },
  {
   "cell_type": "code",
   "execution_count": 5,
   "id": "516bb2df",
   "metadata": {},
   "outputs": [
    {
     "name": "stdout",
     "output_type": "stream",
     "text": [
      "{'image_1': 'wildfish/diff_images/val/Coradion_chrysozonus-Coradion_altivelis/Coradion_chrysozonus/Coradion_chrysozonus_0022.jpg', 'image_2': 'wildfish/diff_images/val/Coradion_chrysozonus-Coradion_altivelis/Coradion_altivelis/Coradion_altivelis_0043.jpg', 'answer': 'Right', 'question': 'Which fish has less eyespots?', 'gpt_answer': 'GPT error'}\n",
      "{'image_1': 'wildfish/diff_images/val/Naso_elegans-Naso_lituratus/Naso_elegans/Naso_elegans_0025.jpg', 'image_2': 'wildfish/diff_images/val/Naso_elegans-Naso_lituratus/Naso_lituratus/Naso_lituratus_0059.jpg', 'answer': 'Left', 'question': 'Which fish has a more yellow dorsal fin?', 'gpt_answer': 'GPT error'}\n",
      "{'image_1': 'wildfish/diff_images/val/Chaetodon_vagabundus-Chaetodon_decussatus/Chaetodon_vagabundus/Chaetodon_vagabundus_0039.jpg', 'image_2': 'wildfish/diff_images/val/Chaetodon_vagabundus-Chaetodon_decussatus/Chaetodon_decussatus/Chaetodon_decussatus_0027.jpg', 'answer': 'Left', 'question': 'Which fish has a more solid yellow backside with two black lines?', 'gpt_answer': 'GPT error'}\n",
      "{'image_1': 'wildfish/diff_images/val/Chelmonops_curiosus-Chelmonops_truncatus/Chelmonops_curiosus/Chelmonops_curiosus_0043.jpg', 'image_2': 'wildfish/diff_images/val/Chelmonops_curiosus-Chelmonops_truncatus/Chelmonops_truncatus/Chelmonops_truncatus_0001.jpg', 'answer': 'Left', 'question': 'Which fish has more falcate posterior dorsal fin elongation?', 'gpt_answer': 'GPT error'}\n",
      "{'image_1': 'wildfish/diff_images/val/Pseudanthias_tuka-Pseudanthias_pascalus/Pseudanthias_tuka/Pseudanthias_tuka_0045.jpg', 'image_2': 'wildfish/diff_images/val/Pseudanthias_tuka-Pseudanthias_pascalus/Pseudanthias_pascalus/Pseudanthias_pascalus_0011.jpg', 'answer': 'Left', 'question': 'Which fish has a more pronounced orange stripe down the back and orange tail forks in juveniles and females?', 'gpt_answer': 'GPT error'}\n",
      "{'image_1': 'wildfish/diff_images/val/Pseudanthias_tuka-Pseudanthias_pascalus/Pseudanthias_tuka/Pseudanthias_tuka_0018.jpg', 'image_2': 'wildfish/diff_images/val/Pseudanthias_tuka-Pseudanthias_pascalus/Pseudanthias_tuka/Pseudanthias_tuka_0033.jpg', 'answer': 'Left', 'question': 'Which fish has a more orange stripe down the back and orange tail forks in juveniles and females?', 'gpt_answer': 'GPT error'}\n",
      "{'image_1': 'wildfish/diff_images/val/Chaetodon_vagabundus-Chaetodon_decussatus/Chaetodon_vagabundus/Chaetodon_vagabundus_0057.jpg', 'image_2': 'wildfish/diff_images/val/Chaetodon_vagabundus-Chaetodon_decussatus/Chaetodon_decussatus/Chaetodon_decussatus_0039.jpg', 'answer': 'Left', 'question': 'Which fish has a more solid yellow backside with two black lines?', 'gpt_answer': 'GPT error'}\n"
     ]
    }
   ],
   "source": [
    "refine = []\n",
    "rerun = []\n",
    "error = []\n",
    "for pair in gpt:\n",
    "    new = deepcopy(pair)\n",
    "    if pair['gpt_answer'] == None :\n",
    "        rerun.append(pair)\n",
    "    elif 'Right' in pair['gpt_answer']:\n",
    "        new['gpt_answer'] = 'Right'\n",
    "        refine.append(new)\n",
    "    elif 'Left' in pair['gpt_answer']:\n",
    "        new['gpt_answer'] = 'Left'\n",
    "        refine.append(new)\n",
    "    else:\n",
    "        error.append(pair)\n",
    "        print(pair)\n",
    "        "
   ]
  },
  {
   "cell_type": "code",
   "execution_count": 6,
   "id": "e88f06c5",
   "metadata": {},
   "outputs": [],
   "source": [
    "#error = []\n",
    "correct_pred = []\n",
    "wrong_pred = []\n",
    "gt = []\n",
    "correct = []\n",
    "wrong = []\n",
    "\n",
    "for pair in refine:\n",
    "    gt.append(pair['answer'])\n",
    "    # if pair['gpt_answer'] not in ('Left', \"Right\"):\n",
    "    #     # print(pair)\n",
    "    #     error.append(pair)\n",
    "    #     continue\n",
    "    if pair['answer'] == pair['gpt_answer']:\n",
    "            correct.append(pair)\n",
    "            correct_pred.append(pair['gpt_answer'])\n",
    "    elif pair['answer'] != pair['gpt_answer']:\n",
    "            wrong.append(pair)\n",
    "            wrong_pred.append(pair['gpt_answer'])\n",
    "    else:\n",
    "        print('fuck')"
   ]
  },
  {
   "cell_type": "code",
   "execution_count": 7,
   "id": "977927a3",
   "metadata": {},
   "outputs": [
    {
     "data": {
      "text/plain": [
       "0.7220447284345048"
      ]
     },
     "execution_count": 7,
     "metadata": {},
     "output_type": "execute_result"
    }
   ],
   "source": [
    "len(correct) / (len(correct) + len(wrong))"
   ]
  },
  {
   "cell_type": "code",
   "execution_count": 10,
   "id": "060a926d",
   "metadata": {},
   "outputs": [
    {
     "data": {
      "text/plain": [
       "Counter({'Right': 467, 'Left': 400})"
      ]
     },
     "execution_count": 10,
     "metadata": {},
     "output_type": "execute_result"
    }
   ],
   "source": [
    "Counter(wrong_pred+correct_pred)"
   ]
  },
  {
   "cell_type": "code",
   "execution_count": 8,
   "id": "3396aeec",
   "metadata": {},
   "outputs": [
    {
     "data": {
      "text/plain": [
       "946"
      ]
     },
     "execution_count": 8,
     "metadata": {},
     "output_type": "execute_result"
    }
   ],
   "source": [
    "len(gpt)"
   ]
  },
  {
   "cell_type": "code",
   "execution_count": 10,
   "id": "0eb10cc0",
   "metadata": {},
   "outputs": [
    {
     "data": {
      "image/png": "[encoded data removed]",
      "text/plain": [
       "<Figure size 432x288 with 1 Axes>"
      ]
     },
     "metadata": {},
     "output_type": "display_data"
    }
   ],
   "source": [
    "sizes = [len(correct), len(wrong), len(error)]\n",
    "# Labels with percentages and exact counts\n",
    "labels = [f'Correct - {sizes[0]} items ({sizes[0]/sum(sizes)*100:.2f}%)',\n",
    "          f'Wrong - {sizes[1]} items ({sizes[1]/sum(sizes)*100:.2f}%)', \n",
    "         f'Error - {sizes[2]} items ({sizes[2]/sum(sizes)*100:.2f}%)', \n",
    "         ]\n",
    "\n",
    "# Colors for each section\n",
    "colors = ['gold', 'yellowgreen', 'lightcoral']\n",
    "\n",
    "# Plotting the pie chart\n",
    "plt.pie(sizes, labels=labels, colors=colors, autopct='%1.1f%%', startangle=140)\n",
    "plt.axis('equal')  # Equal aspect ratio ensures that pie is drawn as a circle.\n",
    "plt.title('Wildfish GPT')\n",
    "plt.show()"
   ]
  },
  {
   "cell_type": "markdown",
   "id": "07e5b854",
   "metadata": {},
   "source": [
    "# Geimini"
   ]
  },
  {
   "cell_type": "code",
   "execution_count": 12,
   "id": "6aa6ef4f",
   "metadata": {},
   "outputs": [
    {
     "name": "stdout",
     "output_type": "stream",
     "text": [
      "{'image_1': 'wildfish/diff_images/val/Heniochus_diphreutes-Heniochus_acuminatus/Heniochus_diphreutes/Heniochus_diphreutes_0000.jpg', 'image_2': 'wildfish/diff_images/val/Heniochus_diphreutes-Heniochus_acuminatus/Heniochus_acuminatus/Heniochus_acuminatus_0068.jpg', 'answer': 'Left', 'question': 'Which fish has a more right-angled tip of the anal fin?', 'gemini_answer': 'Gemini Error'}\n",
      "{'image_1': 'wildfish/diff_images/val/Heniochus_diphreutes-Heniochus_acuminatus/Heniochus_diphreutes/Heniochus_diphreutes_0009.jpg', 'image_2': 'wildfish/diff_images/val/Heniochus_diphreutes-Heniochus_acuminatus/Heniochus_acuminatus/Heniochus_acuminatus_0088.jpg', 'answer': 'Right', 'question': 'Which fish has a more right-angled tip of the anal fin?', 'gemini_answer': 'Gemini Error'}\n",
      "{'image_1': 'wildfish/diff_images/val/Amphiprion_rubrocinctus-Amphiprion_melanopus/Amphiprion_rubrocinctus/Amphiprion_rubrocinctus_0016.jpg', 'image_2': 'wildfish/diff_images/val/Amphiprion_rubrocinctus-Amphiprion_melanopus/Amphiprion_melanopus/Amphiprion_melanopus_0060.jpg', 'answer': 'Right', 'question': 'Which fish has more black pelvic and anal fins?', 'gemini_answer': 'Gemini Error'}\n",
      "{'image_1': 'wildfish/diff_images/val/Amphiprion_rubrocinctus-Amphiprion_melanopus/Amphiprion_rubrocinctus/Amphiprion_rubrocinctus_0034.jpg', 'image_2': 'wildfish/diff_images/val/Amphiprion_rubrocinctus-Amphiprion_melanopus/Amphiprion_melanopus/Amphiprion_melanopus_0025.jpg', 'answer': 'Right', 'question': 'Which fish has more black pelvic and anal fins?', 'gemini_answer': 'Gemini Error'}\n",
      "{'image_1': 'wildfish/diff_images/val/Amphiprion_rubrocinctus-Amphiprion_melanopus/Amphiprion_rubrocinctus/Amphiprion_rubrocinctus_0045.jpg', 'image_2': 'wildfish/diff_images/val/Amphiprion_rubrocinctus-Amphiprion_melanopus/Amphiprion_melanopus/Amphiprion_melanopus_0003.jpg', 'answer': 'Right', 'question': 'Which fish has more black pelvic and anal fins?', 'gemini_answer': 'Gemini Error'}\n",
      "{'image_1': 'wildfish/diff_images/val/Heniochus_diphreutes-Heniochus_acuminatus/Heniochus_diphreutes/Heniochus_diphreutes_0016.jpg', 'image_2': 'wildfish/diff_images/val/Heniochus_diphreutes-Heniochus_acuminatus/Heniochus_acuminatus/Heniochus_acuminatus_0036.jpg', 'answer': 'Left', 'question': 'Which fish has a sharper angle than 90 degrees at the tip of the anal fin?', 'gemini_answer': 'Gemini Error'}\n",
      "{'image_1': 'wildfish/diff_images/val/Amphiprion_rubrocinctus-Amphiprion_melanopus/Amphiprion_rubrocinctus/Amphiprion_rubrocinctus_0034.jpg', 'image_2': 'wildfish/diff_images/val/Amphiprion_rubrocinctus-Amphiprion_melanopus/Amphiprion_melanopus/Amphiprion_melanopus_0044.jpg', 'answer': 'Right', 'question': 'Which fish has more black pelvic and anal fins?', 'gemini_answer': 'Gemini Error'}\n",
      "{'image_1': 'wildfish/diff_images/val/Amphiprion_rubrocinctus-Amphiprion_melanopus/Amphiprion_rubrocinctus/Amphiprion_rubrocinctus_0010.jpg', 'image_2': 'wildfish/diff_images/val/Amphiprion_rubrocinctus-Amphiprion_melanopus/Amphiprion_melanopus/Amphiprion_melanopus_0070.jpg', 'answer': 'Right', 'question': 'Which fish has more black pelvic and anal fins?', 'gemini_answer': 'Gemini Error'}\n",
      "{'image_1': 'wildfish/diff_images/val/Amphiprion_rubrocinctus-Amphiprion_melanopus/Amphiprion_rubrocinctus/Amphiprion_rubrocinctus_0010.jpg', 'image_2': 'wildfish/diff_images/val/Amphiprion_rubrocinctus-Amphiprion_melanopus/Amphiprion_melanopus/Amphiprion_melanopus_0078.jpg', 'answer': 'Right', 'question': 'Which fish has more black pelvic and anal fins?', 'gemini_answer': 'Gemini Error'}\n",
      "{'image_1': 'wildfish/diff_images/val/Amphiprion_akindynos-Amphiprion_chrysopterus/Amphiprion_akindynos/Amphiprion_akindynos_0052.jpg', 'image_2': 'wildfish/diff_images/val/Amphiprion_akindynos-Amphiprion_chrysopterus/Amphiprion_akindynos/Amphiprion_akindynos_0037.jpg', 'answer': 'Right', 'question': 'Which fish has anal fins that are more black?', 'gemini_answer': 'Gemini Error'}\n",
      "{'image_1': 'wildfish/diff_images/val/Heniochus_diphreutes-Heniochus_acuminatus/Heniochus_diphreutes/Heniochus_diphreutes_0050.jpg', 'image_2': 'wildfish/diff_images/val/Heniochus_diphreutes-Heniochus_acuminatus/Heniochus_acuminatus/Heniochus_acuminatus_0008.jpg', 'answer': 'Right', 'question': 'Which fish has a sharper angle than 90 degrees at the tip of the anal fin?', 'gemini_answer': 'Gemini Error'}\n",
      "{'image_1': 'wildfish/diff_images/val/Amphiprion_rubrocinctus-Amphiprion_melanopus/Amphiprion_rubrocinctus/Amphiprion_rubrocinctus_0034.jpg', 'image_2': 'wildfish/diff_images/val/Amphiprion_rubrocinctus-Amphiprion_melanopus/Amphiprion_melanopus/Amphiprion_melanopus_0032.jpg', 'answer': 'Right', 'question': 'Which fish has more black pelvic and anal fins?', 'gemini_answer': 'Gemini Error'}\n",
      "{'image_1': 'wildfish/diff_images/val/Amphiprion_rubrocinctus-Amphiprion_melanopus/Amphiprion_rubrocinctus/Amphiprion_rubrocinctus_0045.jpg', 'image_2': 'wildfish/diff_images/val/Amphiprion_rubrocinctus-Amphiprion_melanopus/Amphiprion_melanopus/Amphiprion_melanopus_0070.jpg', 'answer': 'Right', 'question': 'Which fish has more black pelvic and anal fins?', 'gemini_answer': 'Gemini Error'}\n",
      "{'image_1': 'wildfish/diff_images/val/Heniochus_diphreutes-Heniochus_acuminatus/Heniochus_diphreutes/Heniochus_diphreutes_0022.jpg', 'image_2': 'wildfish/diff_images/val/Heniochus_diphreutes-Heniochus_acuminatus/Heniochus_acuminatus/Heniochus_acuminatus_0036.jpg', 'answer': 'Left', 'question': 'Which fish has a sharper angle than 90 degrees at the tip of the anal fin?', 'gemini_answer': 'Gemini Error'}\n",
      "{'image_1': 'wildfish/diff_images/val/Amphiprion_rubrocinctus-Amphiprion_melanopus/Amphiprion_rubrocinctus/Amphiprion_rubrocinctus_0044.jpg', 'image_2': 'wildfish/diff_images/val/Amphiprion_rubrocinctus-Amphiprion_melanopus/Amphiprion_melanopus/Amphiprion_melanopus_0013.jpg', 'answer': 'Right', 'question': 'Which fish has more black pelvic and anal fins?', 'gemini_answer': 'Gemini Error'}\n",
      "{'image_1': 'wildfish/diff_images/val/Heniochus_diphreutes-Heniochus_acuminatus/Heniochus_diphreutes/Heniochus_diphreutes_0000.jpg', 'image_2': 'wildfish/diff_images/val/Heniochus_diphreutes-Heniochus_acuminatus/Heniochus_acuminatus/Heniochus_acuminatus_0064.jpg', 'answer': 'Right', 'question': 'Which fish has a sharper angle than 90 degrees at the tip of the anal fin?', 'gemini_answer': 'Gemini Error'}\n",
      "{'image_1': 'wildfish/diff_images/val/Heniochus_diphreutes-Heniochus_acuminatus/Heniochus_diphreutes/Heniochus_diphreutes_0022.jpg', 'image_2': 'wildfish/diff_images/val/Heniochus_diphreutes-Heniochus_acuminatus/Heniochus_acuminatus/Heniochus_acuminatus_0054.jpg', 'answer': 'Right', 'question': 'Which fish has a more right-angled tip of the anal fin?', 'gemini_answer': 'Gemini Error'}\n",
      "{'image_1': 'wildfish/diff_images/val/Heniochus_diphreutes-Heniochus_acuminatus/Heniochus_acuminatus/Heniochus_acuminatus_0025.jpg', 'image_2': 'wildfish/diff_images/val/Heniochus_diphreutes-Heniochus_acuminatus/Heniochus_diphreutes/Heniochus_diphreutes_0016.jpg', 'answer': 'Right', 'question': 'Which fish has a sharper angle than 90 degrees at the tip of the anal fin?', 'gemini_answer': 'Gemini Error'}\n",
      "{'image_1': 'wildfish/diff_images/val/Heniochus_diphreutes-Heniochus_acuminatus/Heniochus_acuminatus/Heniochus_acuminatus_0008.jpg', 'image_2': 'wildfish/diff_images/val/Heniochus_diphreutes-Heniochus_acuminatus/Heniochus_diphreutes/Heniochus_diphreutes_0000.jpg', 'answer': 'Right', 'question': 'Which fish has a more right-angled tip of the anal fin?', 'gemini_answer': 'Gemini Error'}\n",
      "{'image_1': 'wildfish/diff_images/val/Heniochus_diphreutes-Heniochus_acuminatus/Heniochus_acuminatus/Heniochus_acuminatus_0008.jpg', 'image_2': 'wildfish/diff_images/val/Heniochus_diphreutes-Heniochus_acuminatus/Heniochus_diphreutes/Heniochus_diphreutes_0010.jpg', 'answer': 'Right', 'question': 'Which fish has a more right-angled tip of the anal fin?', 'gemini_answer': 'Gemini Error'}\n",
      "{'image_1': 'wildfish/diff_images/val/Heniochus_diphreutes-Heniochus_acuminatus/Heniochus_diphreutes/Heniochus_diphreutes_0042.jpg', 'image_2': 'wildfish/diff_images/val/Heniochus_diphreutes-Heniochus_acuminatus/Heniochus_acuminatus/Heniochus_acuminatus_0018.jpg', 'answer': 'Right', 'question': 'Which fish has a sharper angle than 90 degrees at the tip of the anal fin?', 'gemini_answer': 'Gemini Error'}\n"
     ]
    }
   ],
   "source": [
    "error = []\n",
    "refine = []\n",
    "for pair in gemini:\n",
    "    new = deepcopy(pair)\n",
    "    if 'Left' in pair['gemini_answer']:\n",
    "        new['gemini_answer'] = 'Left'\n",
    "        refine.append(new)\n",
    "    elif 'Right' in pair['gemini_answer']:\n",
    "        new['gemini_answer'] = 'Right'\n",
    "        refine.append(new)\n",
    "    else:\n",
    "        \n",
    "        #refine.append(pair)\n",
    "        error.append(pair)\n",
    "        print(pair)\n",
    "        "
   ]
  },
  {
   "cell_type": "code",
   "execution_count": 13,
   "id": "94f73754",
   "metadata": {},
   "outputs": [],
   "source": [
    "#error = []\n",
    "correct_pred = []\n",
    "wrong_pred = []\n",
    "gt = []\n",
    "correct = []\n",
    "wrong = []\n",
    "\n",
    "for pair in refine:\n",
    "    gt.append(pair['answer'])\n",
    "    # if pair['gemini_answer'] not in ('Left', \"Right\"):\n",
    "    #     # print(pair)\n",
    "    #     error.append(pair)\n",
    "    #     continue\n",
    "    if pair['answer'] == pair['gemini_answer']:\n",
    "            correct.append(pair)\n",
    "            correct_pred.append(pair['gemini_answer'])\n",
    "    elif pair['answer'] != pair['gemini_answer']:\n",
    "            wrong.append(pair)\n",
    "            wrong_pred.append(pair['gemini_answer'])\n",
    "    else:\n",
    "        print('fuck')"
   ]
  },
  {
   "cell_type": "code",
   "execution_count": 15,
   "id": "5d924a11",
   "metadata": {},
   "outputs": [
    {
     "data": {
      "text/plain": [
       "Counter({'Left': 571, 'Right': 299})"
      ]
     },
     "execution_count": 15,
     "metadata": {},
     "output_type": "execute_result"
    }
   ],
   "source": [
    "Counter(correct_pred+wrong_pred)"
   ]
  },
  {
   "cell_type": "code",
   "execution_count": 16,
   "id": "aac16a73",
   "metadata": {},
   "outputs": [
    {
     "data": {
      "text/plain": [
       "0.593103448275862"
      ]
     },
     "execution_count": 16,
     "metadata": {},
     "output_type": "execute_result"
    }
   ],
   "source": [
    "len(correct) / (len(correct) + len(wrong))"
   ]
  },
  {
   "cell_type": "code",
   "execution_count": 15,
   "id": "cdd7e85f",
   "metadata": {},
   "outputs": [
    {
     "data": {
      "image/png": "[encoded data removed]",
      "text/plain": [
       "<Figure size 432x288 with 1 Axes>"
      ]
     },
     "metadata": {},
     "output_type": "display_data"
    }
   ],
   "source": [
    "sizes = [len(correct), len(wrong), len(error)]\n",
    "# Labels with percentages and exact counts\n",
    "labels = [f'Correct - {sizes[0]} items ({sizes[0]/sum(sizes)*100:.2f}%)',\n",
    "          f'Wrong - {sizes[1]} items ({sizes[1]/sum(sizes)*100:.2f}%)', \n",
    "         f'Error - {sizes[2]} items ({sizes[2]/sum(sizes)*100:.2f}%)', \n",
    "         ]\n",
    "\n",
    "# Colors for each section\n",
    "colors = ['gold', 'yellowgreen', 'lightcoral']\n",
    "\n",
    "# Plotting the pie chart\n",
    "plt.pie(sizes, labels=labels, colors=colors, autopct='%1.1f%%', startangle=140)\n",
    "plt.axis('equal')  # Equal aspect ratio ensures that pie is drawn as a circle.\n",
    "plt.title('Wildfish Gemini')\n",
    "plt.show()"
   ]
  },
  {
   "cell_type": "markdown",
   "id": "3f649018",
   "metadata": {},
   "source": [
    "# LLaVA-1.6"
   ]
  },
  {
   "cell_type": "code",
   "execution_count": 22,
   "id": "2cb664ee",
   "metadata": {},
   "outputs": [],
   "source": [
    "error = []\n",
    "refine = []\n",
    "rerun = []\n",
    "for pair in llava:\n",
    "    new = deepcopy(pair)\n",
    "    if pair['llava_answer'] == None :\n",
    "        rerun.append(pair)\n",
    "    elif 'Right' in pair['llava_answer']:\n",
    "        new['llava_answer'] = 'Right'\n",
    "        refine.append(new)\n",
    "    elif 'Left' in pair['llava_answer']:\n",
    "        new['llava_answer'] = 'Left'\n",
    "        refine.append(new)\n",
    "    else:\n",
    "        error.append(pair)\n",
    "        print(pair)"
   ]
  },
  {
   "cell_type": "code",
   "execution_count": 23,
   "id": "d3865575",
   "metadata": {},
   "outputs": [],
   "source": [
    "#error = []\n",
    "correct_pred = []\n",
    "wrong_pred = []\n",
    "gt = []\n",
    "correct = []\n",
    "wrong = []\n",
    "\n",
    "for pair in refine:\n",
    "    gt.append(pair['answer'])\n",
    "    # if pair['llava_answer'] not in ('Left', \"Right\"):\n",
    "    #     # print(pair)\n",
    "    #     error.append(pair)\n",
    "    #     continue\n",
    "    if pair['answer'] == pair['llava_answer']:\n",
    "            correct.append(pair)\n",
    "            correct_pred.append(pair['llava_answer'])\n",
    "    elif pair['answer'] != pair['llava_answer']:\n",
    "            wrong.append(pair)\n",
    "            wrong_pred.append(pair['llava_answer'])\n",
    "    else:\n",
    "        print('fuck')"
   ]
  },
  {
   "cell_type": "code",
   "execution_count": 24,
   "id": "adad2178",
   "metadata": {},
   "outputs": [
    {
     "data": {
      "text/plain": [
       "0.6839323467230444"
      ]
     },
     "execution_count": 24,
     "metadata": {},
     "output_type": "execute_result"
    }
   ],
   "source": [
    "len(correct) / (len(correct) + len(wrong))"
   ]
  },
  {
   "cell_type": "code",
   "execution_count": 25,
   "id": "b0474b0c",
   "metadata": {},
   "outputs": [
    {
     "data": {
      "text/plain": [
       "Counter({'Right': 638, 'Left': 308})"
      ]
     },
     "execution_count": 25,
     "metadata": {},
     "output_type": "execute_result"
    }
   ],
   "source": [
    "Counter(wrong_pred+correct_pred)"
   ]
  },
  {
   "cell_type": "code",
   "execution_count": 26,
   "id": "0749b7f0",
   "metadata": {},
   "outputs": [
    {
     "data": {
      "text/plain": [
       "946"
      ]
     },
     "execution_count": 26,
     "metadata": {},
     "output_type": "execute_result"
    }
   ],
   "source": [
    "len(llava)"
   ]
  },
  {
   "cell_type": "code",
   "execution_count": 27,
   "id": "720a98ed",
   "metadata": {},
   "outputs": [
    {
     "data": {
      "image/png": "[encoded data removed]",
      "text/plain": [
       "<Figure size 640x480 with 1 Axes>"
      ]
     },
     "metadata": {},
     "output_type": "display_data"
    }
   ],
   "source": [
    "sizes = [len(correct), len(wrong), len(error)]\n",
    "# Labels with percentages and exact counts\n",
    "labels = [f'Correct - {sizes[0]} items ({sizes[0]/sum(sizes)*100:.2f}%)',\n",
    "          f'Wrong - {sizes[1]} items ({sizes[1]/sum(sizes)*100:.2f}%)', \n",
    "         f'Error - {sizes[2]} items ({sizes[2]/sum(sizes)*100:.2f}%)', \n",
    "         ]\n",
    "\n",
    "# Colors for each section\n",
    "colors = ['gold', 'yellowgreen', 'lightcoral']\n",
    "\n",
    "# Plotting the pie chart\n",
    "plt.pie(sizes, labels=labels, colors=colors, autopct='%1.1f%%', startangle=140)\n",
    "plt.axis('equal')  # Equal aspect ratio ensures that pie is drawn as a circle.\n",
    "plt.title('Wildfish LLaVa-1.6')\n",
    "plt.show()"
   ]
  },
  {
   "cell_type": "markdown",
   "id": "89facff3",
   "metadata": {},
   "source": [
    "# Vila1.5"
   ]
  },
  {
   "cell_type": "code",
   "execution_count": 28,
   "id": "bf623dce",
   "metadata": {},
   "outputs": [],
   "source": [
    "error = []\n",
    "refine = []\n",
    "rerun = []\n",
    "for pair in vila:\n",
    "    new = deepcopy(pair)\n",
    "    if pair['vila_answer'] == None :\n",
    "        rerun.append(pair)\n",
    "    elif 'Right' in pair['vila_answer']:\n",
    "        new['vila_answer'] = 'Right'\n",
    "        refine.append(new)\n",
    "    elif 'Left' in pair['vila_answer']:\n",
    "        new['vila_answer'] = 'Left'\n",
    "        refine.append(new)\n",
    "    else:\n",
    "        error.append(pair)\n",
    "        print(pair)"
   ]
  },
  {
   "cell_type": "code",
   "execution_count": 29,
   "id": "dbfa1557",
   "metadata": {},
   "outputs": [],
   "source": [
    "#error = []\n",
    "correct_pred = []\n",
    "wrong_pred = []\n",
    "gt = []\n",
    "correct = []\n",
    "wrong = []\n",
    "\n",
    "for pair in refine:\n",
    "    gt.append(pair['answer'])\n",
    "    # if pair['vila_answer'] not in ('Left', \"Right\"):\n",
    "    #     # print(pair)\n",
    "    #     error.append(pair)\n",
    "    #     continue\n",
    "    if pair['answer'] == pair['vila_answer']:\n",
    "            correct.append(pair)\n",
    "            correct_pred.append(pair['vila_answer'])\n",
    "    elif pair['answer'] != pair['vila_answer']:\n",
    "            wrong.append(pair)\n",
    "            wrong_pred.append(pair['vila_answer'])\n",
    "    else:\n",
    "        print('fuck')"
   ]
  },
  {
   "cell_type": "code",
   "execution_count": 30,
   "id": "ca12964f",
   "metadata": {},
   "outputs": [
    {
     "data": {
      "text/plain": [
       "0.5274841437632135"
      ]
     },
     "execution_count": 30,
     "metadata": {},
     "output_type": "execute_result"
    }
   ],
   "source": [
    "len(correct) / (len(correct) + len(wrong))"
   ]
  },
  {
   "cell_type": "code",
   "execution_count": 31,
   "id": "9e875743",
   "metadata": {},
   "outputs": [
    {
     "data": {
      "text/plain": [
       "Counter({'Left': 920, 'Right': 26})"
      ]
     },
     "execution_count": 31,
     "metadata": {},
     "output_type": "execute_result"
    }
   ],
   "source": [
    "Counter(wrong_pred+correct_pred)"
   ]
  },
  {
   "cell_type": "code",
   "execution_count": 32,
   "id": "d9eb668d",
   "metadata": {},
   "outputs": [
    {
     "data": {
      "image/png": "[encoded data removed]",
      "text/plain": [
       "<Figure size 640x480 with 1 Axes>"
      ]
     },
     "metadata": {},
     "output_type": "display_data"
    }
   ],
   "source": [
    "sizes = [len(correct), len(wrong), len(error)]\n",
    "# Labels with percentages and exact counts\n",
    "labels = [f'Correct - {sizes[0]} items ({sizes[0]/sum(sizes)*100:.2f}%)',\n",
    "          f'Wrong - {sizes[1]} items ({sizes[1]/sum(sizes)*100:.2f}%)', \n",
    "         f'Error - {sizes[2]} items ({sizes[2]/sum(sizes)*100:.2f}%)', \n",
    "         ]\n",
    "\n",
    "# Colors for each section\n",
    "colors = ['gold', 'yellowgreen', 'lightcoral']\n",
    "\n",
    "# Plotting the pie chart\n",
    "plt.pie(sizes, labels=labels, colors=colors, autopct='%1.1f%%', startangle=140)\n",
    "plt.axis('equal')  # Equal aspect ratio ensures that pie is drawn as a circle.\n",
    "plt.title('Wildfish Vila1.5')\n",
    "plt.show()"
   ]
  }
 ],
 "metadata": {
  "kernelspec": {
   "display_name": "Python 3 (ipykernel)",
   "language": "python",
   "name": "python3"
  },
  "language_info": {
   "codemirror_mode": {
    "name": "ipython",
    "version": 3
   },
   "file_extension": ".py",
   "mimetype": "text/x-python",
   "name": "python",
   "nbconvert_exporter": "python",
   "pygments_lexer": "ipython3",
   "version": "3.9.6"
  },
  "vscode": {
   "interpreter": {
    "hash": "9e661d40c8188a26cf79371062655916cda7c58b8d0eda8499f8a3a5b7eb1ad0"
   }
  }
 },
 "nbformat": 4,
 "nbformat_minor": 5
}
