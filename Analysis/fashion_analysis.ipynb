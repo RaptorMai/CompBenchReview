{
 "cells": [
  {
   "cell_type": "code",
   "execution_count": 1,
   "id": "bc188462",
   "metadata": {},
   "outputs": [],
   "source": [
    "import os\n",
    "import json\n",
    "from collections import defaultdict\n",
    "from collections import Counter\n",
    "from copy import deepcopy\n",
    "import matplotlib.pyplot as plt"
   ]
  },
  {
   "cell_type": "code",
   "execution_count": 2,
   "id": "3c1ba1c4",
   "metadata": {},
   "outputs": [],
   "source": [
    "RESULTS = '../results/fashion'"
   ]
  },
  {
   "cell_type": "code",
   "execution_count": 3,
   "id": "5667e3ad",
   "metadata": {},
   "outputs": [],
   "source": [
    "gemini = json.load(open(f'{RESULTS}/0_179_gemini.json'))"
   ]
  },
  {
   "cell_type": "code",
   "execution_count": 4,
   "id": "d117e730",
   "metadata": {},
   "outputs": [
    {
     "data": {
      "text/plain": [
       "{'image_1': 'adj_obj_folder_pairs_images/val/frayed_jacket-quilted_jacket/frayed_jacket/33a60f6f6d0abe76697705b61564ad30.jpg',\n",
       " 'image_2': 'adj_obj_folder_pairs_images/val/frayed_jacket-quilted_jacket/quilted_jacket/124dc5471306edcadc0d89bfc7353939.jpg',\n",
       " 'answer': 'Left',\n",
       " 'question': 'Which jacket is more frayed?',\n",
       " 'gemini_answer': ' Second'}"
      ]
     },
     "execution_count": 4,
     "metadata": {},
     "output_type": "execute_result"
    }
   ],
   "source": [
    "gemini[0]"
   ]
  },
  {
   "cell_type": "code",
   "execution_count": 8,
   "id": "77af6ea9",
   "metadata": {},
   "outputs": [],
   "source": [
    "gpt = json.load(open(f'{RESULTS}/0_179_gpt.json'))"
   ]
  },
  {
   "cell_type": "code",
   "execution_count": 11,
   "id": "cc54654f",
   "metadata": {},
   "outputs": [],
   "source": [
    "llava = [json.loads(q) for q in open(os.path.expanduser(f'{RESULTS}/0_179_llava.jsonl'), \"r\")]"
   ]
  },
  {
   "cell_type": "code",
   "execution_count": 4,
   "id": "f78982fc",
   "metadata": {},
   "outputs": [],
   "source": [
    "vila = [json.loads(q) for q in open(os.path.expanduser(f'{RESULTS}/0_179_vila.jsonl'), \"r\")]"
   ]
  },
  {
   "cell_type": "code",
   "execution_count": 7,
   "id": "1132b9db",
   "metadata": {},
   "outputs": [
    {
     "data": {
      "text/plain": [
       "2435"
      ]
     },
     "execution_count": 7,
     "metadata": {},
     "output_type": "execute_result"
    }
   ],
   "source": [
    "len(gpt)"
   ]
  },
  {
   "cell_type": "code",
   "execution_count": 8,
   "id": "7db3a592",
   "metadata": {},
   "outputs": [
    {
     "data": {
      "text/plain": [
       "2435"
      ]
     },
     "execution_count": 8,
     "metadata": {},
     "output_type": "execute_result"
    }
   ],
   "source": [
    "len(gemini)"
   ]
  },
  {
   "cell_type": "code",
   "execution_count": 5,
   "id": "9dc6edeb",
   "metadata": {},
   "outputs": [
    {
     "data": {
      "text/plain": [
       "2435"
      ]
     },
     "execution_count": 5,
     "metadata": {},
     "output_type": "execute_result"
    }
   ],
   "source": [
    "len(vila)"
   ]
  },
  {
   "cell_type": "markdown",
   "id": "31036a81",
   "metadata": {},
   "source": [
    "# sanity check"
   ]
  },
  {
   "cell_type": "code",
   "execution_count": 9,
   "id": "516bb2df",
   "metadata": {},
   "outputs": [
    {
     "name": "stdout",
     "output_type": "stream",
     "text": [
      "{'image_1': 'adj_obj_folder_pairs_images/val/distressed_shorts-plain (pattern)_shorts/distressed_shorts/cf7bd43e4005602bc0ba4e2b5763e3a0.jpg', 'image_2': 'adj_obj_folder_pairs_images/val/distressed_shorts-plain (pattern)_shorts/plain (pattern)_shorts/9c2944165b3d4390a3aa62dc0a07fe7e.jpg', 'answer': 'Left', 'question': 'Which shorts are more distressed', 'gpt_answer': 'GPT error'}\n"
     ]
    }
   ],
   "source": [
    "error = []\n",
    "refine = []\n",
    "rerun = []\n",
    "for pair in gpt:\n",
    "    new = deepcopy(pair)\n",
    "    if pair['gpt_answer'] == None :\n",
    "        rerun.append(pair)\n",
    "    elif 'Right' in pair['gpt_answer']:\n",
    "        new['gpt_answer'] = 'Right'\n",
    "        refine.append(new)\n",
    "    elif 'Left' in pair['gpt_answer']:\n",
    "        new['gpt_answer'] = 'Left'\n",
    "        refine.append(new)\n",
    "    else:\n",
    "        error.append(pair)\n",
    "        print(pair)\n",
    "        "
   ]
  },
  {
   "cell_type": "code",
   "execution_count": 10,
   "id": "ebca6331",
   "metadata": {},
   "outputs": [
    {
     "data": {
      "text/plain": [
       "2434"
      ]
     },
     "execution_count": 10,
     "metadata": {},
     "output_type": "execute_result"
    }
   ],
   "source": [
    "len(refine)"
   ]
  },
  {
   "cell_type": "code",
   "execution_count": 11,
   "id": "e88f06c5",
   "metadata": {},
   "outputs": [],
   "source": [
    "#error = []\n",
    "correct_pred = []\n",
    "wrong_pred = []\n",
    "gt = []\n",
    "correct = []\n",
    "wrong = []\n",
    "\n",
    "for pair in refine:\n",
    "    gt.append(pair['answer'])\n",
    "    # if pair['gpt_answer'] not in ('Left', \"Right\"):\n",
    "    #     # print(pair)\n",
    "    #     error.append(pair)\n",
    "    #     continue\n",
    "    if pair['answer'] == pair['gpt_answer']:\n",
    "            correct.append(pair)\n",
    "            correct_pred.append(pair['gpt_answer'])\n",
    "    elif pair['answer'] != pair['gpt_answer']:\n",
    "            wrong.append(pair)\n",
    "            wrong_pred.append(pair['gpt_answer'])\n",
    "    else:\n",
    "        print('fuck')"
   ]
  },
  {
   "cell_type": "code",
   "execution_count": 12,
   "id": "977927a3",
   "metadata": {},
   "outputs": [
    {
     "data": {
      "text/plain": [
       "0.8841413311421529"
      ]
     },
     "execution_count": 12,
     "metadata": {},
     "output_type": "execute_result"
    }
   ],
   "source": [
    "len(correct) / (len(correct) + len(wrong))"
   ]
  },
  {
   "cell_type": "code",
   "execution_count": 13,
   "id": "060a926d",
   "metadata": {},
   "outputs": [
    {
     "data": {
      "text/plain": [
       "Counter({'Right': 1250, 'Left': 1184})"
      ]
     },
     "execution_count": 13,
     "metadata": {},
     "output_type": "execute_result"
    }
   ],
   "source": [
    "Counter(wrong_pred+correct_pred)"
   ]
  },
  {
   "cell_type": "code",
   "execution_count": 14,
   "id": "3396aeec",
   "metadata": {},
   "outputs": [
    {
     "data": {
      "text/plain": [
       "2435"
      ]
     },
     "execution_count": 14,
     "metadata": {},
     "output_type": "execute_result"
    }
   ],
   "source": [
    "len(gpt)"
   ]
  },
  {
   "cell_type": "code",
   "execution_count": 15,
   "id": "55927eda",
   "metadata": {},
   "outputs": [
    {
     "data": {
      "text/plain": [
       "1"
      ]
     },
     "execution_count": 15,
     "metadata": {},
     "output_type": "execute_result"
    }
   ],
   "source": [
    "len(error)"
   ]
  },
  {
   "cell_type": "code",
   "execution_count": 16,
   "id": "c5435a9d",
   "metadata": {},
   "outputs": [
    {
     "data": {
      "text/plain": [
       "2434"
      ]
     },
     "execution_count": 16,
     "metadata": {},
     "output_type": "execute_result"
    }
   ],
   "source": [
    "(len(correct) + len(wrong))"
   ]
  },
  {
   "cell_type": "code",
   "execution_count": 17,
   "id": "0eb10cc0",
   "metadata": {},
   "outputs": [
    {
     "data": {
      "image/png": "[encoded data removed]",
      "text/plain": [
       "<Figure size 640x480 with 1 Axes>"
      ]
     },
     "metadata": {},
     "output_type": "display_data"
    }
   ],
   "source": [
    "sizes = [len(correct), len(wrong), len(error)]\n",
    "# Labels with percentages and exact counts\n",
    "labels = [f'Correct - {sizes[0]} items ({sizes[0]/sum(sizes)*100:.2f}%)',\n",
    "          f'Wrong - {sizes[1]} items ({sizes[1]/sum(sizes)*100:.2f}%)', \n",
    "         f'Error - {sizes[2]} items ({sizes[2]/sum(sizes)*100:.2f}%)', \n",
    "         ]\n",
    "\n",
    "# Colors for each section\n",
    "colors = ['gold', 'yellowgreen', 'lightcoral']\n",
    "\n",
    "# Plotting the pie chart\n",
    "plt.pie(sizes, labels=labels, colors=colors, autopct='%1.1f%%', startangle=140)\n",
    "plt.axis('equal')  # Equal aspect ratio ensures that pie is drawn as a circle.\n",
    "plt.title('Fahsion GPT')\n",
    "plt.show()"
   ]
  },
  {
   "cell_type": "code",
   "execution_count": null,
   "id": "ae3fb1ce",
   "metadata": {},
   "outputs": [],
   "source": []
  },
  {
   "cell_type": "markdown",
   "id": "07e5b854",
   "metadata": {},
   "source": [
    "# Geimini"
   ]
  },
  {
   "cell_type": "code",
   "execution_count": 18,
   "id": "b4fcabc4",
   "metadata": {},
   "outputs": [
    {
     "data": {
      "text/plain": [
       "{'image_1': 'adj_obj_folder_pairs_images/val/frayed_jacket-quilted_jacket/frayed_jacket/33a60f6f6d0abe76697705b61564ad30.jpg',\n",
       " 'image_2': 'adj_obj_folder_pairs_images/val/frayed_jacket-quilted_jacket/quilted_jacket/124dc5471306edcadc0d89bfc7353939.jpg',\n",
       " 'answer': 'Left',\n",
       " 'question': 'Which jacket is more frayed?',\n",
       " 'gemini_answer': ' Second'}"
      ]
     },
     "execution_count": 18,
     "metadata": {},
     "output_type": "execute_result"
    }
   ],
   "source": [
    "gemini[0]"
   ]
  },
  {
   "cell_type": "code",
   "execution_count": 19,
   "id": "6aa6ef4f",
   "metadata": {},
   "outputs": [
    {
     "name": "stdout",
     "output_type": "stream",
     "text": [
      "{'image_1': 'adj_obj_folder_pairs_images/val/frayed_pants-floral_pants/frayed_pants/80b493e0dccaca4fcb11fe5d81c47e83.jpg', 'image_2': 'adj_obj_folder_pairs_images/val/frayed_pants-floral_pants/floral_pants/72a138c47a27759553ebb2b2c1a94707.jpg', 'answer': 'Left', 'question': 'Which pants are more frayed?', 'gemini_answer': 'Gemini Error'}\n",
      "{'image_1': 'adj_obj_folder_pairs_images/val/frayed_pants-floral_pants/frayed_pants/80b493e0dccaca4fcb11fe5d81c47e83.jpg', 'image_2': 'adj_obj_folder_pairs_images/val/frayed_pants-floral_pants/floral_pants/4872c05863d20208e9d4c59587261de2.jpg', 'answer': 'Right', 'question': 'Which pants are more floral?', 'gemini_answer': 'Gemini Error'}\n"
     ]
    }
   ],
   "source": [
    "error = []\n",
    "refine = []\n",
    "for pair in gemini:\n",
    "    new = deepcopy(pair)\n",
    "    if 'First' in pair['gemini_answer']:\n",
    "        new['gemini_answer'] = 'Left'\n",
    "        refine.append(new)\n",
    "    elif 'Second' in pair['gemini_answer']:\n",
    "        new['gemini_answer'] = 'Right'\n",
    "        refine.append(new)\n",
    "    else:\n",
    "        error.append(pair)\n",
    "        #refine.append(pair)\n",
    "        print(pair)\n",
    "        "
   ]
  },
  {
   "cell_type": "code",
   "execution_count": 20,
   "id": "94f73754",
   "metadata": {},
   "outputs": [],
   "source": [
    "#error = []\n",
    "correct_pred = []\n",
    "wrong_pred = []\n",
    "gt = []\n",
    "correct = []\n",
    "wrong = []\n",
    "\n",
    "for pair in refine:\n",
    "    gt.append(pair['answer'])\n",
    "    # if pair['gemini_answer'] not in ('Left', \"Right\"):\n",
    "    #     # print(pair)\n",
    "    #     error.append(pair)\n",
    "    #     continue\n",
    "    if pair['answer'] == pair['gemini_answer']:\n",
    "            correct.append(pair)\n",
    "            correct_pred.append(pair['gemini_answer'])\n",
    "    elif pair['answer'] != pair['gemini_answer']:\n",
    "            wrong.append(pair)\n",
    "            wrong_pred.append(pair['gemini_answer'])\n",
    "    else:\n",
    "        print('fuck')"
   ]
  },
  {
   "cell_type": "code",
   "execution_count": 21,
   "id": "5d924a11",
   "metadata": {},
   "outputs": [
    {
     "data": {
      "text/plain": [
       "Counter({'Right': 1236, 'Left': 1197})"
      ]
     },
     "execution_count": 21,
     "metadata": {},
     "output_type": "execute_result"
    }
   ],
   "source": [
    "Counter(correct_pred+wrong_pred)"
   ]
  },
  {
   "cell_type": "code",
   "execution_count": 22,
   "id": "aac16a73",
   "metadata": {},
   "outputs": [
    {
     "data": {
      "text/plain": [
       "0.7529798602548294"
      ]
     },
     "execution_count": 22,
     "metadata": {},
     "output_type": "execute_result"
    }
   ],
   "source": [
    "len(correct) / (len(correct) + len(wrong))"
   ]
  },
  {
   "cell_type": "code",
   "execution_count": 23,
   "id": "cdd7e85f",
   "metadata": {},
   "outputs": [
    {
     "data": {
      "image/png": "[encoded data removed]",
      "text/plain": [
       "<Figure size 640x480 with 1 Axes>"
      ]
     },
     "metadata": {},
     "output_type": "display_data"
    }
   ],
   "source": [
    "sizes = [len(correct), len(wrong), len(error)]\n",
    "# Labels with percentages and exact counts\n",
    "labels = [f'Correct - {sizes[0]} items ({sizes[0]/sum(sizes)*100:.2f}%)',\n",
    "          f'Wrong - {sizes[1]} items ({sizes[1]/sum(sizes)*100:.2f}%)', \n",
    "         f'Error - {sizes[2]} items ({sizes[2]/sum(sizes)*100:.2f}%)', \n",
    "         ]\n",
    "\n",
    "# Colors for each section\n",
    "colors = ['gold', 'yellowgreen', 'lightcoral']\n",
    "\n",
    "# Plotting the pie chart\n",
    "plt.pie(sizes, labels=labels, colors=colors, autopct='%1.1f%%', startangle=140)\n",
    "plt.axis('equal')  # Equal aspect ratio ensures that pie is drawn as a circle.\n",
    "plt.title('Fashion Gemini')\n",
    "plt.show()"
   ]
  },
  {
   "cell_type": "code",
   "execution_count": 39,
   "id": "aca02284",
   "metadata": {},
   "outputs": [
    {
     "data": {
      "text/plain": [
       "0.803030303030303"
      ]
     },
     "execution_count": 39,
     "metadata": {},
     "output_type": "execute_result"
    }
   ],
   "source": [
    "len(state_correct) / (len(state_correct) + len(state_wrong))"
   ]
  },
  {
   "cell_type": "code",
   "execution_count": 40,
   "id": "1b5ef17d",
   "metadata": {},
   "outputs": [
    {
     "data": {
      "text/plain": [
       "0.7103825136612022"
      ]
     },
     "execution_count": 40,
     "metadata": {},
     "output_type": "execute_result"
    }
   ],
   "source": [
    "len(att_correct) / (len(att_correct) + len(att_wong))"
   ]
  },
  {
   "cell_type": "code",
   "execution_count": 41,
   "id": "be6aaddc",
   "metadata": {},
   "outputs": [
    {
     "data": {
      "text/plain": [
       "183"
      ]
     },
     "execution_count": 41,
     "metadata": {},
     "output_type": "execute_result"
    }
   ],
   "source": [
    "(len(att_correct) + len(att_wong))"
   ]
  },
  {
   "cell_type": "code",
   "execution_count": 42,
   "id": "c8ea066b",
   "metadata": {},
   "outputs": [
    {
     "data": {
      "text/plain": [
       "594"
      ]
     },
     "execution_count": 42,
     "metadata": {},
     "output_type": "execute_result"
    }
   ],
   "source": [
    "(len(state_correct) + len(state_wrong))"
   ]
  },
  {
   "cell_type": "code",
   "execution_count": null,
   "id": "64516918",
   "metadata": {},
   "outputs": [],
   "source": []
  },
  {
   "cell_type": "markdown",
   "id": "c61dc284",
   "metadata": {},
   "source": [
    "# LLaVA-1.6"
   ]
  },
  {
   "cell_type": "code",
   "execution_count": 13,
   "id": "85982761",
   "metadata": {},
   "outputs": [],
   "source": [
    "error = []\n",
    "refine = []\n",
    "rerun = []\n",
    "for pair in llava:\n",
    "    new = deepcopy(pair)\n",
    "    if pair['llava_answer'] == None :\n",
    "        rerun.append(pair)\n",
    "    elif 'Right' in pair['llava_answer']:\n",
    "        new['llava_answer'] = 'Right'\n",
    "        refine.append(new)\n",
    "    elif 'Left' in pair['llava_answer']:\n",
    "        new['llava_answer'] = 'Left'\n",
    "        refine.append(new)\n",
    "    else:\n",
    "        error.append(pair)\n",
    "        print(pair)\n",
    "        "
   ]
  },
  {
   "cell_type": "code",
   "execution_count": 14,
   "id": "17be2bc3",
   "metadata": {},
   "outputs": [],
   "source": [
    "#error = []\n",
    "correct_pred = []\n",
    "wrong_pred = []\n",
    "gt = []\n",
    "correct = []\n",
    "wrong = []\n",
    "\n",
    "for pair in refine:\n",
    "    gt.append(pair['answer'])\n",
    "    # if pair['llava_answer'] not in ('Left', \"Right\"):\n",
    "    #     # print(pair)\n",
    "    #     error.append(pair)\n",
    "    #     continue\n",
    "    if pair['answer'] == pair['llava_answer']:\n",
    "            correct.append(pair)\n",
    "            correct_pred.append(pair['llava_answer'])\n",
    "    elif pair['answer'] != pair['llava_answer']:\n",
    "            wrong.append(pair)\n",
    "            wrong_pred.append(pair['llava_answer'])\n",
    "    else:\n",
    "        print('fuck')"
   ]
  },
  {
   "cell_type": "code",
   "execution_count": 15,
   "id": "5eb59082",
   "metadata": {},
   "outputs": [
    {
     "data": {
      "text/plain": [
       "0.7162217659137577"
      ]
     },
     "execution_count": 15,
     "metadata": {},
     "output_type": "execute_result"
    }
   ],
   "source": [
    "len(correct) / (len(correct) + len(wrong))"
   ]
  },
  {
   "cell_type": "code",
   "execution_count": 16,
   "id": "3c274754",
   "metadata": {},
   "outputs": [
    {
     "data": {
      "text/plain": [
       "Counter({'Right': 1351, 'Left': 1084})"
      ]
     },
     "execution_count": 16,
     "metadata": {},
     "output_type": "execute_result"
    }
   ],
   "source": [
    "Counter(wrong_pred+correct_pred)"
   ]
  },
  {
   "cell_type": "code",
   "execution_count": 17,
   "id": "2c869a94",
   "metadata": {},
   "outputs": [
    {
     "data": {
      "text/plain": [
       "2435"
      ]
     },
     "execution_count": 17,
     "metadata": {},
     "output_type": "execute_result"
    }
   ],
   "source": [
    "len(llava)"
   ]
  },
  {
   "cell_type": "code",
   "execution_count": 18,
   "id": "e035d89d",
   "metadata": {},
   "outputs": [
    {
     "data": {
      "image/png": "[encoded data removed]",
      "text/plain": [
       "<Figure size 640x480 with 1 Axes>"
      ]
     },
     "metadata": {},
     "output_type": "display_data"
    }
   ],
   "source": [
    "sizes = [len(correct), len(wrong), len(error)]\n",
    "# Labels with percentages and exact counts\n",
    "labels = [f'Correct - {sizes[0]} items ({sizes[0]/sum(sizes)*100:.2f}%)',\n",
    "          f'Wrong - {sizes[1]} items ({sizes[1]/sum(sizes)*100:.2f}%)', \n",
    "         f'Error - {sizes[2]} items ({sizes[2]/sum(sizes)*100:.2f}%)', \n",
    "         ]\n",
    "\n",
    "# Colors for each section\n",
    "colors = ['gold', 'yellowgreen', 'lightcoral']\n",
    "\n",
    "# Plotting the pie chart\n",
    "plt.pie(sizes, labels=labels, colors=colors, autopct='%1.1f%%', startangle=140)\n",
    "plt.axis('equal')  # Equal aspect ratio ensures that pie is drawn as a circle.\n",
    "plt.title('NYU Fashion LLaVa-1.6')\n",
    "plt.show()"
   ]
  },
  {
   "cell_type": "markdown",
   "id": "47cbd2a2",
   "metadata": {},
   "source": [
    "# Vila1.5"
   ]
  },
  {
   "cell_type": "code",
   "execution_count": 6,
   "id": "49bc2b13",
   "metadata": {},
   "outputs": [],
   "source": [
    "error = []\n",
    "refine = []\n",
    "rerun = []\n",
    "for pair in vila:\n",
    "    new = deepcopy(pair)\n",
    "    if pair['vila_answer'] == None :\n",
    "        rerun.append(pair)\n",
    "    elif 'Right' in pair['vila_answer']:\n",
    "        new['vila_answer'] = 'Right'\n",
    "        refine.append(new)\n",
    "    elif 'Left' in pair['vila_answer']:\n",
    "        new['vila_answer'] = 'Left'\n",
    "        refine.append(new)\n",
    "    else:\n",
    "        error.append(pair)\n",
    "        print(pair)\n",
    "        "
   ]
  },
  {
   "cell_type": "code",
   "execution_count": 7,
   "id": "f5d417c1",
   "metadata": {},
   "outputs": [],
   "source": [
    "#error = []\n",
    "correct_pred = []\n",
    "wrong_pred = []\n",
    "gt = []\n",
    "correct = []\n",
    "wrong = []\n",
    "\n",
    "for pair in refine:\n",
    "    gt.append(pair['answer'])\n",
    "    # if pair['vila_answer'] not in ('Left', \"Right\"):\n",
    "    #     # print(pair)\n",
    "    #     error.append(pair)\n",
    "    #     continue\n",
    "    if pair['answer'] == pair['vila_answer']:\n",
    "            correct.append(pair)\n",
    "            correct_pred.append(pair['vila_answer'])\n",
    "    elif pair['answer'] != pair['vila_answer']:\n",
    "            wrong.append(pair)\n",
    "            wrong_pred.append(pair['vila_answer'])\n",
    "    else:\n",
    "        print('fuck')"
   ]
  },
  {
   "cell_type": "code",
   "execution_count": 8,
   "id": "1a8cbde6",
   "metadata": {},
   "outputs": [
    {
     "data": {
      "text/plain": [
       "0.6620123203285421"
      ]
     },
     "execution_count": 8,
     "metadata": {},
     "output_type": "execute_result"
    }
   ],
   "source": [
    "len(correct) / (len(correct) + len(wrong))"
   ]
  },
  {
   "cell_type": "code",
   "execution_count": 9,
   "id": "4ec9f697",
   "metadata": {},
   "outputs": [
    {
     "data": {
      "text/plain": [
       "Counter({'Left': 1978, 'Right': 457})"
      ]
     },
     "execution_count": 9,
     "metadata": {},
     "output_type": "execute_result"
    }
   ],
   "source": [
    "Counter(wrong_pred+correct_pred)"
   ]
  },
  {
   "cell_type": "code",
   "execution_count": 10,
   "id": "7fa81a79",
   "metadata": {},
   "outputs": [
    {
     "data": {
      "image/png": "[encoded data removed]",
      "text/plain": [
       "<Figure size 640x480 with 1 Axes>"
      ]
     },
     "metadata": {},
     "output_type": "display_data"
    }
   ],
   "source": [
    "sizes = [len(correct), len(wrong), len(error)]\n",
    "# Labels with percentages and exact counts\n",
    "labels = [f'Correct - {sizes[0]} items ({sizes[0]/sum(sizes)*100:.2f}%)',\n",
    "          f'Wrong - {sizes[1]} items ({sizes[1]/sum(sizes)*100:.2f}%)', \n",
    "         f'Error - {sizes[2]} items ({sizes[2]/sum(sizes)*100:.2f}%)', \n",
    "         ]\n",
    "\n",
    "# Colors for each section\n",
    "colors = ['gold', 'yellowgreen', 'lightcoral']\n",
    "\n",
    "# Plotting the pie chart\n",
    "plt.pie(sizes, labels=labels, colors=colors, autopct='%1.1f%%', startangle=140)\n",
    "plt.axis('equal')  # Equal aspect ratio ensures that pie is drawn as a circle.\n",
    "plt.title('NYU Fashion Vila1.5')\n",
    "plt.show()"
   ]
  }
 ],
 "metadata": {
  "kernelspec": {
   "display_name": "Python 3 (ipykernel)",
   "language": "python",
   "name": "python3"
  },
  "language_info": {
   "codemirror_mode": {
    "name": "ipython",
    "version": 3
   },
   "file_extension": ".py",
   "mimetype": "text/x-python",
   "name": "python",
   "nbconvert_exporter": "python",
   "pygments_lexer": "ipython3",
   "version": "3.9.6"
  },
  "vscode": {
   "interpreter": {
    "hash": "9e661d40c8188a26cf79371062655916cda7c58b8d0eda8499f8a3a5b7eb1ad0"
   }
  }
 },
 "nbformat": 4,
 "nbformat_minor": 5
}
