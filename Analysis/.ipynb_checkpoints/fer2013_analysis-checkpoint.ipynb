{
 "cells": [
  {
   "cell_type": "code",
   "execution_count": 1,
   "id": "bc188462",
   "metadata": {},
   "outputs": [],
   "source": [
    "import os\n",
    "import json\n",
    "from collections import defaultdict\n",
    "from collections import Counter\n",
    "from copy import deepcopy\n",
    "import matplotlib.pyplot as plt"
   ]
  },
  {
   "cell_type": "code",
   "execution_count": 2,
   "id": "3c1ba1c4",
   "metadata": {},
   "outputs": [],
   "source": [
    "RESULTS = '../results/fer2013'"
   ]
  },
  {
   "cell_type": "code",
   "execution_count": 3,
   "id": "5667e3ad",
   "metadata": {},
   "outputs": [],
   "source": [
    "gemini = json.load(open(f'{RESULTS}/0_720_gemini.json'))"
   ]
  },
  {
   "cell_type": "code",
   "execution_count": 4,
   "id": "bd274cf8",
   "metadata": {},
   "outputs": [
    {
     "data": {
      "text/plain": [
       "{'image_1': 'fer-2013/test/sad/im359.png',\n",
       " 'image_2': 'fer-2013/test/sad/im356.png',\n",
       " 'question': 'Which person feels more sad?',\n",
       " 'answer': 'Left',\n",
       " 'gemini_answer': ' Left'}"
      ]
     },
     "execution_count": 4,
     "metadata": {},
     "output_type": "execute_result"
    }
   ],
   "source": [
    "gemini[0]"
   ]
  },
  {
   "cell_type": "code",
   "execution_count": 7,
   "id": "77af6ea9",
   "metadata": {},
   "outputs": [],
   "source": [
    "gpt = json.load(open(f'{RESULTS}/0_720_gpt.json'))"
   ]
  },
  {
   "cell_type": "code",
   "execution_count": 13,
   "id": "9398f998",
   "metadata": {},
   "outputs": [],
   "source": [
    "llava = [json.loads(q) for q in open(os.path.expanduser(f'{RESULTS}/0_141_llava.jsonl'), \"r\")]"
   ]
  },
  {
   "cell_type": "markdown",
   "id": "31036a81",
   "metadata": {},
   "source": [
    "# sanity check"
   ]
  },
  {
   "cell_type": "code",
   "execution_count": 8,
   "id": "516bb2df",
   "metadata": {},
   "outputs": [
    {
     "name": "stdout",
     "output_type": "stream",
     "text": [
      "{'image_1': 'fer-2013/test/fearful/im415.png', 'image_2': 'fer-2013/test/fearful/im410.png', 'question': 'Which person feels more fearful?', 'answer': 'Right', 'gpt_answer': 'GPT error'}\n",
      "{'image_1': 'fer-2013/test/sad/im559.png', 'image_2': 'fer-2013/test/sad/im551.png', 'question': 'Which person feels more sad?', 'answer': 'Right', 'gpt_answer': 'GPT error'}\n",
      "{'image_1': 'fer-2013/test/angry/im84.png', 'image_2': 'fer-2013/test/angry/im846.png', 'question': 'Which person feels more angry?', 'answer': 'Left', 'gpt_answer': 'GPT error'}\n",
      "{'image_1': 'fer-2013/test/sad/im927.png', 'image_2': 'fer-2013/test/sad/im920.png', 'question': 'Which person feels more sad?', 'answer': 'Right', 'gpt_answer': 'GPT error'}\n",
      "{'image_1': 'fer-2013/test/fearful/im128.png', 'image_2': 'fer-2013/test/fearful/im126.png', 'question': 'Which person feels more fearful?', 'answer': 'Right', 'gpt_answer': 'GPT error'}\n",
      "{'image_1': 'fer-2013/test/neutral/im563.png', 'image_2': 'fer-2013/test/neutral/im557.png', 'question': 'Which person feels more neutral?', 'answer': 'Left', 'gpt_answer': 'GPT error'}\n",
      "{'image_1': 'fer-2013/test/angry/im173.png', 'image_2': 'fer-2013/test/angry/im172.png', 'question': 'Which person feels more angry?', 'answer': 'Left', 'gpt_answer': 'GPT error'}\n",
      "{'image_1': 'fer-2013/test/angry/im409.png', 'image_2': 'fer-2013/test/angry/im410.png', 'question': 'Which person feels more angry?', 'answer': 'Left', 'gpt_answer': 'GPT error'}\n",
      "{'image_1': 'fer-2013/test/sad/im1220.png', 'image_2': 'fer-2013/test/sad/im1213.png', 'question': 'Which person feels more sad?', 'answer': 'Left', 'gpt_answer': 'GPT error'}\n",
      "{'image_1': 'fer-2013/test/angry/im475.png', 'image_2': 'fer-2013/test/angry/im470.png', 'question': 'Which person feels more angry?', 'answer': 'Left', 'gpt_answer': 'GPT error'}\n",
      "{'image_1': 'fer-2013/test/sad/im1094.png', 'image_2': 'fer-2013/test/sad/im1093.png', 'question': 'Which person feels more sad?', 'answer': 'Left', 'gpt_answer': 'GPT error'}\n",
      "{'image_1': 'fer-2013/test/surprised/im557.png', 'image_2': 'fer-2013/test/surprised/im552.png', 'question': 'Which person feels more surprised?', 'answer': 'Right', 'gpt_answer': 'GPT error'}\n",
      "{'image_1': 'fer-2013/test/angry/im286.png', 'image_2': 'fer-2013/test/angry/im285.png', 'question': 'Which person feels more angry?', 'answer': 'Left', 'gpt_answer': 'GPT error'}\n",
      "{'image_1': 'fer-2013/test/angry/im830.png', 'image_2': 'fer-2013/test/angry/im83.png', 'question': 'Which person feels more angry?', 'answer': 'Left', 'gpt_answer': 'GPT error'}\n",
      "{'image_1': 'fer-2013/test/sad/im346.png', 'image_2': 'fer-2013/test/sad/im349.png', 'question': 'Which person feels more sad?', 'answer': 'Left', 'gpt_answer': 'GPT error'}\n",
      "{'image_1': 'fer-2013/test/sad/im375.png', 'image_2': 'fer-2013/test/sad/im377.png', 'question': 'Which person feels more sad?', 'answer': 'Left', 'gpt_answer': 'GPT error'}\n",
      "{'image_1': 'fer-2013/test/fearful/im175.png', 'image_2': 'fer-2013/test/fearful/im168.png', 'question': 'Which person feels more fearful?', 'answer': 'Right', 'gpt_answer': 'GPT error'}\n",
      "{'image_1': 'fer-2013/test/angry/im562.png', 'image_2': 'fer-2013/test/angry/im56.png', 'question': 'Which person feels more angry?', 'answer': 'Left', 'gpt_answer': 'GPT error'}\n",
      "{'image_1': 'fer-2013/test/neutral/im673.png', 'image_2': 'fer-2013/test/neutral/im665.png', 'question': 'Which person feels more neutral?', 'answer': 'Left', 'gpt_answer': 'GPT error'}\n",
      "{'image_1': 'fer-2013/test/happy/im1281.png', 'image_2': 'fer-2013/test/happy/im1278.png', 'question': 'Which person feels more happy?', 'answer': 'Right', 'gpt_answer': 'GPT error'}\n",
      "{'image_1': 'fer-2013/test/happy/im502.png', 'image_2': 'fer-2013/test/happy/im505.png', 'question': 'Which person feels more happy?', 'answer': 'Left', 'gpt_answer': 'GPT error'}\n",
      "{'image_1': 'fer-2013/test/angry/im812.png', 'image_2': 'fer-2013/test/angry/im811.png', 'question': 'Which person feels more angry?', 'answer': 'Left', 'gpt_answer': 'GPT error'}\n",
      "{'image_1': 'fer-2013/test/happy/im1328.png', 'image_2': 'fer-2013/test/happy/im1329.png', 'question': 'Which person feels more happy?', 'answer': 'Right', 'gpt_answer': 'GPT error'}\n",
      "{'image_1': 'fer-2013/test/sad/im927.png', 'image_2': 'fer-2013/test/sad/im925.png', 'question': 'Which person feels more sad?', 'answer': 'Right', 'gpt_answer': 'GPT error'}\n",
      "{'image_1': 'fer-2013/test/angry/im95.png', 'image_2': 'fer-2013/test/angry/im953.png', 'question': 'Which person feels more angry?', 'answer': 'Left', 'gpt_answer': 'GPT error'}\n",
      "{'image_1': 'fer-2013/test/happy/im506.png', 'image_2': 'fer-2013/test/happy/im508.png', 'question': 'Which person feels more happy?', 'answer': 'Left', 'gpt_answer': 'GPT error'}\n",
      "{'image_1': 'fer-2013/test/angry/im920.png', 'image_2': 'fer-2013/test/angry/im92.png', 'question': 'Which person feels more angry?', 'answer': 'Left', 'gpt_answer': 'GPT error'}\n",
      "{'image_1': 'fer-2013/test/fearful/im494.png', 'image_2': 'fer-2013/test/fearful/im498.png', 'question': 'Which person feels more fearful?', 'answer': 'Right', 'gpt_answer': 'GPT error'}\n",
      "{'image_1': 'fer-2013/test/neutral/', 'image_2': 'fer-2013/test/neutral/im194.png', 'question': 'Which person feels more neutral?', 'answer': 'Right', 'gpt_answer': 'wrong path'}\n"
     ]
    }
   ],
   "source": [
    "refine = []\n",
    "rerun = []\n",
    "error = []\n",
    "for pair in gpt:\n",
    "    new = deepcopy(pair)\n",
    "    if pair['gpt_answer'] == None :\n",
    "        rerun.append(pair)\n",
    "    elif 'Right' in pair['gpt_answer']:\n",
    "        new['gpt_answer'] = 'Right'\n",
    "        refine.append(new)\n",
    "    elif 'Left' in pair['gpt_answer']:\n",
    "        new['gpt_answer'] = 'Left'\n",
    "        refine.append(new)\n",
    "    else:\n",
    "        error.append(pair)\n",
    "        print(pair)\n",
    "        "
   ]
  },
  {
   "cell_type": "code",
   "execution_count": 9,
   "id": "e88f06c5",
   "metadata": {},
   "outputs": [],
   "source": [
    "#error = []\n",
    "correct_pred = []\n",
    "wrong_pred = []\n",
    "gt = []\n",
    "correct = []\n",
    "wrong = []\n",
    "\n",
    "for pair in refine:\n",
    "    gt.append(pair['answer'])\n",
    "    # if pair['gpt_answer'] not in ('Left', \"Right\"):\n",
    "    #     # print(pair)\n",
    "    #     error.append(pair)\n",
    "    #     continue\n",
    "    if pair['answer'] == pair['gpt_answer']:\n",
    "            correct.append(pair)\n",
    "            correct_pred.append(pair['gpt_answer'])\n",
    "    elif pair['answer'] != pair['gpt_answer']:\n",
    "            wrong.append(pair)\n",
    "            wrong_pred.append(pair['gpt_answer'])\n",
    "    else:\n",
    "        print('fuck')"
   ]
  },
  {
   "cell_type": "code",
   "execution_count": 10,
   "id": "977927a3",
   "metadata": {},
   "outputs": [
    {
     "data": {
      "text/plain": [
       "0.8425679275439532"
      ]
     },
     "execution_count": 10,
     "metadata": {},
     "output_type": "execute_result"
    }
   ],
   "source": [
    "len(correct) / (len(correct) + len(wrong))"
   ]
  },
  {
   "cell_type": "code",
   "execution_count": 17,
   "id": "060a926d",
   "metadata": {},
   "outputs": [
    {
     "data": {
      "text/plain": [
       "Counter({'Right': 800, 'Left': 669})"
      ]
     },
     "execution_count": 17,
     "metadata": {},
     "output_type": "execute_result"
    }
   ],
   "source": [
    "Counter(wrong_pred+correct_pred)"
   ]
  },
  {
   "cell_type": "code",
   "execution_count": 18,
   "id": "3396aeec",
   "metadata": {},
   "outputs": [
    {
     "data": {
      "text/plain": [
       "1471"
      ]
     },
     "execution_count": 18,
     "metadata": {},
     "output_type": "execute_result"
    }
   ],
   "source": [
    "len(gpt)"
   ]
  },
  {
   "cell_type": "code",
   "execution_count": 12,
   "id": "0eb10cc0",
   "metadata": {},
   "outputs": [
    {
     "data": {
      "image/png": "[encoded data removed]",
      "text/plain": [
       "<Figure size 432x288 with 1 Axes>"
      ]
     },
     "metadata": {},
     "output_type": "display_data"
    }
   ],
   "source": [
    "sizes = [len(correct), len(wrong), len(error)]\n",
    "# Labels with percentages and exact counts\n",
    "labels = [f'Correct - {sizes[0]} items ({sizes[0]/sum(sizes)*100:.2f}%)',\n",
    "          f'Wrong - {sizes[1]} items ({sizes[1]/sum(sizes)*100:.2f}%)', \n",
    "         f'Error - {sizes[2]} items ({sizes[2]/sum(sizes)*100:.2f}%)', \n",
    "         ]\n",
    "\n",
    "# Colors for each section\n",
    "colors = ['gold', 'yellowgreen', 'lightcoral']\n",
    "\n",
    "# Plotting the pie chart\n",
    "plt.pie(sizes, labels=labels, colors=colors, autopct='%1.1f%%', startangle=140)\n",
    "plt.axis('equal')  # Equal aspect ratio ensures that pie is drawn as a circle.\n",
    "plt.title('Fer2013 GPT')\n",
    "plt.show()"
   ]
  },
  {
   "cell_type": "code",
   "execution_count": null,
   "id": "ae3fb1ce",
   "metadata": {},
   "outputs": [],
   "source": []
  },
  {
   "cell_type": "markdown",
   "id": "07e5b854",
   "metadata": {},
   "source": [
    "# Geimini"
   ]
  },
  {
   "cell_type": "code",
   "execution_count": 13,
   "id": "b4fcabc4",
   "metadata": {},
   "outputs": [
    {
     "data": {
      "text/plain": [
       "{'image_1': 'fer-2013/test/sad/im359.png',\n",
       " 'image_2': 'fer-2013/test/sad/im356.png',\n",
       " 'question': 'Which person feels more sad?',\n",
       " 'answer': 'Left',\n",
       " 'gemini_answer': ' Left'}"
      ]
     },
     "execution_count": 13,
     "metadata": {},
     "output_type": "execute_result"
    }
   ],
   "source": [
    "gemini[0]"
   ]
  },
  {
   "cell_type": "code",
   "execution_count": 14,
   "id": "6aa6ef4f",
   "metadata": {},
   "outputs": [
    {
     "name": "stdout",
     "output_type": "stream",
     "text": [
      "{'image_1': 'fer-2013/test/neutral/', 'image_2': 'fer-2013/test/neutral/im194.png', 'question': 'Which person feels more neutral?', 'answer': 'Right', 'gemini_answer': 'wrong path'}\n"
     ]
    }
   ],
   "source": [
    "error = []\n",
    "refine = []\n",
    "for pair in gemini:\n",
    "    new = deepcopy(pair)\n",
    "    if 'Left' in pair['gemini_answer']:\n",
    "        new['gemini_answer'] = 'Left'\n",
    "        refine.append(new)\n",
    "    elif 'Right' in pair['gemini_answer']:\n",
    "        new['gemini_answer'] = 'Right'\n",
    "        refine.append(new)\n",
    "    else:\n",
    "        \n",
    "        #refine.append(pair)\n",
    "        error.append(pair)\n",
    "        print(pair)\n",
    "        "
   ]
  },
  {
   "cell_type": "code",
   "execution_count": 15,
   "id": "94f73754",
   "metadata": {},
   "outputs": [],
   "source": [
    "#error = []\n",
    "correct_pred = []\n",
    "wrong_pred = []\n",
    "gt = []\n",
    "correct = []\n",
    "wrong = []\n",
    "\n",
    "for pair in refine:\n",
    "    gt.append(pair['answer'])\n",
    "    # if pair['gemini_answer'] not in ('Left', \"Right\"):\n",
    "    #     # print(pair)\n",
    "    #     error.append(pair)\n",
    "    #     continue\n",
    "    if pair['answer'] == pair['gemini_answer']:\n",
    "            correct.append(pair)\n",
    "            correct_pred.append(pair['gemini_answer'])\n",
    "    elif pair['answer'] != pair['gemini_answer']:\n",
    "            wrong.append(pair)\n",
    "            wrong_pred.append(pair['gemini_answer'])\n",
    "    else:\n",
    "        print('fuck')"
   ]
  },
  {
   "cell_type": "code",
   "execution_count": 23,
   "id": "5d924a11",
   "metadata": {},
   "outputs": [
    {
     "data": {
      "text/plain": [
       "Counter({'Left': 1264, 'Right': 207})"
      ]
     },
     "execution_count": 23,
     "metadata": {},
     "output_type": "execute_result"
    }
   ],
   "source": [
    "Counter(correct_pred+wrong_pred)"
   ]
  },
  {
   "cell_type": "code",
   "execution_count": 24,
   "id": "aac16a73",
   "metadata": {},
   "outputs": [
    {
     "data": {
      "text/plain": [
       "0.619986403806934"
      ]
     },
     "execution_count": 24,
     "metadata": {},
     "output_type": "execute_result"
    }
   ],
   "source": [
    "len(correct) / (len(correct) + len(wrong))"
   ]
  },
  {
   "cell_type": "code",
   "execution_count": 16,
   "id": "cdd7e85f",
   "metadata": {},
   "outputs": [
    {
     "data": {
      "image/png": "[encoded data removed]",
      "text/plain": [
       "<Figure size 432x288 with 1 Axes>"
      ]
     },
     "metadata": {},
     "output_type": "display_data"
    }
   ],
   "source": [
    "sizes = [len(correct), len(wrong), len(error)]\n",
    "# Labels with percentages and exact counts\n",
    "labels = [f'Correct - {sizes[0]} items ({sizes[0]/sum(sizes)*100:.2f}%)',\n",
    "          f'Wrong - {sizes[1]} items ({sizes[1]/sum(sizes)*100:.2f}%)', \n",
    "         f'Error - {sizes[2]} items ({sizes[2]/sum(sizes)*100:.2f}%)', \n",
    "         ]\n",
    "\n",
    "# Colors for each section\n",
    "colors = ['gold', 'yellowgreen', 'lightcoral']\n",
    "\n",
    "# Plotting the pie chart\n",
    "plt.pie(sizes, labels=labels, colors=colors, autopct='%1.1f%%', startangle=140)\n",
    "plt.axis('equal')  # Equal aspect ratio ensures that pie is drawn as a circle.\n",
    "plt.title('Fer2013 Gemini')\n",
    "plt.show()"
   ]
  },
  {
   "cell_type": "markdown",
   "id": "3f649018",
   "metadata": {},
   "source": [
    "# LLaVA-1.6"
   ]
  },
  {
   "cell_type": "code",
   "execution_count": 26,
   "id": "2cb664ee",
   "metadata": {},
   "outputs": [],
   "source": [
    "error = []\n",
    "refine = []\n",
    "rerun = []\n",
    "for pair in llava:\n",
    "    new = deepcopy(pair)\n",
    "    if pair['llava_answer'] == None :\n",
    "        rerun.append(pair)\n",
    "    elif 'Right' in pair['llava_answer']:\n",
    "        new['llava_answer'] = 'Right'\n",
    "        refine.append(new)\n",
    "    elif 'Left' in pair['llava_answer']:\n",
    "        new['llava_answer'] = 'Left'\n",
    "        refine.append(new)\n",
    "    else:\n",
    "        error.append(pair)\n",
    "        print(pair)"
   ]
  },
  {
   "cell_type": "code",
   "execution_count": 27,
   "id": "d3865575",
   "metadata": {},
   "outputs": [],
   "source": [
    "#error = []\n",
    "correct_pred = []\n",
    "wrong_pred = []\n",
    "gt = []\n",
    "correct = []\n",
    "wrong = []\n",
    "\n",
    "for pair in refine:\n",
    "    gt.append(pair['answer'])\n",
    "    # if pair['llava_answer'] not in ('Left', \"Right\"):\n",
    "    #     # print(pair)\n",
    "    #     error.append(pair)\n",
    "    #     continue\n",
    "    if pair['answer'] == pair['llava_answer']:\n",
    "            correct.append(pair)\n",
    "            correct_pred.append(pair['llava_answer'])\n",
    "    elif pair['answer'] != pair['llava_answer']:\n",
    "            wrong.append(pair)\n",
    "            wrong_pred.append(pair['llava_answer'])\n",
    "    else:\n",
    "        print('fuck')"
   ]
  },
  {
   "cell_type": "code",
   "execution_count": 28,
   "id": "adad2178",
   "metadata": {},
   "outputs": [
    {
     "data": {
      "text/plain": [
       "0.9592114208021754"
      ]
     },
     "execution_count": 28,
     "metadata": {},
     "output_type": "execute_result"
    }
   ],
   "source": [
    "len(correct) / (len(correct) + len(wrong))"
   ]
  },
  {
   "cell_type": "code",
   "execution_count": 29,
   "id": "b0474b0c",
   "metadata": {},
   "outputs": [
    {
     "data": {
      "text/plain": [
       "Counter({'Right': 774, 'Left': 697})"
      ]
     },
     "execution_count": 29,
     "metadata": {},
     "output_type": "execute_result"
    }
   ],
   "source": [
    "Counter(wrong_pred+correct_pred)"
   ]
  },
  {
   "cell_type": "code",
   "execution_count": 30,
   "id": "0749b7f0",
   "metadata": {},
   "outputs": [
    {
     "data": {
      "text/plain": [
       "1471"
      ]
     },
     "execution_count": 30,
     "metadata": {},
     "output_type": "execute_result"
    }
   ],
   "source": [
    "len(llava)"
   ]
  },
  {
   "cell_type": "code",
   "execution_count": 31,
   "id": "720a98ed",
   "metadata": {},
   "outputs": [
    {
     "data": {
      "image/png": "[encoded data removed]",
      "text/plain": [
       "<Figure size 640x480 with 1 Axes>"
      ]
     },
     "metadata": {},
     "output_type": "display_data"
    }
   ],
   "source": [
    "sizes = [len(correct), len(wrong), len(error)]\n",
    "# Labels with percentages and exact counts\n",
    "labels = [f'Correct - {sizes[0]} items ({sizes[0]/sum(sizes)*100:.2f}%)',\n",
    "          f'Wrong - {sizes[1]} items ({sizes[1]/sum(sizes)*100:.2f}%)', \n",
    "         f'Error - {sizes[2]} items ({sizes[2]/sum(sizes)*100:.2f}%)', \n",
    "         ]\n",
    "\n",
    "# Colors for each section\n",
    "colors = ['gold', 'yellowgreen', 'lightcoral']\n",
    "\n",
    "# Plotting the pie chart\n",
    "plt.pie(sizes, labels=labels, colors=colors, autopct='%1.1f%%', startangle=140)\n",
    "plt.axis('equal')  # Equal aspect ratio ensures that pie is drawn as a circle.\n",
    "plt.title('CelebA LLaVa-1.6')\n",
    "plt.show()"
   ]
  }
 ],
 "metadata": {
  "kernelspec": {
   "display_name": "Python 3 (ipykernel)",
   "language": "python",
   "name": "python3"
  },
  "language_info": {
   "codemirror_mode": {
    "name": "ipython",
    "version": 3
   },
   "file_extension": ".py",
   "mimetype": "text/x-python",
   "name": "python",
   "nbconvert_exporter": "python",
   "pygments_lexer": "ipython3",
   "version": "3.9.6"
  },
  "vscode": {
   "interpreter": {
    "hash": "9e661d40c8188a26cf79371062655916cda7c58b8d0eda8499f8a3a5b7eb1ad0"
   }
  }
 },
 "nbformat": 4,
 "nbformat_minor": 5
}
