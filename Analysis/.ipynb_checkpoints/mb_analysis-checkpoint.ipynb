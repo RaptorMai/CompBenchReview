{
 "cells": [
  {
   "cell_type": "code",
   "execution_count": 21,
   "id": "bc188462",
   "metadata": {},
   "outputs": [],
   "source": [
    "import os\n",
    "import json\n",
    "from collections import defaultdict\n",
    "from collections import Counter\n",
    "from copy import deepcopy\n",
    "import matplotlib.pyplot as plt\n",
    "from string import punctuation"
   ]
  },
  {
   "cell_type": "code",
   "execution_count": 3,
   "id": "3c1ba1c4",
   "metadata": {},
   "outputs": [],
   "source": [
    "RESULTS = '../results/mb'"
   ]
  },
  {
   "cell_type": "code",
   "execution_count": 3,
   "id": "5667e3ad",
   "metadata": {},
   "outputs": [],
   "source": [
    "gemini = json.load(open(f'{RESULTS}/results_MB_test_0_400_gemini.json'))\n",
    "gemini = gemini + json.load(open(f'{RESULTS}/results_MB_test_400_612_gemini.json'))\n",
    "gemini = gemini + json.load(open(f'{RESULTS}/results_MB_val_0_315_gemini.json'))"
   ]
  },
  {
   "cell_type": "code",
   "execution_count": 4,
   "id": "4b9edff5",
   "metadata": {},
   "outputs": [
    {
     "data": {
      "text/plain": [
       "927"
      ]
     },
     "execution_count": 4,
     "metadata": {},
     "output_type": "execute_result"
    }
   ],
   "source": [
    "len(gemini)"
   ]
  },
  {
   "cell_type": "code",
   "execution_count": 5,
   "id": "1e74ee1a",
   "metadata": {},
   "outputs": [],
   "source": [
    "gpt = json.load(open(f'{RESULTS}/results_MB_test_0_400_gpt.json'))\n",
    "gpt = gpt + json.load(open(f'{RESULTS}/results_MB_test_400_612_gpt.json'))\n",
    "gpt = gpt + json.load(open(f'{RESULTS}/results_MB_val_0_315_gpt.json'))"
   ]
  },
  {
   "cell_type": "code",
   "execution_count": 6,
   "id": "77af6ea9",
   "metadata": {},
   "outputs": [
    {
     "data": {
      "text/plain": [
       "927"
      ]
     },
     "execution_count": 6,
     "metadata": {},
     "output_type": "execute_result"
    }
   ],
   "source": [
    "len(gpt)"
   ]
  },
  {
   "cell_type": "code",
   "execution_count": 15,
   "id": "cc54654f",
   "metadata": {},
   "outputs": [],
   "source": [
    "llava = [json.loads(q) for q in open(os.path.expanduser(f'{RESULTS}/results_MB_test_0_400_llava.jsonl'), \"r\")]\n",
    "llava = llava + [json.loads(q) for q in open(os.path.expanduser(f'{RESULTS}/results_MB_test_400_612_llava.jsonl'), \"r\")]\n",
    "llava = llava + [json.loads(q) for q in open(os.path.expanduser(f'{RESULTS}/results_MB_val_0_315_llava.jsonl'), \"r\")]"
   ]
  },
  {
   "cell_type": "code",
   "execution_count": 16,
   "id": "65361247",
   "metadata": {},
   "outputs": [
    {
     "data": {
      "text/plain": [
       "927"
      ]
     },
     "execution_count": 16,
     "metadata": {},
     "output_type": "execute_result"
    }
   ],
   "source": [
    "len(llava)"
   ]
  },
  {
   "cell_type": "code",
   "execution_count": 4,
   "id": "e5d114ad",
   "metadata": {},
   "outputs": [],
   "source": [
    "vila = [json.loads(q) for q in open(os.path.expanduser(f'{RESULTS}/results_MB_test_0_400_vila.jsonl'), \"r\")]\n",
    "vila = vila + [json.loads(q) for q in open(os.path.expanduser(f'{RESULTS}/results_MB_test_400_612_vila.jsonl'), \"r\")]\n",
    "vila = vila + [json.loads(q) for q in open(os.path.expanduser(f'{RESULTS}/results_MB_val_0_315_vila.jsonl'), \"r\")]"
   ]
  },
  {
   "cell_type": "code",
   "execution_count": 5,
   "id": "1c6c45bb",
   "metadata": {},
   "outputs": [
    {
     "data": {
      "text/plain": [
       "927"
      ]
     },
     "execution_count": 5,
     "metadata": {},
     "output_type": "execute_result"
    }
   ],
   "source": [
    "len(vila)"
   ]
  },
  {
   "cell_type": "markdown",
   "id": "222204ec",
   "metadata": {},
   "source": [
    "# new"
   ]
  },
  {
   "cell_type": "code",
   "execution_count": 25,
   "id": "dbab5564",
   "metadata": {},
   "outputs": [],
   "source": [
    "gpt = json.load(open(f'{RESULTS}/mb_all_gpt.json'))\n",
    "gpt_decompose = json.load(open(f'{RESULTS}/results_MB_val_test_decompose.json'))"
   ]
  },
  {
   "cell_type": "code",
   "execution_count": 36,
   "id": "ec6e00ca",
   "metadata": {},
   "outputs": [],
   "source": [
    "c = 0\n",
    "option = []\n",
    "real = []\n",
    "for i in gpt:\n",
    "    c += 1\n",
    "    option.append(len([j.lstrip(' ').rstrip(' ').lower().strip(punctuation) for j in i['Modified_option'].split(',')] + ['none']))\n",
    "    real.append([j.lstrip(' ').rstrip(' ').lower().strip(punctuation) for j in i['Modified_option'].split(',')] + ['none'])"
   ]
  },
  {
   "cell_type": "code",
   "execution_count": 39,
   "id": "86415ba3",
   "metadata": {},
   "outputs": [
    {
     "data": {
      "text/plain": [
       "11.58252427184466"
      ]
     },
     "execution_count": 39,
     "metadata": {},
     "output_type": "execute_result"
    }
   ],
   "source": [
    "(sum(option)/c)"
   ]
  },
  {
   "cell_type": "code",
   "execution_count": 38,
   "id": "f0c77a62",
   "metadata": {},
   "outputs": [
    {
     "data": {
      "text/plain": [
       "0.08633696563285834"
      ]
     },
     "execution_count": 38,
     "metadata": {},
     "output_type": "execute_result"
    }
   ],
   "source": [
    "1/ (sum(option)/c)"
   ]
  },
  {
   "cell_type": "code",
   "execution_count": 35,
   "id": "9c7de985",
   "metadata": {},
   "outputs": [
    {
     "data": {
      "text/plain": [
       "13"
      ]
     },
     "execution_count": 35,
     "metadata": {},
     "output_type": "execute_result"
    }
   ],
   "source": [
    "option[0]"
   ]
  },
  {
   "cell_type": "code",
   "execution_count": 37,
   "id": "0431ed26",
   "metadata": {},
   "outputs": [
    {
     "data": {
      "text/plain": [
       "['flower',\n",
       " 'cabinet',\n",
       " 'stove',\n",
       " 'oven',\n",
       " 'sink',\n",
       " 'leaves',\n",
       " 'cabinet handles',\n",
       " 'wall tiles',\n",
       " 'air conditioner',\n",
       " 'painting',\n",
       " 'thermostat',\n",
       " 'ground',\n",
       " 'none']"
      ]
     },
     "execution_count": 37,
     "metadata": {},
     "output_type": "execute_result"
    }
   ],
   "source": [
    "real[0]"
   ]
  },
  {
   "cell_type": "code",
   "execution_count": 22,
   "id": "a53d72ca",
   "metadata": {},
   "outputs": [],
   "source": [
    "def get_acc_option(key, gt_key, data):\n",
    "    correct = []\n",
    "    wrong = []\n",
    "    invalid = []\n",
    "    error = []\n",
    "    c = 0\n",
    "    for i in data:\n",
    "        c += 1\n",
    "        if isinstance(i[key], dict):\n",
    "            print(i)\n",
    "            error.append(i)\n",
    "        else:\n",
    "            pred = i[key].lstrip(' ').rstrip(' ').lower().strip(punctuation)\n",
    "        gt = i[gt_key].lstrip(' ').rstrip(' ').lower().strip(punctuation)\n",
    "        options = [j.lstrip(' ').rstrip(' ').lower().strip(punctuation) for j in i['Modified_option'].split(',')] + ['none']\n",
    "        #options = [j.lstrip(' ').rstrip(' ').lower().strip(punctuation) for j in i['option']] + ['none']\n",
    "        if 'error' in pred:\n",
    "            print('error')\n",
    "            print(i)\n",
    "            error.append(i)\n",
    "        elif pred not in options:\n",
    "            print('invalid')\n",
    "            print(i)\n",
    "            invalid.append(i)\n",
    "        else:\n",
    "            if pred == gt:\n",
    "                correct.append(i)\n",
    "            else:\n",
    "                wrong.append(i)\n",
    "    print('Acc')\n",
    "    print(len(correct) / (len(correct) + len(wrong) + len(error) + len(invalid)))\n",
    "    print('Error')\n",
    "    print(len(error) / (len(correct) + len(wrong) + len(error) + len(invalid) ))\n",
    "    print('Invalid')\n",
    "    print(len(invalid) / (len(correct) + len(wrong) + len(error) + len(invalid)))\n",
    "    return correct, wrong, invalid, error, c"
   ]
  },
  {
   "cell_type": "code",
   "execution_count": 23,
   "id": "60f55ac1",
   "metadata": {},
   "outputs": [
    {
     "name": "stdout",
     "output_type": "stream",
     "text": [
      "invalid\n",
      "{'path_input': 'magic_brush/test/images/403028/403028-output1.png', 'input_global': 'A kitchen with a sink on one side and a refrigerator, stove, microwave, and oven on the other side, with a delicious pizza on the counter.', 'path_output': 'magic_brush/test/images/403028/403028-output2.png', 'output_local': 'kitchen with soda and pizza on counter', 'output_global': 'A kitchen with a sink on one side and a refrigerator, stove, microwave, and oven on the other side, with a delicious pizza and a bottle of soda on the counter.', 'CLIP_similarity': 0.99072265625, 'GPT_option': 'fridge, cabinet, oven, microwave, blender, sink, countertop, pizza, bottle, wine rack, kettle, ceiling lights, floor tiles, pot, pan, wall art, window, kitchen island, stool', 'instruction': 'Have there be a bottle of soda on the counter', 'If_modified_option': False, 'Modified_option': 'fridge, cabinet, oven, microwave, blender, sink, countertop, pizza, bottle, wine rack, kettle, ceiling lights, floor tiles, pot, pan, wall art, window, kitchen island, stool', 'Answeer': 'bottle', 'Quality': 'accept', 'gpt_answer': 'tablet'}\n",
      "invalid\n",
      "{'path_input': 'magic_brush/test/images/168690/168690-output1.png', 'input_global': 'A laptop with a blank screen and keyboard are sitting on a white desk in a hotel room.', 'path_output': 'magic_brush/test/images/168690/168690-output2.png', 'output_local': 'black keyboard', 'output_global': 'A black keyboard and laptop with a blank screen are sitting on a white desk in a hotel room.', 'CLIP_similarity': 0.994140625, 'GPT_option': 'pillow, chair, laptop, mouse, desk, lamp, bed, remote control, backpack, wall painting, cables, books', 'instruction': 'let the keyboard be black', 'If_modified_option': True, 'Modified_option': 'pillow, chair, laptop, laptop stand, mouse, desk, keyboard, lamp, bed, remote control, backpack, wall painting, cables, books, blanket, cell phone, thermostat', 'Answeer': 'keyboard', 'Quality': 'accept', 'gpt_answer': 'laptop_stand'}\n",
      "invalid\n",
      "{'path_input': 'magic_brush/test/images/3259/3259-input.png', 'input_global': 'a desk filled with assorted electronics and a phone', 'path_output': 'magic_brush/test/images/3259/3259-output1.png', 'output_local': 'desk with electronics and a table lamp', 'output_global': 'A desk filled with assorted electronics and a table lamp', 'CLIP_similarity': 0.97314453125, 'GPT_option': 'lamp, computer monitor, bicycle, desk, keyboard, mouse, mug, laptop, notebook, webcam, chair, cup, paper, bulletin board, cabinet, pen, sticky notes, books, cork board.', 'instruction': 'replace the phone with a table lamp', 'If_modified_option': True, 'Modified_option': 'computer monitor, phone, desk, keyboard, mouse, mug, laptop, webcam, paper, calender, cabinet, pen, sticky notes, books, cork board, headset', 'Answeer': 'phone', 'Quality': 'accept', 'gpt_answer': 'lamp'}\n",
      "{'path_input': 'magic_brush/dev/images/92009/92009-output2.png', 'input_global': 'Taxidermied panda and other animals on display', 'path_output': 'magic_brush/dev/images/92009/92009-output3.png', 'output_local': 'panda and other animals on display with tongues out', 'output_global': 'Taxidermied panda and other white animals sticking their tongues out on display', 'instruction': 'let white animals stick their tongues out', 'CLIP_similarity': 0.99462890625, 'GPT_option': 'bear, polar bear, fox, panda, shelf, ear, eye, leg, cabinet, label', 'If_modified_option': True, 'Modified_option': 'bear, fox, panda, shelf, panda ear, panda eye, bear leg, display case, wood blocks', 'Answeer': 'fox', 'Quality': 'accept', 'gpt_answer': {'error': {'message': 'The server had an error processing your request. Sorry about that! You can retry your request, or contact us through our help center at help.openai.com if you keep seeing this error. (Please include the request ID req_aa0b3bf212e6b651a191687699022944 in your email.)', 'type': 'server_error', 'param': None, 'code': None}}}\n",
      "{'path_input': 'magic_brush/dev/images/158548/158548-output1.png', 'input_global': 'Outdoor show with black sheep prominent on grass field.', 'path_output': 'magic_brush/dev/images/158548/158548-output2.png', 'output_local': 'sheep and dog on grass field', 'output_global': 'Outdoor show with a dog herding black sheep on a grass field.', 'instruction': 'A dog should be near the sheep.', 'CLIP_similarity': 0.96044921875, 'GPT_option': 'grass, tree, ear (sheep), ear (dog), leg (sheep), leg (dog), grass, sheep, dog, bus, banner, sky', 'If_modified_option': True, 'Modified_option': 'grass, tree, ear (sheep), leg (sheep), sheep, dog, truck, car, shadow, person, building, banner, sky', 'Answeer': 'dog', 'Quality': 'accept', 'gpt_answer': {'error': {'message': 'The server had an error processing your request. Sorry about that! You can retry your request, or contact us through our help center at help.openai.com if you keep seeing this error. (Please include the request ID req_1fbd44b75c2e0c6b8b22a44327692e9c in your email.)', 'type': 'server_error', 'param': None, 'code': None}}}\n",
      "invalid\n",
      "{'path_input': 'magic_brush/dev/images/158548/158548-output1.png', 'input_global': 'Outdoor show with black sheep prominent on grass field.', 'path_output': 'magic_brush/dev/images/158548/158548-output2.png', 'output_local': 'sheep and dog on grass field', 'output_global': 'Outdoor show with a dog herding black sheep on a grass field.', 'instruction': 'A dog should be near the sheep.', 'CLIP_similarity': 0.96044921875, 'GPT_option': 'grass, tree, ear (sheep), ear (dog), leg (sheep), leg (dog), grass, sheep, dog, bus, banner, sky', 'If_modified_option': True, 'Modified_option': 'grass, tree, ear (sheep), leg (sheep), sheep, dog, truck, car, shadow, person, building, banner, sky', 'Answeer': 'dog', 'Quality': 'accept', 'gpt_answer': {'error': {'message': 'The server had an error processing your request. Sorry about that! You can retry your request, or contact us through our help center at help.openai.com if you keep seeing this error. (Please include the request ID req_1fbd44b75c2e0c6b8b22a44327692e9c in your email.)', 'type': 'server_error', 'param': None, 'code': None}}}\n",
      "Acc\n",
      "0.5715823466092572\n",
      "Error\n",
      "0.002152852529601722\n",
      "Invalid\n",
      "0.004305705059203444\n"
     ]
    }
   ],
   "source": [
    "correct, wrong, invalid, error, c = get_acc_option('gpt_answer', 'Answeer', gpt)"
   ]
  },
  {
   "cell_type": "code",
   "execution_count": 24,
   "id": "abb0f15f",
   "metadata": {},
   "outputs": [
    {
     "data": {
      "image/png": "[encoded data removed]",
      "text/plain": [
       "<Figure size 432x288 with 1 Axes>"
      ]
     },
     "metadata": {},
     "output_type": "display_data"
    }
   ],
   "source": [
    "sizes = [len(correct), len(wrong), len(error), len(invalid)]\n",
    "# Labels with percentages and exact counts\n",
    "labels = [f'Correct - {sizes[0]} items ({sizes[0]/sum(sizes)*100:.2f}%)',\n",
    "          f'Wrong - {sizes[1]} items ({sizes[1]/sum(sizes)*100:.2f}%)', \n",
    "         f'Error - {sizes[2]} items ({sizes[2]/sum(sizes)*100:.2f}%)', \n",
    "          f'Invalid - {sizes[3]} items ({sizes[3]/sum(sizes)*100:.2f}%)', \n",
    "         ]\n",
    "\n",
    "# Colors for each section\n",
    "colors = ['gold', 'yellowgreen', 'lightcoral', 'pink']\n",
    "\n",
    "# Plotting the pie chart\n",
    "plt.pie(sizes, labels=labels, colors=colors, autopct='%1.1f%%', startangle=140)\n",
    "plt.axis('equal')  # Equal aspect ratio ensures that pie is drawn as a circle.\n",
    "plt.title('MB GPT')\n",
    "plt.show()"
   ]
  },
  {
   "cell_type": "code",
   "execution_count": 27,
   "id": "aebd7053",
   "metadata": {},
   "outputs": [
    {
     "name": "stdout",
     "output_type": "stream",
     "text": [
      "invalid\n",
      "{'path_input': 'magic_brush/test/images/448177/448177-input.png', 'input_global': 'White toilet outside with flowers growing out of it.', 'path_output': 'magic_brush/test/images/448177/448177-output1.png', 'output_local': 'toilet with lid', 'output_global': 'White toilet with lid and flowers growing out of it.', 'CLIP_similarity': 0.94091796875, 'GPT_option': 'toilet, flower, grass, fence', 'instruction': 'Let the water tank have a lid.', 'If_modified_option': True, 'Modified_option': 'toliet seat, toliet lid, grass, dirt, fence, blue flowers', 'Answeer': 'toliet lid', 'Quality': 'accept', 'gpt_decompose_answer': 'toilet lid'}\n",
      "invalid\n",
      "{'path_input': 'magic_brush/test/images/410152/410152-output1.png', 'input_global': 'A person riding a bicycle next to a train by some houses in the day.', 'path_output': 'magic_brush/test/images/410152/410152-output2.png', 'output_local': 'A person riding a bicycle next to a street bus by some houses in the day.', 'output_global': 'A person riding a bicycle next to a street bus by some houses in the day.', 'CLIP_similarity': 0.95947265625, 'GPT_option': 'building, bus, bicycle, street, window, door, flag, street lamp, sky, clouds, humans, shirt, pants, shoes, hand, hair, sunglasses.', 'instruction': 'replace the subway train with a street bus', 'If_modified_option': True, 'Modified_option': 'sky, clouds, street bus, bicyle, window, people, builiding, train track', 'Answeer': 'street bus', 'Quality': 'accept', 'gpt_decompose_answer': 'bus'}\n",
      "invalid\n",
      "{'path_input': 'magic_brush/test/images/126182/126182-input.png', 'input_global': 'The white refrigerator is next to the kitchen counter.', 'path_output': 'magic_brush/test/images/126182/126182-output1.png', 'output_local': 'blue refrigerator', 'output_global': 'The blue refrigerator is next to the kitchen counter.', 'CLIP_similarity': 0.96337890625, 'GPT_option': 'window, cabinet, sink, fridge', 'instruction': 'Can the refrigerator be blue?', 'If_modified_option': True, 'Modified_option': 'window, cabinet, sink, refridgerator, toaster, dishes, outlet, light switch', 'Answeer': 'refridgerator', 'Quality': 'accept', 'gpt_decompose_answer': 'refrigerator'}\n",
      "invalid\n",
      "{'path_input': 'magic_brush/test/images/294330/294330-output1.png', 'input_global': 'A home office with a desk, leather bound books, and computers.', 'path_output': 'magic_brush/test/images/294330/294330-output2.png', 'output_local': 'home office with code on computer screens', 'output_global': 'A home office with a desk, leather bound books, and computers displaying code.', 'CLIP_similarity': 0.986328125, 'GPT_option': 'chair, window, book, cabinet, printer, computer, monitor, keyboard, mouse, cables, laptop, desk, carpet', 'instruction': 'let the computer screens have code', 'If_modified_option': True, 'Modified_option': 'chair, window, book, shelf, printer, computer, keyboard, mouse, cables, laptop, desk, carpet', 'Answeer': 'computer', 'Quality': 'accept', 'gpt_decompose_answer': 'bookshelf'}\n",
      "invalid\n",
      "{'path_input': 'magic_brush/test/images/284725/284725-output1.png', 'input_global': 'A public transit bus driving on a city street.', 'path_output': 'magic_brush/test/images/284725/284725-output2.png', 'output_local': 'bus with cat on top', 'output_global': 'A public transit bus driving on a city street with a small cat on top.', 'CLIP_similarity': 0.994140625, 'GPT_option': 'bus, car, tree, road, sidewalk', 'instruction': 'Put a small cat on top of the bus.', 'If_modified_option': True, 'Modified_option': 'bus, car, tree, building, letters, wheel, fence, bush, human, road, sidewalk,cat', 'Answeer': 'cat', 'Quality': 'accept', 'gpt_decompose_answer': 'fencer'}\n",
      "invalid\n",
      "{'path_input': 'magic_brush/test/images/398772/398772-input.png', 'input_global': 'A bed with a tray on top sits in a room with a fridge.', 'path_output': 'magic_brush/test/images/398772/398772-output1.png', 'output_local': 'wheelchair next to bed with tray and fridge in room.', 'output_global': 'A wheelchair accessible room with a bed and tray table, and a fridge.', 'CLIP_similarity': 0.97412109375, 'GPT_option': 'bed, pillow, fridge, cabinet, chair, wheelchair, book, bottles, air conditioner, sink, curtain, window.', 'instruction': 'change the chair into a wheel chair.', 'If_modified_option': True, 'Modified_option': 'bed, pillow, fridge, cabinet, wheel chair, book, bottles, air conditioner, curtain.', 'Answeer': 'wheel chair', 'Quality': 'accept', 'gpt_decompose_answer': 'wheelchair'}\n",
      "error\n",
      "{'path_input': 'magic_brush/dev/images/308507/308507-output2.png', 'input_global': 'Kitchen with recessed lighting, lots of clutter, a table with blue metal chairs, and a crystal ball.', 'path_output': 'magic_brush/dev/images/308507/308507-output3.png', 'output_local': 'bedroom and kitchen with recessed lighting, lots of clutter, a table with blue metal chairs, and a crystal ball.', 'output_global': 'Kitchen with recessed lighting, lots of clutter, a table with blue metal chairs, and a crystal ball next to a cozy bedroom.', 'instruction': 'let there be a bedroom near the kitchen', 'CLIP_similarity': 0.98046875, 'GPT_option': 'ceiling light, curtain, window, cabinet, sink, plate, bowl, cup, book, cloth, plants, pot, pan, colander, kitchen utensils, fridge, chair, tablecloth, fruit, wall décor', 'If_modified_option': True, 'Modified_option': 'ceiling light, curtain, window, cabinet, crystal ball, bowl, cup, book, cloth, pot, pan, bulletin board, kitchen utensils, counter, doorway, wall décor', 'Answeer': 'doorway', 'Quality': 'bad', 'gpt_decompose_answer': 'GPT Error'}\n",
      "Acc\n",
      "0.4638619201725998\n",
      "Error\n",
      "0.0010787486515641855\n",
      "Invalid\n",
      "0.006472491909385114\n"
     ]
    }
   ],
   "source": [
    "correct, wrong, invalid, error, c = get_acc_option('gpt_decompose_answer', 'Answeer', gpt_decompose)"
   ]
  },
  {
   "cell_type": "code",
   "execution_count": 28,
   "id": "df554334",
   "metadata": {},
   "outputs": [
    {
     "data": {
      "image/png": "[encoded data removed]",
      "text/plain": [
       "<Figure size 432x288 with 1 Axes>"
      ]
     },
     "metadata": {},
     "output_type": "display_data"
    }
   ],
   "source": [
    "sizes = [len(correct), len(wrong), len(error), len(invalid)]\n",
    "# Labels with percentages and exact counts\n",
    "labels = [f'Correct - {sizes[0]} items ({sizes[0]/sum(sizes)*100:.2f}%)',\n",
    "          f'Wrong - {sizes[1]} items ({sizes[1]/sum(sizes)*100:.2f}%)', \n",
    "         f'Error - {sizes[2]} items ({sizes[2]/sum(sizes)*100:.2f}%)', \n",
    "          f'Invalid - {sizes[3]} items ({sizes[3]/sum(sizes)*100:.2f}%)', \n",
    "         ]\n",
    "\n",
    "# Colors for each section\n",
    "colors = ['gold', 'yellowgreen', 'lightcoral', 'pink']\n",
    "\n",
    "# Plotting the pie chart\n",
    "plt.pie(sizes, labels=labels, colors=colors, autopct='%1.1f%%', startangle=140)\n",
    "plt.axis('equal')  # Equal aspect ratio ensures that pie is drawn as a circle.\n",
    "plt.title('MB decompose GPT')\n",
    "plt.show()"
   ]
  },
  {
   "cell_type": "code",
   "execution_count": null,
   "id": "9f6a9eca",
   "metadata": {},
   "outputs": [],
   "source": []
  },
  {
   "cell_type": "code",
   "execution_count": null,
   "id": "49918679",
   "metadata": {},
   "outputs": [],
   "source": []
  },
  {
   "cell_type": "code",
   "execution_count": null,
   "id": "4b43d085",
   "metadata": {},
   "outputs": [],
   "source": []
  },
  {
   "cell_type": "markdown",
   "id": "8b3283fb",
   "metadata": {},
   "source": [
    "# GPT"
   ]
  },
  {
   "cell_type": "code",
   "execution_count": 43,
   "id": "516bb2df",
   "metadata": {},
   "outputs": [],
   "source": [
    "error = []\n",
    "refine = []\n",
    "rerun = []\n",
    "bad_quality = []\n",
    "for pair in gpt:\n",
    "    new = deepcopy(pair)\n",
    "\n",
    "    # skip bad-quality samples\n",
    "    if pair['Quality'] == \"bad\" :\n",
    "        bad_quality.append(new)\n",
    "        continue\n",
    "\n",
    "    # Make prediction lower case\n",
    "    pred = new['gpt_answer']\n",
    "\n",
    "    if type(pred) == dict:\n",
    "        error.append(pair)\n",
    "    else:\n",
    "        new['gpt_answer'] = pred.lower().strip()\n",
    "        refine.append(new)\n",
    "    \n",
    "        "
   ]
  },
  {
   "cell_type": "code",
   "execution_count": 21,
   "id": "ebca6331",
   "metadata": {},
   "outputs": [
    {
     "data": {
      "text/plain": [
       "39"
      ]
     },
     "execution_count": 21,
     "metadata": {},
     "output_type": "execute_result"
    }
   ],
   "source": [
    "len(bad_quality)"
   ]
  },
  {
   "cell_type": "code",
   "execution_count": 22,
   "id": "649c5f4e",
   "metadata": {},
   "outputs": [
    {
     "data": {
      "text/plain": [
       "2"
      ]
     },
     "execution_count": 22,
     "metadata": {},
     "output_type": "execute_result"
    }
   ],
   "source": [
    "len(error)"
   ]
  },
  {
   "cell_type": "code",
   "execution_count": 23,
   "id": "96dd9b63",
   "metadata": {},
   "outputs": [
    {
     "data": {
      "text/plain": [
       "886"
      ]
     },
     "execution_count": 23,
     "metadata": {},
     "output_type": "execute_result"
    }
   ],
   "source": [
    "len(refine)"
   ]
  },
  {
   "cell_type": "code",
   "execution_count": 26,
   "id": "e88f06c5",
   "metadata": {},
   "outputs": [],
   "source": [
    "#error = []\n",
    "correct_pred = []\n",
    "wrong_pred = []\n",
    "gt = []\n",
    "correct = []\n",
    "wrong = []\n",
    "\n",
    "for pair in refine:\n",
    "    gt.append(pair['Answeer'])\n",
    "    # if pair['gpt_answer'] not in ('Left', \"Right\"):\n",
    "    #     # print(pair)\n",
    "    #     error.append(pair)\n",
    "    #     continue\n",
    "    if pair['Answeer'] == pair['gpt_answer']:\n",
    "            correct.append(pair)\n",
    "            correct_pred.append(pair['gpt_answer'])\n",
    "    elif pair['Answeer'] != pair['gpt_answer']:\n",
    "            wrong.append(pair)\n",
    "            wrong_pred.append(pair['gpt_answer'])\n",
    "    else:\n",
    "        print('fuck')"
   ]
  },
  {
   "cell_type": "code",
   "execution_count": 27,
   "id": "977927a3",
   "metadata": {},
   "outputs": [
    {
     "data": {
      "text/plain": [
       "0.5891647855530474"
      ]
     },
     "execution_count": 27,
     "metadata": {},
     "output_type": "execute_result"
    }
   ],
   "source": [
    "len(correct) / (len(correct) + len(wrong))"
   ]
  },
  {
   "cell_type": "code",
   "execution_count": 28,
   "id": "060a926d",
   "metadata": {},
   "outputs": [
    {
     "data": {
      "text/plain": [
       "Counter({'none': 235,\n",
       "         'hat': 13,\n",
       "         'cat': 13,\n",
       "         'flower': 12,\n",
       "         'window': 11,\n",
       "         'dog': 11,\n",
       "         'bird': 10,\n",
       "         'laptop': 8,\n",
       "         'television': 7,\n",
       "         'hair': 7,\n",
       "         'car': 6,\n",
       "         'hand': 5,\n",
       "         'mirror': 5,\n",
       "         'mouth': 5,\n",
       "         'flag': 5,\n",
       "         'tennis ball': 5,\n",
       "         'monitor': 5,\n",
       "         'fire hydrant': 5,\n",
       "         'apple': 5,\n",
       "         'sky': 4,\n",
       "         'umbrella': 4,\n",
       "         'curtain': 4,\n",
       "         'plate': 4,\n",
       "         'broccoli': 4,\n",
       "         'cup': 4,\n",
       "         'ball': 4,\n",
       "         'bicycle': 4,\n",
       "         'people': 4,\n",
       "         'man': 4,\n",
       "         'shirt': 4,\n",
       "         'baseball': 3,\n",
       "         'airplane': 3,\n",
       "         'microwave': 3,\n",
       "         'balloon': 3,\n",
       "         'sofa': 3,\n",
       "         'sunglasses': 3,\n",
       "         'traffic lights': 3,\n",
       "         'tennis racket': 3,\n",
       "         'glass': 3,\n",
       "         'cake': 3,\n",
       "         'stop sign': 3,\n",
       "         'vase': 3,\n",
       "         'train': 3,\n",
       "         'birds': 3,\n",
       "         'soda can': 3,\n",
       "         'girl': 3,\n",
       "         'motorcycle': 3,\n",
       "         'woman': 3,\n",
       "         'bowl': 3,\n",
       "         'toilet': 3,\n",
       "         'basket': 2,\n",
       "         'magazine': 2,\n",
       "         'blanket': 2,\n",
       "         'candle': 2,\n",
       "         'trophy': 2,\n",
       "         'bean bag': 2,\n",
       "         'reflection': 2,\n",
       "         'tablet': 2,\n",
       "         'sauce': 2,\n",
       "         'lamp': 2,\n",
       "         'street sign': 2,\n",
       "         'toilet lid': 2,\n",
       "         'horse': 2,\n",
       "         'glasses': 2,\n",
       "         'chair': 2,\n",
       "         'cheese': 2,\n",
       "         'boy': 2,\n",
       "         'panda': 2,\n",
       "         'stool': 2,\n",
       "         'tongue': 2,\n",
       "         'rat': 2,\n",
       "         'picture': 2,\n",
       "         'spoon': 2,\n",
       "         'rock': 2,\n",
       "         'boat': 2,\n",
       "         'fork': 2,\n",
       "         'door': 2,\n",
       "         'turtle': 2,\n",
       "         'bottle': 2,\n",
       "         'clock': 2,\n",
       "         'fruit bowl': 2,\n",
       "         'knife': 2,\n",
       "         'cherry': 2,\n",
       "         'seagull': 2,\n",
       "         'shoes': 2,\n",
       "         'watermelon': 2,\n",
       "         'berries': 2,\n",
       "         'lighthouse': 2,\n",
       "         'pizza': 2,\n",
       "         'mountain': 2,\n",
       "         'bucket': 2,\n",
       "         'banana': 2,\n",
       "         'spider': 2,\n",
       "         'computer screen': 2,\n",
       "         'computer monitor': 2,\n",
       "         'penguin': 2,\n",
       "         'french fries': 2,\n",
       "         'party hat': 2,\n",
       "         'helmet': 2,\n",
       "         'dress': 2,\n",
       "         'mustard': 2,\n",
       "         'eye': 2,\n",
       "         'river': 2,\n",
       "         'ice cream': 2,\n",
       "         'kite': 2,\n",
       "         'lizard': 2,\n",
       "         'bottles': 2,\n",
       "         'chairs': 2,\n",
       "         'face': 2,\n",
       "         'water': 2,\n",
       "         'speaker': 1,\n",
       "         'lightning': 1,\n",
       "         'train door': 1,\n",
       "         'picture frame': 1,\n",
       "         'beer': 1,\n",
       "         'ship': 1,\n",
       "         'tail': 1,\n",
       "         'frog': 1,\n",
       "         'date': 1,\n",
       "         'ear': 1,\n",
       "         'eye shadow': 1,\n",
       "         'stripe pattern': 1,\n",
       "         'remote control': 1,\n",
       "         'shadow': 1,\n",
       "         'toilet bowl': 1,\n",
       "         'brown rabbit': 1,\n",
       "         'desk': 1,\n",
       "         'water bowl': 1,\n",
       "         'laptop_stand': 1,\n",
       "         'column': 1,\n",
       "         'tablecloth': 1,\n",
       "         'digital billboard': 1,\n",
       "         'alcohol shelf': 1,\n",
       "         'paintings': 1,\n",
       "         \"cow's ear\": 1,\n",
       "         'flying objects': 1,\n",
       "         'blue flowers': 1,\n",
       "         'lights': 1,\n",
       "         'light fixture': 1,\n",
       "         'trees': 1,\n",
       "         'flying disc': 1,\n",
       "         'soap dispenser': 1,\n",
       "         'cow': 1,\n",
       "         'instructor shirts': 1,\n",
       "         'ironing board': 1,\n",
       "         'pineapple': 1,\n",
       "         'camera': 1,\n",
       "         'toilet seat': 1,\n",
       "         'outlet': 1,\n",
       "         'fridge': 1,\n",
       "         'bacon': 1,\n",
       "         'raspberries': 1,\n",
       "         'tongs': 1,\n",
       "         'zipper': 1,\n",
       "         'desk organizer': 1,\n",
       "         'plants': 1,\n",
       "         'vent hood': 1,\n",
       "         'clouds': 1,\n",
       "         'bath toy': 1,\n",
       "         'banner': 1,\n",
       "         'phone': 1,\n",
       "         'ramp': 1,\n",
       "         'hairdryer': 1,\n",
       "         'flowers': 1,\n",
       "         'giraffe leg': 1,\n",
       "         'doorway': 1,\n",
       "         'blender': 1,\n",
       "         'bathtub': 1,\n",
       "         'salt': 1,\n",
       "         'yacht': 1,\n",
       "         'scooter': 1,\n",
       "         'juice': 1,\n",
       "         'pan': 1,\n",
       "         'eye shadow kit': 1,\n",
       "         'signal light': 1,\n",
       "         'checkout counter': 1,\n",
       "         'window shade': 1,\n",
       "         'toaster': 1,\n",
       "         'soda': 1,\n",
       "         'hut': 1,\n",
       "         'tile': 1,\n",
       "         'sign': 1,\n",
       "         'cop': 1,\n",
       "         'keyboard': 1,\n",
       "         'sticky note': 1,\n",
       "         'fries': 1,\n",
       "         'poster': 1,\n",
       "         'ceiling fan': 1,\n",
       "         'tomato': 1,\n",
       "         'pen': 1,\n",
       "         'bone': 1,\n",
       "         'glass of wine': 1,\n",
       "         'red light': 1,\n",
       "         'worm': 1,\n",
       "         'raccoon': 1,\n",
       "         'cake with dark chocolate': 1,\n",
       "         'pillow': 1,\n",
       "         'coffee cup': 1,\n",
       "         'goggles': 1,\n",
       "         'fly': 1,\n",
       "         'beer bottle': 1,\n",
       "         'chili sauce': 1,\n",
       "         'sunlight': 1,\n",
       "         'smartphone': 1,\n",
       "         'tomato soup': 1,\n",
       "         'plant': 1,\n",
       "         'lobster': 1,\n",
       "         'cabin': 1,\n",
       "         'plant pot': 1,\n",
       "         'traffic light': 1,\n",
       "         'bell pepper': 1,\n",
       "         'hoof': 1,\n",
       "         'pancakes': 1,\n",
       "         'antenna': 1,\n",
       "         'money': 1,\n",
       "         'computer': 1,\n",
       "         'oven': 1,\n",
       "         'monkey': 1,\n",
       "         'cowboy hat': 1,\n",
       "         'bench': 1,\n",
       "         'book': 1,\n",
       "         'mouse': 1,\n",
       "         'television screen': 1,\n",
       "         'women jacket': 1,\n",
       "         'man hat': 1,\n",
       "         'butter': 1,\n",
       "         'chair seat': 1,\n",
       "         'salad': 1,\n",
       "         'wolf': 1,\n",
       "         'cone': 1,\n",
       "         'helicopter': 1,\n",
       "         'sunny': 1,\n",
       "         'strawberry': 1,\n",
       "         'building': 1,\n",
       "         'duck': 1,\n",
       "         'sticker': 1,\n",
       "         'clipboard': 1,\n",
       "         't-shirt': 1,\n",
       "         'dragonfly': 1,\n",
       "         'blue ceiling light': 1,\n",
       "         'food': 1,\n",
       "         'wheel chair': 1,\n",
       "         \"woman's face\": 1,\n",
       "         'pipe': 1,\n",
       "         'owl': 1,\n",
       "         'drone': 1,\n",
       "         \"man's hair\": 1,\n",
       "         'snowmobile': 1,\n",
       "         'alien': 1,\n",
       "         'chicken': 1,\n",
       "         'kangaroo': 1,\n",
       "         'sand castle': 1,\n",
       "         'toast': 1,\n",
       "         'peanuts': 1,\n",
       "         'mug': 1,\n",
       "         'boot': 1,\n",
       "         'rabbit': 1,\n",
       "         'green web page': 1,\n",
       "         'laptop web page': 1,\n",
       "         'little boy': 1,\n",
       "         'cat food': 1,\n",
       "         'cereal box': 1,\n",
       "         'shower curtain': 1,\n",
       "         'carrots': 1,\n",
       "         'straw': 1,\n",
       "         'eagle': 1,\n",
       "         'elephant': 1,\n",
       "         'train color': 1,\n",
       "         'yellow sweatshirt': 1,\n",
       "         'buildings': 1,\n",
       "         'jersey': 1,\n",
       "         'catcher outfit': 1,\n",
       "         'sausages': 1,\n",
       "         'pedestrian': 1,\n",
       "         'woman hand': 1,\n",
       "         'tanktop': 1,\n",
       "         'yield sign': 1,\n",
       "         'women': 1,\n",
       "         'milkshake': 1,\n",
       "         'cup of coffee': 1,\n",
       "         'vase of flowers': 1,\n",
       "         'military uniform': 1,\n",
       "         'zebra': 1,\n",
       "         'headlight': 1,\n",
       "         'drawing': 1,\n",
       "         'birthday cake': 1,\n",
       "         'sausage': 1,\n",
       "         'street bus': 1,\n",
       "         'smiling man': 1,\n",
       "         'laptop screen': 1,\n",
       "         'witch hat': 1,\n",
       "         'dog color': 1,\n",
       "         'surfer': 1,\n",
       "         'tiger': 1,\n",
       "         'face icon': 1,\n",
       "         'tie': 1,\n",
       "         'pizza box': 1,\n",
       "         'roast chicken': 1,\n",
       "         'cornfield': 1,\n",
       "         'rose': 1,\n",
       "         'round white plate': 1,\n",
       "         'stilettos': 1,\n",
       "         'milk glass': 1,\n",
       "         'number 4': 1,\n",
       "         'notebook': 1,\n",
       "         'egg': 1,\n",
       "         'table': 1,\n",
       "         'wine bottle': 1,\n",
       "         'piano': 1,\n",
       "         'refridgerator': 1,\n",
       "         'number of men': 1,\n",
       "         'rubber ducky': 1,\n",
       "         'rice': 1,\n",
       "         'kitten': 1,\n",
       "         'yoga ball': 1,\n",
       "         'parrot': 1,\n",
       "         'sugar': 1,\n",
       "         'beer cans': 1,\n",
       "         'baby': 1,\n",
       "         'batter outfit': 1,\n",
       "         'action figure': 1,\n",
       "         'smoke': 1,\n",
       "         'lightning bolt': 1,\n",
       "         'lion': 1,\n",
       "         'flooring': 1,\n",
       "         'cat color': 1,\n",
       "         'oranges': 1,\n",
       "         'tree color': 1,\n",
       "         'toliet seat': 1,\n",
       "         'black bear': 1,\n",
       "         'soda cans': 1,\n",
       "         'dog bowl': 1,\n",
       "         'shorts': 1,\n",
       "         'water glass': 1,\n",
       "         'leg': 1,\n",
       "         'ski pants': 1,\n",
       "         'beetle': 1,\n",
       "         'orange slices': 1,\n",
       "         'tattoo': 1,\n",
       "         'fan': 1,\n",
       "         'surfboard': 1,\n",
       "         'toppers': 1,\n",
       "         'mushroom': 1,\n",
       "         'crossing guard': 1,\n",
       "         'scarf': 1,\n",
       "         'cabinet': 1,\n",
       "         'crystal ball': 1,\n",
       "         'balloons': 1,\n",
       "         'rubber duck': 1,\n",
       "         'snowball': 1,\n",
       "         'trash can': 1,\n",
       "         'truck door': 1,\n",
       "         'teal vespa': 1,\n",
       "         'cyclist': 1,\n",
       "         'red dress': 1,\n",
       "         'bee': 1,\n",
       "         'frisbee': 1,\n",
       "         'carpet': 1,\n",
       "         'plush toy': 1,\n",
       "         'wine glass': 1,\n",
       "         'salt shaker': 1,\n",
       "         'spatula': 1,\n",
       "         'milk bottle': 1,\n",
       "         'kiwi': 1,\n",
       "         'city': 1,\n",
       "         'ocean': 1,\n",
       "         'chocolate chips': 1,\n",
       "         'numbers on jacket': 1,\n",
       "         'vegetables': 1,\n",
       "         'shark': 1,\n",
       "         'white goats': 1,\n",
       "         'baseballs': 1,\n",
       "         'fruit': 1,\n",
       "         'parking meter display': 1,\n",
       "         'ceiling light': 1,\n",
       "         'tea': 1,\n",
       "         'pilot': 1,\n",
       "         'bubbles': 1,\n",
       "         'rainbow': 1,\n",
       "         'sports bag': 1,\n",
       "         'baseball bat': 1,\n",
       "         'fire': 1,\n",
       "         'wave': 1,\n",
       "         'ceiling': 1,\n",
       "         'range hood': 1,\n",
       "         'floor tiles': 1,\n",
       "         'face mask': 1,\n",
       "         'flower clip': 1,\n",
       "         'shot glasses': 1,\n",
       "         'milk': 1,\n",
       "         'floor': 1,\n",
       "         'palm tree': 1,\n",
       "         'pond': 1,\n",
       "         'bread': 1,\n",
       "         'sun': 1,\n",
       "         'bed': 1,\n",
       "         'baby birds': 1,\n",
       "         'giraffe': 1,\n",
       "         'tree': 1})"
      ]
     },
     "execution_count": 28,
     "metadata": {},
     "output_type": "execute_result"
    }
   ],
   "source": [
    "Counter(wrong_pred+correct_pred)"
   ]
  },
  {
   "cell_type": "code",
   "execution_count": 30,
   "id": "c5435a9d",
   "metadata": {},
   "outputs": [
    {
     "data": {
      "text/plain": [
       "886"
      ]
     },
     "execution_count": 30,
     "metadata": {},
     "output_type": "execute_result"
    }
   ],
   "source": [
    "(len(correct) + len(wrong))"
   ]
  },
  {
   "cell_type": "code",
   "execution_count": 32,
   "id": "0eb10cc0",
   "metadata": {},
   "outputs": [
    {
     "data": {
      "image/png": "[encoded data removed]",
      "text/plain": [
       "<Figure size 640x480 with 1 Axes>"
      ]
     },
     "metadata": {},
     "output_type": "display_data"
    }
   ],
   "source": [
    "sizes = [len(correct), len(wrong), len(error)]\n",
    "# Labels with percentages and exact counts\n",
    "labels = [f'Correct - {sizes[0]} items ({sizes[0]/sum(sizes)*100:.2f}%)',\n",
    "          f'Wrong - {sizes[1]} items ({sizes[1]/sum(sizes)*100:.2f}%)', \n",
    "         f'Error - {sizes[2]} items ({sizes[2]/sum(sizes)*100:.2f}%)', \n",
    "         ]\n",
    "\n",
    "# Colors for each section\n",
    "colors = ['gold', 'yellowgreen', 'lightcoral']\n",
    "\n",
    "# Plotting the pie chart\n",
    "plt.pie(sizes, labels=labels, colors=colors, autopct='%1.1f%%', startangle=140)\n",
    "plt.axis('equal')  # Equal aspect ratio ensures that pie is drawn as a circle.\n",
    "plt.title('MB GPT')\n",
    "plt.show()"
   ]
  },
  {
   "cell_type": "code",
   "execution_count": null,
   "id": "ae3fb1ce",
   "metadata": {},
   "outputs": [],
   "source": []
  },
  {
   "cell_type": "markdown",
   "id": "07e5b854",
   "metadata": {},
   "source": [
    "# Geimini"
   ]
  },
  {
   "cell_type": "code",
   "execution_count": 44,
   "id": "6aa6ef4f",
   "metadata": {},
   "outputs": [],
   "source": [
    "error = []\n",
    "refine = []\n",
    "rerun = []\n",
    "bad_quality = []\n",
    "for pair in gemini:\n",
    "    new = deepcopy(pair)\n",
    "\n",
    "    # skip bad-quality samples\n",
    "    if pair['Quality'] == \"bad\" :\n",
    "        bad_quality.append(new)\n",
    "        continue\n",
    "\n",
    "    # Make prediction lower case\n",
    "    pred = new['gemini_answer']\n",
    "\n",
    "    if type(pred) == dict:\n",
    "        error.append(pair)\n",
    "    else:\n",
    "        new['gemini_answer'] = pred.lower().strip()\n",
    "        refine.append(new)\n",
    "    \n",
    "        "
   ]
  },
  {
   "cell_type": "code",
   "execution_count": 45,
   "id": "adde2cd4",
   "metadata": {},
   "outputs": [
    {
     "data": {
      "text/plain": [
       "39"
      ]
     },
     "execution_count": 45,
     "metadata": {},
     "output_type": "execute_result"
    }
   ],
   "source": [
    "len(bad_quality)"
   ]
  },
  {
   "cell_type": "code",
   "execution_count": 46,
   "id": "720fa382",
   "metadata": {},
   "outputs": [
    {
     "data": {
      "text/plain": [
       "0"
      ]
     },
     "execution_count": 46,
     "metadata": {},
     "output_type": "execute_result"
    }
   ],
   "source": [
    "len(error)"
   ]
  },
  {
   "cell_type": "code",
   "execution_count": 47,
   "id": "b973eb1e",
   "metadata": {},
   "outputs": [
    {
     "data": {
      "text/plain": [
       "888"
      ]
     },
     "execution_count": 47,
     "metadata": {},
     "output_type": "execute_result"
    }
   ],
   "source": [
    "len(refine)"
   ]
  },
  {
   "cell_type": "code",
   "execution_count": 48,
   "id": "94f73754",
   "metadata": {},
   "outputs": [],
   "source": [
    "#error = []\n",
    "correct_pred = []\n",
    "wrong_pred = []\n",
    "gt = []\n",
    "correct = []\n",
    "wrong = []\n",
    "\n",
    "for pair in refine:\n",
    "    gt.append(pair['Answeer'])\n",
    "    # if pair['gemini_answer'] not in ('Left', \"Right\"):\n",
    "    #     # print(pair)\n",
    "    #     error.append(pair)\n",
    "    #     continue\n",
    "    if pair['Answeer'] == pair['gemini_answer']:\n",
    "            correct.append(pair)\n",
    "            correct_pred.append(pair['gemini_answer'])\n",
    "    elif pair['Answeer'] != pair['gemini_answer']:\n",
    "            wrong.append(pair)\n",
    "            wrong_pred.append(pair['gemini_answer'])\n",
    "    else:\n",
    "        print('fuck')"
   ]
  },
  {
   "cell_type": "code",
   "execution_count": 49,
   "id": "aac16a73",
   "metadata": {},
   "outputs": [
    {
     "data": {
      "text/plain": [
       "0.545045045045045"
      ]
     },
     "execution_count": 49,
     "metadata": {},
     "output_type": "execute_result"
    }
   ],
   "source": [
    "len(correct) / (len(correct) + len(wrong))"
   ]
  },
  {
   "cell_type": "code",
   "execution_count": 50,
   "id": "cdd7e85f",
   "metadata": {},
   "outputs": [
    {
     "data": {
      "image/png": "[encoded data removed]",
      "text/plain": [
       "<Figure size 640x480 with 1 Axes>"
      ]
     },
     "metadata": {},
     "output_type": "display_data"
    }
   ],
   "source": [
    "sizes = [len(correct), len(wrong), len(error)]\n",
    "# Labels with percentages and exact counts\n",
    "labels = [f'Correct - {sizes[0]} items ({sizes[0]/sum(sizes)*100:.2f}%)',\n",
    "          f'Wrong - {sizes[1]} items ({sizes[1]/sum(sizes)*100:.2f}%)', \n",
    "         f'Error - {sizes[2]} items ({sizes[2]/sum(sizes)*100:.2f}%)', \n",
    "         ]\n",
    "\n",
    "# Colors for each section\n",
    "colors = ['gold', 'yellowgreen', 'lightcoral']\n",
    "\n",
    "# Plotting the pie chart\n",
    "plt.pie(sizes, labels=labels, colors=colors, autopct='%1.1f%%', startangle=140)\n",
    "plt.axis('equal')  # Equal aspect ratio ensures that pie is drawn as a circle.\n",
    "plt.title('MB Gemini')\n",
    "plt.show()"
   ]
  },
  {
   "cell_type": "markdown",
   "id": "c61dc284",
   "metadata": {},
   "source": [
    "# LLaVA-1.6"
   ]
  },
  {
   "cell_type": "code",
   "execution_count": 17,
   "id": "17be2bc3",
   "metadata": {},
   "outputs": [],
   "source": [
    "error = []\n",
    "refine = []\n",
    "rerun = []\n",
    "bad_quality = []\n",
    "for pair in llava:\n",
    "    new = deepcopy(pair)\n",
    "\n",
    "    # skip bad-quality samples\n",
    "    if pair['Quality'] == \"bad\" :\n",
    "        bad_quality.append(new)\n",
    "        continue\n",
    "\n",
    "    # Make prediction lower case\n",
    "    pred = new['llava_answer']\n",
    "\n",
    "    if type(pred) == dict:\n",
    "        error.append(pair)\n",
    "    else:\n",
    "        new['llava_answer'] = pred.lower().strip()\n",
    "        refine.append(new)"
   ]
  },
  {
   "cell_type": "code",
   "execution_count": 18,
   "id": "b30841a7",
   "metadata": {},
   "outputs": [
    {
     "data": {
      "text/plain": [
       "39"
      ]
     },
     "execution_count": 18,
     "metadata": {},
     "output_type": "execute_result"
    }
   ],
   "source": [
    "len(bad_quality)"
   ]
  },
  {
   "cell_type": "code",
   "execution_count": 19,
   "id": "86955fde",
   "metadata": {},
   "outputs": [
    {
     "data": {
      "text/plain": [
       "0"
      ]
     },
     "execution_count": 19,
     "metadata": {},
     "output_type": "execute_result"
    }
   ],
   "source": [
    "len(error)"
   ]
  },
  {
   "cell_type": "code",
   "execution_count": 20,
   "id": "a719f8e4",
   "metadata": {},
   "outputs": [
    {
     "data": {
      "text/plain": [
       "888"
      ]
     },
     "execution_count": 20,
     "metadata": {},
     "output_type": "execute_result"
    }
   ],
   "source": [
    "len(refine)"
   ]
  },
  {
   "cell_type": "code",
   "execution_count": 21,
   "id": "da8a2bed",
   "metadata": {},
   "outputs": [],
   "source": [
    "#error = []\n",
    "correct_pred = []\n",
    "wrong_pred = []\n",
    "gt = []\n",
    "correct = []\n",
    "wrong = []\n",
    "\n",
    "for pair in refine:\n",
    "    gt.append(pair['Answeer'])\n",
    "    # if pair['llava_answer'] not in ('Left', \"Right\"):\n",
    "    #     # print(pair)\n",
    "    #     error.append(pair)\n",
    "    #     continue\n",
    "    if pair['Answeer'] == pair['llava_answer']:\n",
    "            correct.append(pair)\n",
    "            correct_pred.append(pair['llava_answer'])\n",
    "    elif pair['Answeer'] != pair['llava_answer']:\n",
    "            wrong.append(pair)\n",
    "            wrong_pred.append(pair['llava_answer'])\n",
    "    else:\n",
    "        print('fuck')"
   ]
  },
  {
   "cell_type": "code",
   "execution_count": 22,
   "id": "a599c4cf",
   "metadata": {},
   "outputs": [
    {
     "data": {
      "text/plain": [
       "0.24774774774774774"
      ]
     },
     "execution_count": 22,
     "metadata": {},
     "output_type": "execute_result"
    }
   ],
   "source": [
    "len(correct) / (len(correct) + len(wrong))"
   ]
  },
  {
   "cell_type": "code",
   "execution_count": 23,
   "id": "04208f87",
   "metadata": {},
   "outputs": [],
   "source": [
    "#with open(f\"{RESULTS}/wrong_llava.json\", \"w\") as fp:\n",
    "#    json.dump(wrong, fp)"
   ]
  },
  {
   "cell_type": "code",
   "execution_count": 24,
   "id": "82a77f8b",
   "metadata": {},
   "outputs": [
    {
     "data": {
      "image/png": "[encoded data removed]",
      "text/plain": [
       "<Figure size 640x480 with 1 Axes>"
      ]
     },
     "metadata": {},
     "output_type": "display_data"
    }
   ],
   "source": [
    "sizes = [len(correct), len(wrong), len(error)]\n",
    "# Labels with percentages and exact counts\n",
    "labels = [f'Correct - {sizes[0]} items ({sizes[0]/sum(sizes)*100:.2f}%)',\n",
    "          f'Wrong - {sizes[1]} items ({sizes[1]/sum(sizes)*100:.2f}%)', \n",
    "         f'Error - {sizes[2]} items ({sizes[2]/sum(sizes)*100:.2f}%)', \n",
    "         ]\n",
    "\n",
    "# Colors for each section\n",
    "colors = ['gold', 'yellowgreen', 'lightcoral']\n",
    "\n",
    "# Plotting the pie chart\n",
    "plt.pie(sizes, labels=labels, colors=colors, autopct='%1.1f%%', startangle=140)\n",
    "plt.axis('equal')  # Equal aspect ratio ensures that pie is drawn as a circle.\n",
    "plt.title('MB LLaVA-1.6')\n",
    "plt.show()"
   ]
  },
  {
   "cell_type": "markdown",
   "id": "9ce6ef64",
   "metadata": {},
   "source": [
    "# Vila1.5"
   ]
  },
  {
   "cell_type": "code",
   "execution_count": 26,
   "id": "64399c53",
   "metadata": {},
   "outputs": [],
   "source": [
    "error = []\n",
    "refine = []\n",
    "rerun = []\n",
    "bad_quality = []\n",
    "for pair in vila:\n",
    "    new = deepcopy(pair)\n",
    "\n",
    "    # skip bad-quality samples\n",
    "    if pair['Quality'] == \"bad\" :\n",
    "        bad_quality.append(new)\n",
    "        continue\n",
    "\n",
    "    # Make prediction lower case\n",
    "    pred = new['vila_answer']\n",
    "\n",
    "    if type(pred) == dict:\n",
    "        error.append(pair)\n",
    "    else:\n",
    "        new['vila_answer'] = pred.lower().strip()\n",
    "        refine.append(new)"
   ]
  },
  {
   "cell_type": "code",
   "execution_count": 27,
   "id": "7043a4af",
   "metadata": {},
   "outputs": [
    {
     "data": {
      "text/plain": [
       "39"
      ]
     },
     "execution_count": 27,
     "metadata": {},
     "output_type": "execute_result"
    }
   ],
   "source": [
    "len(bad_quality)"
   ]
  },
  {
   "cell_type": "code",
   "execution_count": 28,
   "id": "0b02257e",
   "metadata": {},
   "outputs": [
    {
     "data": {
      "text/plain": [
       "0"
      ]
     },
     "execution_count": 28,
     "metadata": {},
     "output_type": "execute_result"
    }
   ],
   "source": [
    "len(error)"
   ]
  },
  {
   "cell_type": "code",
   "execution_count": 29,
   "id": "32037552",
   "metadata": {},
   "outputs": [
    {
     "data": {
      "text/plain": [
       "888"
      ]
     },
     "execution_count": 29,
     "metadata": {},
     "output_type": "execute_result"
    }
   ],
   "source": [
    "len(refine)"
   ]
  },
  {
   "cell_type": "code",
   "execution_count": 30,
   "id": "4b2be79e",
   "metadata": {},
   "outputs": [],
   "source": [
    "#error = []\n",
    "correct_pred = []\n",
    "wrong_pred = []\n",
    "gt = []\n",
    "correct = []\n",
    "wrong = []\n",
    "\n",
    "for pair in refine:\n",
    "    gt.append(pair['Answeer'])\n",
    "    # if pair['vila_answer'] not in ('Left', \"Right\"):\n",
    "    #     # print(pair)\n",
    "    #     error.append(pair)\n",
    "    #     continue\n",
    "    if pair['Answeer'] == pair['vila_answer']:\n",
    "            correct.append(pair)\n",
    "            correct_pred.append(pair['vila_answer'])\n",
    "    elif pair['Answeer'] != pair['vila_answer']:\n",
    "            wrong.append(pair)\n",
    "            wrong_pred.append(pair['vila_answer'])\n",
    "    else:\n",
    "        print('fuck')"
   ]
  },
  {
   "cell_type": "code",
   "execution_count": 31,
   "id": "2265e61a",
   "metadata": {},
   "outputs": [
    {
     "data": {
      "text/plain": [
       "0.49211711711711714"
      ]
     },
     "execution_count": 31,
     "metadata": {},
     "output_type": "execute_result"
    }
   ],
   "source": [
    "len(correct) / (len(correct) + len(wrong))"
   ]
  },
  {
   "cell_type": "code",
   "execution_count": 32,
   "id": "b9f378d1",
   "metadata": {},
   "outputs": [
    {
     "data": {
      "image/png": "[encoded data removed]",
      "text/plain": [
       "<Figure size 640x480 with 1 Axes>"
      ]
     },
     "metadata": {},
     "output_type": "display_data"
    }
   ],
   "source": [
    "sizes = [len(correct), len(wrong), len(error)]\n",
    "# Labels with percentages and exact counts\n",
    "labels = [f'Correct - {sizes[0]} items ({sizes[0]/sum(sizes)*100:.2f}%)',\n",
    "          f'Wrong - {sizes[1]} items ({sizes[1]/sum(sizes)*100:.2f}%)', \n",
    "         f'Error - {sizes[2]} items ({sizes[2]/sum(sizes)*100:.2f}%)', \n",
    "         ]\n",
    "\n",
    "# Colors for each section\n",
    "colors = ['gold', 'yellowgreen', 'lightcoral']\n",
    "\n",
    "# Plotting the pie chart\n",
    "plt.pie(sizes, labels=labels, colors=colors, autopct='%1.1f%%', startangle=140)\n",
    "plt.axis('equal')  # Equal aspect ratio ensures that pie is drawn as a circle.\n",
    "plt.title('MB Vila1.5')\n",
    "plt.show()"
   ]
  }
 ],
 "metadata": {
  "kernelspec": {
   "display_name": "Python 3 (ipykernel)",
   "language": "python",
   "name": "python3"
  },
  "language_info": {
   "codemirror_mode": {
    "name": "ipython",
    "version": 3
   },
   "file_extension": ".py",
   "mimetype": "text/x-python",
   "name": "python",
   "nbconvert_exporter": "python",
   "pygments_lexer": "ipython3",
   "version": "3.9.6"
  },
  "vscode": {
   "interpreter": {
    "hash": "9e661d40c8188a26cf79371062655916cda7c58b8d0eda8499f8a3a5b7eb1ad0"
   }
  }
 },
 "nbformat": 4,
 "nbformat_minor": 5
}
