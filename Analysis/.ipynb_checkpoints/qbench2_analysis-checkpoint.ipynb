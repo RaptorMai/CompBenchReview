{
 "cells": [
  {
   "cell_type": "code",
   "execution_count": 53,
   "id": "bc188462",
   "metadata": {},
   "outputs": [],
   "source": [
    "import os\n",
    "import json\n",
    "from collections import defaultdict\n",
    "from collections import Counter\n",
    "from copy import deepcopy\n",
    "import matplotlib.pyplot as plt\n",
    "import string\n",
    "from string import punctuation"
   ]
  },
  {
   "cell_type": "code",
   "execution_count": 2,
   "id": "3c1ba1c4",
   "metadata": {},
   "outputs": [],
   "source": [
    "RESULTS = '../results/qbench2'"
   ]
  },
  {
   "cell_type": "code",
   "execution_count": 3,
   "id": "54f38692",
   "metadata": {},
   "outputs": [],
   "source": [
    "gpt = json.load(open(f'{RESULTS}/gpt.json'))"
   ]
  },
  {
   "cell_type": "code",
   "execution_count": 4,
   "id": "1d287400",
   "metadata": {},
   "outputs": [],
   "source": [
    "gemini = json.load(open(f'{RESULTS}/gemini.json'))"
   ]
  },
  {
   "cell_type": "code",
   "execution_count": 5,
   "id": "9398f998",
   "metadata": {},
   "outputs": [],
   "source": [
    "llava = [json.loads(q) for q in open(os.path.expanduser(f'{RESULTS}/llava.jsonl'), \"r\")]"
   ]
  },
  {
   "cell_type": "markdown",
   "id": "4316141c",
   "metadata": {},
   "source": [
    "# GPT"
   ]
  },
  {
   "cell_type": "code",
   "execution_count": 55,
   "id": "e32db5eb",
   "metadata": {},
   "outputs": [],
   "source": [
    "def cal_acc(key, data):\n",
    "    correct = []\n",
    "    wrong = []\n",
    "    invalid = []\n",
    "    error = []\n",
    "    c = 0\n",
    "    for i in data:\n",
    "        c += 1\n",
    "        if isinstance(i[key], dict):\n",
    "            error.append(i)\n",
    "            continue\n",
    "        pred = i[key].lstrip(' ').rstrip(' ').lower().strip(punctuation)\n",
    "        gt = i['answer'].lstrip(' ').rstrip(' ').lower().strip(punctuation)\n",
    "        options = [j.lstrip(' ').rstrip(' ').lower() for j in i['option']] + ['none']\n",
    "\n",
    "        if 'error' in pred:\n",
    "            error.append(i)\n",
    "        elif pred not in options:\n",
    "            invalid.append(i)\n",
    "        else:\n",
    "            if pred == gt:\n",
    "                correct.append(i)\n",
    "            else:\n",
    "                wrong.append(i)\n",
    "    return correct, wrong, invalid, error, c"
   ]
  },
  {
   "cell_type": "code",
   "execution_count": 73,
   "id": "5030a511",
   "metadata": {},
   "outputs": [],
   "source": [
    "correct, wrong, invalid, error, c = cal_acc('gpt_answer', gpt)"
   ]
  },
  {
   "cell_type": "code",
   "execution_count": 54,
   "id": "c3c3134a",
   "metadata": {},
   "outputs": [],
   "source": [
    "# error = []\n",
    "# correct_pred = []\n",
    "# wrong_pred = []\n",
    "# gt = []\n",
    "# correct = []\n",
    "# wrong = []\n",
    "\n",
    "# for pair in gpt:\n",
    "#     gt.append(pair['answer'])\n",
    "#     # if pair['gpt_answer'] not in ('Left', \"Right\"):\n",
    "#     #     # print(pair)\n",
    "#     #     error.append(pair)\n",
    "#     #     continue\n",
    "#     if pair['answer'] == pair['gpt_answer']:\n",
    "#             correct.append(pair)\n",
    "#             correct_pred.append(pair['gpt_answer'])\n",
    "#     elif pair['answer'] != pair['gpt_answer']:\n",
    "#             wrong.append(pair)\n",
    "#             wrong_pred.append(pair['gpt_answer'])\n",
    "#     else:\n",
    "#         print('fuck')"
   ]
  },
  {
   "cell_type": "code",
   "execution_count": 42,
   "id": "c04af309",
   "metadata": {},
   "outputs": [
    {
     "data": {
      "text/plain": [
       "0.731"
      ]
     },
     "execution_count": 42,
     "metadata": {},
     "output_type": "execute_result"
    }
   ],
   "source": [
    "len(correct) / (len(correct) + len(wrong))"
   ]
  },
  {
   "cell_type": "code",
   "execution_count": 75,
   "id": "226af34a",
   "metadata": {},
   "outputs": [
    {
     "data": {
      "image/png": "[encoded data removed]",
      "text/plain": [
       "<Figure size 432x288 with 1 Axes>"
      ]
     },
     "metadata": {},
     "output_type": "display_data"
    }
   ],
   "source": [
    "sizes = [len(correct), len(wrong), len(error), len(invalid)]\n",
    "# Labels with percentages and exact counts\n",
    "labels = [f'Correct - {sizes[0]} items ({sizes[0]/sum(sizes)*100:.2f}%)',\n",
    "          f'Wrong - {sizes[1]} items ({sizes[1]/sum(sizes)*100:.2f}%)', \n",
    "         f'Error - {sizes[2]} items ({sizes[2]/sum(sizes)*100:.2f}%)', \n",
    "          f'Invalid - {sizes[3]} items ({sizes[3]/sum(sizes)*100:.2f}%)', \n",
    "         ]\n",
    "\n",
    "# Colors for each section\n",
    "colors = ['gold', 'yellowgreen', 'lightcoral', 'pink']\n",
    "\n",
    "# Plotting the pie chart\n",
    "plt.pie(sizes, labels=labels, colors=colors, autopct='%1.1f%%', startangle=140)\n",
    "plt.axis('equal')  # Equal aspect ratio ensures that pie is drawn as a circle.\n",
    "plt.title('Qbench2 GPT')\n",
    "plt.show()"
   ]
  },
  {
   "cell_type": "markdown",
   "id": "b7a04ace",
   "metadata": {},
   "source": [
    "# Gemini"
   ]
  },
  {
   "cell_type": "code",
   "execution_count": 59,
   "id": "7ed13cf2",
   "metadata": {},
   "outputs": [],
   "source": [
    "error = []\n",
    "refine = []\n",
    "rerun = []\n",
    "for pair in gemini:\n",
    "    new = deepcopy(pair)\n",
    "\n",
    "    # Remove space, punctuation from prediction \n",
    "    pred = new['gemini_answer']\n",
    "    pred = pred.strip()\n",
    "    pred = pred.translate(str.maketrans('','',string.punctuation))\n",
    "    new['gemini_answer'] = pred\n",
    "    \n",
    "    refine.append(new)\n",
    "    \n",
    "        "
   ]
  },
  {
   "cell_type": "code",
   "execution_count": 63,
   "id": "d50fecc6",
   "metadata": {},
   "outputs": [],
   "source": [
    "\n",
    "correct_pred = []\n",
    "wrong_pred = []\n",
    "gt = []\n",
    "correct = []\n",
    "wrong = []\n",
    "\n",
    "for pair in refine:\n",
    "    gt.append(pair['answer'])\n",
    "    # if pair['gemini_answer'] not in ('Left', \"Right\"):\n",
    "    #     # print(pair)\n",
    "    #     error.append(pair)\n",
    "    #     continue\n",
    "    if pair['answer'] == pair['gemini_answer']:\n",
    "            correct.append(pair)\n",
    "            correct_pred.append(pair['gemini_answer'])\n",
    "    elif 'Error' in pair['gemini_answer']:\n",
    "            error.append(pair)\n",
    "    elif pair['answer'] != pair['gemini_answer']:\n",
    "            wrong.append(pair)\n",
    "            wrong_pred.append(pair['gemini_answer'])\n",
    "\n",
    "    else:\n",
    "        print('fuck')\n",
    "\n"
   ]
  },
  {
   "cell_type": "code",
   "execution_count": 64,
   "id": "e25367eb",
   "metadata": {},
   "outputs": [
    {
     "data": {
      "text/plain": [
       "0.5935613682092555"
      ]
     },
     "execution_count": 64,
     "metadata": {},
     "output_type": "execute_result"
    }
   ],
   "source": [
    "len(correct) / (len(correct) + len(wrong))"
   ]
  },
  {
   "cell_type": "code",
   "execution_count": null,
   "id": "ec7dcedb",
   "metadata": {},
   "outputs": [],
   "source": []
  },
  {
   "cell_type": "code",
   "execution_count": 66,
   "id": "9951b755",
   "metadata": {},
   "outputs": [],
   "source": [
    "correct, wrong, invalid, error, c = cal_acc('gemini_answer', gemini)"
   ]
  },
  {
   "cell_type": "code",
   "execution_count": 71,
   "id": "23a9e690",
   "metadata": {},
   "outputs": [
    {
     "data": {
      "image/png": "[encoded data removed]",
      "text/plain": [
       "<Figure size 432x288 with 1 Axes>"
      ]
     },
     "metadata": {},
     "output_type": "display_data"
    }
   ],
   "source": [
    "sizes = [len(correct), len(wrong), len(error), len(invalid)]\n",
    "# Labels with percentages and exact counts\n",
    "labels = [f'Correct - {sizes[0]} items ({sizes[0]/sum(sizes)*100:.2f}%)',\n",
    "          f'Wrong - {sizes[1]} items ({sizes[1]/sum(sizes)*100:.2f}%)', \n",
    "         f'Error - {sizes[2]} items ({sizes[2]/sum(sizes)*100:.2f}%)', \n",
    "          f'Invalid - {sizes[3]} items ({sizes[3]/sum(sizes)*100:.2f}%)', \n",
    "         ]\n",
    "\n",
    "# Colors for each section\n",
    "colors = ['gold', 'yellowgreen', 'lightcoral', 'blue']\n",
    "\n",
    "# Plotting the pie chart\n",
    "plt.pie(sizes, labels=labels, colors=colors, autopct='%1.1f%%', startangle=140)\n",
    "plt.axis('equal')  # Equal aspect ratio ensures that pie is drawn as a circle.\n",
    "plt.title('Qbench2 Gemini')\n",
    "plt.show()"
   ]
  },
  {
   "cell_type": "markdown",
   "id": "3f649018",
   "metadata": {},
   "source": [
    "# LLaVA-1.6"
   ]
  },
  {
   "cell_type": "code",
   "execution_count": 35,
   "id": "d3865575",
   "metadata": {},
   "outputs": [],
   "source": [
    "error = []\n",
    "correct_pred = []\n",
    "wrong_pred = []\n",
    "gt = []\n",
    "correct = []\n",
    "wrong = []\n",
    "\n",
    "for pair in llava:\n",
    "    gt.append(pair['answer'])\n",
    "    # if pair['llava_answer'] not in ('Left', \"Right\"):\n",
    "    #     # print(pair)\n",
    "    #     error.append(pair)\n",
    "    #     continue\n",
    "    if pair['answer'] == pair['llava_answer']:\n",
    "            correct.append(pair)\n",
    "            correct_pred.append(pair['llava_answer'])\n",
    "    elif pair['answer'] != pair['llava_answer']:\n",
    "            wrong.append(pair)\n",
    "            wrong_pred.append(pair['llava_answer'])\n",
    "    else:\n",
    "        print('fuck')"
   ]
  },
  {
   "cell_type": "code",
   "execution_count": 36,
   "id": "adad2178",
   "metadata": {},
   "outputs": [
    {
     "data": {
      "text/plain": [
       "0.612"
      ]
     },
     "execution_count": 36,
     "metadata": {},
     "output_type": "execute_result"
    }
   ],
   "source": [
    "len(correct) / (len(correct) + len(wrong))"
   ]
  },
  {
   "cell_type": "code",
   "execution_count": 39,
   "id": "ae766eb8",
   "metadata": {},
   "outputs": [
    {
     "data": {
      "image/png": "[encoded data removed]",
      "text/plain": [
       "<Figure size 640x480 with 1 Axes>"
      ]
     },
     "metadata": {},
     "output_type": "display_data"
    }
   ],
   "source": [
    "sizes = [len(correct), len(wrong), len(error)]\n",
    "# Labels with percentages and exact counts\n",
    "labels = [f'Correct - {sizes[0]} items ({sizes[0]/sum(sizes)*100:.2f}%)',\n",
    "          f'Wrong - {sizes[1]} items ({sizes[1]/sum(sizes)*100:.2f}%)', \n",
    "         f'Error - {sizes[2]} items ({sizes[2]/sum(sizes)*100:.2f}%)', \n",
    "         ]\n",
    "\n",
    "# Colors for each section\n",
    "colors = ['gold', 'yellowgreen', 'lightcoral']\n",
    "\n",
    "# Plotting the pie chart\n",
    "plt.pie(sizes, labels=labels, colors=colors, autopct='%1.1f%%', startangle=140)\n",
    "plt.axis('equal')  # Equal aspect ratio ensures that pie is drawn as a circle.\n",
    "plt.title('Qbench2 LLaVa-1.6')\n",
    "plt.show()"
   ]
  }
 ],
 "metadata": {
  "kernelspec": {
   "display_name": "Python 3 (ipykernel)",
   "language": "python",
   "name": "python3"
  },
  "language_info": {
   "codemirror_mode": {
    "name": "ipython",
    "version": 3
   },
   "file_extension": ".py",
   "mimetype": "text/x-python",
   "name": "python",
   "nbconvert_exporter": "python",
   "pygments_lexer": "ipython3",
   "version": "3.9.6"
  },
  "vscode": {
   "interpreter": {
    "hash": "9e661d40c8188a26cf79371062655916cda7c58b8d0eda8499f8a3a5b7eb1ad0"
   }
  }
 },
 "nbformat": 4,
 "nbformat_minor": 5
}
