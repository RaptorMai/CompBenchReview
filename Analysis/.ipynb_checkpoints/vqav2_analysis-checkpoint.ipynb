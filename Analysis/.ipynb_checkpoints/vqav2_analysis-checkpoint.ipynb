{
 "cells": [
  {
   "cell_type": "code",
   "execution_count": 2,
   "id": "4046cf8e",
   "metadata": {},
   "outputs": [],
   "source": [
    "import matplotlib.pyplot as plt\n",
    "from matplotlib.pyplot import imshow\n",
    "import matplotlib.image as mpimg\n",
    "import json\n",
    "from copy import deepcopy\n",
    "import random\n",
    "from collections import Counter\n",
    "import os"
   ]
  },
  {
   "cell_type": "markdown",
   "id": "7c94da1e",
   "metadata": {},
   "source": [
    "# GPT"
   ]
  },
  {
   "cell_type": "code",
   "execution_count": 23,
   "id": "d825b49c",
   "metadata": {},
   "outputs": [],
   "source": [
    "# gpt = json.load(open('../results/vqav2/results_cap_50_gpt.json'))"
   ]
  },
  {
   "cell_type": "code",
   "execution_count": 31,
   "id": "55e84d97",
   "metadata": {},
   "outputs": [],
   "source": [
    "gpt_rerun = json.load(open('../results/vqav2/results_cap_50_rerun_gpt.json'))"
   ]
  },
  {
   "cell_type": "code",
   "execution_count": 32,
   "id": "1089d0b9",
   "metadata": {},
   "outputs": [],
   "source": [
    "gpt_refine = json.load(open('../results/vqav2/results_cap_50_refine_gpt.json'))"
   ]
  },
  {
   "cell_type": "code",
   "execution_count": 33,
   "id": "a0288aae",
   "metadata": {},
   "outputs": [],
   "source": [
    "gpt = gpt_rerun + gpt_refine"
   ]
  },
  {
   "cell_type": "code",
   "execution_count": 44,
   "id": "42fa12e1",
   "metadata": {},
   "outputs": [],
   "source": [
    "# with open('../results/vqav2/results_cap_50_gpt.json', 'w') as fout:\n",
    "#     json.dump(gpt, fout)"
   ]
  },
  {
   "cell_type": "code",
   "execution_count": 34,
   "id": "b3324eee",
   "metadata": {},
   "outputs": [
    {
     "data": {
      "text/plain": [
       "9766"
      ]
     },
     "execution_count": 34,
     "metadata": {},
     "output_type": "execute_result"
    }
   ],
   "source": [
    "len(gpt)"
   ]
  },
  {
   "cell_type": "code",
   "execution_count": 36,
   "id": "b5e9886e",
   "metadata": {},
   "outputs": [
    {
     "name": "stdout",
     "output_type": "stream",
     "text": [
      "{'image_1': 'val2014/285/520427.jpg', 'image_2': 'val2014/285/256505.jpg', 'answer': 'Right', 'folder': '285', 'question': 'Which image has more people in the photo?', 'gpt_answer': {'error': {'message': \"You uploaded an unsupported image. Please make sure your image is below 20 MB in size and is of one the following formats: ['png', 'jpeg', 'gif', 'webp'].\", 'type': 'invalid_request_error', 'param': None, 'code': 'sanitizer_server_error'}}}\n",
      "{'image_1': 'val2014/9/417857.jpg', 'image_2': 'val2014/9/538414.jpg', 'answer': 'Same', 'folder': '9', 'question': 'Which image has more people on the field?', 'gpt_answer': {'error': {'message': 'The server had an error processing your request. Sorry about that! You can retry your request, or contact us through our help center at help.openai.com if you keep seeing this error. (Please include the request ID req_93d0ffd9589c09db4f8aecb72fec9fb2 in your email.)', 'type': 'server_error', 'param': None, 'code': None}}}\n",
      "{'image_1': 'val2014/2372/24553.jpg', 'image_2': 'val2014/2372/129862.jpg', 'answer': 'Left', 'folder': '2372', 'question': 'Which image has more persons in the photo?', 'gpt_answer': {'error': {'message': 'The server had an error processing your request. Sorry about that! You can retry your request, or contact us through our help center at help.openai.com if you keep seeing this error. (Please include the request ID req_3ab907ea4b6c3f40d5f310746a0d8c19 in your email.)', 'type': 'server_error', 'param': None, 'code': None}}}\n",
      "{'image_1': 'val2014/1682/61566.jpg', 'image_2': 'val2014/1682/491169.jpg', 'answer': 'Right', 'folder': '1682', 'question': 'Which image has more people in the background?', 'gpt_answer': {'error': {'message': 'The server had an error while processing your request. Sorry about that! You can retry your request, or contact us through our help center at help.openai.com if the error persists. (Please include the request ID req_68155b1b131ca870b6740410561530a0 in your message.)', 'type': None, 'param': None, 'code': None}}}\n",
      "{'image_1': 'val2014/5765/80045.jpg', 'image_2': 'val2014/5765/118134.jpg', 'answer': 'Same', 'folder': '5765', 'question': 'Which image has more figures around the clock?', 'gpt_answer': {'error': {'message': \"You uploaded an unsupported image. Please make sure your image is below 20 MB in size and is of one the following formats: ['png', 'jpeg', 'gif', 'webp'].\", 'type': 'invalid_request_error', 'param': None, 'code': 'sanitizer_server_error'}}}\n"
     ]
    }
   ],
   "source": [
    "refine = []\n",
    "rerun = []\n",
    "error = []\n",
    "for pair in gpt:\n",
    "    new = deepcopy(pair)\n",
    "    if pair['gpt_answer'] == None :\n",
    "        rerun.append(pair)\n",
    "    elif 'Right' in pair['gpt_answer']:\n",
    "        new['gpt_answer'] = 'Right'\n",
    "        refine.append(new)\n",
    "    elif 'Same' in pair['gpt_answer']:\n",
    "        new['gpt_answer'] = 'Same'\n",
    "        refine.append(new)\n",
    "    elif 'Left' in pair['gpt_answer']:\n",
    "        new['gpt_answer'] = 'Left'\n",
    "        refine.append(new)\n",
    "    else:\n",
    "        error.append(pair)\n",
    "        print(pair)"
   ]
  },
  {
   "cell_type": "code",
   "execution_count": 38,
   "id": "30dd35be",
   "metadata": {},
   "outputs": [],
   "source": [
    "#error = []\n",
    "correct_pred = []\n",
    "wrong_pred = []\n",
    "gt = []\n",
    "correct = []\n",
    "wrong = []\n",
    "\n",
    "for pair in refine:\n",
    "    gt.append(pair['answer'])\n",
    "    # if pair['gpt_answer'] not in ('Left', \"Right\"):\n",
    "    #     # print(pair)\n",
    "    #     error.append(pair)\n",
    "    #     continue\n",
    "    if pair['answer'] == pair['gpt_answer']:\n",
    "            correct.append(pair)\n",
    "            correct_pred.append(pair['gpt_answer'])\n",
    "    elif pair['answer'] != pair['gpt_answer']:\n",
    "            wrong.append(pair)\n",
    "            wrong_pred.append(pair['gpt_answer'])\n",
    "    else:\n",
    "        print('fuck')"
   ]
  },
  {
   "cell_type": "code",
   "execution_count": 39,
   "id": "56ca784a",
   "metadata": {},
   "outputs": [
    {
     "data": {
      "text/plain": [
       "0.6400983505788341"
      ]
     },
     "execution_count": 39,
     "metadata": {},
     "output_type": "execute_result"
    }
   ],
   "source": [
    "len(correct) / (len(correct) + len(wrong))"
   ]
  },
  {
   "cell_type": "code",
   "execution_count": 40,
   "id": "c0c394b1",
   "metadata": {},
   "outputs": [
    {
     "data": {
      "text/plain": [
       "Counter({'Same': 956, 'Left': 4799, 'Right': 4006})"
      ]
     },
     "execution_count": 40,
     "metadata": {},
     "output_type": "execute_result"
    }
   ],
   "source": [
    "Counter(wrong_pred+correct_pred)"
   ]
  },
  {
   "cell_type": "code",
   "execution_count": 41,
   "id": "5fede0f8",
   "metadata": {},
   "outputs": [
    {
     "data": {
      "text/plain": [
       "9766"
      ]
     },
     "execution_count": 41,
     "metadata": {},
     "output_type": "execute_result"
    }
   ],
   "source": [
    "len(gpt)"
   ]
  },
  {
   "cell_type": "code",
   "execution_count": 42,
   "id": "41a1ebc5",
   "metadata": {},
   "outputs": [
    {
     "data": {
      "image/png": "[encoded data removed]",
      "text/plain": [
       "<Figure size 432x288 with 1 Axes>"
      ]
     },
     "metadata": {},
     "output_type": "display_data"
    }
   ],
   "source": [
    "sizes = [len(correct), len(wrong), len(error)]\n",
    "# Labels with percentages and exact counts\n",
    "labels = [f'Correct - {sizes[0]} items ({sizes[0]/sum(sizes)*100:.2f}%)',\n",
    "          f'Wrong - {sizes[1]} items ({sizes[1]/sum(sizes)*100:.2f}%)', \n",
    "         f'Error - {sizes[2]} items ({sizes[2]/sum(sizes)*100:.2f}%)', \n",
    "         ]\n",
    "\n",
    "# Colors for each section\n",
    "colors = ['gold', 'yellowgreen', 'lightcoral']\n",
    "\n",
    "# Plotting the pie chart\n",
    "plt.pie(sizes, labels=labels, colors=colors, autopct='%1.1f%%', startangle=140)\n",
    "plt.axis('equal')  # Equal aspect ratio ensures that pie is drawn as a circle.\n",
    "plt.title('VQAv2 GPT')\n",
    "plt.show()"
   ]
  },
  {
   "cell_type": "markdown",
   "id": "127ffe62",
   "metadata": {},
   "source": [
    "# analysis"
   ]
  },
  {
   "cell_type": "code",
   "execution_count": 56,
   "id": "754305c9",
   "metadata": {},
   "outputs": [],
   "source": [
    "data = correct"
   ]
  },
  {
   "cell_type": "code",
   "execution_count": 57,
   "id": "1a4fadda",
   "metadata": {},
   "outputs": [],
   "source": [
    "idx = random.randint(0, len(data)-1)\n",
    "print(idx)\n",
    "sample = data[idx]\n",
    "f, axarr = plt.subplots(1, 2, figsize=(15, 15))\n",
    "f.tight_layout(pad=5.0)\n",
    "axarr[0].imshow(mpimg.imread(sample['image_1']))\n",
    "axarr[1].imshow(mpimg.imread(sample['image_2']))\n",
    "print(sample['question'])\n",
    "print(f'answer: {sample[\"answer\"]}')\n",
    "print(f'GPT answer: {sample[\"gpt_answer\"]}')"
   ]
  },
  {
   "cell_type": "markdown",
   "id": "e03fbab0",
   "metadata": {},
   "source": [
    "# Gemini\n"
   ]
  },
  {
   "cell_type": "code",
   "execution_count": 45,
   "id": "caafb08a",
   "metadata": {},
   "outputs": [],
   "source": [
    "results = json.load(open('../results/vqav2/results_cap_50_gemini.json'))"
   ]
  },
  {
   "cell_type": "code",
   "execution_count": 46,
   "id": "5e5441e8",
   "metadata": {},
   "outputs": [
    {
     "data": {
      "text/plain": [
       "9766"
      ]
     },
     "execution_count": 46,
     "metadata": {},
     "output_type": "execute_result"
    }
   ],
   "source": [
    "len(results)"
   ]
  },
  {
   "cell_type": "code",
   "execution_count": 47,
   "id": "7a79c134",
   "metadata": {},
   "outputs": [],
   "source": [
    "key = 'gemini_answer'"
   ]
  },
  {
   "cell_type": "code",
   "execution_count": 52,
   "id": "7fe087bc",
   "metadata": {},
   "outputs": [
    {
     "name": "stdout",
     "output_type": "stream",
     "text": [
      "{'image_1': 'val2014/5840/259761.jpg', 'image_2': 'val2014/5840/83134.jpg', 'answer': 'Left', 'folder': '5840', 'question': 'Which image has more kids pictured?', 'gemini_answer': 'Gemini Error'}\n",
      "{'image_1': 'val2014/2561/504891.jpg', 'image_2': 'val2014/2561/152823.jpg', 'answer': 'Left', 'folder': '2561', 'question': 'Which image has more chicks?', 'gemini_answer': 'Gemini Error'}\n",
      "{'image_1': 'val2014/3144/421146.jpg', 'image_2': 'val2014/3144/553954.jpg', 'answer': 'Right', 'folder': '3144', 'question': 'Which image has more spectators?', 'gemini_answer': 'Gemini Error'}\n",
      "{'image_1': 'val2014/3144/553954.jpg', 'image_2': 'val2014/3144/180045.jpg', 'answer': 'Left', 'folder': '3144', 'question': 'Which image has more spectators?', 'gemini_answer': 'Gemini Error'}\n",
      "{'image_1': 'val2014/3667/518721.jpg', 'image_2': 'val2014/3667/166060.jpg', 'answer': 'Right', 'folder': '3667', 'question': \"Which image has more spots on the giraffe's body?\", 'gemini_answer': 'Gemini Error'}\n",
      "{'image_1': 'val2014/1672/557916.jpg', 'image_2': 'val2014/1672/12085.jpg', 'answer': 'Same', 'folder': '1672', 'question': 'Which image has more pillows?', 'gemini_answer': 'Gemini Error'}\n",
      "{'image_1': 'val2014/1672/557107.jpg', 'image_2': 'val2014/1672/12085.jpg', 'answer': 'Left', 'folder': '1672', 'question': 'Which image has more pillows?', 'gemini_answer': 'Gemini Error'}\n",
      "{'image_1': 'val2014/1672/575079.jpg', 'image_2': 'val2014/1672/557107.jpg', 'answer': 'Right', 'folder': '1672', 'question': 'Which image has more pillows?', 'gemini_answer': 'Gemini Error'}\n",
      "{'image_1': 'val2014/1672/575079.jpg', 'image_2': 'val2014/1672/557916.jpg', 'answer': 'Right', 'folder': '1672', 'question': 'Which image has more pillows?', 'gemini_answer': 'Gemini Error'}\n",
      "{'image_1': 'val2014/1672/351626.jpg', 'image_2': 'val2014/1672/557916.jpg', 'answer': 'Left', 'folder': '1672', 'question': 'Which image has more pillows?', 'gemini_answer': 'Gemini Error'}\n",
      "{'image_1': 'val2014/1672/578654.jpg', 'image_2': 'val2014/1672/557916.jpg', 'answer': 'Left', 'folder': '1672', 'question': 'Which image has more pillows?', 'gemini_answer': 'Gemini Error'}\n",
      "{'image_1': 'val2014/1672/557107.jpg', 'image_2': 'val2014/1672/351626.jpg', 'answer': 'Same', 'folder': '1672', 'question': 'Which image has more pillows?', 'gemini_answer': 'Gemini Error'}\n",
      "{'image_1': 'val2014/1672/557916.jpg', 'image_2': 'val2014/1672/483050.jpg', 'answer': 'Right', 'folder': '1672', 'question': 'Which image has more pillows?', 'gemini_answer': 'Gemini Error'}\n",
      "{'image_1': 'val2014/1672/557107.jpg', 'image_2': 'val2014/1672/557916.jpg', 'answer': 'Left', 'folder': '1672', 'question': 'Which image has more pillows?', 'gemini_answer': 'Gemini Error'}\n",
      "{'image_1': 'val2014/1672/578654.jpg', 'image_2': 'val2014/1672/557107.jpg', 'answer': 'Left', 'folder': '1672', 'question': 'Which image has more pillows?', 'gemini_answer': 'Gemini Error'}\n",
      "{'image_1': 'val2014/1672/557107.jpg', 'image_2': 'val2014/1672/483050.jpg', 'answer': 'Same', 'folder': '1672', 'question': 'Which image has more pillows?', 'gemini_answer': 'Gemini Error'}\n",
      "{'image_1': 'val2014/4630/443769.jpg', 'image_2': 'val2014/4630/499631.jpg', 'answer': 'Left', 'folder': '4630', 'question': 'Which image has more teddies?', 'gemini_answer': 'Gemini Error'}\n"
     ]
    }
   ],
   "source": [
    "refine = []\n",
    "rerun = []\n",
    "error = []\n",
    "for pair in results:\n",
    "    new = deepcopy(pair)\n",
    "    if pair[key] == None :\n",
    "        rerun.append(pair)\n",
    "    elif 'Right' in pair[key]:\n",
    "        new[key] = 'Right'\n",
    "        refine.append(new)\n",
    "    elif 'Same' in pair[key]:\n",
    "        new[key] = 'Same'\n",
    "        refine.append(new)\n",
    "    elif 'Left' in pair[key]:\n",
    "        new[key] = 'Left'\n",
    "        refine.append(new)\n",
    "    else:\n",
    "        error.append(pair)\n",
    "        print(pair)\n",
    "        "
   ]
  },
  {
   "cell_type": "code",
   "execution_count": 53,
   "id": "34f37df5",
   "metadata": {},
   "outputs": [],
   "source": [
    "correct = []\n",
    "wrong = []\n",
    "\n",
    "for pair in refine:\n",
    "    if pair[key] == pair['answer']:\n",
    "        correct.append(pair)\n",
    "    elif pair[key] not in ['Left', 'Same', 'Right']:\n",
    "        print(pair)\n",
    "    else:\n",
    "        wrong.append(pair)"
   ]
  },
  {
   "cell_type": "code",
   "execution_count": 54,
   "id": "b27b944f",
   "metadata": {},
   "outputs": [
    {
     "data": {
      "image/png": "[encoded data removed]",
      "text/plain": [
       "<Figure size 432x288 with 1 Axes>"
      ]
     },
     "metadata": {},
     "output_type": "display_data"
    }
   ],
   "source": [
    "sizes = [len(correct), len(wrong), len(error)]\n",
    "# Labels with percentages and exact counts\n",
    "labels = [f'Correct - {sizes[0]} items ({sizes[0]/sum(sizes)*100:.2f}%)',\n",
    "          f'Wrong - {sizes[1]} items ({sizes[1]/sum(sizes)*100:.2f}%)', \n",
    "         f'Error - {sizes[2]} items ({sizes[2]/sum(sizes)*100:.2f}%)', \n",
    "         ]\n",
    "\n",
    "# Colors for each section\n",
    "colors = ['gold', 'yellowgreen', 'lightcoral']\n",
    "\n",
    "# Plotting the pie chart\n",
    "plt.pie(sizes, labels=labels, colors=colors, autopct='%1.1f%%', startangle=140)\n",
    "plt.axis('equal')  # Equal aspect ratio ensures that pie is drawn as a circle.\n",
    "plt.title('VQAv2 Gemini')\n",
    "plt.show()"
   ]
  },
  {
   "cell_type": "code",
   "execution_count": 15,
   "id": "cfcb3420",
   "metadata": {},
   "outputs": [],
   "source": [
    "data = wrong"
   ]
  },
  {
   "cell_type": "code",
   "execution_count": 17,
   "id": "9ee696c9",
   "metadata": {},
   "outputs": [],
   "source": [
    "idx = random.randint(0, len(data)-1)\n",
    "print(idx)\n",
    "sample = data[idx]\n",
    "f, axarr = plt.subplots(1, 2, figsize=(15, 15))\n",
    "f.tight_layout(pad=5.0)\n",
    "axarr[0].imshow(mpimg.imread(sample['image_1']))\n",
    "axarr[1].imshow(mpimg.imread(sample['image_2']))\n",
    "print(sample['question'])\n",
    "print(f'answer: {sample[\"answer\"]}')\n",
    "print(f'Gemini answer: {sample[key]}')"
   ]
  },
  {
   "cell_type": "code",
   "execution_count": null,
   "id": "550bd1c8",
   "metadata": {},
   "outputs": [],
   "source": []
  },
  {
   "cell_type": "markdown",
   "id": "cff3767f",
   "metadata": {},
   "source": [
    "# LLaVA-1.6"
   ]
  },
  {
   "cell_type": "code",
   "execution_count": 30,
   "id": "b05b5e79",
   "metadata": {},
   "outputs": [],
   "source": [
    "llava = [json.loads(q) for q in open(os.path.expanduser('../results/vqav2/results_cap_50_llava.jsonl'), \"r\")]"
   ]
  },
  {
   "cell_type": "code",
   "execution_count": 32,
   "id": "11d96bcf",
   "metadata": {},
   "outputs": [],
   "source": [
    "refine = []\n",
    "rerun = []\n",
    "error = []\n",
    "for pair in llava:\n",
    "    new = deepcopy(pair)\n",
    "    if pair['llava_answer'] == None :\n",
    "        rerun.append(pair)\n",
    "    elif 'Right' in pair['llava_answer']:\n",
    "        new['llava_answer'] = 'Right'\n",
    "        refine.append(new)\n",
    "    elif 'Same' in pair['llava_answer']:\n",
    "        new['llava_answer'] = 'Same'\n",
    "        refine.append(new)\n",
    "    elif 'Left' in pair['llava_answer']:\n",
    "        new['llava_answer'] = 'Left'\n",
    "        refine.append(new)\n",
    "    else:\n",
    "        error.append(pair)\n",
    "        print(pair)"
   ]
  },
  {
   "cell_type": "code",
   "execution_count": 37,
   "id": "e4af9d81",
   "metadata": {},
   "outputs": [
    {
     "data": {
      "text/plain": [
       "[]"
      ]
     },
     "execution_count": 37,
     "metadata": {},
     "output_type": "execute_result"
    }
   ],
   "source": [
    "error"
   ]
  },
  {
   "cell_type": "code",
   "execution_count": 33,
   "id": "b9a337b9",
   "metadata": {},
   "outputs": [],
   "source": [
    "#error = []\n",
    "correct_pred = []\n",
    "wrong_pred = []\n",
    "gt = []\n",
    "correct = []\n",
    "wrong = []\n",
    "\n",
    "for pair in refine:\n",
    "    gt.append(pair['answer'])\n",
    "    # if pair['llava_answer'] not in ('Left', \"Right\"):\n",
    "    #     # print(pair)\n",
    "    #     error.append(pair)\n",
    "    #     continue\n",
    "    if pair['answer'] == pair['llava_answer']:\n",
    "            correct.append(pair)\n",
    "            correct_pred.append(pair['llava_answer'])\n",
    "    elif pair['answer'] != pair['llava_answer']:\n",
    "            wrong.append(pair)\n",
    "            wrong_pred.append(pair['llava_answer'])\n",
    "    else:\n",
    "        print('fuck')"
   ]
  },
  {
   "cell_type": "code",
   "execution_count": 34,
   "id": "00b51640",
   "metadata": {},
   "outputs": [
    {
     "data": {
      "text/plain": [
       "0.4989760393200901"
      ]
     },
     "execution_count": 34,
     "metadata": {},
     "output_type": "execute_result"
    }
   ],
   "source": [
    "len(correct) / (len(correct) + len(wrong))"
   ]
  },
  {
   "cell_type": "code",
   "execution_count": 35,
   "id": "6fdee5e8",
   "metadata": {},
   "outputs": [
    {
     "data": {
      "text/plain": [
       "Counter({'Right': 4293, 'Same': 3785, 'Left': 1688})"
      ]
     },
     "execution_count": 35,
     "metadata": {},
     "output_type": "execute_result"
    }
   ],
   "source": [
    "Counter(wrong_pred+correct_pred)"
   ]
  },
  {
   "cell_type": "code",
   "execution_count": 36,
   "id": "5ce95bc6",
   "metadata": {},
   "outputs": [
    {
     "data": {
      "text/plain": [
       "9766"
      ]
     },
     "execution_count": 36,
     "metadata": {},
     "output_type": "execute_result"
    }
   ],
   "source": [
    "len(llava)"
   ]
  },
  {
   "cell_type": "code",
   "execution_count": 38,
   "id": "12bf672f",
   "metadata": {},
   "outputs": [
    {
     "data": {
      "image/png": "[encoded data removed]",
      "text/plain": [
       "<Figure size 640x480 with 1 Axes>"
      ]
     },
     "metadata": {},
     "output_type": "display_data"
    }
   ],
   "source": [
    "sizes = [len(correct), len(wrong), len(error)]\n",
    "# Labels with percentages and exact counts\n",
    "labels = [f'Correct - {sizes[0]} items ({sizes[0]/sum(sizes)*100:.2f}%)',\n",
    "          f'Wrong - {sizes[1]} items ({sizes[1]/sum(sizes)*100:.2f}%)', \n",
    "         f'Error - {sizes[2]} items ({sizes[2]/sum(sizes)*100:.2f}%)', \n",
    "         ]\n",
    "\n",
    "# Colors for each section\n",
    "colors = ['gold', 'yellowgreen', 'lightcoral']\n",
    "\n",
    "# Plotting the pie chart\n",
    "plt.pie(sizes, labels=labels, colors=colors, autopct='%1.1f%%', startangle=140)\n",
    "plt.axis('equal')  # Equal aspect ratio ensures that pie is drawn as a circle.\n",
    "plt.title('VQAv2 LLaVa-1.6')\n",
    "plt.show()"
   ]
  }
 ],
 "metadata": {
  "kernelspec": {
   "display_name": "Python 3 (ipykernel)",
   "language": "python",
   "name": "python3"
  },
  "language_info": {
   "codemirror_mode": {
    "name": "ipython",
    "version": 3
   },
   "file_extension": ".py",
   "mimetype": "text/x-python",
   "name": "python",
   "nbconvert_exporter": "python",
   "pygments_lexer": "ipython3",
   "version": "3.9.6"
  },
  "vscode": {
   "interpreter": {
    "hash": "9e661d40c8188a26cf79371062655916cda7c58b8d0eda8499f8a3a5b7eb1ad0"
   }
  }
 },
 "nbformat": 4,
 "nbformat_minor": 5
}
