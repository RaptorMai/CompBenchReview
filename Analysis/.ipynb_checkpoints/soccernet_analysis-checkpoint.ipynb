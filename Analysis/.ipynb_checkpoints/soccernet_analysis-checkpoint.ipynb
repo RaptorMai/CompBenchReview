{
 "cells": [
  {
   "cell_type": "code",
   "execution_count": 34,
   "id": "bc188462",
   "metadata": {},
   "outputs": [],
   "source": [
    "import os\n",
    "import json\n",
    "from collections import defaultdict\n",
    "from collections import Counter\n",
    "from copy import deepcopy\n",
    "import matplotlib.pyplot as plt"
   ]
  },
  {
   "cell_type": "code",
   "execution_count": 37,
   "id": "3c1ba1c4",
   "metadata": {},
   "outputs": [],
   "source": [
    "RESULTS = '../results/soccernet/old'"
   ]
  },
  {
   "cell_type": "code",
   "execution_count": 17,
   "id": "cc54654f",
   "metadata": {},
   "outputs": [],
   "source": [
    "llava = [json.loads(q) for q in open(os.path.expanduser(f'{RESULTS}/results_england_epl_llava.jsonl'), \"r\")]\n",
    "llava = llava + [json.loads(q) for q in open(os.path.expanduser(f'{RESULTS}/results_europe_uefa-champions-league_llava.jsonl'), \"r\")]\n",
    "llava = llava + [json.loads(q) for q in open(os.path.expanduser(f'{RESULTS}/results_france_ligue-1_llava.jsonl'), \"r\")]\n",
    "llava = llava + [json.loads(q) for q in open(os.path.expanduser(f'{RESULTS}/results_germany_bundesliga_llava.jsonl'), \"r\")]\n",
    "llava = llava + [json.loads(q) for q in open(os.path.expanduser(f'{RESULTS}/results_italy_serie-a_llava.jsonl'), \"r\")]\n",
    "llava = llava + [json.loads(q) for q in open(os.path.expanduser(f'{RESULTS}/results_spain_laliga_llava.jsonl'), \"r\")]\n"
   ]
  },
  {
   "cell_type": "code",
   "execution_count": 29,
   "id": "079c3d72",
   "metadata": {},
   "outputs": [],
   "source": [
    "with open('../results/soccernet/soccernet_all_llava.json', 'w') as fout:\n",
    "    json.dump(llava, fout)"
   ]
  },
  {
   "cell_type": "code",
   "execution_count": 19,
   "id": "1132b9db",
   "metadata": {},
   "outputs": [
    {
     "data": {
      "text/plain": [
       "8316"
      ]
     },
     "execution_count": 19,
     "metadata": {},
     "output_type": "execute_result"
    }
   ],
   "source": [
    "len(llava)"
   ]
  },
  {
   "cell_type": "code",
   "execution_count": 20,
   "id": "65da64c0",
   "metadata": {},
   "outputs": [],
   "source": [
    "vila = [json.loads(q) for q in open(os.path.expanduser(f'{RESULTS}/results_england_epl_vila.jsonl'), \"r\")]\n",
    "vila = vila + [json.loads(q) for q in open(os.path.expanduser(f'{RESULTS}/results_europe_uefa-champions-league_vila.jsonl'), \"r\")]\n",
    "vila = vila + [json.loads(q) for q in open(os.path.expanduser(f'{RESULTS}/results_france_ligue-1_vila.jsonl'), \"r\")]\n",
    "vila = vila + [json.loads(q) for q in open(os.path.expanduser(f'{RESULTS}/results_germany_bundesliga_vila.jsonl'), \"r\")]\n",
    "vila = vila + [json.loads(q) for q in open(os.path.expanduser(f'{RESULTS}/results_italy_serie-a_vila.jsonl'), \"r\")]\n",
    "vila = vila + [json.loads(q) for q in open(os.path.expanduser(f'{RESULTS}/results_spain_laliga_vila.jsonl'), \"r\")]\n"
   ]
  },
  {
   "cell_type": "code",
   "execution_count": 30,
   "id": "c5b16182",
   "metadata": {},
   "outputs": [],
   "source": [
    "with open('../results/soccernet/soccernet_all_vila.json', 'w') as fout:\n",
    "    json.dump(vila, fout)"
   ]
  },
  {
   "cell_type": "code",
   "execution_count": 22,
   "id": "adef5c00",
   "metadata": {},
   "outputs": [
    {
     "data": {
      "text/plain": [
       "8316"
      ]
     },
     "execution_count": 22,
     "metadata": {},
     "output_type": "execute_result"
    }
   ],
   "source": [
    "len(vila)"
   ]
  },
  {
   "cell_type": "code",
   "execution_count": 23,
   "id": "74a9804c",
   "metadata": {},
   "outputs": [],
   "source": [
    "gpt = json.load(open(f'{RESULTS}/spain_laliga_gpt.json')) + json.load(open(f'{RESULTS}/france_ligue-1_gpt.json')) + json.load(open(f'{RESULTS}/germany_bundesliga_gpt.json')) + json.load(open(f'{RESULTS}/italy_serie-a_gpt.json')) + json.load(open(f'{RESULTS}/england_epl_gpt.json')) + json.load(open(f'{RESULTS}/europe_uefa-champions-league_gpt.json'))\n"
   ]
  },
  {
   "cell_type": "code",
   "execution_count": 24,
   "id": "5b538ea9",
   "metadata": {},
   "outputs": [
    {
     "data": {
      "text/plain": [
       "8316"
      ]
     },
     "execution_count": 24,
     "metadata": {},
     "output_type": "execute_result"
    }
   ],
   "source": [
    "len(gpt)"
   ]
  },
  {
   "cell_type": "code",
   "execution_count": 31,
   "id": "1a2753d4",
   "metadata": {},
   "outputs": [],
   "source": [
    "with open('../results/soccernet/soccernet_all_gpt.json', 'w') as fout:\n",
    "    json.dump(gpt, fout)"
   ]
  },
  {
   "cell_type": "code",
   "execution_count": null,
   "id": "3db8a94b",
   "metadata": {},
   "outputs": [],
   "source": []
  },
  {
   "cell_type": "code",
   "execution_count": null,
   "id": "ba020e5e",
   "metadata": {},
   "outputs": [],
   "source": []
  },
  {
   "cell_type": "code",
   "execution_count": 38,
   "id": "432a4a56",
   "metadata": {},
   "outputs": [],
   "source": [
    "gemini = json.load(open(f'{RESULTS}/spain_laliga_gemini_summary.json')) + json.load(open(f'{RESULTS}/france_ligue-1_gemini_summary.json')) + json.load(open(f'{RESULTS}/italy_serie-a_gemini_summary.json'))+json.load(open(f'{RESULTS}/germany_bundesliga_gemini_summary.json'))  + json.load(open(f'{RESULTS}/england_epl_gemini_summary.json')) + json.load(open(f'{RESULTS}/europe_uefa-champions-league_gemini_summary.json'))\n"
   ]
  },
  {
   "cell_type": "code",
   "execution_count": 39,
   "id": "e9492882",
   "metadata": {},
   "outputs": [
    {
     "data": {
      "text/plain": [
       "8316"
      ]
     },
     "execution_count": 39,
     "metadata": {},
     "output_type": "execute_result"
    }
   ],
   "source": [
    "len(gemini)"
   ]
  },
  {
   "cell_type": "code",
   "execution_count": 41,
   "id": "b32b62c8",
   "metadata": {},
   "outputs": [],
   "source": [
    "with open('../results/soccernet/soccernet_all_gemini.json', 'w') as fout:\n",
    "    json.dump(gemini, fout)"
   ]
  },
  {
   "cell_type": "code",
   "execution_count": null,
   "id": "63ed7138",
   "metadata": {},
   "outputs": [],
   "source": []
  },
  {
   "cell_type": "code",
   "execution_count": null,
   "id": "4492c0a5",
   "metadata": {},
   "outputs": [],
   "source": []
  },
  {
   "cell_type": "code",
   "execution_count": 40,
   "id": "9d185405",
   "metadata": {},
   "outputs": [
    {
     "data": {
      "text/plain": [
       "{'left': 'spain_laliga/2014-2015/2015-04-11 - 17-00 Real Madrid 3 - 0 Eibar/2_frames_actions/000135_Throw-in/000135.png',\n",
       " 'right': 'spain_laliga/2014-2015/2015-04-11 - 17-00 Real Madrid 3 - 0 Eibar/2_frames_actions/000135_Throw-in/000137.png',\n",
       " 'answer': 'Left',\n",
       " 'CLIP': 0.9150390625,\n",
       " 'time': '000135',\n",
       " 'action': 'Throw-in',\n",
       " 'match': '2015-04-11 - 17-00 Real Madrid 3 - 0 Eibar',\n",
       " 'season': '2014-2015',\n",
       " 'league': 'spain_laliga',\n",
       " 'gemini_answer': ' The frame on the left happens first. \\n                     In the left frame, the player is in the process of throwing the ball. \\n                     In the right frame, the player has already released the ball.',\n",
       " 'gemini_summary_answer': 'Left'}"
      ]
     },
     "execution_count": 40,
     "metadata": {},
     "output_type": "execute_result"
    }
   ],
   "source": [
    "gemini[0]"
   ]
  },
  {
   "cell_type": "markdown",
   "id": "54d55cc7",
   "metadata": {},
   "source": [
    "# gemini"
   ]
  },
  {
   "cell_type": "code",
   "execution_count": 46,
   "id": "3d16ad06",
   "metadata": {},
   "outputs": [
    {
     "name": "stdout",
     "output_type": "stream",
     "text": [
      "{'left': 'spain_laliga/2014-2015/2015-04-11 - 17-00 Real Madrid 3 - 0 Eibar/2_frames_actions/002555_Foul/002555.png', 'right': 'spain_laliga/2014-2015/2015-04-11 - 17-00 Real Madrid 3 - 0 Eibar/2_frames_actions/002555_Foul/002557.png', 'answer': 'Left', 'CLIP': 0.955078125, 'time': '002555', 'action': 'Foul', 'match': '2015-04-11 - 17-00 Real Madrid 3 - 0 Eibar', 'season': '2014-2015', 'league': 'spain_laliga', 'gemini_answer': ' The first frame happens first.\\n\\nIn the first frame, the player in white is still standing. In the second frame, the player in white is already on the ground. So we can infer that the first frame happens first.', 'gemini_summary_answer': 'GPT Error'}\n",
      "{'left': 'spain_laliga/2016-2017/2016-10-15 - 17-15 Barcelona 4 - 0 Dep. La Coruna/1_frames_actions/002101_Foul/002103.png', 'right': 'spain_laliga/2016-2017/2016-10-15 - 17-15 Barcelona 4 - 0 Dep. La Coruna/1_frames_actions/002101_Foul/002101.png', 'answer': 'Right', 'CLIP': 0.94921875, 'time': '002101', 'action': 'Foul', 'match': '2016-10-15 - 17-15 Barcelona 4 - 0 Dep. La Coruna', 'season': '2016-2017', 'league': 'spain_laliga', 'gemini_answer': ' The frame on the left happens first.', 'gemini_summary_answer': 'GPT Error'}\n"
     ]
    }
   ],
   "source": [
    "refine = []\n",
    "rerun = []\n",
    "error = []\n",
    "for pair in gemini:\n",
    "    new = deepcopy(pair)\n",
    "    if pair['gemini_summary_answer'] == None :\n",
    "        rerun.append(pair)\n",
    "    elif 'Right' in pair['gemini_summary_answer']:\n",
    "        new['gemini_summary_answer'] = 'Right'\n",
    "        refine.append(new)\n",
    "    elif 'Left' in pair['gemini_summary_answer']:\n",
    "        new['gemini_summary_answer'] = 'Left'\n",
    "        refine.append(new)\n",
    "    else:\n",
    "        error.append(pair)\n",
    "        print(pair)\n",
    "        "
   ]
  },
  {
   "cell_type": "code",
   "execution_count": 47,
   "id": "1aad4c68",
   "metadata": {},
   "outputs": [],
   "source": [
    "#error = []\n",
    "correct_pred = []\n",
    "wrong_pred = []\n",
    "gt = []\n",
    "correct = []\n",
    "wrong = []\n",
    "\n",
    "for pair in refine:\n",
    "    gt.append(pair['answer'])\n",
    "    # if pair['gpt_answer'] not in ('Left', \"Right\"):\n",
    "    #     # print(pair)\n",
    "    #     error.append(pair)\n",
    "    #     continue\n",
    "    if pair['answer'] == pair['gemini_summary_answer']:\n",
    "            correct.append(pair)\n",
    "            correct_pred.append(pair['gemini_summary_answer'])\n",
    "    elif pair['answer'] != pair['gemini_summary_answer']:\n",
    "            wrong.append(pair)\n",
    "            wrong_pred.append(pair['gemini_summary_answer'])\n",
    "    else:\n",
    "        print('fuck')"
   ]
  },
  {
   "cell_type": "code",
   "execution_count": 48,
   "id": "4908cd15",
   "metadata": {},
   "outputs": [
    {
     "data": {
      "image/png": "[encoded data removed]",
      "text/plain": [
       "<Figure size 432x288 with 1 Axes>"
      ]
     },
     "metadata": {},
     "output_type": "display_data"
    }
   ],
   "source": [
    "sizes = [len(correct), len(wrong), len(error)]\n",
    "# Labels with percentages and exact counts\n",
    "labels = [f'Correct - {sizes[0]} items ({sizes[0]/sum(sizes)*100:.2f}%)',\n",
    "          f'Wrong - {sizes[1]} items ({sizes[1]/sum(sizes)*100:.2f}%)', \n",
    "         f'Error - {sizes[2]} items ({sizes[2]/sum(sizes)*100:.2f}%)', \n",
    "         ]\n",
    "\n",
    "# Colors for each section\n",
    "colors = ['gold', 'yellowgreen', 'lightcoral']\n",
    "\n",
    "# Plotting the pie chart\n",
    "plt.pie(sizes, labels=labels, colors=colors, autopct='%1.1f%%', startangle=140)\n",
    "plt.axis('equal')  # Equal aspect ratio ensures that pie is drawn as a circle.\n",
    "plt.title('Soccer Gemini')\n",
    "plt.show()"
   ]
  },
  {
   "cell_type": "code",
   "execution_count": null,
   "id": "411cf6ed",
   "metadata": {},
   "outputs": [],
   "source": []
  },
  {
   "cell_type": "code",
   "execution_count": null,
   "id": "416d1e09",
   "metadata": {},
   "outputs": [],
   "source": []
  },
  {
   "cell_type": "markdown",
   "id": "d300dc42",
   "metadata": {},
   "source": [
    "# gpt"
   ]
  },
  {
   "cell_type": "code",
   "execution_count": 32,
   "id": "b7273b1c",
   "metadata": {},
   "outputs": [
    {
     "name": "stdout",
     "output_type": "stream",
     "text": [
      "{'left': 'spain_laliga/2014-2015/2015-04-11 - 17-00 Real Madrid 3 - 0 Eibar/2_frames_actions/001926_Foul/001928.png', 'right': 'spain_laliga/2014-2015/2015-04-11 - 17-00 Real Madrid 3 - 0 Eibar/2_frames_actions/001926_Foul/001926.png', 'answer': 'Right', 'CLIP': 0.90087890625, 'time': '001926', 'action': 'Foul', 'match': '2015-04-11 - 17-00 Real Madrid 3 - 0 Eibar', 'season': '2014-2015', 'league': 'spain_laliga', 'gpt_answer': 'GPT error'}\n",
      "{'left': 'spain_laliga/2014-2015/2015-05-23 - 21-30 Real Madrid 7 - 3 Getafe/2_frames_actions/002471_Foul/002473.png', 'right': 'spain_laliga/2014-2015/2015-05-23 - 21-30 Real Madrid 7 - 3 Getafe/2_frames_actions/002471_Foul/002471.png', 'answer': 'Right', 'CLIP': 0.96484375, 'time': '002471', 'action': 'Foul', 'match': '2015-05-23 - 21-30 Real Madrid 7 - 3 Getafe', 'season': '2014-2015', 'league': 'spain_laliga', 'gpt_answer': 'None'}\n",
      "{'left': 'spain_laliga/2015-2016/2015-12-20 - 18-00 Real Madrid 1 - 0 Rayo Vallecano/2_frames_actions/001237_Shots off target/001237.png', 'right': 'spain_laliga/2015-2016/2015-12-20 - 18-00 Real Madrid 1 - 0 Rayo Vallecano/2_frames_actions/001237_Shots off target/001239.png', 'answer': 'Left', 'CLIP': 0.96337890625, 'time': '001237', 'action': 'Shots off target', 'match': '2015-12-20 - 18-00 Real Madrid 1 - 0 Rayo Vallecano', 'season': '2015-2016', 'league': 'spain_laliga', 'gpt_answer': 'GPT error'}\n",
      "{'left': 'spain_laliga/2015-2016/2015-12-20 - 18-00 Real Madrid 1 - 0 Rayo Vallecano/1_frames_actions/000758_Shots on target/000758.png', 'right': 'spain_laliga/2015-2016/2015-12-20 - 18-00 Real Madrid 1 - 0 Rayo Vallecano/1_frames_actions/000758_Shots on target/000760.png', 'answer': 'Left', 'CLIP': 0.9716796875, 'time': '000758', 'action': 'Shots on target', 'match': '2015-12-20 - 18-00 Real Madrid 1 - 0 Rayo Vallecano', 'season': '2015-2016', 'league': 'spain_laliga', 'gpt_answer': 'GPT error'}\n",
      "{'left': 'spain_laliga/2015-2016/2015-09-12 - 21-30 Atl. Madrid 1 - 2 Barcelona/1_frames_actions/002066_Shots on target/002066.png', 'right': 'spain_laliga/2015-2016/2015-09-12 - 21-30 Atl. Madrid 1 - 2 Barcelona/1_frames_actions/002066_Shots on target/002068.png', 'answer': 'Left', 'CLIP': 0.96484375, 'time': '002066', 'action': 'Shots on target', 'match': '2015-09-12 - 21-30 Atl. Madrid 1 - 2 Barcelona', 'season': '2015-2016', 'league': 'spain_laliga', 'gpt_answer': 'GPT error'}\n",
      "{'left': 'spain_laliga/2016-2017/2016-10-15 - 17-15 Barcelona 4 - 0 Dep. La Coruna/2_frames_actions/000947_Shots on target/000949.png', 'right': 'spain_laliga/2016-2017/2016-10-15 - 17-15 Barcelona 4 - 0 Dep. La Coruna/2_frames_actions/000947_Shots on target/000947.png', 'answer': 'Right', 'CLIP': 0.94580078125, 'time': '000947', 'action': 'Shots on target', 'match': '2016-10-15 - 17-15 Barcelona 4 - 0 Dep. La Coruna', 'season': '2016-2017', 'league': 'spain_laliga', 'gpt_answer': 'GPT error'}\n",
      "{'left': 'france_ligue-1/2016-2017/2017-04-09 - 22-00 Paris SG 4 - 0 Guingamp/1_frames_actions/000182_Direct free-kick/000184.png', 'right': 'france_ligue-1/2016-2017/2017-04-09 - 22-00 Paris SG 4 - 0 Guingamp/1_frames_actions/000182_Direct free-kick/000182.png', 'answer': 'Right', 'CLIP': 0.88427734375, 'time': '000182', 'action': 'Direct free-kick', 'match': '2017-04-09 - 22-00 Paris SG 4 - 0 Guingamp', 'season': '2016-2017', 'league': 'france_ligue-1', 'gpt_answer': 'GPT error'}\n",
      "{'left': 'france_ligue-1/2016-2017/2017-04-09 - 22-00 Paris SG 4 - 0 Guingamp/1_frames_actions/001292_Throw-in/001292.png', 'right': 'france_ligue-1/2016-2017/2017-04-09 - 22-00 Paris SG 4 - 0 Guingamp/1_frames_actions/001292_Throw-in/001294.png', 'answer': 'Left', 'CLIP': 0.91748046875, 'time': '001292', 'action': 'Throw-in', 'match': '2017-04-09 - 22-00 Paris SG 4 - 0 Guingamp', 'season': '2016-2017', 'league': 'france_ligue-1', 'gpt_answer': 'GPT error'}\n",
      "{'left': 'france_ligue-1/2016-2017/2017-04-09 - 22-00 Paris SG 4 - 0 Guingamp/1_frames_actions/000974_Throw-in/000976.png', 'right': 'france_ligue-1/2016-2017/2017-04-09 - 22-00 Paris SG 4 - 0 Guingamp/1_frames_actions/000974_Throw-in/000974.png', 'answer': 'Right', 'CLIP': 0.95654296875, 'time': '000974', 'action': 'Throw-in', 'match': '2017-04-09 - 22-00 Paris SG 4 - 0 Guingamp', 'season': '2016-2017', 'league': 'france_ligue-1', 'gpt_answer': 'None'}\n",
      "{'left': 'france_ligue-1/2016-2017/2016-09-09 - 21-45 Paris SG 1 - 1 St Etienne/2_frames_actions/002709_Throw-in/002711.png', 'right': 'france_ligue-1/2016-2017/2016-09-09 - 21-45 Paris SG 1 - 1 St Etienne/2_frames_actions/002709_Throw-in/002709.png', 'answer': 'Right', 'CLIP': 0.9326171875, 'time': '002709', 'action': 'Throw-in', 'match': '2016-09-09 - 21-45 Paris SG 1 - 1 St Etienne', 'season': '2016-2017', 'league': 'france_ligue-1', 'gpt_answer': 'GPT error'}\n",
      "{'left': 'france_ligue-1/2016-2017/2016-09-09 - 21-45 Paris SG 1 - 1 St Etienne/2_frames_actions/001196_Foul/001198.png', 'right': 'france_ligue-1/2016-2017/2016-09-09 - 21-45 Paris SG 1 - 1 St Etienne/2_frames_actions/001196_Foul/001196.png', 'answer': 'Right', 'CLIP': 0.88623046875, 'time': '001196', 'action': 'Foul', 'match': '2016-09-09 - 21-45 Paris SG 1 - 1 St Etienne', 'season': '2016-2017', 'league': 'france_ligue-1', 'gpt_answer': 'GPT error'}\n",
      "{'left': 'france_ligue-1/2016-2017/2017-03-04 - 19-00 Paris SG 1 - 0 Nancy/2_frames_actions/001834_Shots off target/001836.png', 'right': 'france_ligue-1/2016-2017/2017-03-04 - 19-00 Paris SG 1 - 0 Nancy/2_frames_actions/001834_Shots off target/001834.png', 'answer': 'Right', 'CLIP': 0.96435546875, 'time': '001834', 'action': 'Shots off target', 'match': '2017-03-04 - 19-00 Paris SG 1 - 0 Nancy', 'season': '2016-2017', 'league': 'france_ligue-1', 'gpt_answer': 'None'}\n",
      "{'left': 'france_ligue-1/2016-2017/2016-09-20 - 22-00 Paris SG 3 - 0 Dijon/1_frames_actions/001087_Foul/001087.png', 'right': 'france_ligue-1/2016-2017/2016-09-20 - 22-00 Paris SG 3 - 0 Dijon/1_frames_actions/001087_Foul/001089.png', 'answer': 'Left', 'CLIP': 0.89013671875, 'time': '001087', 'action': 'Foul', 'match': '2016-09-20 - 22-00 Paris SG 3 - 0 Dijon', 'season': '2016-2017', 'league': 'france_ligue-1', 'gpt_answer': 'None'}\n",
      "{'left': 'france_ligue-1/2016-2017/2016-09-20 - 22-00 Paris SG 3 - 0 Dijon/1_frames_actions/002184_Throw-in/002186.png', 'right': 'france_ligue-1/2016-2017/2016-09-20 - 22-00 Paris SG 3 - 0 Dijon/1_frames_actions/002184_Throw-in/002184.png', 'answer': 'Right', 'CLIP': 0.97802734375, 'time': '002184', 'action': 'Throw-in', 'match': '2016-09-20 - 22-00 Paris SG 3 - 0 Dijon', 'season': '2016-2017', 'league': 'france_ligue-1', 'gpt_answer': 'None'}\n",
      "{'left': 'france_ligue-1/2016-2017/2017-05-14 - 22-00 St Etienne 0 - 5 Paris SG/2_frames_actions/000214_Throw-in/000216.png', 'right': 'france_ligue-1/2016-2017/2017-05-14 - 22-00 St Etienne 0 - 5 Paris SG/2_frames_actions/000214_Throw-in/000214.png', 'answer': 'Right', 'CLIP': 0.95849609375, 'time': '000214', 'action': 'Throw-in', 'match': '2017-05-14 - 22-00 St Etienne 0 - 5 Paris SG', 'season': '2016-2017', 'league': 'france_ligue-1', 'gpt_answer': 'None'}\n",
      "{'left': 'germany_bundesliga/2014-2015/2015-05-02 - 16-30 Hoffenheim 1 - 1 Dortmund/2_frames_actions/002408_Throw-in/002408.png', 'right': 'germany_bundesliga/2014-2015/2015-05-02 - 16-30 Hoffenheim 1 - 1 Dortmund/2_frames_actions/002408_Throw-in/002410.png', 'answer': 'Left', 'CLIP': 0.810546875, 'time': '002408', 'action': 'Throw-in', 'match': '2015-05-02 - 16-30 Hoffenheim 1 - 1 Dortmund', 'season': '2014-2015', 'league': 'germany_bundesliga', 'gpt_answer': 'GPT error'}\n",
      "{'left': 'germany_bundesliga/2014-2015/2015-04-25 - 19-30 Bayern Munich 1 - 0 Hertha Berlin/2_frames_actions/000193_Shots off target/000195.png', 'right': 'germany_bundesliga/2014-2015/2015-04-25 - 19-30 Bayern Munich 1 - 0 Hertha Berlin/2_frames_actions/000193_Shots off target/000193.png', 'answer': 'Right', 'CLIP': 0.95556640625, 'time': '000193', 'action': 'Shots off target', 'match': '2015-04-25 - 19-30 Bayern Munich 1 - 0 Hertha Berlin', 'season': '2014-2015', 'league': 'germany_bundesliga', 'gpt_answer': 'GPT error'}\n",
      "{'left': 'germany_bundesliga/2014-2015/2015-04-25 - 19-30 Bayern Munich 1 - 0 Hertha Berlin/1_frames_actions/000786_Shots off target/000788.png', 'right': 'germany_bundesliga/2014-2015/2015-04-25 - 19-30 Bayern Munich 1 - 0 Hertha Berlin/1_frames_actions/000786_Shots off target/000786.png', 'answer': 'Right', 'CLIP': 0.93359375, 'time': '000786', 'action': 'Shots off target', 'match': '2015-04-25 - 19-30 Bayern Munich 1 - 0 Hertha Berlin', 'season': '2014-2015', 'league': 'germany_bundesliga', 'gpt_answer': 'GPT error'}\n",
      "{'left': 'germany_bundesliga/2015-2016/2015-10-04 - 18-30 Bayern Munich 5 - 1 Dortmund/1_frames_actions/000992_Foul/000994.png', 'right': 'germany_bundesliga/2015-2016/2015-10-04 - 18-30 Bayern Munich 5 - 1 Dortmund/1_frames_actions/000992_Foul/000992.png', 'answer': 'Right', 'CLIP': 0.9541015625, 'time': '000992', 'action': 'Foul', 'match': '2015-10-04 - 18-30 Bayern Munich 5 - 1 Dortmund', 'season': '2015-2016', 'league': 'germany_bundesliga', 'gpt_answer': 'GPT error'}\n",
      "{'left': 'germany_bundesliga/2015-2016/2016-04-23 - 16-30 Hertha Berlin 0 - 2 Bayern Munich/2_frames_actions/001918_Direct free-kick/001918.png', 'right': 'germany_bundesliga/2015-2016/2016-04-23 - 16-30 Hertha Berlin 0 - 2 Bayern Munich/2_frames_actions/001918_Direct free-kick/001920.png', 'answer': 'Left', 'CLIP': 0.939453125, 'time': '001918', 'action': 'Direct free-kick', 'match': '2016-04-23 - 16-30 Hertha Berlin 0 - 2 Bayern Munich', 'season': '2015-2016', 'league': 'germany_bundesliga', 'gpt_answer': 'GPT error'}\n",
      "{'left': 'germany_bundesliga/2015-2016/2015-11-07 - 17-30 Bayern Munich 4 - 0 VfB Stuttgart/2_frames_actions/002210_Direct free-kick/002210.png', 'right': 'germany_bundesliga/2015-2016/2015-11-07 - 17-30 Bayern Munich 4 - 0 VfB Stuttgart/2_frames_actions/002210_Direct free-kick/002212.png', 'answer': 'Left', 'CLIP': 0.96044921875, 'time': '002210', 'action': 'Direct free-kick', 'match': '2015-11-07 - 17-30 Bayern Munich 4 - 0 VfB Stuttgart', 'season': '2015-2016', 'league': 'germany_bundesliga', 'gpt_answer': 'GPT error'}\n",
      "{'left': 'germany_bundesliga/2015-2016/2015-09-20 - 18-30 Dortmund 3 - 0 Bayer Leverkusen/2_frames_actions/000592_Foul/000592.png', 'right': 'germany_bundesliga/2015-2016/2015-09-20 - 18-30 Dortmund 3 - 0 Bayer Leverkusen/2_frames_actions/000592_Foul/000594.png', 'answer': 'Left', 'CLIP': 0.96826171875, 'time': '000592', 'action': 'Foul', 'match': '2015-09-20 - 18-30 Dortmund 3 - 0 Bayer Leverkusen', 'season': '2015-2016', 'league': 'germany_bundesliga', 'gpt_answer': 'GPT error'}\n",
      "{'left': 'germany_bundesliga/2015-2016/2015-09-20 - 18-30 Dortmund 3 - 0 Bayer Leverkusen/2_frames_actions/002410_Shots on target/002412.png', 'right': 'germany_bundesliga/2015-2016/2015-09-20 - 18-30 Dortmund 3 - 0 Bayer Leverkusen/2_frames_actions/002410_Shots on target/002410.png', 'answer': 'Right', 'CLIP': 0.9609375, 'time': '002410', 'action': 'Shots on target', 'match': '2015-09-20 - 18-30 Dortmund 3 - 0 Bayer Leverkusen', 'season': '2015-2016', 'league': 'germany_bundesliga', 'gpt_answer': 'GPT error'}\n",
      "{'left': 'germany_bundesliga/2016-2017/2017-02-25 - 17-30 SC Freiburg 0 - 3 Dortmund/2_frames_actions/002231_Foul/002233.png', 'right': 'germany_bundesliga/2016-2017/2017-02-25 - 17-30 SC Freiburg 0 - 3 Dortmund/2_frames_actions/002231_Foul/002231.png', 'answer': 'Right', 'CLIP': 0.80517578125, 'time': '002231', 'action': 'Foul', 'match': '2017-02-25 - 17-30 SC Freiburg 0 - 3 Dortmund', 'season': '2016-2017', 'league': 'germany_bundesliga', 'gpt_answer': 'GPT error'}\n",
      "{'left': 'germany_bundesliga/2016-2017/2017-02-25 - 17-30 SC Freiburg 0 - 3 Dortmund/1_frames_actions/002011_Throw-in/002011.png', 'right': 'germany_bundesliga/2016-2017/2017-02-25 - 17-30 SC Freiburg 0 - 3 Dortmund/1_frames_actions/002011_Throw-in/002013.png', 'answer': 'Left', 'CLIP': 0.90771484375, 'time': '002011', 'action': 'Throw-in', 'match': '2017-02-25 - 17-30 SC Freiburg 0 - 3 Dortmund', 'season': '2016-2017', 'league': 'germany_bundesliga', 'gpt_answer': 'GPT error'}\n",
      "{'left': 'germany_bundesliga/2016-2017/2017-02-25 - 17-30 SC Freiburg 0 - 3 Dortmund/1_frames_actions/000134_Foul/000134.png', 'right': 'germany_bundesliga/2016-2017/2017-02-25 - 17-30 SC Freiburg 0 - 3 Dortmund/1_frames_actions/000134_Foul/000136.png', 'answer': 'Left', 'CLIP': 0.9638671875, 'time': '000134', 'action': 'Foul', 'match': '2017-02-25 - 17-30 SC Freiburg 0 - 3 Dortmund', 'season': '2016-2017', 'league': 'germany_bundesliga', 'gpt_answer': 'GPT error'}\n",
      "{'left': 'italy_serie-a/2014-2015/2015-05-10 - 21-45 Lazio 1 - 2 Inter/1_frames_actions/000998_Shots off target/001000.png', 'right': 'italy_serie-a/2014-2015/2015-05-10 - 21-45 Lazio 1 - 2 Inter/1_frames_actions/000998_Shots off target/000998.png', 'answer': 'Right', 'CLIP': 0.93310546875, 'time': '000998', 'action': 'Shots off target', 'match': '2015-05-10 - 21-45 Lazio 1 - 2 Inter', 'season': '2014-2015', 'league': 'italy_serie-a', 'gpt_answer': 'GPT error'}\n",
      "{'left': 'italy_serie-a/2016-2017/2017-04-02 - 21-45 Napoli 1 - 1 Juventus/1_frames_actions/002317_Throw-in/002317.png', 'right': 'italy_serie-a/2016-2017/2017-04-02 - 21-45 Napoli 1 - 1 Juventus/1_frames_actions/002317_Throw-in/002319.png', 'answer': 'Left', 'CLIP': 0.94677734375, 'time': '002317', 'action': 'Throw-in', 'match': '2017-04-02 - 21-45 Napoli 1 - 1 Juventus', 'season': '2016-2017', 'league': 'italy_serie-a', 'gpt_answer': 'GPT error'}\n",
      "{'left': 'italy_serie-a/2016-2017/2017-02-19 - 17-00 Chievo 1 - 3 Napoli/1_frames_actions/000827_Throw-in/000827.png', 'right': 'italy_serie-a/2016-2017/2017-02-19 - 17-00 Chievo 1 - 3 Napoli/1_frames_actions/000827_Throw-in/000829.png', 'answer': 'Left', 'CLIP': 0.93310546875, 'time': '000827', 'action': 'Throw-in', 'match': '2017-02-19 - 17-00 Chievo 1 - 3 Napoli', 'season': '2016-2017', 'league': 'italy_serie-a', 'gpt_answer': 'GPT error'}\n",
      "{'left': 'england_epl/2014-2015/2015-04-11 - 19-30 Burnley 0 - 1 Arsenal/2_frames_actions/002625_Shots on target/002625.png', 'right': 'england_epl/2014-2015/2015-04-11 - 19-30 Burnley 0 - 1 Arsenal/2_frames_actions/002625_Shots on target/002627.png', 'answer': 'Left', 'CLIP': 0.96044921875, 'time': '002625', 'action': 'Shots on target', 'match': '2015-04-11 - 19-30 Burnley 0 - 1 Arsenal', 'season': '2014-2015', 'league': 'england_epl', 'gpt_answer': 'GPT error'}\n",
      "{'left': 'england_epl/2015-2016/2015-09-26 - 17-00 Manchester United 3 - 0 Sunderland/2_frames_actions/002667_Shots on target/002667.png', 'right': 'england_epl/2015-2016/2015-09-26 - 17-00 Manchester United 3 - 0 Sunderland/2_frames_actions/002667_Shots on target/002669.png', 'answer': 'Left', 'CLIP': 0.955078125, 'time': '002667', 'action': 'Shots on target', 'match': '2015-09-26 - 17-00 Manchester United 3 - 0 Sunderland', 'season': '2015-2016', 'league': 'england_epl', 'gpt_answer': 'None'}\n",
      "{'left': 'england_epl/2015-2016/2015-09-26 - 17-00 Manchester United 3 - 0 Sunderland/2_frames_actions/001703_Throw-in/001705.png', 'right': 'england_epl/2015-2016/2015-09-26 - 17-00 Manchester United 3 - 0 Sunderland/2_frames_actions/001703_Throw-in/001703.png', 'answer': 'Right', 'CLIP': 0.90966796875, 'time': '001703', 'action': 'Throw-in', 'match': '2015-09-26 - 17-00 Manchester United 3 - 0 Sunderland', 'season': '2015-2016', 'league': 'england_epl', 'gpt_answer': 'None'}\n",
      "{'left': 'england_epl/2015-2016/2015-09-26 - 17-00 Manchester United 3 - 0 Sunderland/1_frames_actions/002585_Throw-in/002585.png', 'right': 'england_epl/2015-2016/2015-09-26 - 17-00 Manchester United 3 - 0 Sunderland/1_frames_actions/002585_Throw-in/002587.png', 'answer': 'Left', 'CLIP': 0.978515625, 'time': '002585', 'action': 'Throw-in', 'match': '2015-09-26 - 17-00 Manchester United 3 - 0 Sunderland', 'season': '2015-2016', 'league': 'england_epl', 'gpt_answer': 'GPT error'}\n",
      "{'left': 'england_epl/2015-2016/2016-01-23 - 20-30 West Ham 2 - 2 Manchester City/2_frames_actions/000336_Shots off target/000336.png', 'right': 'england_epl/2015-2016/2016-01-23 - 20-30 West Ham 2 - 2 Manchester City/2_frames_actions/000336_Shots off target/000338.png', 'answer': 'Left', 'CLIP': 0.9423828125, 'time': '000336', 'action': 'Shots off target', 'match': '2016-01-23 - 20-30 West Ham 2 - 2 Manchester City', 'season': '2015-2016', 'league': 'england_epl', 'gpt_answer': 'GPT error'}\n",
      "{'left': 'england_epl/2015-2016/2015-09-26 - 17-00 Leicester 2 - 5 Arsenal/2_frames_actions/000274_Shots on target/000274.png', 'right': 'england_epl/2015-2016/2015-09-26 - 17-00 Leicester 2 - 5 Arsenal/2_frames_actions/000274_Shots on target/000276.png', 'answer': 'Left', 'CLIP': 0.939453125, 'time': '000274', 'action': 'Shots on target', 'match': '2015-09-26 - 17-00 Leicester 2 - 5 Arsenal', 'season': '2015-2016', 'league': 'england_epl', 'gpt_answer': 'None'}\n",
      "{'left': 'england_epl/2015-2016/2015-09-26 - 17-00 Leicester 2 - 5 Arsenal/2_frames_actions/000442_Shots on target/000442.png', 'right': 'england_epl/2015-2016/2015-09-26 - 17-00 Leicester 2 - 5 Arsenal/2_frames_actions/000442_Shots on target/000444.png', 'answer': 'Left', 'CLIP': 0.90185546875, 'time': '000442', 'action': 'Shots on target', 'match': '2015-09-26 - 17-00 Leicester 2 - 5 Arsenal', 'season': '2015-2016', 'league': 'england_epl', 'gpt_answer': 'GPT error'}\n",
      "{'left': 'england_epl/2015-2016/2015-09-26 - 17-00 Leicester 2 - 5 Arsenal/2_frames_actions/000282_Foul/000282.png', 'right': 'england_epl/2015-2016/2015-09-26 - 17-00 Leicester 2 - 5 Arsenal/2_frames_actions/000282_Foul/000284.png', 'answer': 'Left', 'CLIP': 0.9375, 'time': '000282', 'action': 'Foul', 'match': '2015-09-26 - 17-00 Leicester 2 - 5 Arsenal', 'season': '2015-2016', 'league': 'england_epl', 'gpt_answer': 'GPT error'}\n",
      "{'left': 'england_epl/2015-2016/2015-09-26 - 17-00 Leicester 2 - 5 Arsenal/2_frames_actions/000275_Shots on target/000277.png', 'right': 'england_epl/2015-2016/2015-09-26 - 17-00 Leicester 2 - 5 Arsenal/2_frames_actions/000275_Shots on target/000275.png', 'answer': 'Right', 'CLIP': 0.953125, 'time': '000275', 'action': 'Shots on target', 'match': '2015-09-26 - 17-00 Leicester 2 - 5 Arsenal', 'season': '2015-2016', 'league': 'england_epl', 'gpt_answer': 'GPT error'}\n",
      "{'left': 'england_epl/2015-2016/2015-09-26 - 17-00 Leicester 2 - 5 Arsenal/2_frames_actions/001308_Shots off target/001308.png', 'right': 'england_epl/2015-2016/2015-09-26 - 17-00 Leicester 2 - 5 Arsenal/2_frames_actions/001308_Shots off target/001310.png', 'answer': 'Left', 'CLIP': 0.87255859375, 'time': '001308', 'action': 'Shots off target', 'match': '2015-09-26 - 17-00 Leicester 2 - 5 Arsenal', 'season': '2015-2016', 'league': 'england_epl', 'gpt_answer': 'GPT error'}\n",
      "{'left': 'england_epl/2015-2016/2015-09-26 - 17-00 Leicester 2 - 5 Arsenal/2_frames_actions/002803_Indirect free-kick/002803.png', 'right': 'england_epl/2015-2016/2015-09-26 - 17-00 Leicester 2 - 5 Arsenal/2_frames_actions/002803_Indirect free-kick/002805.png', 'answer': 'Left', 'CLIP': 0.93359375, 'time': '002803', 'action': 'Indirect free-kick', 'match': '2015-09-26 - 17-00 Leicester 2 - 5 Arsenal', 'season': '2015-2016', 'league': 'england_epl', 'gpt_answer': 'GPT error'}\n",
      "{'left': 'england_epl/2015-2016/2015-09-26 - 17-00 Leicester 2 - 5 Arsenal/2_frames_actions/000840_Indirect free-kick/000840.png', 'right': 'england_epl/2015-2016/2015-09-26 - 17-00 Leicester 2 - 5 Arsenal/2_frames_actions/000840_Indirect free-kick/000842.png', 'answer': 'Left', 'CLIP': 0.91552734375, 'time': '000840', 'action': 'Indirect free-kick', 'match': '2015-09-26 - 17-00 Leicester 2 - 5 Arsenal', 'season': '2015-2016', 'league': 'england_epl', 'gpt_answer': 'GPT error'}\n",
      "{'left': 'england_epl/2015-2016/2015-09-26 - 17-00 Leicester 2 - 5 Arsenal/1_frames_actions/002094_Foul/002094.png', 'right': 'england_epl/2015-2016/2015-09-26 - 17-00 Leicester 2 - 5 Arsenal/1_frames_actions/002094_Foul/002096.png', 'answer': 'Left', 'CLIP': 0.93212890625, 'time': '002094', 'action': 'Foul', 'match': '2015-09-26 - 17-00 Leicester 2 - 5 Arsenal', 'season': '2015-2016', 'league': 'england_epl', 'gpt_answer': 'GPT error'}\n",
      "{'left': 'england_epl/2015-2016/2015-09-26 - 17-00 Leicester 2 - 5 Arsenal/1_frames_actions/000304_Corner/000306.png', 'right': 'england_epl/2015-2016/2015-09-26 - 17-00 Leicester 2 - 5 Arsenal/1_frames_actions/000304_Corner/000304.png', 'answer': 'Right', 'CLIP': 0.83642578125, 'time': '000304', 'action': 'Corner', 'match': '2015-09-26 - 17-00 Leicester 2 - 5 Arsenal', 'season': '2015-2016', 'league': 'england_epl', 'gpt_answer': 'GPT error'}\n",
      "{'left': 'england_epl/2015-2016/2015-09-26 - 17-00 Leicester 2 - 5 Arsenal/1_frames_actions/002594_Direct free-kick/002594.png', 'right': 'england_epl/2015-2016/2015-09-26 - 17-00 Leicester 2 - 5 Arsenal/1_frames_actions/002594_Direct free-kick/002596.png', 'answer': 'Left', 'CLIP': 0.9228515625, 'time': '002594', 'action': 'Direct free-kick', 'match': '2015-09-26 - 17-00 Leicester 2 - 5 Arsenal', 'season': '2015-2016', 'league': 'england_epl', 'gpt_answer': 'GPT error'}\n",
      "{'left': 'england_epl/2015-2016/2015-09-26 - 17-00 Leicester 2 - 5 Arsenal/1_frames_actions/001649_Throw-in/001649.png', 'right': 'england_epl/2015-2016/2015-09-26 - 17-00 Leicester 2 - 5 Arsenal/1_frames_actions/001649_Throw-in/001651.png', 'answer': 'Left', 'CLIP': 0.89990234375, 'time': '001649', 'action': 'Throw-in', 'match': '2015-09-26 - 17-00 Leicester 2 - 5 Arsenal', 'season': '2015-2016', 'league': 'england_epl', 'gpt_answer': 'GPT error'}\n",
      "{'left': 'england_epl/2015-2016/2015-09-26 - 17-00 Leicester 2 - 5 Arsenal/1_frames_actions/000377_Shots on target/000377.png', 'right': 'england_epl/2015-2016/2015-09-26 - 17-00 Leicester 2 - 5 Arsenal/1_frames_actions/000377_Shots on target/000379.png', 'answer': 'Left', 'CLIP': 0.91748046875, 'time': '000377', 'action': 'Shots on target', 'match': '2015-09-26 - 17-00 Leicester 2 - 5 Arsenal', 'season': '2015-2016', 'league': 'england_epl', 'gpt_answer': 'GPT error'}\n",
      "{'left': 'england_epl/2015-2016/2015-09-26 - 17-00 Leicester 2 - 5 Arsenal/1_frames_actions/002265_Foul/002265.png', 'right': 'england_epl/2015-2016/2015-09-26 - 17-00 Leicester 2 - 5 Arsenal/1_frames_actions/002265_Foul/002267.png', 'answer': 'Left', 'CLIP': 0.9287109375, 'time': '002265', 'action': 'Foul', 'match': '2015-09-26 - 17-00 Leicester 2 - 5 Arsenal', 'season': '2015-2016', 'league': 'england_epl', 'gpt_answer': 'GPT error'}\n",
      "{'left': 'england_epl/2015-2016/2015-09-26 - 17-00 Leicester 2 - 5 Arsenal/1_frames_actions/000730_Shots on target/000732.png', 'right': 'england_epl/2015-2016/2015-09-26 - 17-00 Leicester 2 - 5 Arsenal/1_frames_actions/000730_Shots on target/000730.png', 'answer': 'Right', 'CLIP': 0.8525390625, 'time': '000730', 'action': 'Shots on target', 'match': '2015-09-26 - 17-00 Leicester 2 - 5 Arsenal', 'season': '2015-2016', 'league': 'england_epl', 'gpt_answer': 'GPT error'}\n",
      "{'left': 'england_epl/2015-2016/2015-09-26 - 17-00 Leicester 2 - 5 Arsenal/1_frames_actions/000191_Indirect free-kick/000193.png', 'right': 'england_epl/2015-2016/2015-09-26 - 17-00 Leicester 2 - 5 Arsenal/1_frames_actions/000191_Indirect free-kick/000191.png', 'answer': 'Right', 'CLIP': 0.83544921875, 'time': '000191', 'action': 'Indirect free-kick', 'match': '2015-09-26 - 17-00 Leicester 2 - 5 Arsenal', 'season': '2015-2016', 'league': 'england_epl', 'gpt_answer': 'GPT error'}\n",
      "{'left': 'england_epl/2015-2016/2015-10-03 - 17-00 Manchester City 6 - 1 Newcastle Utd/2_frames_actions/001299_Corner/001301.png', 'right': 'england_epl/2015-2016/2015-10-03 - 17-00 Manchester City 6 - 1 Newcastle Utd/2_frames_actions/001299_Corner/001299.png', 'answer': 'Right', 'CLIP': 0.8564453125, 'time': '001299', 'action': 'Corner', 'match': '2015-10-03 - 17-00 Manchester City 6 - 1 Newcastle Utd', 'season': '2015-2016', 'league': 'england_epl', 'gpt_answer': 'GPT error'}\n",
      "{'left': 'england_epl/2015-2016/2015-10-03 - 17-00 Manchester City 6 - 1 Newcastle Utd/2_frames_actions/001309_Shots off target/001311.png', 'right': 'england_epl/2015-2016/2015-10-03 - 17-00 Manchester City 6 - 1 Newcastle Utd/2_frames_actions/001309_Shots off target/001309.png', 'answer': 'Right', 'CLIP': 0.94677734375, 'time': '001309', 'action': 'Shots off target', 'match': '2015-10-03 - 17-00 Manchester City 6 - 1 Newcastle Utd', 'season': '2015-2016', 'league': 'england_epl', 'gpt_answer': 'GPT error'}\n",
      "{'left': 'england_epl/2015-2016/2015-10-03 - 17-00 Manchester City 6 - 1 Newcastle Utd/2_frames_actions/002668_Throw-in/002670.png', 'right': 'england_epl/2015-2016/2015-10-03 - 17-00 Manchester City 6 - 1 Newcastle Utd/2_frames_actions/002668_Throw-in/002668.png', 'answer': 'Right', 'CLIP': 0.97705078125, 'time': '002668', 'action': 'Throw-in', 'match': '2015-10-03 - 17-00 Manchester City 6 - 1 Newcastle Utd', 'season': '2015-2016', 'league': 'england_epl', 'gpt_answer': 'GPT error'}\n",
      "{'left': 'england_epl/2015-2016/2015-10-03 - 17-00 Manchester City 6 - 1 Newcastle Utd/2_frames_actions/000477_Goal/000479.png', 'right': 'england_epl/2015-2016/2015-10-03 - 17-00 Manchester City 6 - 1 Newcastle Utd/2_frames_actions/000477_Goal/000477.png', 'answer': 'Right', 'CLIP': 0.93701171875, 'time': '000477', 'action': 'Goal', 'match': '2015-10-03 - 17-00 Manchester City 6 - 1 Newcastle Utd', 'season': '2015-2016', 'league': 'england_epl', 'gpt_answer': 'GPT error'}\n",
      "{'left': 'england_epl/2015-2016/2015-10-03 - 17-00 Manchester City 6 - 1 Newcastle Utd/2_frames_actions/000219_Shots on target/000221.png', 'right': 'england_epl/2015-2016/2015-10-03 - 17-00 Manchester City 6 - 1 Newcastle Utd/2_frames_actions/000219_Shots on target/000219.png', 'answer': 'Right', 'CLIP': 0.90966796875, 'time': '000219', 'action': 'Shots on target', 'match': '2015-10-03 - 17-00 Manchester City 6 - 1 Newcastle Utd', 'season': '2015-2016', 'league': 'england_epl', 'gpt_answer': 'GPT error'}\n",
      "{'left': 'england_epl/2015-2016/2015-10-03 - 17-00 Manchester City 6 - 1 Newcastle Utd/1_frames_actions/002431_Corner/002433.png', 'right': 'england_epl/2015-2016/2015-10-03 - 17-00 Manchester City 6 - 1 Newcastle Utd/1_frames_actions/002431_Corner/002431.png', 'answer': 'Right', 'CLIP': 0.8134765625, 'time': '002431', 'action': 'Corner', 'match': '2015-10-03 - 17-00 Manchester City 6 - 1 Newcastle Utd', 'season': '2015-2016', 'league': 'england_epl', 'gpt_answer': 'GPT error'}\n",
      "{'left': 'england_epl/2015-2016/2015-10-03 - 17-00 Manchester City 6 - 1 Newcastle Utd/1_frames_actions/000466_Shots off target/000468.png', 'right': 'england_epl/2015-2016/2015-10-03 - 17-00 Manchester City 6 - 1 Newcastle Utd/1_frames_actions/000466_Shots off target/000466.png', 'answer': 'Right', 'CLIP': 0.91259765625, 'time': '000466', 'action': 'Shots off target', 'match': '2015-10-03 - 17-00 Manchester City 6 - 1 Newcastle Utd', 'season': '2015-2016', 'league': 'england_epl', 'gpt_answer': 'GPT error'}\n",
      "{'left': 'england_epl/2015-2016/2015-10-03 - 17-00 Manchester City 6 - 1 Newcastle Utd/1_frames_actions/002541_Shots on target/002541.png', 'right': 'england_epl/2015-2016/2015-10-03 - 17-00 Manchester City 6 - 1 Newcastle Utd/1_frames_actions/002541_Shots on target/002543.png', 'answer': 'Left', 'CLIP': 0.955078125, 'time': '002541', 'action': 'Shots on target', 'match': '2015-10-03 - 17-00 Manchester City 6 - 1 Newcastle Utd', 'season': '2015-2016', 'league': 'england_epl', 'gpt_answer': 'GPT error'}\n",
      "{'left': 'england_epl/2015-2016/2015-10-03 - 17-00 Manchester City 6 - 1 Newcastle Utd/1_frames_actions/002560_Throw-in/002560.png', 'right': 'england_epl/2015-2016/2015-10-03 - 17-00 Manchester City 6 - 1 Newcastle Utd/1_frames_actions/002560_Throw-in/002562.png', 'answer': 'Left', 'CLIP': 0.8515625, 'time': '002560', 'action': 'Throw-in', 'match': '2015-10-03 - 17-00 Manchester City 6 - 1 Newcastle Utd', 'season': '2015-2016', 'league': 'england_epl', 'gpt_answer': 'GPT error'}\n",
      "{'left': 'england_epl/2015-2016/2015-08-30 - 18-00 Swansea 2 - 1 Manchester United/2_frames_actions/001738_Shots off target/001740.png', 'right': 'england_epl/2015-2016/2015-08-30 - 18-00 Swansea 2 - 1 Manchester United/2_frames_actions/001738_Shots off target/001738.png', 'answer': 'Right', 'CLIP': 0.94921875, 'time': '001738', 'action': 'Shots off target', 'match': '2015-08-30 - 18-00 Swansea 2 - 1 Manchester United', 'season': '2015-2016', 'league': 'england_epl', 'gpt_answer': 'None'}\n",
      "{'left': 'england_epl/2015-2016/2015-12-26 - 18-00 Chelsea 2 - 2 Watford/2_frames_actions/001174_Goal/001176.png', 'right': 'england_epl/2015-2016/2015-12-26 - 18-00 Chelsea 2 - 2 Watford/2_frames_actions/001174_Goal/001174.png', 'answer': 'Right', 'CLIP': 0.81103515625, 'time': '001174', 'action': 'Goal', 'match': '2015-12-26 - 18-00 Chelsea 2 - 2 Watford', 'season': '2015-2016', 'league': 'england_epl', 'gpt_answer': 'GPT error'}\n",
      "{'left': 'england_epl/2015-2016/2015-12-26 - 18-00 Chelsea 2 - 2 Watford/1_frames_actions/001643_Throw-in/001643.png', 'right': 'england_epl/2015-2016/2015-12-26 - 18-00 Chelsea 2 - 2 Watford/1_frames_actions/001643_Throw-in/001645.png', 'answer': 'Left', 'CLIP': 0.94677734375, 'time': '001643', 'action': 'Throw-in', 'match': '2015-12-26 - 18-00 Chelsea 2 - 2 Watford', 'season': '2015-2016', 'league': 'england_epl', 'gpt_answer': 'None'}\n",
      "{'left': 'england_epl/2015-2016/2016-02-13 - 20-30 Chelsea 5 - 1 Newcastle Utd/2_frames_actions/001721_Throw-in/001721.png', 'right': 'england_epl/2015-2016/2016-02-13 - 20-30 Chelsea 5 - 1 Newcastle Utd/2_frames_actions/001721_Throw-in/001723.png', 'answer': 'Left', 'CLIP': 0.92333984375, 'time': '001721', 'action': 'Throw-in', 'match': '2016-02-13 - 20-30 Chelsea 5 - 1 Newcastle Utd', 'season': '2015-2016', 'league': 'england_epl', 'gpt_answer': 'None'}\n",
      "{'left': 'england_epl/2016-2017/2016-12-04 - 16-30 Bournemouth 4 - 3 Liverpool/2_frames_actions/001509_Throw-in/001509.png', 'right': 'england_epl/2016-2017/2016-12-04 - 16-30 Bournemouth 4 - 3 Liverpool/2_frames_actions/001509_Throw-in/001511.png', 'answer': 'Left', 'CLIP': 0.8837890625, 'time': '001509', 'action': 'Throw-in', 'match': '2016-12-04 - 16-30 Bournemouth 4 - 3 Liverpool', 'season': '2016-2017', 'league': 'england_epl', 'gpt_answer': 'GPT error'}\n",
      "{'left': 'england_epl/2016-2017/2016-12-04 - 16-30 Bournemouth 4 - 3 Liverpool/1_frames_actions/000651_Throw-in/000651.png', 'right': 'england_epl/2016-2017/2016-12-04 - 16-30 Bournemouth 4 - 3 Liverpool/1_frames_actions/000651_Throw-in/000653.png', 'answer': 'Left', 'CLIP': 0.91845703125, 'time': '000651', 'action': 'Throw-in', 'match': '2016-12-04 - 16-30 Bournemouth 4 - 3 Liverpool', 'season': '2016-2017', 'league': 'england_epl', 'gpt_answer': 'None'}\n",
      "{'left': 'europe_uefa-champions-league/2014-2015/2015-04-21 - 21-45 Barcelona 2 - 0 Paris SG/2_frames_actions/002018_Shots off target/002018.png', 'right': 'europe_uefa-champions-league/2014-2015/2015-04-21 - 21-45 Barcelona 2 - 0 Paris SG/2_frames_actions/002018_Shots off target/002020.png', 'answer': 'Left', 'CLIP': 0.9501953125, 'time': '002018', 'action': 'Shots off target', 'match': '2015-04-21 - 21-45 Barcelona 2 - 0 Paris SG', 'season': '2014-2015', 'league': 'europe_uefa-champions-league', 'gpt_answer': 'None'}\n",
      "{'left': 'europe_uefa-champions-league/2014-2015/2015-04-21 - 21-45 Barcelona 2 - 0 Paris SG/1_frames_actions/002483_Throw-in/002483.png', 'right': 'europe_uefa-champions-league/2014-2015/2015-04-21 - 21-45 Barcelona 2 - 0 Paris SG/1_frames_actions/002483_Throw-in/002485.png', 'answer': 'Left', 'CLIP': 0.98486328125, 'time': '002483', 'action': 'Throw-in', 'match': '2015-04-21 - 21-45 Barcelona 2 - 0 Paris SG', 'season': '2014-2015', 'league': 'europe_uefa-champions-league', 'gpt_answer': 'None'}\n",
      "{'left': 'europe_uefa-champions-league/2014-2015/2014-12-09 - 22-45 Real Madrid 4 - 0 Ludogorets/2_frames_actions/001640_Corner/001642.png', 'right': 'europe_uefa-champions-league/2014-2015/2014-12-09 - 22-45 Real Madrid 4 - 0 Ludogorets/2_frames_actions/001640_Corner/001640.png', 'answer': 'Right', 'CLIP': 0.93115234375, 'time': '001640', 'action': 'Corner', 'match': '2014-12-09 - 22-45 Real Madrid 4 - 0 Ludogorets', 'season': '2014-2015', 'league': 'europe_uefa-champions-league', 'gpt_answer': 'None'}\n",
      "{'left': 'europe_uefa-champions-league/2014-2015/2015-04-15 - 21-45 Paris SG 1 - 3 Barcelona/1_frames_actions/000823_Throw-in/000825.png', 'right': 'europe_uefa-champions-league/2014-2015/2015-04-15 - 21-45 Paris SG 1 - 3 Barcelona/1_frames_actions/000823_Throw-in/000823.png', 'answer': 'Right', 'CLIP': 0.9833984375, 'time': '000823', 'action': 'Throw-in', 'match': '2015-04-15 - 21-45 Paris SG 1 - 3 Barcelona', 'season': '2014-2015', 'league': 'europe_uefa-champions-league', 'gpt_answer': 'None'}\n",
      "{'left': 'europe_uefa-champions-league/2014-2015/2014-11-05 - 22-45 Manchester City 1 - 2 CSKA Moscow/2_frames_actions/001996_Foul/001996.png', 'right': 'europe_uefa-champions-league/2014-2015/2014-11-05 - 22-45 Manchester City 1 - 2 CSKA Moscow/2_frames_actions/001996_Foul/001998.png', 'answer': 'Left', 'CLIP': 0.9345703125, 'time': '001996', 'action': 'Foul', 'match': '2014-11-05 - 22-45 Manchester City 1 - 2 CSKA Moscow', 'season': '2014-2015', 'league': 'europe_uefa-champions-league', 'gpt_answer': 'None'}\n",
      "{'left': 'europe_uefa-champions-league/2014-2015/2014-12-09 - 22-45 Galatasaray 1 - 4 Arsenal/1_frames_actions/002566_Shots off target/002566.png', 'right': 'europe_uefa-champions-league/2014-2015/2014-12-09 - 22-45 Galatasaray 1 - 4 Arsenal/1_frames_actions/002566_Shots off target/002568.png', 'answer': 'Left', 'CLIP': 0.966796875, 'time': '002566', 'action': 'Shots off target', 'match': '2014-12-09 - 22-45 Galatasaray 1 - 4 Arsenal', 'season': '2014-2015', 'league': 'europe_uefa-champions-league', 'gpt_answer': 'None'}\n",
      "{'left': 'europe_uefa-champions-league/2014-2015/2015-03-11 - 22-45 Bayern Munich 7 - 0 Shakhtar Donetsk/2_frames_actions/001031_Corner/001033.png', 'right': 'europe_uefa-champions-league/2014-2015/2015-03-11 - 22-45 Bayern Munich 7 - 0 Shakhtar Donetsk/2_frames_actions/001031_Corner/001031.png', 'answer': 'Right', 'CLIP': 0.939453125, 'time': '001031', 'action': 'Corner', 'match': '2015-03-11 - 22-45 Bayern Munich 7 - 0 Shakhtar Donetsk', 'season': '2014-2015', 'league': 'europe_uefa-champions-league', 'gpt_answer': 'None'}\n",
      "{'left': 'europe_uefa-champions-league/2015-2016/2015-09-29 - 21-45 FC Porto 2 - 1 Chelsea/2_frames_actions/000681_Foul/000683.png', 'right': 'europe_uefa-champions-league/2015-2016/2015-09-29 - 21-45 FC Porto 2 - 1 Chelsea/2_frames_actions/000681_Foul/000681.png', 'answer': 'Right', 'CLIP': 0.9482421875, 'time': '000681', 'action': 'Foul', 'match': '2015-09-29 - 21-45 FC Porto 2 - 1 Chelsea', 'season': '2015-2016', 'league': 'europe_uefa-champions-league', 'gpt_answer': 'GPT error'}\n",
      "{'left': 'europe_uefa-champions-league/2015-2016/2015-09-16 - 21-45 Dyn. Kiev 2 - 2 FC Porto/2_frames_actions/002132_Corner/002132.png', 'right': 'europe_uefa-champions-league/2015-2016/2015-09-16 - 21-45 Dyn. Kiev 2 - 2 FC Porto/2_frames_actions/002132_Corner/002134.png', 'answer': 'Left', 'CLIP': 0.78466796875, 'time': '002132', 'action': 'Corner', 'match': '2015-09-16 - 21-45 Dyn. Kiev 2 - 2 FC Porto', 'season': '2015-2016', 'league': 'europe_uefa-champions-league', 'gpt_answer': 'GPT error'}\n",
      "{'left': 'europe_uefa-champions-league/2015-2016/2015-09-15 - 21-45 PSV 2 - 1 Manchester United/2_frames_actions/001733_Throw-in/001733.png', 'right': 'europe_uefa-champions-league/2015-2016/2015-09-15 - 21-45 PSV 2 - 1 Manchester United/2_frames_actions/001733_Throw-in/001735.png', 'answer': 'Left', 'CLIP': 0.9619140625, 'time': '001733', 'action': 'Throw-in', 'match': '2015-09-15 - 21-45 PSV 2 - 1 Manchester United', 'season': '2015-2016', 'league': 'europe_uefa-champions-league', 'gpt_answer': 'None'}\n",
      "{'left': 'europe_uefa-champions-league/2015-2016/2015-09-15 - 21-45 PSV 2 - 1 Manchester United/2_frames_actions/002223_Throw-in/002223.png', 'right': 'europe_uefa-champions-league/2015-2016/2015-09-15 - 21-45 PSV 2 - 1 Manchester United/2_frames_actions/002223_Throw-in/002225.png', 'answer': 'Left', 'CLIP': 0.9736328125, 'time': '002223', 'action': 'Throw-in', 'match': '2015-09-15 - 21-45 PSV 2 - 1 Manchester United', 'season': '2015-2016', 'league': 'europe_uefa-champions-league', 'gpt_answer': 'None'}\n",
      "{'left': 'europe_uefa-champions-league/2015-2016/2015-09-16 - 21-45 Olympiakos Piraeus 0 - 3 Bayern Munich/2_frames_actions/000972_Indirect free-kick/000972.png', 'right': 'europe_uefa-champions-league/2015-2016/2015-09-16 - 21-45 Olympiakos Piraeus 0 - 3 Bayern Munich/2_frames_actions/000972_Indirect free-kick/000974.png', 'answer': 'Left', 'CLIP': 0.86865234375, 'time': '000972', 'action': 'Indirect free-kick', 'match': '2015-09-16 - 21-45 Olympiakos Piraeus 0 - 3 Bayern Munich', 'season': '2015-2016', 'league': 'europe_uefa-champions-league', 'gpt_answer': 'GPT error'}\n",
      "{'left': 'europe_uefa-champions-league/2015-2016/2015-09-16 - 21-45 Olympiakos Piraeus 0 - 3 Bayern Munich/1_frames_actions/001217_Indirect free-kick/001217.png', 'right': 'europe_uefa-champions-league/2015-2016/2015-09-16 - 21-45 Olympiakos Piraeus 0 - 3 Bayern Munich/1_frames_actions/001217_Indirect free-kick/001219.png', 'answer': 'Left', 'CLIP': 0.9306640625, 'time': '001217', 'action': 'Indirect free-kick', 'match': '2015-09-16 - 21-45 Olympiakos Piraeus 0 - 3 Bayern Munich', 'season': '2015-2016', 'league': 'europe_uefa-champions-league', 'gpt_answer': 'GPT error'}\n",
      "{'left': 'europe_uefa-champions-league/2016-2017/2016-10-19 - 21-45 Paris SG 3 - 0 Basel/2_frames_actions/000842_Throw-in/000844.png', 'right': 'europe_uefa-champions-league/2016-2017/2016-10-19 - 21-45 Paris SG 3 - 0 Basel/2_frames_actions/000842_Throw-in/000842.png', 'answer': 'Right', 'CLIP': 0.9853515625, 'time': '000842', 'action': 'Throw-in', 'match': '2016-10-19 - 21-45 Paris SG 3 - 0 Basel', 'season': '2016-2017', 'league': 'europe_uefa-champions-league', 'gpt_answer': 'None'}\n"
     ]
    }
   ],
   "source": [
    "refine = []\n",
    "rerun = []\n",
    "error = []\n",
    "for pair in gpt:\n",
    "    new = deepcopy(pair)\n",
    "    if pair['gpt_answer'] == None :\n",
    "        rerun.append(pair)\n",
    "    elif 'Right' in pair['gpt_answer']:\n",
    "        new['gpt_answer'] = 'Right'\n",
    "        refine.append(new)\n",
    "    elif 'Left' in pair['gpt_answer']:\n",
    "        new['gpt_answer'] = 'Left'\n",
    "        refine.append(new)\n",
    "    else:\n",
    "        error.append(pair)\n",
    "        print(pair)\n",
    "        "
   ]
  },
  {
   "cell_type": "code",
   "execution_count": 33,
   "id": "792acb37",
   "metadata": {},
   "outputs": [],
   "source": [
    "#error = []\n",
    "correct_pred = []\n",
    "wrong_pred = []\n",
    "gt = []\n",
    "correct = []\n",
    "wrong = []\n",
    "\n",
    "for pair in refine:\n",
    "    gt.append(pair['answer'])\n",
    "    # if pair['gpt_answer'] not in ('Left', \"Right\"):\n",
    "    #     # print(pair)\n",
    "    #     error.append(pair)\n",
    "    #     continue\n",
    "    if pair['answer'] == pair['gpt_answer']:\n",
    "            correct.append(pair)\n",
    "            correct_pred.append(pair['gpt_answer'])\n",
    "    elif pair['answer'] != pair['gpt_answer']:\n",
    "            wrong.append(pair)\n",
    "            wrong_pred.append(pair['gpt_answer'])\n",
    "    else:\n",
    "        print('fuck')"
   ]
  },
  {
   "cell_type": "code",
   "execution_count": 34,
   "id": "248990cb",
   "metadata": {},
   "outputs": [
    {
     "data": {
      "image/png": "[encoded data removed]",
      "text/plain": [
       "<Figure size 432x288 with 1 Axes>"
      ]
     },
     "metadata": {},
     "output_type": "display_data"
    }
   ],
   "source": [
    "sizes = [len(correct), len(wrong), len(error)]\n",
    "# Labels with percentages and exact counts\n",
    "labels = [f'Correct - {sizes[0]} items ({sizes[0]/sum(sizes)*100:.2f}%)',\n",
    "          f'Wrong - {sizes[1]} items ({sizes[1]/sum(sizes)*100:.2f}%)', \n",
    "         f'Error - {sizes[2]} items ({sizes[2]/sum(sizes)*100:.2f}%)', \n",
    "         ]\n",
    "\n",
    "# Colors for each section\n",
    "colors = ['gold', 'yellowgreen', 'lightcoral']\n",
    "\n",
    "# Plotting the pie chart\n",
    "plt.pie(sizes, labels=labels, colors=colors, autopct='%1.1f%%', startangle=140)\n",
    "plt.axis('equal')  # Equal aspect ratio ensures that pie is drawn as a circle.\n",
    "plt.title('Soccer GPT')\n",
    "plt.show()"
   ]
  },
  {
   "cell_type": "markdown",
   "id": "c61dc284",
   "metadata": {},
   "source": [
    "# LLaVA-1.6"
   ]
  },
  {
   "cell_type": "code",
   "execution_count": 40,
   "id": "0d36c9e5",
   "metadata": {},
   "outputs": [],
   "source": [
    "error = []\n",
    "refine = []\n",
    "rerun = []\n",
    "for pair in llava:\n",
    "    new = deepcopy(pair)\n",
    "    if pair['llava_answer'] == None :\n",
    "        rerun.append(pair)\n",
    "    elif 'Right' in pair['llava_answer']:\n",
    "        new['llava_answer'] = 'Right'\n",
    "        refine.append(new)\n",
    "    elif 'Left' in pair['llava_answer']:\n",
    "        new['llava_answer'] = 'Left'\n",
    "        refine.append(new)\n",
    "    else:\n",
    "        error.append(pair)\n",
    "        print(pair)"
   ]
  },
  {
   "cell_type": "code",
   "execution_count": 41,
   "id": "bf0ed8df",
   "metadata": {},
   "outputs": [
    {
     "data": {
      "text/plain": [
       "8316"
      ]
     },
     "execution_count": 41,
     "metadata": {},
     "output_type": "execute_result"
    }
   ],
   "source": [
    "len(refine)\n"
   ]
  },
  {
   "cell_type": "code",
   "execution_count": 42,
   "id": "970d748a",
   "metadata": {},
   "outputs": [
    {
     "data": {
      "text/plain": [
       "0"
      ]
     },
     "execution_count": 42,
     "metadata": {},
     "output_type": "execute_result"
    }
   ],
   "source": [
    "len(error)"
   ]
  },
  {
   "cell_type": "code",
   "execution_count": 43,
   "id": "17be2bc3",
   "metadata": {},
   "outputs": [],
   "source": [
    "#error = []\n",
    "correct_pred = []\n",
    "wrong_pred = []\n",
    "gt = []\n",
    "correct = []\n",
    "wrong = []\n",
    "\n",
    "for pair in refine:\n",
    "    gt.append(pair['answer'])\n",
    "    # if pair['llava_answer'] not in ('Left', \"Right\"):\n",
    "    #     # print(pair)\n",
    "    #     error.append(pair)\n",
    "    #     continue\n",
    "    if pair['answer'] == pair['llava_answer']:\n",
    "            correct.append(pair)\n",
    "            correct_pred.append(pair['llava_answer'])\n",
    "    elif pair['answer'] != pair['llava_answer']:\n",
    "            wrong.append(pair)\n",
    "            wrong_pred.append(pair['llava_answer'])\n",
    "    else:\n",
    "        print('fuck')"
   ]
  },
  {
   "cell_type": "code",
   "execution_count": 44,
   "id": "5eb59082",
   "metadata": {},
   "outputs": [
    {
     "data": {
      "text/plain": [
       "0.5063732563732564"
      ]
     },
     "execution_count": 44,
     "metadata": {},
     "output_type": "execute_result"
    }
   ],
   "source": [
    "len(correct) / (len(correct) + len(wrong))"
   ]
  },
  {
   "cell_type": "code",
   "execution_count": 45,
   "id": "3c274754",
   "metadata": {},
   "outputs": [
    {
     "data": {
      "text/plain": [
       "Counter({'Left': 8315, 'Right': 1})"
      ]
     },
     "execution_count": 45,
     "metadata": {},
     "output_type": "execute_result"
    }
   ],
   "source": [
    "Counter(wrong_pred+correct_pred)"
   ]
  },
  {
   "cell_type": "code",
   "execution_count": 46,
   "id": "e035d89d",
   "metadata": {},
   "outputs": [
    {
     "data": {
      "image/png": "[encoded data removed]",
      "text/plain": [
       "<Figure size 640x480 with 1 Axes>"
      ]
     },
     "metadata": {},
     "output_type": "display_data"
    }
   ],
   "source": [
    "sizes = [len(correct), len(wrong), len(error)]\n",
    "# Labels with percentages and exact counts\n",
    "labels = [f'Correct - {sizes[0]} items ({sizes[0]/sum(sizes)*100:.2f}%)',\n",
    "          f'Wrong - {sizes[1]} items ({sizes[1]/sum(sizes)*100:.2f}%)', \n",
    "         f'Error - {sizes[2]} items ({sizes[2]/sum(sizes)*100:.2f}%)', \n",
    "         ]\n",
    "\n",
    "# Colors for each section\n",
    "colors = ['gold', 'yellowgreen', 'lightcoral']\n",
    "\n",
    "# Plotting the pie chart\n",
    "plt.pie(sizes, labels=labels, colors=colors, autopct='%1.1f%%', startangle=140)\n",
    "plt.axis('equal')  # Equal aspect ratio ensures that pie is drawn as a circle.\n",
    "plt.title('SoccerNet LLaVa-1.6')\n",
    "plt.show()"
   ]
  },
  {
   "cell_type": "markdown",
   "id": "2715a6d7",
   "metadata": {},
   "source": [
    "# Vila1.5"
   ]
  },
  {
   "cell_type": "code",
   "execution_count": 47,
   "id": "0b80b13c",
   "metadata": {},
   "outputs": [],
   "source": [
    "error = []\n",
    "refine = []\n",
    "rerun = []\n",
    "for pair in vila:\n",
    "    new = deepcopy(pair)\n",
    "    if pair['vila_answer'] == None :\n",
    "        rerun.append(pair)\n",
    "    elif 'Right' in pair['vila_answer']:\n",
    "        new['vila_answer'] = 'Right'\n",
    "        refine.append(new)\n",
    "    elif 'Left' in pair['vila_answer']:\n",
    "        new['vila_answer'] = 'Left'\n",
    "        refine.append(new)\n",
    "    else:\n",
    "        error.append(pair)\n",
    "        print(pair)"
   ]
  },
  {
   "cell_type": "code",
   "execution_count": 48,
   "id": "967b68fc",
   "metadata": {},
   "outputs": [],
   "source": [
    "#error = []\n",
    "correct_pred = []\n",
    "wrong_pred = []\n",
    "gt = []\n",
    "correct = []\n",
    "wrong = []\n",
    "\n",
    "for pair in refine:\n",
    "    gt.append(pair['answer'])\n",
    "    # if pair['vila_answer'] not in ('Left', \"Right\"):\n",
    "    #     # print(pair)\n",
    "    #     error.append(pair)\n",
    "    #     continue\n",
    "    if pair['answer'] == pair['vila_answer']:\n",
    "            correct.append(pair)\n",
    "            correct_pred.append(pair['vila_answer'])\n",
    "    elif pair['answer'] != pair['vila_answer']:\n",
    "            wrong.append(pair)\n",
    "            wrong_pred.append(pair['vila_answer'])\n",
    "    else:\n",
    "        print('fuck')"
   ]
  },
  {
   "cell_type": "code",
   "execution_count": 49,
   "id": "cfb6fd50",
   "metadata": {},
   "outputs": [
    {
     "data": {
      "text/plain": [
       "0.5061327561327561"
      ]
     },
     "execution_count": 49,
     "metadata": {},
     "output_type": "execute_result"
    }
   ],
   "source": [
    "len(correct) / (len(correct) + len(wrong))"
   ]
  },
  {
   "cell_type": "code",
   "execution_count": 50,
   "id": "40b44d32",
   "metadata": {},
   "outputs": [
    {
     "data": {
      "text/plain": [
       "Counter({'Left': 8315, 'Right': 1})"
      ]
     },
     "execution_count": 50,
     "metadata": {},
     "output_type": "execute_result"
    }
   ],
   "source": [
    "Counter(wrong_pred+correct_pred)"
   ]
  },
  {
   "cell_type": "code",
   "execution_count": 51,
   "id": "12134fcc",
   "metadata": {},
   "outputs": [
    {
     "data": {
      "image/png": "[encoded data removed]",
      "text/plain": [
       "<Figure size 640x480 with 1 Axes>"
      ]
     },
     "metadata": {},
     "output_type": "display_data"
    }
   ],
   "source": [
    "sizes = [len(correct), len(wrong), len(error)]\n",
    "# Labels with percentages and exact counts\n",
    "labels = [f'Correct - {sizes[0]} items ({sizes[0]/sum(sizes)*100:.2f}%)',\n",
    "          f'Wrong - {sizes[1]} items ({sizes[1]/sum(sizes)*100:.2f}%)', \n",
    "         f'Error - {sizes[2]} items ({sizes[2]/sum(sizes)*100:.2f}%)', \n",
    "         ]\n",
    "\n",
    "# Colors for each section\n",
    "colors = ['gold', 'yellowgreen', 'lightcoral']\n",
    "\n",
    "# Plotting the pie chart\n",
    "plt.pie(sizes, labels=labels, colors=colors, autopct='%1.1f%%', startangle=140)\n",
    "plt.axis('equal')  # Equal aspect ratio ensures that pie is drawn as a circle.\n",
    "plt.title('SoccerNet Vila1.5')\n",
    "plt.show()"
   ]
  }
 ],
 "metadata": {
  "kernelspec": {
   "display_name": "Python 3 (ipykernel)",
   "language": "python",
   "name": "python3"
  },
  "language_info": {
   "codemirror_mode": {
    "name": "ipython",
    "version": 3
   },
   "file_extension": ".py",
   "mimetype": "text/x-python",
   "name": "python",
   "nbconvert_exporter": "python",
   "pygments_lexer": "ipython3",
   "version": "3.9.6"
  },
  "vscode": {
   "interpreter": {
    "hash": "9e661d40c8188a26cf79371062655916cda7c58b8d0eda8499f8a3a5b7eb1ad0"
   }
  }
 },
 "nbformat": 4,
 "nbformat_minor": 5
}
