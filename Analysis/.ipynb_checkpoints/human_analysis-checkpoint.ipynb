{
 "cells": [
  {
   "cell_type": "code",
   "execution_count": 1,
   "id": "bc188462",
   "metadata": {},
   "outputs": [],
   "source": [
    "import os\n",
    "import json\n",
    "from collections import defaultdict\n",
    "from collections import Counter\n",
    "from copy import deepcopy\n",
    "import matplotlib.pyplot as plt"
   ]
  },
  {
   "cell_type": "code",
   "execution_count": 2,
   "id": "3c1ba1c4",
   "metadata": {},
   "outputs": [],
   "source": [
    "RESULTS = '../results/human_eval_10'"
   ]
  },
  {
   "cell_type": "code",
   "execution_count": 25,
   "id": "77af6ea9",
   "metadata": {},
   "outputs": [],
   "source": [
    "gpt = json.load(open(f'{RESULTS}/result.json'))\n",
    "jinsu = json.load(open(f'{RESULTS}/jinsu.json'))"
   ]
  },
  {
   "cell_type": "code",
   "execution_count": 27,
   "id": "49513aa3",
   "metadata": {},
   "outputs": [
    {
     "data": {
      "text/plain": [
       "{'image_1': '/local/scratch/jihyung/comp_imgs/dataset/comp_cars/data/test_image/73/467/2015/e788a609573809.jpg',\n",
       " 'image_2': '/local/scratch/jihyung/comp_imgs/dataset/comp_cars/data/test_image/73/467/2009/14506ee7ad8b75.jpg',\n",
       " 'answer': 'Left',\n",
       " 'question': 'Based on these images, which car is newer in terms of its model year or release year? \\nNote that this question refers solely to the year each car was first introduced or manufactured, \\nnot its current condition or usage.',\n",
       " 'final_option': ['Left', 'Right'],\n",
       " 'human_answer': 'Right'}"
      ]
     },
     "execution_count": 27,
     "metadata": {},
     "output_type": "execute_result"
    }
   ],
   "source": [
    "jinsu[0]"
   ]
  },
  {
   "cell_type": "markdown",
   "id": "31036a81",
   "metadata": {},
   "source": [
    "# GPT"
   ]
  },
  {
   "cell_type": "code",
   "execution_count": 22,
   "id": "e88f06c5",
   "metadata": {},
   "outputs": [],
   "source": [
    "error = []\n",
    "correct_pred = []\n",
    "wrong_pred = []\n",
    "gt = []\n",
    "correct = []\n",
    "wrong = []\n",
    "\n",
    "for pair in gpt:\n",
    "    pair['final_option'] = [i.rstrip().lstrip() for i in pair['final_option']]\n",
    "    if pair['gpt_answer'] not in pair['final_option']:\n",
    "        error.append(pair)\n",
    "    elif pair['answer'] == pair['gpt_answer']:\n",
    "        correct.append(pair)\n",
    "    elif pair['answer'] != pair['gpt_answer']:\n",
    "        wrong.append(pair)\n",
    "        wrong_pred.append(pair['gpt_answer'])\n",
    "    else:\n",
    "        print('fuck')"
   ]
  },
  {
   "cell_type": "code",
   "execution_count": 24,
   "id": "0eb10cc0",
   "metadata": {},
   "outputs": [
    {
     "data": {
      "image/png": "[encoded data removed]",
      "text/plain": [
       "<Figure size 432x288 with 1 Axes>"
      ]
     },
     "metadata": {},
     "output_type": "display_data"
    }
   ],
   "source": [
    "sizes = [len(correct), len(wrong), len(error)]\n",
    "# Labels with percentages and exact counts\n",
    "labels = [f'Correct - {sizes[0]} items ({sizes[0]/sum(sizes)*100:.2f}%)',\n",
    "          f'Wrong - {sizes[1]} items ({sizes[1]/sum(sizes)*100:.2f}%)', \n",
    "         f'Error - {sizes[2]} items ({sizes[2]/sum(sizes)*100:.2f}%)', \n",
    "         ]\n",
    "\n",
    "# Colors for each section\n",
    "colors = ['gold', 'yellowgreen', 'lightcoral']\n",
    "\n",
    "# Plotting the pie chart\n",
    "plt.pie(sizes, labels=labels, colors=colors, autopct='%1.1f%%', startangle=140)\n",
    "plt.axis('equal')  # Equal aspect ratio ensures that pie is drawn as a circle.\n",
    "plt.title('Human GPT')\n",
    "plt.show()"
   ]
  },
  {
   "cell_type": "markdown",
   "id": "6bd81973",
   "metadata": {},
   "source": [
    "# jinsu"
   ]
  },
  {
   "cell_type": "code",
   "execution_count": 35,
   "id": "75df97e1",
   "metadata": {},
   "outputs": [],
   "source": [
    "error = []\n",
    "correct_pred = []\n",
    "wrong_pred = []\n",
    "gt = []\n",
    "correct = []\n",
    "wrong = []\n",
    "\n",
    "for pair in jinsu:\n",
    "    pair['final_option'] = [i.rstrip().lstrip() for i in pair['final_option']]\n",
    "    if pair['human_answer']:\n",
    "        pair['human_answer'] = pair['human_answer'].rstrip().lstrip()\n",
    "    if pair['human_answer'] not in pair['final_option']:\n",
    "        error.append(pair)\n",
    "    elif pair['answer'] == pair['human_answer']:\n",
    "        correct.append(pair)\n",
    "    elif pair['answer'] != pair['human_answer']:\n",
    "        wrong.append(pair)\n",
    "        wrong_pred.append(pair['human_answer'])\n",
    "    else:\n",
    "        print('fuck')"
   ]
  },
  {
   "cell_type": "code",
   "execution_count": 36,
   "id": "96e93c21",
   "metadata": {},
   "outputs": [
    {
     "data": {
      "image/png": "[encoded data removed]",
      "text/plain": [
       "<Figure size 432x288 with 1 Axes>"
      ]
     },
     "metadata": {},
     "output_type": "display_data"
    }
   ],
   "source": [
    "sizes = [len(correct), len(wrong), len(error)]\n",
    "# Labels with percentages and exact counts\n",
    "labels = [f'Correct - {sizes[0]} items ({sizes[0]/sum(sizes)*100:.2f}%)',\n",
    "          f'Wrong - {sizes[1]} items ({sizes[1]/sum(sizes)*100:.2f}%)', \n",
    "         f'Error - {sizes[2]} items ({sizes[2]/sum(sizes)*100:.2f}%)', \n",
    "         ]\n",
    "\n",
    "# Colors for each section\n",
    "colors = ['gold', 'yellowgreen', 'lightcoral']\n",
    "\n",
    "# Plotting the pie chart\n",
    "plt.pie(sizes, labels=labels, colors=colors, autopct='%1.1f%%', startangle=140)\n",
    "plt.axis('equal')  # Equal aspect ratio ensures that pie is drawn as a circle.\n",
    "plt.title('Human Jinsu')\n",
    "plt.show()"
   ]
  },
  {
   "cell_type": "code",
   "execution_count": null,
   "id": "0f7dd684",
   "metadata": {},
   "outputs": [],
   "source": []
  }
 ],
 "metadata": {
  "kernelspec": {
   "display_name": "Python 3 (ipykernel)",
   "language": "python",
   "name": "python3"
  },
  "language_info": {
   "codemirror_mode": {
    "name": "ipython",
    "version": 3
   },
   "file_extension": ".py",
   "mimetype": "text/x-python",
   "name": "python",
   "nbconvert_exporter": "python",
   "pygments_lexer": "ipython3",
   "version": "3.9.6"
  },
  "vscode": {
   "interpreter": {
    "hash": "9e661d40c8188a26cf79371062655916cda7c58b8d0eda8499f8a3a5b7eb1ad0"
   }
  }
 },
 "nbformat": 4,
 "nbformat_minor": 5
}
