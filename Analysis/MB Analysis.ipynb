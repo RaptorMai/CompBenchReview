{
 "cells": [
  {
   "cell_type": "code",
   "execution_count": 57,
   "id": "da9fd356",
   "metadata": {},
   "outputs": [],
   "source": [
    "import os\n",
    "import json\n",
    "from collections import defaultdict\n",
    "from collections import Counter\n",
    "from copy import deepcopy\n",
    "import matplotlib.pyplot as plt"
   ]
  },
  {
   "cell_type": "code",
   "execution_count": 4,
   "id": "3eaed600",
   "metadata": {},
   "outputs": [],
   "source": [
    "RESULTS = '../results/MB'"
   ]
  },
  {
   "cell_type": "code",
   "execution_count": 5,
   "id": "267922f2",
   "metadata": {},
   "outputs": [],
   "source": [
    "files = [\"results_MB_test_0_400_gemini.json\",\n",
    "\"results_MB_test_0_400_gpt.json\",\n",
    "\"results_MB_test_400_612_gemini.json\",\n",
    "\"results_MB_test_400_612_gpt.json\",\n",
    "\"results_MB_val_0_315_gemini.json\",\n",
    "\"results_MB_val_0_315_gpt.json\"]"
   ]
  },
  {
   "cell_type": "code",
   "execution_count": 6,
   "id": "25430edf",
   "metadata": {},
   "outputs": [],
   "source": [
    "gemini = []\n",
    "gpt = []\n",
    "for i in files:\n",
    "    if 'gemini' in i:\n",
    "        gemini += json.load(open(f'{RESULTS}/{i}'))\n",
    "    elif 'gpt' in i:\n",
    "        gpt += json.load(open(f'{RESULTS}/{i}'))\n",
    "    else:\n",
    "        print(i)"
   ]
  },
  {
   "cell_type": "code",
   "execution_count": 53,
   "id": "5169ca26",
   "metadata": {},
   "outputs": [],
   "source": [
    "def cal_acc_gemini(key, data):\n",
    "    correct = []\n",
    "    wrong = []\n",
    "    invalid = []\n",
    "    error = []\n",
    "    c = 0\n",
    "    for i in data:\n",
    "        c += 1\n",
    "        pred = i[key].lstrip(' ').rstrip(' ').lower()\n",
    "        gt = i['Answeer']\n",
    "        options = [j.lstrip(' ').rstrip(' ').lower() for j in i['Modified_option'].split(',')] + ['none']\n",
    "        if pred == 'gemini error':\n",
    "            error.append(i)\n",
    "        elif pred not in options:\n",
    "            invalid.append(i)\n",
    "        else:\n",
    "            if pred == gt:\n",
    "                correct.append(i)\n",
    "            else:\n",
    "                wrong.append(i)\n",
    "    return correct, wrong, invalid, error, c"
   ]
  },
  {
   "cell_type": "code",
   "execution_count": 54,
   "id": "7746dc49",
   "metadata": {},
   "outputs": [],
   "source": [
    "key = 'gemini_answer'\n",
    "correct, wrong, invalid, error, count = cal_acc(key, gemini)"
   ]
  },
  {
   "cell_type": "code",
   "execution_count": 55,
   "id": "7342b5ec",
   "metadata": {},
   "outputs": [],
   "source": [
    "count"
   ]
  },
  {
   "cell_type": "code",
   "execution_count": 58,
   "id": "db6c9102",
   "metadata": {},
   "outputs": [],
   "source": [
    "sizes = [len(correct), len(wrong), len(invalid)]\n",
    "\n",
    "# Labels with percentages and exact counts\n",
    "labels = [f'Correct - {sizes[0]} items ({sizes[0]/sum(sizes)*100:.2f}%)',\n",
    "          f'Wrong - {sizes[1]} items ({sizes[1]/sum(sizes)*100:.2f}%)',\n",
    "          f'Invalid - {sizes[2]} items ({sizes[2]/sum(sizes)*100:.2f}%)']\n",
    "\n",
    "# Colors for each section\n",
    "colors = ['gold', 'yellowgreen', 'lightcoral']\n",
    "\n",
    "# Plotting the pie chart\n",
    "plt.pie(sizes, labels=labels, colors=colors, autopct='%1.1f%%', startangle=140)\n",
    "plt.axis('equal')  # Equal aspect ratio ensures that pie is drawn as a circle.\n",
    "plt.title('Gemini')\n",
    "plt.show()"
   ]
  },
  {
   "cell_type": "code",
   "execution_count": 59,
   "id": "a8f3e33e",
   "metadata": {},
   "outputs": [],
   "source": [
    "acc = len(correct) / (len(correct) + len(wrong))"
   ]
  },
  {
   "cell_type": "code",
   "execution_count": 60,
   "id": "f4ee2f23",
   "metadata": {},
   "outputs": [],
   "source": [
    "acc"
   ]
  },
  {
   "cell_type": "markdown",
   "id": "2db1e59c",
   "metadata": {},
   "source": [
    "# GPT"
   ]
  },
  {
   "cell_type": "code",
   "execution_count": 69,
   "id": "f5f15e06",
   "metadata": {},
   "outputs": [],
   "source": [
    "correct = []\n",
    "wrong = []\n",
    "invalid = []\n",
    "error = []\n",
    "c = 0\n",
    "for i in data:\n",
    "    c += 1\n",
    "    pred = i[key]\n",
    "    if isinstance(pred, dict):\n",
    "        error.append(i)\n",
    "    else:\n",
    "        pred = pred.lstrip(' ').rstrip(' ').lower()\n",
    "    gt = i['Answeer']\n",
    "    options = [j.lstrip(' ').rstrip(' ').lower() for j in i['Modified_option'].split(',')] + ['none']\n",
    "    \n",
    "    if pred not in options:\n",
    "        invalid.append(i)\n",
    "    else:\n",
    "        if pred == gt:\n",
    "            correct.append(i)\n",
    "        else:\n",
    "            wrong.append(i)"
   ]
  },
  {
   "cell_type": "code",
   "execution_count": 70,
   "id": "baaa3bff",
   "metadata": {},
   "outputs": [],
   "source": [
    "sizes = [len(correct), len(wrong), len(invalid)]\n",
    "\n",
    "# Labels with percentages and exact counts\n",
    "labels = [f'Correct - {sizes[0]} items ({sizes[0]/sum(sizes)*100:.2f}%)',\n",
    "          f'Wrong - {sizes[1]} items ({sizes[1]/sum(sizes)*100:.2f}%)',\n",
    "          f'Invalid - {sizes[2]} items ({sizes[2]/sum(sizes)*100:.2f}%)']\n",
    "\n",
    "# Colors for each section\n",
    "colors = ['gold', 'yellowgreen', 'lightcoral']\n",
    "\n",
    "# Plotting the pie chart\n",
    "plt.pie(sizes, labels=labels, colors=colors, autopct='%1.1f%%', startangle=140)\n",
    "plt.axis('equal')  # Equal aspect ratio ensures that pie is drawn as a circle.\n",
    "plt.title('GPT')\n",
    "plt.show()"
   ]
  },
  {
   "cell_type": "code",
   "execution_count": 71,
   "id": "4b37d257",
   "metadata": {},
   "outputs": [],
   "source": [
    "len(correct) / (len(correct) + len(wrong))"
   ]
  },
  {
   "cell_type": "code",
   "execution_count": null,
   "id": "74e85b2d",
   "metadata": {},
   "outputs": [],
   "source": []
  }
 ],
 "metadata": {
  "kernelspec": {
   "display_name": "Python 3 (ipykernel)",
   "language": "python",
   "name": "python3"
  },
  "language_info": {
   "codemirror_mode": {
    "name": "ipython",
    "version": 3
   },
   "file_extension": ".py",
   "mimetype": "text/x-python",
   "name": "python",
   "nbconvert_exporter": "python",
   "pygments_lexer": "ipython3",
   "version": "3.9.6"
  },
  "vscode": {
   "interpreter": {
    "hash": "9e661d40c8188a26cf79371062655916cda7c58b8d0eda8499f8a3a5b7eb1ad0"
   }
  }
 },
 "nbformat": 4,
 "nbformat_minor": 5
}
