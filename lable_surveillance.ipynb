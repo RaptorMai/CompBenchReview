{
 "cells": [
  {
   "cell_type": "code",
   "execution_count": 3,
   "id": "34e4de90",
   "metadata": {
    "collapsed": true,
    "scrolled": true
   },
   "outputs": [],
   "source": [
    "import json\n",
    "from IPython.display import display, Image\n",
    "import ipywidgets as widgets\n",
    "from IPython.display import clear_output\n",
    "from ipywidgets import Image as WidgetImage"
   ]
  },
  {
   "cell_type": "code",
   "execution_count": 69,
   "id": "d8cda8f5",
   "metadata": {
    "scrolled": true
   },
   "outputs": [],
   "source": [
    "def load_data(filename):\n",
    "    with open(filename, 'r') as file:\n",
    "        return json.load(file)\n",
    "class label_tool():\n",
    "    def __init__(self, json_name, start, end):\n",
    "        self.current_index = start\n",
    "        self.data = load_data(json_name) \n",
    "        self.updated_data = []\n",
    "        self.end = end\n",
    "        self.start = start\n",
    "    def display_content(self):\n",
    "        clear_output(wait=True)\n",
    "        if self.current_index < self.end:\n",
    "            entry = self.data[self.current_index]\n",
    "\n",
    "            # Load images from files and display them side by side\n",
    "            with open(entry['image_1'], \"rb\") as file:\n",
    "                image_input = file.read()\n",
    "            with open(entry['image_2'], \"rb\") as file:\n",
    "                image_output = file.read()\n",
    "            with open(entry['image_diff'], \"rb\") as file:\n",
    "                image_diff = file.read()\n",
    "            \n",
    "            \n",
    "\n",
    "            print(f' Image ID {self.current_index}')\n",
    "            \n",
    "            box_1 = widgets.HBox([\n",
    "                WidgetImage(value=image_input, format='png', width=500, height=500),\n",
    "                WidgetImage(value=image_output, format='png', width=500, height=500)\n",
    "            ])\n",
    "            display(box_1)\n",
    "            box_2 = widgets.HBox([\n",
    "                WidgetImage(value=image_diff, format='png', width=500, height=500),\n",
    "            ])\n",
    "            display(box_2)\n",
    "    \n",
    "            # Display instruction\n",
    "            print(\"Differences:\", entry['difference'])\n",
    "            \n",
    "            image_2_object_list = set(entry['image_2_object_list'].split(','))\n",
    "            image_1_object_list = set(entry['image_1_object_list'].split(','))\n",
    "            image_2_object_list.update(image_1_object_list)\n",
    "            #print(image_2_object_list, image_1_object_list)\n",
    "            # Display editable text area for GPT_option\n",
    "            text_area = widgets.Textarea(\n",
    "                value=','.join(list(image_2_object_list)),\n",
    "                placeholder='Type something',\n",
    "                description='GPT Option:',\n",
    "                disabled=False,\n",
    "                layout={'width': '100%'}\n",
    "            )\n",
    "            \n",
    "            # Display editable text area for GPT_option\n",
    "            correct_area = widgets.Textarea(\n",
    "                value='',\n",
    "                placeholder='Type something',\n",
    "                description='Answer:',\n",
    "                disabled=False,\n",
    "                layout={'width': '100%'}\n",
    "            )\n",
    "            \n",
    "            display(text_area)\n",
    "            display(correct_area)\n",
    "\n",
    "            # Button to submit changes\n",
    "            submit_button = widgets.Button(description=\"Save Changes\")\n",
    "            \n",
    "#             # Button to double check changes\n",
    "#             check_button = widgets.Button(description=\"Checked & Save Changes\")\n",
    "            \n",
    "            def on_submit_clicked(b):\n",
    "                # Update the entry with the new GPT_option and save it to the updated_data list\n",
    "                \n",
    "                entry['Modified_option'] = text_area.value\n",
    "                entry['Answer'] = correct_area.value\n",
    "\n",
    "                    \n",
    "                self.updated_data.append(entry)\n",
    "                self.current_index += 1\n",
    "                clear_output(wait=True)\n",
    "                self.display_next_button()  # Display the \"Show Next\" button again\n",
    "                \n",
    "\n",
    "            submit_button.on_click(on_submit_clicked)\n",
    "#             def back_function(button):\n",
    "#                 self.updated_data.pop()\n",
    "#                 print('remove last pair')\n",
    "#             back_buttons = widgets.Button(description=\"Back\")\n",
    "#             back_buttons.on_click(back_function)\n",
    "#             display(back_buttons)\n",
    "            display(submit_button)\n",
    "        else:\n",
    "            print(\"No more entries to display. Please call save_updated_data() to save results.\")\n",
    "    \n",
    "    def save_updated_data(self):\n",
    "        with open(f'surveillance_{self.start}_{self.end}.json', 'w') as file:\n",
    "            json.dump(self.updated_data, file)\n",
    "            \n",
    "    def display_next_button(self):\n",
    "        next_button = widgets.Button(description=\"Show Next\")\n",
    "        next_button.on_click(lambda b: self.display_content())\n",
    "        display(next_button)"
   ]
  },
  {
   "cell_type": "code",
   "execution_count": 72,
   "id": "36101b50",
   "metadata": {
    "scrolled": true
   },
   "outputs": [],
   "source": [
    "labeler = label_tool('surveillance_source.json', 20,25)"
   ]
  },
  {
   "cell_type": "code",
   "execution_count": 73,
   "id": "fb29834d",
   "metadata": {
    "scrolled": false
   },
   "outputs": [
    {
     "name": "stdout",
     "output_type": "stream",
     "text": [
      " Image ID 24\n"
     ]
    },
    {
     "data": {
      "application/vnd.jupyter.widget-view+json": {
       "model_id": "04843ea8b90c4f1797b96ee626cf6f12",
       "version_major": 2,
       "version_minor": 0
      },
      "text/plain": [
       "HBox(children=(Image(value=b'\\x89PNG\\r\\n\\x1a\\n\\x00\\x00\\x00\\rIHDR\\x00\\x00\\x00\\xe0\\x00\\x00\\x00\\xe0\\x08\\x02\\x00\\x…"
      ]
     },
     "metadata": {},
     "output_type": "display_data"
    },
    {
     "data": {
      "application/vnd.jupyter.widget-view+json": {
       "model_id": "e4003b447f3a43e7ab0beb0156558c26",
       "version_major": 2,
       "version_minor": 0
      },
      "text/plain": [
       "HBox(children=(Image(value=b'\\xff\\xd8\\xff\\xe0\\x00\\x10JFIF\\x00\\x01\\x01\\x00\\x00\\x01\\x00\\x01\\x00\\x00\\xff\\xdb\\x00C…"
      ]
     },
     "metadata": {},
     "output_type": "display_data"
    },
    {
     "name": "stdout",
     "output_type": "stream",
     "text": [
      "Differences: ['the people where taken out of the photo']\n"
     ]
    },
    {
     "data": {
      "application/vnd.jupyter.widget-view+json": {
       "model_id": "bfef7b78f70340b49e6893a98812a42a",
       "version_major": 2,
       "version_minor": 0
      },
      "text/plain": [
       "Textarea(value=' brick building, bare trees, red bicycles,black car, yellow poles, walking people.,Yellow pole…"
      ]
     },
     "metadata": {},
     "output_type": "display_data"
    },
    {
     "data": {
      "application/vnd.jupyter.widget-view+json": {
       "model_id": "aea641f8a78942f5a4df6e78a7a2dbc7",
       "version_major": 2,
       "version_minor": 0
      },
      "text/plain": [
       "Textarea(value='', description='Answer:', layout=Layout(width='100%'), placeholder='Type something')"
      ]
     },
     "metadata": {},
     "output_type": "display_data"
    },
    {
     "data": {
      "application/vnd.jupyter.widget-view+json": {
       "model_id": "3a9d12b9c2e746e99f0c6e572bf908e0",
       "version_major": 2,
       "version_minor": 0
      },
      "text/plain": [
       "Button(description='Save Changes', style=ButtonStyle())"
      ]
     },
     "metadata": {},
     "output_type": "display_data"
    }
   ],
   "source": [
    "labeler.display_next_button()"
   ]
  },
  {
   "cell_type": "code",
   "execution_count": 74,
   "id": "93fd67a9",
   "metadata": {
    "scrolled": true
   },
   "outputs": [
    {
     "data": {
      "text/plain": [
       "[{'image_1': 'spot-the-diff/pair_images/test/12868/12868.png',\n",
       "  'image_2': 'spot-the-diff/pair_images/test/12868/12868_2.png',\n",
       "  'image_diff': 'spot-the-diff/pair_images/test/12868/12868_diff.jpg',\n",
       "  'difference': ['four additional people are in the parking lot compared to the left image'],\n",
       "  'image_1_object_list': 'yellow poles, leafless trees, walking people',\n",
       "  'image_2_object_list': 'Walking people, red bricks, leafless trees, gray sidewalk, yellow lines.',\n",
       "  'gpt_extract_objects_gt': 'people',\n",
       "  'Modified_option': ' leafless trees, walking people, gray sidewalk, yellow lines.,Walking people, red bricks,yellow poles',\n",
       "  'Answer': ''},\n",
       " {'image_1': 'spot-the-diff/pair_images/test/2698/2698.png',\n",
       "  'image_2': 'spot-the-diff/pair_images/test/2698/2698_2.png',\n",
       "  'image_diff': 'spot-the-diff/pair_images/test/2698/2698_diff.jpg',\n",
       "  'difference': ['white suv 5th from the left is missing in parking lot'],\n",
       "  'image_1_object_list': 'white SUV, black cars, grey sedan, white van, wet pavement, green trees, striped parking spaces.',\n",
       "  'image_2_object_list': 'white SUV, gray cars, white trucks, white sedan, wet pavement',\n",
       "  'gpt_extract_objects_gt': 'SUV',\n",
       "  'Modified_option': ' white sedan, green trees, white trucks, white van, striped parking spaces., grey sedan,white SUV, wet pavement, black cars, gray cars',\n",
       "  'Answer': ''},\n",
       " {'image_1': 'spot-the-diff/pair_images/test/8370/8370.png',\n",
       "  'image_2': 'spot-the-diff/pair_images/test/8370/8370_2.png',\n",
       "  'image_diff': 'spot-the-diff/pair_images/test/8370/8370_diff.jpg',\n",
       "  'difference': ['there are four people in the after image who are not pictured in the before photo'],\n",
       "  'image_1_object_list': 'Walking people, red brick building, leafless trees, yellow curb, parked cars, empty parking spaces.',\n",
       "  'image_2_object_list': 'red bricks, brown doors, yellow lines, gray pavement, leafless trees, walking people',\n",
       "  'gpt_extract_objects_gt': 'people',\n",
       "  'Modified_option': ' red brick building, leafless trees,red bricks, yellow curb, walking people, gray pavement, parked cars, yellow lines, empty parking spaces.,Walking people, brown doors',\n",
       "  'Answer': ''}]"
      ]
     },
     "execution_count": 74,
     "metadata": {},
     "output_type": "execute_result"
    }
   ],
   "source": [
    "labeler.updated_data"
   ]
  },
  {
   "cell_type": "code",
   "execution_count": 24,
   "id": "d44e6596",
   "metadata": {
    "collapsed": true,
    "scrolled": true
   },
   "outputs": [],
   "source": [
    "labeler.save_updated_data()"
   ]
  },
  {
   "cell_type": "code",
   "execution_count": null,
   "id": "713ef3f4",
   "metadata": {
    "collapsed": true,
    "scrolled": true
   },
   "outputs": [],
   "source": []
  },
  {
   "cell_type": "code",
   "execution_count": null,
   "id": "92f36bef",
   "metadata": {
    "collapsed": true,
    "scrolled": true
   },
   "outputs": [],
   "source": []
  },
  {
   "cell_type": "code",
   "execution_count": null,
   "id": "562e5486",
   "metadata": {
    "collapsed": true,
    "scrolled": true
   },
   "outputs": [],
   "source": []
  },
  {
   "cell_type": "code",
   "execution_count": null,
   "id": "e35249bf",
   "metadata": {
    "collapsed": true,
    "scrolled": true
   },
   "outputs": [],
   "source": []
  },
  {
   "cell_type": "code",
   "execution_count": null,
   "id": "50506dd0",
   "metadata": {
    "collapsed": true,
    "scrolled": true
   },
   "outputs": [],
   "source": []
  },
  {
   "cell_type": "code",
   "execution_count": null,
   "id": "d5786cd5",
   "metadata": {
    "collapsed": true,
    "scrolled": true
   },
   "outputs": [],
   "source": []
  },
  {
   "cell_type": "code",
   "execution_count": null,
   "id": "2f12836c",
   "metadata": {
    "collapsed": true,
    "scrolled": true
   },
   "outputs": [],
   "source": []
  },
  {
   "cell_type": "code",
   "execution_count": null,
   "id": "aa3351ef",
   "metadata": {
    "collapsed": true,
    "scrolled": true
   },
   "outputs": [],
   "source": []
  },
  {
   "cell_type": "code",
   "execution_count": null,
   "id": "2ab5429a",
   "metadata": {
    "collapsed": true,
    "scrolled": true
   },
   "outputs": [],
   "source": []
  },
  {
   "cell_type": "code",
   "execution_count": null,
   "id": "8169bda6",
   "metadata": {
    "collapsed": true,
    "scrolled": true
   },
   "outputs": [],
   "source": []
  },
  {
   "cell_type": "code",
   "execution_count": null,
   "id": "988b3384",
   "metadata": {
    "collapsed": true,
    "scrolled": true
   },
   "outputs": [],
   "source": []
  }
 ],
 "metadata": {
  "kernelspec": {
   "display_name": "vl_label",
   "language": "python",
   "name": "vl_label"
  },
  "language_info": {
   "codemirror_mode": {
    "name": "ipython",
    "version": 3
   },
   "file_extension": ".py",
   "mimetype": "text/x-python",
   "name": "python",
   "nbconvert_exporter": "python",
   "pygments_lexer": "ipython3",
   "version": "3.9.19"
  }
 },
 "nbformat": 4,
 "nbformat_minor": 5
}
