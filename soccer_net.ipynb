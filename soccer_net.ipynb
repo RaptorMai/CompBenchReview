{
 "cells": [
  {
   "cell_type": "code",
   "execution_count": 3,
   "id": "3c3c46fd",
   "metadata": {},
   "outputs": [],
   "source": [
    "import os\n",
    "from openai import OpenAI\n",
    "import base64\n",
    "import requests\n",
    "import pathlib\n",
    "import json\n",
    "import matplotlib.pyplot as plt\n",
    "from matplotlib.pyplot import imshow\n",
    "import matplotlib.image as mpimg\n",
    "from random import shuffle\n",
    "import random\n",
    "import torch\n",
    "import clip\n",
    "from PIL import Image\n",
    "from collections import defaultdict, Counter\n",
    "import matplotlib.pyplot as plt"
   ]
  },
  {
   "cell_type": "markdown",
   "id": "117cb8c4",
   "metadata": {},
   "source": [
    "# GPT"
   ]
  },
  {
   "cell_type": "code",
   "execution_count": 2,
   "id": "c9b999d9",
   "metadata": {},
   "outputs": [],
   "source": [
    "api_key = os.getenv('OPENAI_API_KEY')"
   ]
  },
  {
   "cell_type": "code",
   "execution_count": 3,
   "id": "40ce8396",
   "metadata": {},
   "outputs": [],
   "source": [
    "headers = {\n",
    "  \"Content-Type\": \"application/json\",\n",
    "  \"Authorization\": f\"Bearer {api_key}\"\n",
    "}"
   ]
  },
  {
   "cell_type": "code",
   "execution_count": 4,
   "id": "3c33725f",
   "metadata": {},
   "outputs": [],
   "source": [
    "client = OpenAI()"
   ]
  },
  {
   "cell_type": "markdown",
   "id": "3d6e8810",
   "metadata": {},
   "source": [
    "# Task definition"
   ]
  },
  {
   "cell_type": "code",
   "execution_count": 34,
   "id": "ba4b0cc6",
   "metadata": {},
   "outputs": [],
   "source": [
    "DATA_DIR = 'england_epl/2014-2015'\n",
    "FOLDER = ('1_frames_actions', '2_frames_actions')\n",
    "ACTION = [\"Indirect free-kick\", \"Throw-in\", \"Foul\", \"Shots off target\", \"Shots on target\", \"Goal\", \"Corner\", \"Direct free-kick\", \"Penalty\"]\n",
    "INTERVAL = 2\n",
    "PROMPT = ''\n",
    "CLIP_THRESHOLD = 0.78"
   ]
  },
  {
   "cell_type": "code",
   "execution_count": 6,
   "id": "72d6e303",
   "metadata": {},
   "outputs": [],
   "source": [
    "clip_L, clip_L_preprocess = clip.load(\"ViT-L/14\", device='cuda')"
   ]
  },
  {
   "cell_type": "code",
   "execution_count": 7,
   "id": "3a31ee4f",
   "metadata": {},
   "outputs": [],
   "source": [
    "def compute_similarity(image1, image2, model=clip_L, preprocess=clip_L_preprocess):\n",
    "    image1_preprocess = preprocess(Image.open(image1)).unsqueeze(0).to('cuda')\n",
    "    image1_features = model.encode_image( image1_preprocess)\n",
    "\n",
    "    image2_preprocess = preprocess(Image.open(image2)).unsqueeze(0).to('cuda')\n",
    "    image2_features = model.encode_image( image2_preprocess)\n",
    "    \n",
    "    cos = torch.nn.CosineSimilarity(dim=0)\n",
    "    similarity = cos(image1_features[0],image2_features[0]).item()\n",
    "    #print(\"Image similarity\", similarity)\n",
    "    return similarity"
   ]
  },
  {
   "cell_type": "code",
   "execution_count": 13,
   "id": "3cf5ce5b",
   "metadata": {},
   "outputs": [],
   "source": [
    "def encode_image(image_path):\n",
    "    with open(image_path, \"rb\") as image_file:\n",
    "        return base64.b64encode(image_file.read()).decode('utf-8')"
   ]
  },
  {
   "cell_type": "code",
   "execution_count": 9,
   "id": "720ed4e3",
   "metadata": {},
   "outputs": [],
   "source": [
    "def gpt_inference_two(image_1, image_2, prompt):\n",
    "    en_1  = encode_image(image_1)\n",
    "    en_2 = encode_image(image_2)\n",
    "    payload = {\n",
    "          \"model\": \"gpt-4-turbo\",\n",
    "          \"messages\": [\n",
    "            {\n",
    "              \"role\": \"user\",\n",
    "              \"content\": [\n",
    "                {\n",
    "                  \"type\": \"text\",\n",
    "                  \"text\": prompt\n",
    "                },\n",
    "                {\n",
    "                  \"type\": \"image_url\",\n",
    "                  \"image_url\": {\n",
    "                    \"url\": f\"data:image/jpeg;base64,{en_1}\"\n",
    "                  }\n",
    "                },\n",
    "                {\n",
    "                  \"type\": \"image_url\",\n",
    "                  \"image_url\": {\n",
    "                    \"url\": f\"data:image/jpeg;base64,{en_2}\"\n",
    "                  }\n",
    "                }\n",
    "              ]\n",
    "            }\n",
    "          ],\n",
    "          \"max_tokens\": 300\n",
    "        }\n",
    "    response = requests.post(\"https://api.openai.com/v1/chat/completions\", headers=headers, json=payload)\n",
    "    answer = response.json()['choices'][0]['message']['content']\n",
    "    return answer"
   ]
  },
  {
   "cell_type": "code",
   "execution_count": 60,
   "id": "916a9c4c",
   "metadata": {},
   "outputs": [],
   "source": [
    "tmp = []\n",
    "for i in range(10):\n",
    "    tmp.append(random.randint(0, 1))\n",
    "    "
   ]
  },
  {
   "cell_type": "code",
   "execution_count": 61,
   "id": "240fce24",
   "metadata": {},
   "outputs": [],
   "source": [
    "from collections import Counter\n",
    "Counter(tmp)"
   ]
  },
  {
   "cell_type": "code",
   "execution_count": null,
   "id": "a522b659",
   "metadata": {},
   "outputs": [],
   "source": []
  },
  {
   "cell_type": "code",
   "execution_count": null,
   "id": "bdc4d7c6",
   "metadata": {},
   "outputs": [],
   "source": []
  },
  {
   "cell_type": "code",
   "execution_count": 43,
   "id": "6a8a18da",
   "metadata": {},
   "outputs": [],
   "source": [
    "results = []\n",
    "f, axarr = plt.subplots(1, 2, figsize=(15, 15))\n",
    "for match in os.scandir(DATA_DIR):\n",
    "    if match.is_dir():\n",
    "        for folder in os.scandir(match):\n",
    "            if folder.name in FOLDER:\n",
    "                pair_list = list(os.scandir(folder))\n",
    "                shuffle(pair_list)\n",
    "                #pair_list.sort(key=lambda x: x.name)\n",
    "                for pair in pair_list:\n",
    "                    if pair.name.split(\"_\")[1] in ACTION:\n",
    "                        tmp = {}\n",
    "                        print(pair)\n",
    "                        first = f'{pair.path}/{pair.name.split(\"_\")[0]}.png'\n",
    "                        second_index = \"{:0{width}d}\".format(int(pair.name.split(\"_\")[0]) + INTERVAL, width=len(pair.name.split(\"_\")[0]))\n",
    "                        second = f'{pair.path}/{second_index}.png'\n",
    "                        c_score = compute_similarity(first, second)\n",
    "                        print(f'CLIP: {c_score}')\n",
    "                        if c_score < CLIP_THRESHOLD:\n",
    "                            continue\n",
    "                        \n",
    "                        rand_1 = random.randint(0, 1)\n",
    "                        \n",
    "                        if rand_1 == 0:\n",
    "                            tmp['left'] = first\n",
    "                            tmp['right'] = second\n",
    "                            tmp['answer'] = 'Left'\n",
    "                        else:\n",
    "                            tmp['left'] = second\n",
    "                            tmp['right'] = first\n",
    "                            tmp['answer'] = 'Right'\n",
    "                        tmp['CLIP'] = c_score\n",
    "                        tmp['time'] = pair.name.split(\"_\")[0]\n",
    "                        tmp['action'] = pair.name.split(\"_\")[1]\n",
    "                        prompt = f'''\n",
    "                        These are two frames related to {pair.name.split(\"_\")[1]} in a soccer match. \n",
    "                        Which frame happens first. Please only return one option from (Left, Right, None) \n",
    "                        without any other words. If these two frames are exactly the same, select None. \n",
    "                        Otherwise, choose Left if the first frame happens first and select Right \n",
    "                        if the second frame happens first. \n",
    "                        '''\n",
    "                        answer = gpt_inference_two(tmp['left'], tmp['right'], prompt)\n",
    "                        tmp['gpt_answer'] = answer\n",
    "                        print(tmp)\n",
    "                        axarr[0].imshow(mpimg.imread(tmp['left']))\n",
    "                        axarr[1].imshow(mpimg.imread(tmp['right']))\n",
    "                        break\n",
    "                break\n",
    "        \n",
    "    "
   ]
  },
  {
   "cell_type": "code",
   "execution_count": null,
   "id": "3dc8eac3",
   "metadata": {},
   "outputs": [],
   "source": [
    "with open(f'{DATA_DIR}.json', 'w') as fout:\n",
    "    json.dump(results, fout)"
   ]
  },
  {
   "cell_type": "code",
   "execution_count": null,
   "id": "2c693bc8",
   "metadata": {},
   "outputs": [],
   "source": []
  },
  {
   "cell_type": "code",
   "execution_count": null,
   "id": "8ee62282",
   "metadata": {},
   "outputs": [],
   "source": []
  },
  {
   "cell_type": "markdown",
   "id": "c7b6a12a",
   "metadata": {},
   "source": [
    "# results"
   ]
  },
  {
   "cell_type": "code",
   "execution_count": 87,
   "id": "e30f8123",
   "metadata": {},
   "outputs": [],
   "source": [
    "acc_action = {}\n",
    "for i in analysis:\n",
    "    acc_action[i] = analysis[i] / Counter(action_count)[i]"
   ]
  },
  {
   "cell_type": "code",
   "execution_count": 88,
   "id": "6fad1082",
   "metadata": {},
   "outputs": [],
   "source": [
    "acc_action"
   ]
  },
  {
   "cell_type": "code",
   "execution_count": 49,
   "id": "5837946a",
   "metadata": {},
   "outputs": [],
   "source": [
    "\n",
    "RESULTS = 'results/soccernet/'\n",
    "all_result = []\n",
    "league_results = {}\n",
    "for league in os.scandir(RESULTS):\n",
    "    tmp = []\n",
    "    for year in os.scandir(f'{RESULTS}/{league.name}'):\n",
    "        if year.is_dir():\n",
    "            f = open(f'{RESULTS}/{league.name}/{year.name}/results_gpt.json')\n",
    "            result = json.load(f)\n",
    "            all_result += sum(list(result.values()), [])\n",
    "            tmp +=  sum(list(result.values()), [])\n",
    "    league_results[league.name] = tmp\n",
    "\n",
    "\n",
    "analysis = defaultdict(int)\n",
    "action_count = []\n",
    "gt_count = []\n",
    "pred_count = []\n",
    "error = []\n",
    "league_acc = {}\n",
    "league_count = {}\n",
    "for league_name in league_results:\n",
    "    count = 0\n",
    "    correct = 0\n",
    "    league_list = league_results[league_name]\n",
    "    for pair in league_list:\n",
    "        if pair['gpt_answer'] not in ('Left', \"Right\"):\n",
    "            continue\n",
    "        count += 1\n",
    "        correct += pair['answer'] == pair['gpt_answer']\n",
    "\n",
    "    league_acc[league_name] = correct/count\n",
    "    league_count[league_name]  = count\n",
    "\n",
    "for pair in all_result:\n",
    "    if pair['gpt_answer'] not in ('Left', \"Right\"):\n",
    "        # print(pair)\n",
    "        error.append(pair)\n",
    "        continue\n",
    "    analysis[pair['action']] += pair['answer'] == pair['gpt_answer']\n",
    "    gt_count.append(pair['answer'])\n",
    "    pred_count.append(pair['gpt_answer'])\n",
    "    action_count.append(pair['action'])\n",
    "\n",
    "\n",
    "print(total_acc)\n",
    "print(len(error))\n",
    "print(Counter(action_count))\n",
    "print(league_acc)\n",
    "print(league_count)\n",
    "print(Counter(pred_count))\n",
    "print(Counter(gt_count))"
   ]
  },
  {
   "cell_type": "code",
   "execution_count": 50,
   "id": "99837046",
   "metadata": {},
   "outputs": [],
   "source": [
    "error"
   ]
  },
  {
   "cell_type": "code",
   "execution_count": 46,
   "id": "c8bba47c",
   "metadata": {},
   "outputs": [],
   "source": [
    "acc_action = {}\n",
    "for i in analysis:\n",
    "    acc_action[i] = analysis[i] / Counter(action_count)[i]"
   ]
  },
  {
   "cell_type": "code",
   "execution_count": 47,
   "id": "10177b1e",
   "metadata": {},
   "outputs": [],
   "source": [
    "acc_action"
   ]
  },
  {
   "cell_type": "code",
   "execution_count": null,
   "id": "eabbb829",
   "metadata": {},
   "outputs": [],
   "source": []
  },
  {
   "cell_type": "code",
   "execution_count": null,
   "id": "0e03a41d",
   "metadata": {},
   "outputs": [],
   "source": []
  },
  {
   "cell_type": "code",
   "execution_count": 48,
   "id": "478b70dd",
   "metadata": {},
   "outputs": [],
   "source": [
    "plt.bar(range(len(acc_action)), list(acc_action.values()), align='center')\n",
    "plt.xticks(range(len(acc_action)), list(acc_action.keys()), rotation=90)\n",
    "plt.ylabel(\"Accuracy\")\n",
    "plt.title('Engand')\n",
    "plt.show()"
   ]
  },
  {
   "cell_type": "code",
   "execution_count": null,
   "id": "684c49cb",
   "metadata": {},
   "outputs": [],
   "source": []
  }
 ],
 "metadata": {
  "kernelspec": {
   "display_name": "vl_label",
   "language": "python",
   "name": "vl_label"
  },
  "language_info": {
   "codemirror_mode": {
    "name": "ipython",
    "version": 3
   },
   "file_extension": ".py",
   "mimetype": "text/x-python",
   "name": "python",
   "nbconvert_exporter": "python",
   "pygments_lexer": "ipython3",
   "version": "3.10.14"
  }
 },
 "nbformat": 4,
 "nbformat_minor": 5
}
