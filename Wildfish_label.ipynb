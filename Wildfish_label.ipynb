{
 "cells": [
  {
   "cell_type": "code",
   "execution_count": 2,
   "id": "7c7d05a0",
   "metadata": {
    "scrolled": true
   },
   "outputs": [],
   "source": [
    "import json\n",
    "from IPython.display import display, Image\n",
    "import ipywidgets as widgets\n",
    "from IPython.display import clear_output\n",
    "from ipywidgets import Image as WidgetImage\n",
    "import csv\n",
    "import os\n",
    "from collections import defaultdict\n",
    "from os import listdir\n",
    "import random\n",
    "from pattern import comparative\n",
    "import base64\n",
    "from os.path import join\n",
    "from collections import Counter"
   ]
  },
  {
   "cell_type": "markdown",
   "id": "dba92985",
   "metadata": {},
   "source": [
    "# prepare data"
   ]
  },
  {
   "cell_type": "code",
   "execution_count": 6,
   "id": "691933dd",
   "metadata": {},
   "outputs": [],
   "source": [
    "# question_list = {\n",
    "#     'Amphiprion_akindynos-Amphiprion_chrysopterus': [' Which fish has lighter brown pelvic fins?', 'Which fish has anal fins that are more black?'],\n",
    "#     'Paraluteres_prionurus-Canthigaster_valentini': ['Which fish has a more pronounced floral yellow pattern around the eye?', 'Which fish has more pronounced concentric rings of green and orange'],\n",
    "#     'Chelmon_rostratus-Chelmon_marginalis': [\n",
    "#         'Which fish has a more diminished central bar?',\n",
    "#         'Which fish has a greater amount of yellow coloration throughout its body?',\n",
    "#         'Which fish has more yellow pelvic fins?',\n",
    "#         'Which fish has the last body bar more bordered in yellow?'\n",
    "#     ],\n",
    "#     'Amphiprion_clarkii-Amphiprion_akindynos': [\n",
    "#         'Which fish is more black with variable orange on the head, ventral parts, and fins?',\n",
    "#         'Which fish more closely has three white bars on the head, body, and base of the caudal fin?',\n",
    "#         'Which fish has a sharper demarcation between the white on the caudal fin base and the dark of the body?',\n",
    "#         'Which fish has a narrower mid-body bar?'\n",
    "#     ],\n",
    "#     'Myripristis_murdjan-Myripristis_berndti': [\n",
    "#         'Which fish has a more orange-red spiny dorsal fin?',\n",
    "#         'Which fish has more variability in lateral line scale counts?',\n",
    "#     ],\n",
    "#     'Siganus_unimaculatus-Siganus_vulpinus': [\n",
    "#         'Which fish has a more prominent dark spot on the posterior upper side of the body?'\n",
    "#     ],\n",
    "#     'Toxotes_chatareus-Toxotes_jaculatrix': [\n",
    "#         'Which fish has a more sooty color instead of silver?',\n",
    "#         'Which fish has more dorsal spines?',\n",
    "#         ' Which fish has more alternating long and short spots on their flanks?',\n",
    "#         'Which fish has more markings on its sides (six or seven vs. four or five)?',\n",
    "#         ' Which fish has larger scales giving it a lighter hue?'\n",
    "#     ],\n",
    "#     'Chaetodon_vagabundus-Chaetodon_decussatus':[\n",
    "#           'Which fish has a more solid black back half with a yellow tail?',\n",
    "#           'Which fish has a more solid yellow backside with two black lines?'\n",
    "#     ],\n",
    "#     'Carcharhinus_albimarginatus-Carcharhinus_amblyrhynchos': [\n",
    "#         'Which fish has more white tips on all its fins?',\n",
    "#         'Which fish has more dark tips on the pectoral fins and the trailing edge of the caudal fin?'\n",
    "#     ],\n",
    "#     'Platax_orbicularis-Platax_teira': [\n",
    "#         'Which fish has a more pronounced dark blotch below their pectoral fins?',\n",
    "#         'Which fish has a more elongated dark vertical blotch just before their anal fins?'\n",
    "#     ],\n",
    "#     'Chelmonops_curiosus-Chelmonops_truncatus': [\n",
    "#         'Which fish has a much longer dorsal extension?',\n",
    "#         'Which fish has a steeper forehead?',\n",
    "#         'Which fish has more falcate posterior dorsal fin elongation?'\n",
    "#     ],\n",
    "#     'Chromis_margaritifer-Chromis_iomelas': [\n",
    "#         'Which fish has a more pronounced change from black to white at the rear ends of their anal, dorsal, and caudal fins?',\n",
    "#         'Which fish has a more distinct half black and half white coloration, changing at the mouth and caudal fin?'\n",
    "#     ],\n",
    "#     'Amphiprion_percula-Amphiprion_ocellaris': [\n",
    "#         'Which fish has fewer dorsal spines?',\n",
    "#         'Which fish has a taller spinous anterior part of the dorsal fin?',\n",
    "#         'Which fish never has a thick black margin around the white bars?',\n",
    "#         'Which fish is smaller in size?'\n",
    "#     ],\n",
    "#     'Coradion_chrysozonus-Coradion_altivelis': [\n",
    "#         'Which fish has more pronounced eyespots on the caudal peduncle?',\n",
    "#         'Which fish has no eyespots?'\n",
    "#     ],\n",
    "#     'Cleidopus_gloriamaris-Monocentris_japonica': [\n",
    "#       'Which fish has a more prominent red stripe on the lower jaw running to the photophore?',\n",
    "#       'Which fish has a narrower preorbital bone?',\n",
    "#       'Which fish has light organs positioned nearer the tip of the lower jaw?'\n",
    "#     ],\n",
    "#     'Naso_elegans-Naso_lituratus': [\n",
    "#         'Which fish has a more yellow dorsal fin?'\n",
    "#     ],\n",
    "#     'Chaetodon_punctatofasciatus-Chaetodon_pelewensis': [\n",
    "#         'Which fish has more vertical bars?',\n",
    "#         'Which fish has more diagonal bars?'\n",
    "#     ],\n",
    "#     'Amphiprion_rubrocinctus-Amphiprion_melanopus': [\n",
    "#         'Which fish has more black pelvic and anal fins?'\n",
    "#     ],\n",
    "#     'Chromis_atripectoralis-Chromis_viridis': [\n",
    "#         'Which fish lacks a black blotch at the base of the pectoral fin?'\n",
    "#     ],\n",
    "#     'Forcipiger_longirostris-Forcipiger_flavissimus': [\n",
    "#         'Which fish has a more pointed upper caudal lobe?',\n",
    "#         'Which fish has a color delimitation more transecting through the eye?',\n",
    "#         'Which fish has a more spotted breast and fully blackened eye?',\n",
    "#         ' Which fish has more striae present behind the pectoral fin?',\n",
    "#         'Which fish has more small black dots on the chest area?',\n",
    "#         'Which fish has a longer mouth with a greater distance between the tip of the mouth and the eyeball?'\n",
    "#     ],\n",
    "#     'Pseudanthias_tuka-Pseudanthias_pascalus': [\n",
    "#         'Which fish has a more orange stripe down the back and orange tail forks in juveniles and females?',\n",
    "#         'Which fish has a more pronounced dark blotch on the dorsal fin?',\n",
    "#         'Which fish has more purple tails?',\n",
    "#         'Which fish has more red tips on the tail in juveniles and females?'\n",
    "#     ],\n",
    "#     'Heniochus_diphreutes-Heniochus_acuminatus': [\n",
    "#         'Which fish has a more rounded chest?',\n",
    "#         'Which fish has a more right-angled tip of the anal fin?',\n",
    "#         'Which fish has a sharper angle than 90 degrees at the tip of the anal fin?',\n",
    "#         'Which fish has a longer mouth with a greater distance between the tip of the mouth and the eyeball?',\n",
    "#         ' Which fish has a more pronounced ridge or lip on the upper side of the mouth?'\n",
    "#     ]\n",
    "# }\n",
    "\n",
    "\n",
    "\n",
    "# data_path = 'wildfish/diff_images/val'\n",
    "# results = []\n",
    "# folders = list(os.scandir(data_path))\n",
    "# for folder in folders:\n",
    "#     if folder.name == '.DS_Store':\n",
    "#         continue\n",
    "#     pair = folder.name\n",
    "#     folder_1, folder_2 = pair.split('-')\n",
    "#     data_1 = [join(data_path, pair, folder_1, i) for i in listdir(join(data_path, pair, folder_1))]\n",
    "#     data_2 = [join(data_path, pair, folder_2, i) for i in listdir(join(data_path, pair, folder_2))]\n",
    "#     for question in question_list[pair]:\n",
    "#         tmp = {}\n",
    "#         tmp['image_1'] = data_1\n",
    "#         tmp['image_2'] = data_2\n",
    "#         tmp['question'] = question\n",
    "#         tmp['folder_1'] = folder_1\n",
    "#         tmp['folder_2'] = folder_2\n",
    "#         results.append(tmp)\n",
    "\n",
    "\n",
    "# with open('wildfish_source.json', 'w') as fout:\n",
    "#     json.dump(results, fout)"
   ]
  },
  {
   "cell_type": "code",
   "execution_count": null,
   "id": "6f5c4a00",
   "metadata": {},
   "outputs": [],
   "source": []
  },
  {
   "cell_type": "code",
   "execution_count": null,
   "id": "1d9ab642",
   "metadata": {},
   "outputs": [],
   "source": []
  },
  {
   "cell_type": "code",
   "execution_count": null,
   "id": "71af251f",
   "metadata": {},
   "outputs": [],
   "source": []
  },
  {
   "cell_type": "markdown",
   "id": "29242eb7",
   "metadata": {},
   "source": [
    "# label"
   ]
  },
  {
   "cell_type": "code",
   "execution_count": 23,
   "id": "de36073f",
   "metadata": {
    "scrolled": true
   },
   "outputs": [],
   "source": [
    "def load_data(filename):\n",
    "    with open(filename, 'r') as file:\n",
    "        return json.load(file)\n",
    "class label_tool():\n",
    "    def __init__(self, json_name, start, end):\n",
    "        self.current_index = start\n",
    "        self.data = load_data(json_name) \n",
    "        self.results = []\n",
    "        self.end = end\n",
    "        self.start = start\n",
    "        # Create widgets\n",
    "        self.left_text = widgets.Text(description=\"Left:\", layout={'width': '80%'})\n",
    "        self.right_text = widgets.Text(description=\"Right:\", layout={'width': '80%'})\n",
    "        self.left_val = None\n",
    "        self.right_val = None\n",
    "        self.reset_button = widgets.Button(description=\"Reset\")\n",
    "        self.save_next_button = widgets.Button(description=\"Save and Next\")\n",
    "        self.next_list_button = widgets.Button(description=\"Next List\")\n",
    "        self.question = widgets.Text(description=\"Question:\", layout={'width': '80%'}) #widgets.RadioButtons(options=[], description=\"Question:\",layout={'width': '80%'})\n",
    "        #self.type_buttons = widgets.RadioButtons(options=['Size', 'Color', 'Texture', 'Shape', 'Pattern', 'State', 'None'], value='None', description='Type:')\n",
    "        self.answer_buttons = widgets.RadioButtons(options=['Left', 'Right', 'None'], value='None', description='Answer:')\n",
    "        self.back_buttons = widgets.Button(description=\"Back\")\n",
    "        self.image_widgets = []\n",
    "        \n",
    "    def create_image_widget(self, path):\n",
    "        \"\"\"Create a widget for each image with radio buttons and display the first 10 letters of the path.\"\"\"\n",
    "        if os.path.exists(path):\n",
    "            image_file = open(path, 'rb').read()\n",
    "        else:\n",
    "            # Provide a placeholder if the image isn't found\n",
    "            image_file = widgets.Label(value=\"Image not found\").value\n",
    "\n",
    "        image = widgets.Image(value=image_file, format='jpg')\n",
    "        radio_buttons = widgets.RadioButtons(\n",
    "            options=['Left', 'Right', 'None'],\n",
    "            value='None',  # Default value set to 'None'\n",
    "            description='',\n",
    "            disabled=False,\n",
    "            layout={'width': 'max-content'}\n",
    "        )\n",
    "        \n",
    "        name = path.split('/')[-1]\n",
    "        path_label = widgets.Label(value=name.split('_')[-1])  # Display the first 10 letters of the path\n",
    "\n",
    "        radio_buttons.observe(lambda change, p=path, rb=radio_buttons: self.on_radio_change(change, p, rb), names='value')\n",
    "\n",
    "        box = widgets.VBox([image, radio_buttons, path_label])\n",
    "        return box\n",
    "    \n",
    "    def display_images(self):\n",
    "        \"\"\"Display all images for a given list index.\"\"\"\n",
    "        clear_output()\n",
    "        # Create image widgets for both lists\n",
    "        self.image_widget_1 = [self.create_image_widget(path) for path in self.data[self.current_index]['image_1']]\n",
    "        self.image_widget_2 = [self.create_image_widget(path) for path in self.data[self.current_index]['image_2']]\n",
    "        grid1 = widgets.GridBox(self.image_widget_1 , \n",
    "                                layout=widgets.Layout(grid_template_columns=\"repeat(2, 240px)\", border='2px solid black'))\n",
    "        grid2 = widgets.GridBox(self.image_widget_2, \n",
    "                                layout=widgets.Layout(grid_template_columns=\"repeat(2, 240px)\", border='2px solid black'))\n",
    "        \n",
    "        print(f'Left: {self.data[self.current_index][\"folder_1\"]}')\n",
    "        print(f'Right: {self.data[self.current_index][\"folder_2\"]}')\n",
    "        # Display images grids side by side\n",
    "        hbox = widgets.HBox([grid1, grid2])\n",
    "        display(hbox)\n",
    "        display(self.question)\n",
    "        display(widgets.HBox([self.left_text, self.right_text]))\n",
    "        display(self.answer_buttons)\n",
    "        display(widgets.HBox([self.reset_button, self.save_next_button, self.next_list_button, self.back_buttons]))\n",
    "\n",
    "        \n",
    "    \n",
    "    \n",
    "    def on_radio_change(self, change, path, current_radio):\n",
    "        \"\"\"Handle radio button state changes and ensure exclusivity for Left and Right selections.\"\"\"\n",
    "        name = path.split('/')[-1]\n",
    "        if change['new'] in ['Left', 'Right']:\n",
    "            # Reset other selections\n",
    "            for widget_list in self.image_widgets[self.current_index]:\n",
    "                if widget_list.children[1] is not current_radio and widget_list.children[1].value == change['new']:\n",
    "                    widget_list.children[1].value = 'None'\n",
    "            # Update text boxes\n",
    "            if change['new'] == 'Left':\n",
    "                self.left_text.value = name\n",
    "                self.left_val = path\n",
    "            elif change['new'] == 'Right':\n",
    "                self.right_text.value = name\n",
    "                self.right_val = path\n",
    "        else:\n",
    "            # Clear the text boxes if unselected\n",
    "            if self.left_text.value == name:\n",
    "                self.left_text.value = ''\n",
    "                self.left_val = None\n",
    "            if self.right_text.value == name:\n",
    "                self.right_text.value = ''\n",
    "                self.right_val = None\n",
    "    \n",
    "    def reset_all(self, button):\n",
    "        \"\"\"Reset all text boxes, radio buttons to 'None', and clear answer and type selections.\"\"\"\n",
    "        self.left_text.value = ''\n",
    "        self.right_text.value = ''\n",
    "        self.right_val = None\n",
    "        self.left_val = None\n",
    "#         self.type_buttons.value = 'None'\n",
    "        self.answer_buttons.value = None  # Deselect any selected answer\n",
    "        for widget_list in self.image_widget_1:\n",
    "            widget_list.children[1].value = 'None'\n",
    "        for widget_list in self.image_widget_2:\n",
    "            widget_list.children[1].value = 'None'\n",
    "\n",
    "    def save_and_next(self, button):\n",
    "        \"\"\"Save paths, type, answer, and update the question.\"\"\"\n",
    "#         left = self.image_root + '/' + self.left_text.value\n",
    "#         right = self.image_root + '/' + self.right_text.value\n",
    "\n",
    "        self.results.append({'image_1': self.left_val, 'image_2': self.right_val, \n",
    "#                              'type': self.type_buttons.value, \n",
    "                             'answer': self.answer_buttons.value, \n",
    "                             'question': self.question.value})\n",
    "\n",
    "        print(self.results[-1])\n",
    "        self.reset_all(None)\n",
    "\n",
    "    def next_list(self, button):\n",
    "        \"\"\"Move to the next list of images and update question text.\"\"\"\n",
    "        self.current_index += 1\n",
    "        if  self.current_index < self.end:\n",
    "            self.question.value = self.data[self.current_index]['question']\n",
    "            #self.image_root = '/'.join(self.data[self.current_index]['images'][0].split('/')[:3])  # Update the question box with the new question\n",
    "            self.display_images()\n",
    "        else:\n",
    "            print(\"No more lists available.\")\n",
    "    \n",
    "    def back_function(self, button):\n",
    "        self.results.pop()\n",
    "        self.reset_all(None)\n",
    "        print('remove last pair')\n",
    "    \n",
    "    \n",
    "    def save_updated_data(self):\n",
    "        with open(f'wildfish_{self.start}_{self.end}.json', 'w') as file:\n",
    "            json.dump(self.results, file)\n",
    "    \n",
    "    def begin(self):\n",
    "        # Initialize the image_widgets list for each list of images\n",
    "        for _ in range(len(self.data)):\n",
    "            self.image_widgets.append([])\n",
    "        self.display_images()\n",
    "        self.question.value = self.data[self.current_index]['question']\n",
    "        #self.image_root = '/'.join(self.data[self.current_index]['images'][0].split('/')[:3])\n",
    "        # Link buttons to functions\n",
    "        self.reset_button.on_click(self.reset_all)\n",
    "        self.save_next_button.on_click(self.save_and_next)\n",
    "        self.next_list_button.on_click(self.next_list)\n",
    "        self.back_buttons.on_click(self.back_function)"
   ]
  },
  {
   "cell_type": "code",
   "execution_count": 29,
   "id": "0c3dacf7",
   "metadata": {
    "scrolled": false
   },
   "outputs": [
    {
     "name": "stdout",
     "output_type": "stream",
     "text": [
      "Left: Chelmonops_curiosus\n",
      "Right: Chelmonops_truncatus\n"
     ]
    },
    {
     "data": {
      "application/vnd.jupyter.widget-view+json": {
       "model_id": "97bf902242ba4db6aa51f7a4be5de687",
       "version_major": 2,
       "version_minor": 0
      },
      "text/plain": [
       "HBox(children=(GridBox(children=(VBox(children=(Image(value=b'\\xff\\xd8\\xff\\xe0\\x00\\x10JFIF\\x00\\x01\\x02\\x00\\x00…"
      ]
     },
     "metadata": {},
     "output_type": "display_data"
    },
    {
     "data": {
      "application/vnd.jupyter.widget-view+json": {
       "model_id": "b1694e1b73a14021b562b0d223c34d82",
       "version_major": 2,
       "version_minor": 0
      },
      "text/plain": [
       "Text(value='', description='Question:', layout=Layout(width='80%'))"
      ]
     },
     "metadata": {},
     "output_type": "display_data"
    },
    {
     "data": {
      "application/vnd.jupyter.widget-view+json": {
       "model_id": "858bb5dde2784c4b905b9a5e55ef221b",
       "version_major": 2,
       "version_minor": 0
      },
      "text/plain": [
       "HBox(children=(Text(value='', description='Left:', layout=Layout(width='80%')), Text(value='', description='Ri…"
      ]
     },
     "metadata": {},
     "output_type": "display_data"
    },
    {
     "data": {
      "application/vnd.jupyter.widget-view+json": {
       "model_id": "59eabad6a2fc49b9a7b45928e6967beb",
       "version_major": 2,
       "version_minor": 0
      },
      "text/plain": [
       "RadioButtons(description='Answer:', index=2, options=('Left', 'Right', 'None'), value='None')"
      ]
     },
     "metadata": {},
     "output_type": "display_data"
    },
    {
     "data": {
      "application/vnd.jupyter.widget-view+json": {
       "model_id": "23ca0769d5d04770b13f8ceb2ead6f29",
       "version_major": 2,
       "version_minor": 0
      },
      "text/plain": [
       "HBox(children=(Button(description='Reset', style=ButtonStyle()), Button(description='Save and Next', style=But…"
      ]
     },
     "metadata": {},
     "output_type": "display_data"
    }
   ],
   "source": [
    "# Usage\n",
    "tool = label_tool('wildfish_source.json', 0, 34)\n",
    "tool.begin()"
   ]
  },
  {
   "cell_type": "code",
   "execution_count": 28,
   "id": "181dab7d",
   "metadata": {
    "scrolled": true
   },
   "outputs": [
    {
     "data": {
      "text/plain": [
       "{'image_1': ['wildfish/diff_images/val/Chelmonops_curiosus-Chelmonops_truncatus/Chelmonops_curiosus/Chelmonops_curiosus_0043.jpg',\n",
       "  'wildfish/diff_images/val/Chelmonops_curiosus-Chelmonops_truncatus/Chelmonops_curiosus/Chelmonops_curiosus_0042.jpg',\n",
       "  'wildfish/diff_images/val/Chelmonops_curiosus-Chelmonops_truncatus/Chelmonops_curiosus/Chelmonops_curiosus_0040.jpg',\n",
       "  'wildfish/diff_images/val/Chelmonops_curiosus-Chelmonops_truncatus/Chelmonops_curiosus/Chelmonops_curiosus_0046.jpg',\n",
       "  'wildfish/diff_images/val/Chelmonops_curiosus-Chelmonops_truncatus/Chelmonops_curiosus/Chelmonops_curiosus_0047.jpg',\n",
       "  'wildfish/diff_images/val/Chelmonops_curiosus-Chelmonops_truncatus/Chelmonops_curiosus/Chelmonops_curiosus_0020.jpg',\n",
       "  'wildfish/diff_images/val/Chelmonops_curiosus-Chelmonops_truncatus/Chelmonops_curiosus/Chelmonops_curiosus_0008.jpg',\n",
       "  'wildfish/diff_images/val/Chelmonops_curiosus-Chelmonops_truncatus/Chelmonops_curiosus/Chelmonops_curiosus_0021.jpg',\n",
       "  'wildfish/diff_images/val/Chelmonops_curiosus-Chelmonops_truncatus/Chelmonops_curiosus/Chelmonops_curiosus_0036.jpg',\n",
       "  'wildfish/diff_images/val/Chelmonops_curiosus-Chelmonops_truncatus/Chelmonops_curiosus/Chelmonops_curiosus_0022.jpg',\n",
       "  'wildfish/diff_images/val/Chelmonops_curiosus-Chelmonops_truncatus/Chelmonops_curiosus/Chelmonops_curiosus_0026.jpg',\n",
       "  'wildfish/diff_images/val/Chelmonops_curiosus-Chelmonops_truncatus/Chelmonops_curiosus/Chelmonops_curiosus_0032.jpg',\n",
       "  'wildfish/diff_images/val/Chelmonops_curiosus-Chelmonops_truncatus/Chelmonops_curiosus/Chelmonops_curiosus_0019.jpg',\n",
       "  'wildfish/diff_images/val/Chelmonops_curiosus-Chelmonops_truncatus/Chelmonops_curiosus/Chelmonops_curiosus_0031.jpg',\n",
       "  'wildfish/diff_images/val/Chelmonops_curiosus-Chelmonops_truncatus/Chelmonops_curiosus/Chelmonops_curiosus_0025.jpg',\n",
       "  'wildfish/diff_images/val/Chelmonops_curiosus-Chelmonops_truncatus/Chelmonops_curiosus/Chelmonops_curiosus_0024.jpg',\n",
       "  'wildfish/diff_images/val/Chelmonops_curiosus-Chelmonops_truncatus/Chelmonops_curiosus/Chelmonops_curiosus_0030.jpg',\n",
       "  'wildfish/diff_images/val/Chelmonops_curiosus-Chelmonops_truncatus/Chelmonops_curiosus/Chelmonops_curiosus_0018.jpg',\n",
       "  'wildfish/diff_images/val/Chelmonops_curiosus-Chelmonops_truncatus/Chelmonops_curiosus/Chelmonops_curiosus_0001.jpg',\n",
       "  'wildfish/diff_images/val/Chelmonops_curiosus-Chelmonops_truncatus/Chelmonops_curiosus/Chelmonops_curiosus_0029.jpg',\n",
       "  'wildfish/diff_images/val/Chelmonops_curiosus-Chelmonops_truncatus/Chelmonops_curiosus/Chelmonops_curiosus_0028.jpg',\n",
       "  'wildfish/diff_images/val/Chelmonops_curiosus-Chelmonops_truncatus/Chelmonops_curiosus/Chelmonops_curiosus_0016.jpg',\n",
       "  'wildfish/diff_images/val/Chelmonops_curiosus-Chelmonops_truncatus/Chelmonops_curiosus/Chelmonops_curiosus_0017.jpg',\n",
       "  'wildfish/diff_images/val/Chelmonops_curiosus-Chelmonops_truncatus/Chelmonops_curiosus/Chelmonops_curiosus_0003.jpg',\n",
       "  'wildfish/diff_images/val/Chelmonops_curiosus-Chelmonops_truncatus/Chelmonops_curiosus/Chelmonops_curiosus_0007.jpg',\n",
       "  'wildfish/diff_images/val/Chelmonops_curiosus-Chelmonops_truncatus/Chelmonops_curiosus/Chelmonops_curiosus_0012.jpg',\n",
       "  'wildfish/diff_images/val/Chelmonops_curiosus-Chelmonops_truncatus/Chelmonops_curiosus/Chelmonops_curiosus_0006.jpg',\n",
       "  'wildfish/diff_images/val/Chelmonops_curiosus-Chelmonops_truncatus/Chelmonops_curiosus/Chelmonops_curiosus_0010.jpg',\n",
       "  'wildfish/diff_images/val/Chelmonops_curiosus-Chelmonops_truncatus/Chelmonops_curiosus/Chelmonops_curiosus_0005.jpg',\n",
       "  'wildfish/diff_images/val/Chelmonops_curiosus-Chelmonops_truncatus/Chelmonops_curiosus/Chelmonops_curiosus_0048.jpg'],\n",
       " 'image_2': ['wildfish/diff_images/val/Chelmonops_curiosus-Chelmonops_truncatus/Chelmonops_truncatus/Chelmonops_truncatus_0049.jpg',\n",
       "  'wildfish/diff_images/val/Chelmonops_curiosus-Chelmonops_truncatus/Chelmonops_truncatus/Chelmonops_truncatus_0011.jpg',\n",
       "  'wildfish/diff_images/val/Chelmonops_curiosus-Chelmonops_truncatus/Chelmonops_truncatus/Chelmonops_truncatus_0039.jpg',\n",
       "  'wildfish/diff_images/val/Chelmonops_curiosus-Chelmonops_truncatus/Chelmonops_truncatus/Chelmonops_truncatus_0038.jpg',\n",
       "  'wildfish/diff_images/val/Chelmonops_curiosus-Chelmonops_truncatus/Chelmonops_truncatus/Chelmonops_truncatus_0010.jpg',\n",
       "  'wildfish/diff_images/val/Chelmonops_curiosus-Chelmonops_truncatus/Chelmonops_truncatus/Chelmonops_truncatus_0004.jpg',\n",
       "  'wildfish/diff_images/val/Chelmonops_curiosus-Chelmonops_truncatus/Chelmonops_truncatus/Chelmonops_truncatus_0012.jpg',\n",
       "  'wildfish/diff_images/val/Chelmonops_curiosus-Chelmonops_truncatus/Chelmonops_truncatus/Chelmonops_truncatus_0016.jpg',\n",
       "  'wildfish/diff_images/val/Chelmonops_curiosus-Chelmonops_truncatus/Chelmonops_truncatus/Chelmonops_truncatus_0000.jpg',\n",
       "  'wildfish/diff_images/val/Chelmonops_curiosus-Chelmonops_truncatus/Chelmonops_truncatus/Chelmonops_truncatus_0014.jpg',\n",
       "  'wildfish/diff_images/val/Chelmonops_curiosus-Chelmonops_truncatus/Chelmonops_truncatus/Chelmonops_truncatus_0015.jpg',\n",
       "  'wildfish/diff_images/val/Chelmonops_curiosus-Chelmonops_truncatus/Chelmonops_truncatus/Chelmonops_truncatus_0001.jpg',\n",
       "  'wildfish/diff_images/val/Chelmonops_curiosus-Chelmonops_truncatus/Chelmonops_truncatus/Chelmonops_truncatus_0029.jpg',\n",
       "  'wildfish/diff_images/val/Chelmonops_curiosus-Chelmonops_truncatus/Chelmonops_truncatus/Chelmonops_truncatus_0030.jpg',\n",
       "  'wildfish/diff_images/val/Chelmonops_curiosus-Chelmonops_truncatus/Chelmonops_truncatus/Chelmonops_truncatus_0018.jpg',\n",
       "  'wildfish/diff_images/val/Chelmonops_curiosus-Chelmonops_truncatus/Chelmonops_truncatus/Chelmonops_truncatus_0019.jpg',\n",
       "  'wildfish/diff_images/val/Chelmonops_curiosus-Chelmonops_truncatus/Chelmonops_truncatus/Chelmonops_truncatus_0031.jpg',\n",
       "  'wildfish/diff_images/val/Chelmonops_curiosus-Chelmonops_truncatus/Chelmonops_truncatus/Chelmonops_truncatus_0027.jpg',\n",
       "  'wildfish/diff_images/val/Chelmonops_curiosus-Chelmonops_truncatus/Chelmonops_truncatus/Chelmonops_truncatus_0032.jpg',\n",
       "  'wildfish/diff_images/val/Chelmonops_curiosus-Chelmonops_truncatus/Chelmonops_truncatus/Chelmonops_truncatus_0022.jpg',\n",
       "  'wildfish/diff_images/val/Chelmonops_curiosus-Chelmonops_truncatus/Chelmonops_truncatus/Chelmonops_truncatus_0023.jpg',\n",
       "  'wildfish/diff_images/val/Chelmonops_curiosus-Chelmonops_truncatus/Chelmonops_truncatus/Chelmonops_truncatus_0037.jpg',\n",
       "  'wildfish/diff_images/val/Chelmonops_curiosus-Chelmonops_truncatus/Chelmonops_truncatus/Chelmonops_truncatus_0021.jpg',\n",
       "  'wildfish/diff_images/val/Chelmonops_curiosus-Chelmonops_truncatus/Chelmonops_truncatus/Chelmonops_truncatus_0035.jpg',\n",
       "  'wildfish/diff_images/val/Chelmonops_curiosus-Chelmonops_truncatus/Chelmonops_truncatus/Chelmonops_truncatus_0047.jpg',\n",
       "  'wildfish/diff_images/val/Chelmonops_curiosus-Chelmonops_truncatus/Chelmonops_truncatus/Chelmonops_truncatus_0050.jpg',\n",
       "  'wildfish/diff_images/val/Chelmonops_curiosus-Chelmonops_truncatus/Chelmonops_truncatus/Chelmonops_truncatus_0044.jpg',\n",
       "  'wildfish/diff_images/val/Chelmonops_curiosus-Chelmonops_truncatus/Chelmonops_truncatus/Chelmonops_truncatus_0045.jpg',\n",
       "  'wildfish/diff_images/val/Chelmonops_curiosus-Chelmonops_truncatus/Chelmonops_truncatus/Chelmonops_truncatus_0040.jpg',\n",
       "  'wildfish/diff_images/val/Chelmonops_curiosus-Chelmonops_truncatus/Chelmonops_truncatus/Chelmonops_truncatus_0042.jpg'],\n",
       " 'question': 'Which fish has a much longer dorsal extension?',\n",
       " 'folder_1': 'Chelmonops_curiosus',\n",
       " 'folder_2': 'Chelmonops_truncatus'}"
      ]
     },
     "execution_count": 28,
     "metadata": {},
     "output_type": "execute_result"
    }
   ],
   "source": [
    "tool.save_updated_data()"
   ]
  },
  {
   "cell_type": "code",
   "execution_count": 31,
   "id": "46081ae7",
   "metadata": {},
   "outputs": [
    {
     "data": {
      "text/plain": [
       "60"
      ]
     },
     "execution_count": 31,
     "metadata": {},
     "output_type": "execute_result"
    }
   ],
   "source": [
    "len(tool.data)"
   ]
  },
  {
   "cell_type": "code",
   "execution_count": null,
   "id": "18c50763",
   "metadata": {},
   "outputs": [],
   "source": []
  }
 ],
 "metadata": {
  "kernelspec": {
   "display_name": "vl_label",
   "language": "python",
   "name": "vl_label"
  },
  "language_info": {
   "codemirror_mode": {
    "name": "ipython",
    "version": 3
   },
   "file_extension": ".py",
   "mimetype": "text/x-python",
   "name": "python",
   "nbconvert_exporter": "python",
   "pygments_lexer": "ipython3",
   "version": "3.10.14"
  }
 },
 "nbformat": 4,
 "nbformat_minor": 5
}
