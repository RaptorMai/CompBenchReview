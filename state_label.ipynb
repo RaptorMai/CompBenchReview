{
 "cells": [
  {
   "cell_type": "code",
   "execution_count": 1,
   "id": "4116056e",
   "metadata": {
    "scrolled": false
   },
   "outputs": [],
   "source": [
    "import json\n",
    "from IPython.display import display, Image\n",
    "import ipywidgets as widgets\n",
    "from IPython.display import clear_output\n",
    "from ipywidgets import Image as WidgetImage\n",
    "import csv\n",
    "import os\n",
    "from collections import defaultdict, Counter\n",
    "from os import listdir\n",
    "import random\n",
    "import matplotlib.pyplot as plt\n",
    "from matplotlib.pyplot import imshow\n",
    "import matplotlib.image as mpimg\n",
    "from pattern import comparative\n",
    "from collections import deque\n",
    "import base64\n",
    "from pattern import comparative\n",
    "from os.path import join"
   ]
  },
  {
   "cell_type": "markdown",
   "id": "114c250a",
   "metadata": {},
   "source": [
    "# ST create source data"
   ]
  },
  {
   "cell_type": "code",
   "execution_count": null,
   "id": "8b7acbd4",
   "metadata": {},
   "outputs": [],
   "source": [
    "# data_path = 'release_dataset/images'\n",
    "# folders = list(os.scandir(data_path))\n",
    "# all_name = []\n",
    "# c = []\n",
    "# for folder in folders:\n",
    "#     tmp = {}\n",
    "#     if folder.name == '.DS_Store':\n",
    "#         continue\n",
    "#     adj, noun = folder.name.split(\" \")\n",
    "#     if adj == 'adj':\n",
    "#         continue\n",
    "#     all_data = [join(data_path, folder.name, i) for i in listdir(join(data_path, folder.name))]\n",
    "#     if len(all_data) < 2:\n",
    "#         continue\n",
    "#     question = f'Which {noun} is {comparative(adj)}?'\n",
    "#     tmp['question'] = question\n",
    "#     tmp['images'] = all_data\n",
    "#     tmp['folder'] = folder.name\n",
    "#     c.append(len(all_data))\n",
    "#     all_name.append(tmp)"
   ]
  },
  {
   "cell_type": "code",
   "execution_count": null,
   "id": "b8e00a7a",
   "metadata": {},
   "outputs": [],
   "source": [
    "# newlist = sorted(all_name, key=lambda d: len(d['images']))"
   ]
  },
  {
   "cell_type": "code",
   "execution_count": null,
   "id": "c5bdfcf1",
   "metadata": {},
   "outputs": [],
   "source": [
    "# with open('state_transform_source.json', 'w') as fout:\n",
    "#     json.dump(newlist, fout)"
   ]
  },
  {
   "cell_type": "code",
   "execution_count": null,
   "id": "cceb7053",
   "metadata": {},
   "outputs": [],
   "source": [
    "# len(newlist)"
   ]
  },
  {
   "cell_type": "code",
   "execution_count": null,
   "id": "25c4f457",
   "metadata": {},
   "outputs": [],
   "source": [
    "# Counter(c)"
   ]
  },
  {
   "cell_type": "markdown",
   "id": "06cb5f75",
   "metadata": {},
   "source": [
    "# VAM create source data"
   ]
  },
  {
   "cell_type": "code",
   "execution_count": 2,
   "id": "b7626a9d",
   "metadata": {},
   "outputs": [],
   "source": [
    "# data_path = 'att_obj_images/val'\n",
    "# folders = list(os.scandir(data_path))"
   ]
  },
  {
   "cell_type": "code",
   "execution_count": 38,
   "id": "8cb364c5",
   "metadata": {},
   "outputs": [],
   "source": [
    "# all_name = []\n",
    "# c = []\n",
    "# for folder in folders:\n",
    "#     tmp = {}\n",
    "#     if folder.name == '.DS_Store':\n",
    "#         continue\n",
    "#     adj, noun = folder.name.split(\"_\")\n",
    "\n",
    "#     if adj == 'adj':\n",
    "#         continue\n",
    "#     all_data = [join(data_path, folder.name, i) for i in listdir(join(data_path, folder.name))]\n",
    "#     data_l = len(all_data)\n",
    "#     if data_l < 2:\n",
    "#         print(folder.name)\n",
    "#         continue\n",
    "#     question = f'Which {noun} is {comparative(adj)}?'\n",
    "    \n",
    "#     if data_l > 20:\n",
    "#         random.shuffle(all_data)\n",
    "#         tmp = {}\n",
    "#         sub_list = []\n",
    "#         for i in all_data:\n",
    "#             sub_list.append(i)\n",
    "#             if len(sub_list) == 20:\n",
    "#                 tmp['question'] = question\n",
    "#                 tmp['images'] = sub_list\n",
    "#                 tmp['folder'] = folder.name\n",
    "#                 all_name.append(tmp)\n",
    "#                 c.append(len(sub_list))\n",
    "#                 tmp = {}\n",
    "#                 sub_list = []\n",
    "#         if len(sub_list) > 1:\n",
    "#             tmp['question'] = question\n",
    "#             tmp['images'] = sub_list\n",
    "#             tmp['folder'] = folder.name\n",
    "#             all_name.append(tmp)\n",
    "#             c.append(len(sub_list))\n",
    "#         elif len(sub_list) > 0 and len(sub_list) < 2:\n",
    "#             all_name[-1]['images'] += sub_list\n",
    "#             c[-1] += 1\n",
    "#     else:\n",
    "#         tmp['question'] = question\n",
    "#         tmp['images'] = all_data\n",
    "#         tmp['folder'] = folder.name\n",
    "#         all_name.append(tmp)\n",
    "#         c.append(len(all_data))"
   ]
  },
  {
   "cell_type": "code",
   "execution_count": 39,
   "id": "88c44fe1",
   "metadata": {},
   "outputs": [
    {
     "data": {
      "text/plain": [
       "Counter({2: 1545,\n",
       "         3: 651,\n",
       "         4: 300,\n",
       "         5: 157,\n",
       "         6: 99,\n",
       "         7: 77,\n",
       "         20: 66,\n",
       "         8: 49,\n",
       "         9: 35,\n",
       "         10: 29,\n",
       "         11: 24,\n",
       "         12: 21,\n",
       "         15: 16,\n",
       "         13: 13,\n",
       "         14: 11,\n",
       "         17: 11,\n",
       "         18: 9,\n",
       "         16: 7,\n",
       "         19: 7,\n",
       "         21: 6})"
      ]
     },
     "execution_count": 39,
     "metadata": {},
     "output_type": "execute_result"
    }
   ],
   "source": [
    "# Counter(c)"
   ]
  },
  {
   "cell_type": "code",
   "execution_count": 40,
   "id": "889732aa",
   "metadata": {},
   "outputs": [
    {
     "data": {
      "text/plain": [
       "3133"
      ]
     },
     "execution_count": 40,
     "metadata": {},
     "output_type": "execute_result"
    }
   ],
   "source": [
    "# len(all_name)"
   ]
  },
  {
   "cell_type": "code",
   "execution_count": 42,
   "id": "ad3c1454",
   "metadata": {},
   "outputs": [],
   "source": [
    "# with open('vaw_source.json', 'w') as fout:\n",
    "#     json.dump(all_name, fout)"
   ]
  },
  {
   "cell_type": "code",
   "execution_count": null,
   "id": "25f17663",
   "metadata": {},
   "outputs": [],
   "source": []
  },
  {
   "cell_type": "code",
   "execution_count": null,
   "id": "2fa0583b",
   "metadata": {},
   "outputs": [],
   "source": []
  },
  {
   "cell_type": "code",
   "execution_count": 26,
   "id": "9ccd9a46",
   "metadata": {
    "scrolled": true
   },
   "outputs": [],
   "source": [
    "def load_data(filename):\n",
    "    with open(filename, 'r') as file:\n",
    "        return json.load(file)"
   ]
  },
  {
   "cell_type": "code",
   "execution_count": 75,
   "id": "2bcd3d9f",
   "metadata": {
    "scrolled": true
   },
   "outputs": [],
   "source": [
    "class label_tool():\n",
    "    def __init__(self, json_name, start, end):\n",
    "        self.current_index = start\n",
    "        self.data = load_data(json_name) \n",
    "        self.results = []\n",
    "        self.end = end\n",
    "        self.start = start\n",
    "        # Create widgets\n",
    "        self.left_text = widgets.Text(description=\"Left:\", layout={'width': '80%'})\n",
    "        self.right_text = widgets.Text(description=\"Right:\", layout={'width': '80%'})\n",
    "        self.reset_button = widgets.Button(description=\"Reset\")\n",
    "        self.save_next_button = widgets.Button(description=\"Save and Next\")\n",
    "        self.next_list_button = widgets.Button(description=\"Next List\")\n",
    "        self.question_text = widgets.Text(description=\"Question:\",layout={'width': '80%'})\n",
    "        self.type_buttons = widgets.RadioButtons(options=['Size', 'Color', 'Texture', 'Shape', 'Pattern', 'State', 'None'], value='None', description='Type:')\n",
    "        self.answer_buttons = widgets.RadioButtons(options=['Left', 'Right', 'None'], value='None', description='Answer:')\n",
    "        self.back_buttons = widgets.Button(description=\"Back\")\n",
    "        self.image_widgets = []\n",
    "        self.adj = widgets.Text(description=\"Adjective:\", layout={'width': '50%'})\n",
    "        self.object = widgets.Text(description=\"Object:\", layout={'width': '50%'})\n",
    "        \n",
    "    def create_image_widget(self, path):\n",
    "        \"\"\"Create a widget for each image with radio buttons and display the first 10 letters of the path.\"\"\"\n",
    "        if os.path.exists(path):\n",
    "            image_file = open(path, 'rb').read()\n",
    "        else:\n",
    "            # Provide a placeholder if the image isn't found\n",
    "            image_file = widgets.Label(value=\"Image not found\").value\n",
    "\n",
    "        image = widgets.Image(value=image_file, format='jpg',)\n",
    "        radio_buttons = widgets.RadioButtons(\n",
    "            options=['Left', 'Right', 'None'],\n",
    "            value='None',  # Default value set to 'None'\n",
    "            description='',\n",
    "            disabled=False,\n",
    "            layout={'width': 'max-content'}\n",
    "        )\n",
    "        \n",
    "        name = path.split('/')[-1]\n",
    "        path_label = widgets.Label(value=name[:20])  # Display the first 10 letters of the path\n",
    "\n",
    "        radio_buttons.observe(lambda change, p=path, rb=radio_buttons: self.on_radio_change(change, p, rb), names='value')\n",
    "\n",
    "        box = widgets.VBox([image, radio_buttons, path_label])\n",
    "        return box\n",
    "    \n",
    "    def display_images(self):\n",
    "        \"\"\"Display all images for a given list index.\"\"\"\n",
    "        clear_output()\n",
    "        self.image_widgets[self.current_index] = []\n",
    "        \n",
    "        \n",
    "        for path in self.data[self.current_index]['images']:\n",
    "            widget = self.create_image_widget(path)\n",
    "            self.image_widgets[self.current_index].append(widget)\n",
    "\n",
    "        grid = widgets.GridBox(self.image_widgets[self.current_index], layout=widgets.Layout(grid_template_columns=\"repeat(3, 300px)\"))\n",
    "        display(grid)\n",
    "        print(self.data[self.current_index]['folder'])\n",
    "        adj, object_ = self.data[self.current_index]['folder'].split('_')\n",
    "        self.adj.value = adj\n",
    "        self.object.value = object_\n",
    "        display(widgets.VBox([self.question_text, self.adj, self.object, self.type_buttons]))\n",
    "        display(self.left_text, self.right_text, self.answer_buttons, self.reset_button, self.save_next_button, self.next_list_button, self.back_buttons)\n",
    "        \n",
    "    \n",
    "    \n",
    "    def on_radio_change(self, change, path, current_radio):\n",
    "        \"\"\"Handle radio button state changes and ensure exclusivity for Left and Right selections.\"\"\"\n",
    "        name = path.split('/')[-1]\n",
    "        if change['new'] in ['Left', 'Right']:\n",
    "            # Reset other selections\n",
    "            for widget_list in self.image_widgets[self.current_index]:\n",
    "                if widget_list.children[1] is not current_radio and widget_list.children[1].value == change['new']:\n",
    "                    widget_list.children[1].value = 'None'\n",
    "            # Update text boxes\n",
    "            if change['new'] == 'Left':\n",
    "                self.left_text.value = name\n",
    "            elif change['new'] == 'Right':\n",
    "                self.right_text.value = name\n",
    "        else:\n",
    "            # Clear the text boxes if unselected\n",
    "            if self.left_text.value == name:\n",
    "                self.left_text.value = ''\n",
    "            if self.right_text.value == name:\n",
    "                self.right_text.value = ''\n",
    "    \n",
    "    def reset_all(self, button):\n",
    "        \"\"\"Reset all text boxes, radio buttons to 'None', and clear answer and type selections.\"\"\"\n",
    "        self.left_text.value = ''\n",
    "        self.right_text.value = ''\n",
    "        self.type_buttons.value = 'None'\n",
    "        adj, object_ = self.data[self.current_index]['folder'].split('_')\n",
    "        self.adj.value = adj\n",
    "        self.object.value = object_\n",
    "        self.answer_buttons.value = None  # Deselect any selected answer\n",
    "        for widget_list in self.image_widgets[self.current_index]:\n",
    "            widget_list.children[1].value = 'None'\n",
    "\n",
    "    def save_and_next(self, button):\n",
    "        \"\"\"Save paths, type, answer, and update the question.\"\"\"\n",
    "        left = self.image_root + '/' + self.left_text.value\n",
    "        right = self.image_root + '/' + self.right_text.value\n",
    "\n",
    "        self.results.append({'image_1': left, 'image_2': right, \n",
    "                             'type': self.type_buttons.value, \n",
    "                             'answer': self.answer_buttons.value, \n",
    "                             'question': self.question_text.value,\n",
    "                            'adj': self.adj.value,\n",
    "                             'object': self.object.value\n",
    "                                })\n",
    "\n",
    "        print(self.results[-1])\n",
    "        self.reset_all(None)\n",
    "\n",
    "    def next_list(self, button):\n",
    "        \"\"\"Move to the next list of images and update question text.\"\"\"\n",
    "        self.current_index += 1\n",
    "        if  self.current_index < self.end:\n",
    "            self.question_text.value = self.data[self.current_index]['question']\n",
    "            self.image_root = '/'.join(self.data[self.current_index]['images'][0].split('/')[:3])  # Update the question box with the new question\n",
    "            self.display_images()\n",
    "        else:\n",
    "            print(\"No more lists available.\")\n",
    "    \n",
    "    def back_function(self, button):\n",
    "        self.results.pop()\n",
    "        self.reset_all(None)\n",
    "        print('remove last pair')\n",
    "    \n",
    "    \n",
    "    def save_updated_data(self):\n",
    "        with open(f'VAW_{self.start}_{self.end}.json', 'w') as file:\n",
    "            json.dump(self.results, file)\n",
    "    \n",
    "    def begin(self):\n",
    "        # Initialize the image_widgets list for each list of images\n",
    "        for _ in range(len(self.data)):\n",
    "            self.image_widgets.append([])\n",
    "        self.display_images()\n",
    "        self.question_text.value = self.data[self.current_index]['question']\n",
    "        self.image_root = '/'.join(self.data[self.current_index]['images'][0].split('/')[:3])\n",
    "        # Link buttons to functions\n",
    "        self.reset_button.on_click(self.reset_all)\n",
    "        self.save_next_button.on_click(self.save_and_next)\n",
    "        self.next_list_button.on_click(self.next_list)\n",
    "        self.back_buttons.on_click(self.back_function)\n",
    "        "
   ]
  },
  {
   "cell_type": "code",
   "execution_count": 76,
   "id": "13157760",
   "metadata": {
    "scrolled": true
   },
   "outputs": [],
   "source": [
    "#labeler = label_tool('state_transform_source.json',600,605)\n",
    "labeler = label_tool('vaw_source.json',0,105)"
   ]
  },
  {
   "cell_type": "code",
   "execution_count": 78,
   "id": "ce84b876",
   "metadata": {},
   "outputs": [
    {
     "data": {
      "text/plain": [
       "3133"
      ]
     },
     "execution_count": 78,
     "metadata": {},
     "output_type": "execute_result"
    }
   ],
   "source": [
    "len(labeler.data)"
   ]
  },
  {
   "cell_type": "code",
   "execution_count": 74,
   "id": "80e01e87",
   "metadata": {
    "scrolled": false
   },
   "outputs": [
    {
     "data": {
      "application/vnd.jupyter.widget-view+json": {
       "model_id": "ecbab71957d64d8f9d0cf170a20e7003",
       "version_major": 2,
       "version_minor": 0
      },
      "text/plain": [
       "GridBox(children=(VBox(children=(Image(value=b'\\xff\\xd8\\xff\\xe0\\x00\\x10JFIF\\x00\\x01\\x01\\x01\\x00\\xb4\\x00\\xb4\\x0…"
      ]
     },
     "metadata": {},
     "output_type": "display_data"
    },
    {
     "name": "stdout",
     "output_type": "stream",
     "text": [
      "cut_peppers\n"
     ]
    },
    {
     "data": {
      "application/vnd.jupyter.widget-view+json": {
       "model_id": "853d8b520b194ea8b3ba293ece41ba3b",
       "version_major": 2,
       "version_minor": 0
      },
      "text/plain": [
       "VBox(children=(Text(value='', description='Question:', layout=Layout(width='80%')), Text(value='cut', descript…"
      ]
     },
     "metadata": {},
     "output_type": "display_data"
    },
    {
     "data": {
      "application/vnd.jupyter.widget-view+json": {
       "model_id": "1af3b43619b34b20951e752abdc7ac64",
       "version_major": 2,
       "version_minor": 0
      },
      "text/plain": [
       "Text(value='', description='Left:', layout=Layout(width='80%'))"
      ]
     },
     "metadata": {},
     "output_type": "display_data"
    },
    {
     "data": {
      "application/vnd.jupyter.widget-view+json": {
       "model_id": "51dc9c5f539144d9a74006ab4eabc067",
       "version_major": 2,
       "version_minor": 0
      },
      "text/plain": [
       "Text(value='', description='Right:', layout=Layout(width='80%'))"
      ]
     },
     "metadata": {},
     "output_type": "display_data"
    },
    {
     "data": {
      "application/vnd.jupyter.widget-view+json": {
       "model_id": "647b45589533443ea1262ac7c8133e6c",
       "version_major": 2,
       "version_minor": 0
      },
      "text/plain": [
       "RadioButtons(description='Answer:', index=2, options=('Left', 'Right', 'None'), value='None')"
      ]
     },
     "metadata": {},
     "output_type": "display_data"
    },
    {
     "data": {
      "application/vnd.jupyter.widget-view+json": {
       "model_id": "bbf9831dd8d640c199daa21ec7d4e76b",
       "version_major": 2,
       "version_minor": 0
      },
      "text/plain": [
       "Button(description='Reset', style=ButtonStyle())"
      ]
     },
     "metadata": {},
     "output_type": "display_data"
    },
    {
     "data": {
      "application/vnd.jupyter.widget-view+json": {
       "model_id": "010c09e922404fa790abfdb7bb631545",
       "version_major": 2,
       "version_minor": 0
      },
      "text/plain": [
       "Button(description='Save and Next', style=ButtonStyle())"
      ]
     },
     "metadata": {},
     "output_type": "display_data"
    },
    {
     "data": {
      "application/vnd.jupyter.widget-view+json": {
       "model_id": "7d8457262fcb424384643260b9d03a65",
       "version_major": 2,
       "version_minor": 0
      },
      "text/plain": [
       "Button(description='Next List', style=ButtonStyle())"
      ]
     },
     "metadata": {},
     "output_type": "display_data"
    },
    {
     "data": {
      "application/vnd.jupyter.widget-view+json": {
       "model_id": "09d26e1c933946c789d30b4802d21491",
       "version_major": 2,
       "version_minor": 0
      },
      "text/plain": [
       "Button(description='Back', style=ButtonStyle())"
      ]
     },
     "metadata": {},
     "output_type": "display_data"
    },
    {
     "name": "stdout",
     "output_type": "stream",
     "text": [
      "{'image_1': 'att_obj_images/val/cut_peppers/', 'image_2': 'att_obj_images/val/cut_peppers/', 'type': 'None', 'answer': 'None', 'question': 'Which peppers is cutter?', 'adj': 'cut', 'object': 'peppers'}\n"
     ]
    }
   ],
   "source": [
    "labeler.begin()"
   ]
  },
  {
   "cell_type": "code",
   "execution_count": 154,
   "id": "92e1aedb",
   "metadata": {
    "scrolled": true
   },
   "outputs": [
    {
     "data": {
      "text/plain": [
       "[{'image_1': 'release_dataset/images/new castle/crth183a.jpg',\n",
       "  'image_2': 'release_dataset/images/new castle/new-castle.jpg',\n",
       "  'type': 'Pattern',\n",
       "  'answer': 'Left',\n",
       "  'question': 'Which castle is newer?'}]"
      ]
     },
     "execution_count": 154,
     "metadata": {},
     "output_type": "execute_result"
    }
   ],
   "source": [
    "labeler.results"
   ]
  },
  {
   "cell_type": "code",
   "execution_count": 138,
   "id": "fe553b2b",
   "metadata": {
    "scrolled": true
   },
   "outputs": [],
   "source": [
    "labeler.save_updated_data()"
   ]
  },
  {
   "cell_type": "code",
   "execution_count": null,
   "id": "cd80fb03",
   "metadata": {
    "scrolled": true
   },
   "outputs": [],
   "source": []
  },
  {
   "cell_type": "code",
   "execution_count": null,
   "id": "235fde1c",
   "metadata": {
    "scrolled": true
   },
   "outputs": [],
   "source": []
  },
  {
   "cell_type": "code",
   "execution_count": null,
   "id": "c974077a",
   "metadata": {
    "scrolled": true
   },
   "outputs": [],
   "source": []
  },
  {
   "cell_type": "code",
   "execution_count": null,
   "id": "aee7c385",
   "metadata": {
    "scrolled": true
   },
   "outputs": [],
   "source": []
  },
  {
   "cell_type": "code",
   "execution_count": null,
   "id": "b0bf919c",
   "metadata": {
    "scrolled": true
   },
   "outputs": [],
   "source": []
  }
 ],
 "metadata": {
  "kernelspec": {
   "display_name": "vl_compare",
   "language": "python",
   "name": "vl_compare"
  },
  "language_info": {
   "codemirror_mode": {
    "name": "ipython",
    "version": 3
   },
   "file_extension": ".py",
   "mimetype": "text/x-python",
   "name": "python",
   "nbconvert_exporter": "python",
   "pygments_lexer": "ipython3",
   "version": "3.10.14"
  }
 },
 "nbformat": 4,
 "nbformat_minor": 5
}
