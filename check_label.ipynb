{
 "cells": [
  {
   "cell_type": "code",
   "execution_count": 1,
   "id": "34e4de90",
   "metadata": {},
   "source": [
    "import json\n",
    "from IPython.display import display, Image\n",
    "import ipywidgets as widgets\n",
    "from IPython.display import clear_output\n",
    "from ipywidgets import Image as WidgetImage"
   ],
   "outputs": []
  },
  {
   "cell_type": "code",
   "execution_count": 2,
   "id": "d267f64e",
   "metadata": {},
   "source": [
    "def load_data(filename):\n",
    "    with open(filename, 'r') as file:\n",
    "        return json.load(file)"
   ],
   "outputs": []
  },
  {
   "cell_type": "code",
   "execution_count": 3,
   "id": "ba85871b",
   "metadata": {},
   "source": [
    "def save_updated_data(updated_data, start, end):\n",
    "    with open(f'MB_{start}_{end}.json', 'w') as file:\n",
    "        json.dump(updated_data, file)"
   ],
   "outputs": []
  },
  {
   "cell_type": "code",
   "execution_count": 28,
   "id": "d8cda8f5",
   "metadata": {},
   "source": [
    "class label_tool():\n",
    "    def __init__(self, json_name, start, end):\n",
    "        self.json_name = json_name\n",
    "        self.current_index = start\n",
    "        self.data = load_data(json_name) \n",
    "        self.end = end\n",
    "        self.start = start\n",
    "        self.reset_button = widgets.Button(description=\"Reset\")\n",
    "        self.save_next_button = widgets.Button(description=\"Save and Next\")\n",
    "        self.question_text = widgets.Text(description=\"Question:\",layout={'width': '80%'})\n",
    "        self.type_buttons = widgets.RadioButtons(options=['Size', 'Color', 'Texture', 'Shape', 'Pattern', 'State', 'None'], value='None', description='Type:')\n",
    "        self.answer_buttons = widgets.RadioButtons(options=['Left', 'Right', 'None'], value='None', description='Answer:')\n",
    "        self.delete_buttons = widgets.Button(description=\"Delete\")\n",
    "        \n",
    "    def display_content(self):\n",
    "        clear_output()\n",
    "        if self.current_index < self.end:\n",
    "            entry = self.data[self.current_index]\n",
    "            if not entry:\n",
    "                print('empty')\n",
    "                self.current_index += 1\n",
    "                self.display_content()\n",
    "            # Load images from files and display them side by side\n",
    "            with open(entry['image_1'], \"rb\") as file:\n",
    "                image_input = file.read()\n",
    "            with open(entry['image_2'], \"rb\") as file:\n",
    "                image_output = file.read()\n",
    "            \n",
    "\n",
    "            print(f' Image ID {self.current_index}')\n",
    "            \n",
    "            box = widgets.HBox([\n",
    "                WidgetImage(value=image_input, format='png', width=250, height=250),\n",
    "                WidgetImage(value=image_output, format='png', width=250, height=250)\n",
    "            ])\n",
    "\n",
    "    \n",
    "            self.question_text.value = self.data[self.current_index]['question']\n",
    "            self.answer_buttons.value = self.data[self.current_index]['answer']\n",
    "            self.type_buttons.value = self.data[self.current_index]['type']\n",
    "            display(box, self.question_text, self.type_buttons, self.answer_buttons, self.save_next_button, self.delete_buttons)\n",
    "\n",
    "\n",
    "        else:\n",
    "            print(\"No more entries to display. Please call save_updated_data() to save results.\")\n",
    "\n",
    "    def save_and_next(self, button):\n",
    "        \"\"\"Save paths, type, answer, and update the question.\"\"\"\n",
    "\n",
    "        \n",
    "        data = {'image_1': self.data[self.current_index]['image_1'], 'image_2': self.data[self.current_index]['image_2'], \n",
    "                             'type': self.type_buttons.value, \n",
    "                             'answer': self.answer_buttons.value, \n",
    "                             'question': self.question_text.value}\n",
    "        print(data)\n",
    "        self.data[self.current_index] = data\n",
    "        self.current_index += 1\n",
    "        self.display_content()\n",
    "        \n",
    "    \n",
    "    def begin(self):\n",
    "        if not self.data[self.current_index]:\n",
    "            print('empty')\n",
    "            self.current_index += 1\n",
    "            self.display_content()\n",
    "        self.question_text.value = self.data[self.current_index]['question']\n",
    "        # Link buttons to functions\n",
    "        self.save_next_button.on_click(self.save_and_next)\n",
    "        self.delete_buttons.on_click(self.delete_function)\n",
    "        self.display_content()\n",
    "        \n",
    "    def delete_function(self, button):\n",
    "        self.data[self.current_index] = {}\n",
    "        print(f'remove {self.current_index} pair')\n",
    "        self.current_index += 1\n",
    "        self.display_content()\n",
    "        \n",
    "    def save_updated_data(self):\n",
    "        with open(self.json_name, 'w') as file:\n",
    "            json.dump(self.data, file)\n",
    "            \n"
   ],
   "outputs": []
  },
  {
   "cell_type": "code",
   "execution_count": 29,
   "id": "36101b50",
   "metadata": {},
   "source": [
    "labeler = label_tool('State_Transform_0_200.json', 0,120)"
   ],
   "outputs": []
  },
  {
   "cell_type": "code",
   "execution_count": 30,
   "id": "69688dd0",
   "metadata": {},
   "source": [
    "labeler.begin()"
   ],
   "outputs": []
  },
  {
   "cell_type": "code",
   "execution_count": 18,
   "id": "cee879c1",
   "metadata": {},
   "source": [
    "labeler.data[0]"
   ],
   "outputs": []
  },
  {
   "cell_type": "code",
   "execution_count": 10,
   "id": "a6b54afd",
   "metadata": {},
   "source": [
    "labeler.save_updated_data()"
   ],
   "outputs": []
  },
  {
   "cell_type": "code",
   "execution_count": null,
   "id": "21bd768c",
   "metadata": {},
   "source": [],
   "outputs": []
  },
  {
   "cell_type": "code",
   "execution_count": null,
   "id": "a38fe74e",
   "metadata": {},
   "source": [],
   "outputs": []
  },
  {
   "cell_type": "code",
   "execution_count": null,
   "id": "54f37317",
   "metadata": {},
   "source": [],
   "outputs": []
  },
  {
   "cell_type": "code",
   "execution_count": null,
   "id": "8ff9f327",
   "metadata": {},
   "source": [],
   "outputs": []
  },
  {
   "cell_type": "code",
   "execution_count": null,
   "id": "e01a56cd",
   "metadata": {},
   "source": [],
   "outputs": []
  },
  {
   "cell_type": "code",
   "execution_count": null,
   "id": "17ebd623",
   "metadata": {},
   "source": [],
   "outputs": []
  },
  {
   "cell_type": "code",
   "execution_count": null,
   "id": "713ef3f4",
   "metadata": {},
   "source": [],
   "outputs": []
  },
  {
   "cell_type": "code",
   "execution_count": null,
   "id": "92f36bef",
   "metadata": {},
   "source": [],
   "outputs": []
  },
  {
   "cell_type": "code",
   "execution_count": null,
   "id": "562e5486",
   "metadata": {},
   "source": [],
   "outputs": []
  },
  {
   "cell_type": "code",
   "execution_count": null,
   "id": "e35249bf",
   "metadata": {},
   "source": [],
   "outputs": []
  },
  {
   "cell_type": "code",
   "execution_count": null,
   "id": "50506dd0",
   "metadata": {},
   "source": [],
   "outputs": []
  },
  {
   "cell_type": "code",
   "execution_count": null,
   "id": "d5786cd5",
   "metadata": {},
   "source": [],
   "outputs": []
  },
  {
   "cell_type": "code",
   "execution_count": null,
   "id": "2f12836c",
   "metadata": {},
   "source": [],
   "outputs": []
  },
  {
   "cell_type": "code",
   "execution_count": null,
   "id": "aa3351ef",
   "metadata": {},
   "source": [],
   "outputs": []
  },
  {
   "cell_type": "code",
   "execution_count": null,
   "id": "2ab5429a",
   "metadata": {},
   "source": [],
   "outputs": []
  },
  {
   "cell_type": "code",
   "execution_count": null,
   "id": "8169bda6",
   "metadata": {},
   "source": [],
   "outputs": []
  },
  {
   "cell_type": "code",
   "execution_count": null,
   "id": "988b3384",
   "metadata": {},
   "source": [],
   "outputs": []
  }
 ],
 "metadata": {
  "kernelspec": {
   "display_name": "vl_label",
   "language": "python",
   "name": "vl_label"
  },
  "language_info": {
   "codemirror_mode": {
    "name": "ipython",
    "version": 3
   },
   "file_extension": ".py",
   "mimetype": "text/x-python",
   "name": "python",
   "nbconvert_exporter": "python",
   "pygments_lexer": "ipython3",
   "version": "3.9.19"
  }
 },
 "nbformat": 4,
 "nbformat_minor": 5
}
