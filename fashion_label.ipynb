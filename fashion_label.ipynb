{
 "cells": [
  {
   "cell_type": "code",
   "execution_count": 1,
   "id": "7c7d05a0",
   "metadata": {
    "scrolled": true
   },
   "outputs": [],
   "source": [
    "import json\n",
    "from IPython.display import display, Image\n",
    "import ipywidgets as widgets\n",
    "from IPython.display import clear_output\n",
    "from ipywidgets import Image as WidgetImage\n",
    "import csv\n",
    "import os\n",
    "from collections import defaultdict\n",
    "from os import listdir\n",
    "import random\n",
    "import matplotlib.pyplot as plt\n",
    "from matplotlib.pyplot import imshow\n",
    "import matplotlib.image as mpimg\n",
    "from pattern import comparative\n",
    "import base64\n",
    "from os.path import join\n",
    "from collections import Counter"
   ]
  },
  {
   "cell_type": "code",
   "execution_count": 2,
   "id": "7b44ba8d",
   "metadata": {},
   "outputs": [],
   "source": [
    "def load_data(filename):\n",
    "    with open(filename, 'r') as file:\n",
    "        return json.load(file)"
   ]
  },
  {
   "cell_type": "markdown",
   "id": "dba92985",
   "metadata": {},
   "source": [
    "# prepare data"
   ]
  },
  {
   "cell_type": "code",
   "execution_count": 3,
   "id": "df6a8ea7",
   "metadata": {
    "scrolled": true
   },
   "outputs": [],
   "source": [
    "data_path = 'adj_obj_folder_pairs_images/val'\n",
    "folders = list(os.scandir(data_path))"
   ]
  },
  {
   "cell_type": "code",
   "execution_count": 7,
   "id": "08adb0ba",
   "metadata": {},
   "outputs": [],
   "source": [
    "all_adj = set()\n",
    "all_noun = set()\n",
    "all_adj_pair = set()\n",
    "adj_pair = defaultdict(set)\n",
    "for folder in folders:\n",
    "    \n",
    "    if folder.name == '.DS_Store':\n",
    "        continue\n",
    "    pair = folder.name\n",
    "    folder_1, folder_2 = pair.split('-')\n",
    "    adj_1, noun_1 = folder_1.split('_')\n",
    "    adj_2, noun_2 = folder_2.split('_')\n",
    "    \n",
    "#     sort_pair = tuple(sorted([adj_1, adj_2, noun_1]))\n",
    "#     if sort_pair in all_adj_pair:\n",
    "#         print(sort_pair)\n",
    "#     else:\n",
    "#         all_adj_pair.add(sort_pair)\n",
    "    if noun_1 != noun_2:\n",
    "        print(folder_1, folder_2)\n",
    "    \n",
    "    question_option = []\n",
    "    if adj_1 == 'slit' or adj_1 == 'slit':\n",
    "        continue\n",
    "    \n",
    "    adj_pair[adj_1].add(adj_2)\n",
    "    adj_pair[adj_2].add(adj_1)\n",
    "    all_adj.add(adj_1)\n",
    "    all_adj.add(adj_2)\n",
    "    "
   ]
  },
  {
   "cell_type": "code",
   "execution_count": 25,
   "id": "2c0db7fd",
   "metadata": {},
   "outputs": [
    {
     "data": {
      "text/plain": [
       "{'argyle',\n",
       " 'asymmetric (neckline)',\n",
       " 'asymmetrical',\n",
       " 'baggy',\n",
       " 'curved (fit)',\n",
       " 'distressed',\n",
       " 'embossed',\n",
       " 'floral',\n",
       " 'frayed',\n",
       " 'geometric',\n",
       " 'loose (fit)',\n",
       " 'maxi (length)',\n",
       " 'micro (length)',\n",
       " 'mini (length)',\n",
       " 'oval (neck)',\n",
       " 'oversized',\n",
       " 'oversized (collar)',\n",
       " 'paisley',\n",
       " 'perforated',\n",
       " 'plain (pattern)',\n",
       " 'plunging (neckline)',\n",
       " 'quilted',\n",
       " 'regular (collar)',\n",
       " 'regular (fit)',\n",
       " 'round (neck)',\n",
       " 'ruched',\n",
       " 'slit',\n",
       " 'square (neckline)',\n",
       " 'straight',\n",
       " 'symmetrical',\n",
       " 'tiered',\n",
       " 'tight (fit)',\n",
       " 'washed'}"
      ]
     },
     "execution_count": 25,
     "metadata": {},
     "output_type": "execute_result"
    }
   ],
   "source": [
    "all_adj"
   ]
  },
  {
   "cell_type": "code",
   "execution_count": 51,
   "id": "afffb38f",
   "metadata": {},
   "outputs": [],
   "source": [
    "poential_pair = {\n",
    "    'argyle': ['embossed', 'floral', 'paisley', 'plain (pattern)', 'perforated', 'washed', 'tiered'],\n",
    "    'distressed':[ 'quilted', 'tiered', 'plain (pattern)'],\n",
    "    'floral': ['baggy', 'embossed', 'frayed', 'geometric', 'distressed',  'paisley', 'perforated', 'plain (pattern)', 'quilted',  'washed', 'oversized'],\n",
    "    'geometric': ['embossed', 'baggy', 'distressed', 'frayed', 'paisley', 'plain (pattern)', 'perforated', 'washed', 'tiered'],\n",
    "    'embossed': ['quilted', 'paisley', 'perforated', 'plain (pattern)', 'tiered'],\n",
    "    'frayed': ['quilted'],\n",
    "    'paisley': ['plain (pattern)', 'perforated', 'tiered', 'washed'],\n",
    "    'perforated': [ 'tiered', 'washed'],\n",
    "    'plain (pattern)': [ 'tiered', 'washed'],\n",
    "\n",
    "\n",
    "    'oval (neck)': ['asymmetric (neckline)','plunging (neckline)', 'square (neckline)'],\n",
    "    'square (neckline)': ['asymmetric (neckline)', 'plunging (neckline)', 'round (neck)'],\n",
    "    'plunging (neckline)': ['round (neck)', 'asymmetric (neckline)'],\n",
    "    'round (neck)': ['asymmetric (neckline)'],\n",
    "    \n",
    "    'oversized (collar)': ['regular (collar)'],\n",
    "\n",
    "    'curved (fit)': ['loose (fit)', 'regular (fit)', 'straight'],\n",
    "    'loose (fit)': ['regular (fit)'],\n",
    "    'maxi (length)': ['micro (length)', 'mini (length)'],\n",
    "    'oversized': ['tight (fit)', 'regular (fit)', 'curved (fit)'],\n",
    "    'baggy': ['tight (fit)', 'regular (fit)'],\n",
    "    'asymmetrical':['symmetrical']\n",
    "        \n",
    "       }"
   ]
  },
  {
   "cell_type": "code",
   "execution_count": 41,
   "id": "df504267",
   "metadata": {},
   "outputs": [
    {
     "data": {
      "text/plain": [
       "{'asymmetric (neckline)', 'oval (neck)', 'plunging (neckline)', 'round (neck)'}"
      ]
     },
     "execution_count": 41,
     "metadata": {},
     "output_type": "execute_result"
    }
   ],
   "source": [
    "adj_pair['square (neckline)']"
   ]
  },
  {
   "cell_type": "code",
   "execution_count": 52,
   "id": "5c1dd346",
   "metadata": {},
   "outputs": [],
   "source": [
    "candidate = set()\n",
    "for i in poential_pair:\n",
    "    for k in poential_pair[i]:\n",
    "        candidate.add(tuple(sorted([i,k])))"
   ]
  },
  {
   "cell_type": "code",
   "execution_count": 53,
   "id": "48bddef8",
   "metadata": {},
   "outputs": [
    {
     "data": {
      "text/plain": [
       "66"
      ]
     },
     "execution_count": 53,
     "metadata": {},
     "output_type": "execute_result"
    }
   ],
   "source": [
    "len(candidate)"
   ]
  },
  {
   "cell_type": "code",
   "execution_count": 47,
   "id": "d98d3c71",
   "metadata": {},
   "outputs": [
    {
     "data": {
      "text/plain": [
       "{('argyle', 'embossed'),\n",
       " ('argyle', 'floral'),\n",
       " ('argyle', 'paisley'),\n",
       " ('argyle', 'perforated'),\n",
       " ('argyle', 'plain (pattern)'),\n",
       " ('argyle', 'tiered'),\n",
       " ('argyle', 'washed'),\n",
       " ('asymmetric (neckline)', 'oval (neck)'),\n",
       " ('asymmetric (neckline)', 'plunging (neckline)'),\n",
       " ('asymmetric (neckline)', 'round (neck)'),\n",
       " ('asymmetric (neckline)', 'square (neckline)'),\n",
       " ('asymmetrical', 'symmetrical'),\n",
       " ('baggy', 'floral'),\n",
       " ('baggy', 'geometric'),\n",
       " ('baggy', 'regular (fit)'),\n",
       " ('baggy', 'tight (fit)'),\n",
       " ('curved (fit)', 'loose (fit)'),\n",
       " ('curved (fit)', 'oversized'),\n",
       " ('curved (fit)', 'regular (fit)'),\n",
       " ('curved (fit)', 'straight'),\n",
       " ('distressed', 'floral'),\n",
       " ('distressed', 'geometric'),\n",
       " ('distressed', 'plain (pattern)'),\n",
       " ('distressed', 'quilted'),\n",
       " ('distressed', 'tiered'),\n",
       " ('embossed', 'floral'),\n",
       " ('embossed', 'geometric'),\n",
       " ('embossed', 'paisley'),\n",
       " ('embossed', 'perforated'),\n",
       " ('embossed', 'plain (pattern)'),\n",
       " ('embossed', 'quilted'),\n",
       " ('embossed', 'tiered'),\n",
       " ('floral', 'frayed'),\n",
       " ('floral', 'geometric'),\n",
       " ('floral', 'oversized'),\n",
       " ('floral', 'paisley'),\n",
       " ('floral', 'perforated'),\n",
       " ('floral', 'plain (pattern)'),\n",
       " ('floral', 'quilted'),\n",
       " ('floral', 'washed'),\n",
       " ('frayed', 'geometric'),\n",
       " ('frayed', 'quilted'),\n",
       " ('geometric', 'paisley'),\n",
       " ('geometric', 'perforated'),\n",
       " ('geometric', 'plain (pattern)'),\n",
       " ('geometric', 'tiered'),\n",
       " ('geometric', 'washed'),\n",
       " ('maxi (length)', 'micro (length)'),\n",
       " ('maxi (length)', 'mini (length)'),\n",
       " ('oval (neck)', 'plunging (neckline)'),\n",
       " ('oval (neck)', 'square (neckline)'),\n",
       " ('oversized', 'regular (fit)'),\n",
       " ('oversized', 'tight (fit)'),\n",
       " ('oversized (collar)', 'regular (collar)'),\n",
       " ('paisley', 'perforated'),\n",
       " ('paisley', 'plain (pattern)'),\n",
       " ('paisley', 'tiered'),\n",
       " ('paisley', 'washed'),\n",
       " ('perforated', 'tiered'),\n",
       " ('perforated', 'washed'),\n",
       " ('plain (pattern)', 'tiered'),\n",
       " ('plain (pattern)', 'washed'),\n",
       " ('plunging (neckline)', 'round (neck)'),\n",
       " ('plunging (neckline)', 'square (neckline)'),\n",
       " ('round (neck)', 'square (neckline)')}"
      ]
     },
     "execution_count": 47,
     "metadata": {},
     "output_type": "execute_result"
    }
   ],
   "source": [
    "candidate"
   ]
  },
  {
   "cell_type": "code",
   "execution_count": 65,
   "id": "0aebac3d",
   "metadata": {
    "scrolled": true
   },
   "outputs": [],
   "source": [
    "all_name = []\n",
    "\n",
    "for folder in folders:\n",
    "    \n",
    "    if folder.name == '.DS_Store':\n",
    "        continue\n",
    "    pair = folder.name\n",
    "    folder_1, folder_2 = pair.split('-')\n",
    "    adj_1, noun_1 = folder_1.split('_')\n",
    "    adj_2, noun_2 = folder_2.split('_')\n",
    "\n",
    "    \n",
    "    question_option = []\n",
    "    if adj_1 == 'slit' or adj_1 == 'slit':\n",
    "        continue\n",
    "\n",
    "    \n",
    "    if tuple(sorted([adj_1,adj_2])) not in candidate:\n",
    "        continue\n",
    "    \n",
    "\n",
    "    noun = noun_1\n",
    "    all_noun.add(noun)\n",
    "    if noun in ('shorts', 'pants'):\n",
    "        noun_verb = f'{noun} are'\n",
    "        noun_s = f\"{noun}' \"\n",
    "    else:\n",
    "        noun_verb = f'{noun} is'\n",
    "        noun_s = f\"{noun}'s \"\n",
    "    if noun == 'neckline':\n",
    "        round_neck_noun = 'neckline'\n",
    "    else:\n",
    "        round_neck_noun = f\"{noun}'s neckline\"\n",
    "        \n",
    "    question = {'argyle': f'Which {noun_verb} more argyle?',\n",
    "                 'asymmetric (neckline)': f\"Which neckline is more asymmetric?\",\n",
    "                 'asymmetrical' : f\"Which {noun_verb} more asymmetrical?\",\n",
    "                 'baggy': f\"Which {noun_verb} more baggy?\",\n",
    "                 'curved (fit)':  f\"Which {noun_s} fit is more curved?\",\n",
    "                 'distressed':  f\"Which {noun_verb} more distressed\",\n",
    "                 'embossed':  f\"Which {noun_verb} more embossed?\",\n",
    "                 'floral': f\"Which {noun_verb} more floral?\",\n",
    "                 'frayed': f\"Which {noun_verb} more frayed?\",\n",
    "                 'geometric': f\"Which {noun_verb} more geometric?\",\n",
    "                 'loose (fit)': f\"Which {noun_s} fit is looser ?\",\n",
    "                 'maxi (length)': f\"Which {noun_verb} longer?\",\n",
    "                 'micro (length)': f\"Which {noun_verb} shorter?\",\n",
    "                 'mini (length)': f\"Which {noun_verb} shorter?\",\n",
    "                 'oval (neck)':f\"Which neckline is more oval?\",\n",
    "                 'oversized': f\"Which {noun_verb} more oasymmetricversized?\",\n",
    "                 'oversized (collar)': f\"Which {noun_s} collar is more oversized?\",\n",
    "                 'paisley': f\"Which {noun_verb} more paisley?\",\n",
    "                 'perforated': f\"Which {noun_verb} more perforated?\",\n",
    "                 'plain (pattern)': f\"Which {noun_s} pattern is more plain?\",\n",
    "                 'plunging (neckline)': f\"Which neckline is more plunging?\",\n",
    "                 'quilted': f\"Which {noun_verb} more quilted?\",\n",
    "                 'regular (collar)': f\"Which collar is more regular?\",\n",
    "                 'regular (fit)': f\"Which {noun}' fit is more regular?\",\n",
    "                 'round (neck)': f\"Which {round_neck_noun} is rounder ?\",\n",
    "                 'ruched': f\"Which {noun_verb} more ruched?\",\n",
    "                 'square (neckline)': f\"Which neckline is more square?\",\n",
    "                 'straight': f\"Which {noun_verb} more straight?\",\n",
    "                 'symmetrical': f\"Which {noun_verb} more symmetrical?\",\n",
    "                 'tiered': f\"Which {noun_verb} more tiered?\",\n",
    "                 'tight (fit)': f\"Which {noun_s} fit is tighter?\",\n",
    "                 'washed':f\"Which {noun_verb} more washed?\" }\n",
    "\n",
    "    data_1 = [join(data_path, pair, folder_1, i) for i in listdir(join(data_path, pair, folder_1))]\n",
    "    data_2 = [join(data_path, pair, folder_2, i) for i in listdir(join(data_path, pair, folder_2))]\n",
    "    if len(data_1) > 70:\n",
    "        random.shuffle(data_1)\n",
    "        data_1 = data_1[:70]\n",
    "    if len(data_2) > 70:\n",
    "        random.shuffle(data_2)\n",
    "        data_2 = data_2[:70] \n",
    "    if adj_1 in question:\n",
    "        question_option.append(question[adj_1])\n",
    "    if adj_2 in question:\n",
    "        question_option.append(question[adj_2]) \n",
    "    tmp = {}\n",
    "    tmp['image_1'] = data_1\n",
    "    tmp['image_2'] = data_2\n",
    "    tmp['question'] = question_option\n",
    "    tmp['folder_1'] = folder_1\n",
    "    tmp['folder_2'] = folder_2\n",
    "    all_name.append(tmp)"
   ]
  },
  {
   "cell_type": "code",
   "execution_count": 66,
   "id": "cc4eff4d",
   "metadata": {},
   "outputs": [
    {
     "data": {
      "text/plain": [
       "179"
      ]
     },
     "execution_count": 66,
     "metadata": {},
     "output_type": "execute_result"
    }
   ],
   "source": [
    "len(all_name)"
   ]
  },
  {
   "cell_type": "code",
   "execution_count": 67,
   "id": "12598c49",
   "metadata": {
    "scrolled": true
   },
   "outputs": [],
   "source": [
    "with open('fashion_source_refined.json', 'w') as fout:\n",
    "    json.dump(all_name, fout)"
   ]
  },
  {
   "cell_type": "markdown",
   "id": "29242eb7",
   "metadata": {},
   "source": [
    "# label"
   ]
  },
  {
   "cell_type": "code",
   "execution_count": 70,
   "id": "de36073f",
   "metadata": {
    "scrolled": true
   },
   "outputs": [],
   "source": [
    "class label_tool():\n",
    "    def __init__(self, json_name, start, end):\n",
    "        self.current_index = start\n",
    "        self.data = load_data(json_name) \n",
    "        self.results = []\n",
    "        self.end = end\n",
    "        self.start = start\n",
    "        # Create widgets\n",
    "        self.left_text = widgets.Text(description=\"Left:\", layout={'width': '80%'})\n",
    "        self.right_text = widgets.Text(description=\"Right:\", layout={'width': '80%'})\n",
    "        self.left_val = None\n",
    "        self.right_val = None\n",
    "        self.reset_button = widgets.Button(description=\"Reset\")\n",
    "        self.save_next_button = widgets.Button(description=\"Save and Next\")\n",
    "        self.next_list_button = widgets.Button(description=\"Next List\")\n",
    "        self.question = widgets.RadioButtons(options=[], description=\"Question:\",layout={'width': '80%'})\n",
    "        #self.type_buttons = widgets.RadioButtons(options=['Size', 'Color', 'Texture', 'Shape', 'Pattern', 'State', 'None'], value='None', description='Type:')\n",
    "        self.answer_buttons = widgets.RadioButtons(options=['Left', 'Right', 'None'], value='None', description='Answer:')\n",
    "        self.back_buttons = widgets.Button(description=\"Back\")\n",
    "        self.image_widgets = []\n",
    "        \n",
    "    def create_image_widget(self, path):\n",
    "        \"\"\"Create a widget for each image with radio buttons and display the first 10 letters of the path.\"\"\"\n",
    "        if os.path.exists(path):\n",
    "            image_file = open(path, 'rb').read()\n",
    "        else:\n",
    "            # Provide a placeholder if the image isn't found\n",
    "            image_file = widgets.Label(value=\"Image not found\").value\n",
    "\n",
    "        image = widgets.Image(value=image_file, format='jpg')\n",
    "        radio_buttons = widgets.RadioButtons(\n",
    "            options=['Left', 'Right', 'None'],\n",
    "            value='None',  # Default value set to 'None'\n",
    "            description='',\n",
    "            disabled=False,\n",
    "            layout={'width': 'max-content'}\n",
    "        )\n",
    "        \n",
    "        name = path.split('/')[-1]\n",
    "        path_label = widgets.Label(value=name[:20])  # Display the first 10 letters of the path\n",
    "\n",
    "        radio_buttons.observe(lambda change, p=path, rb=radio_buttons: self.on_radio_change(change, p, rb), names='value')\n",
    "\n",
    "        box = widgets.VBox([image, radio_buttons, path_label])\n",
    "        return box\n",
    "    \n",
    "    def display_images(self):\n",
    "        \"\"\"Display all images for a given list index.\"\"\"\n",
    "        clear_output()\n",
    "        # Create image widgets for both lists\n",
    "        self.image_widget_1 = [self.create_image_widget(path) for path in self.data[self.current_index]['image_1']]\n",
    "        self.image_widget_2 = [self.create_image_widget(path) for path in self.data[self.current_index]['image_2']]\n",
    "        grid1 = widgets.GridBox(self.image_widget_1 , \n",
    "                                layout=widgets.Layout(grid_template_columns=\"repeat(2, 240px)\", border='2px solid black'))\n",
    "        grid2 = widgets.GridBox(self.image_widget_2, \n",
    "                                layout=widgets.Layout(grid_template_columns=\"repeat(2, 240px)\", border='2px solid black'))\n",
    "        \n",
    "        print(f'Left: {self.data[self.current_index][\"folder_1\"]}')\n",
    "        print(f'Right: {self.data[self.current_index][\"folder_2\"]}')\n",
    "        # Display images grids side by side\n",
    "        hbox = widgets.HBox([grid1, grid2])\n",
    "        display(hbox)\n",
    "        display(self.question)\n",
    "        display(widgets.HBox([self.left_text, self.right_text]))\n",
    "        display(self.answer_buttons)\n",
    "        display(widgets.HBox([self.reset_button, self.save_next_button, self.next_list_button, self.back_buttons]))\n",
    "\n",
    "        \n",
    "    \n",
    "    \n",
    "    def on_radio_change(self, change, path, current_radio):\n",
    "        \"\"\"Handle radio button state changes and ensure exclusivity for Left and Right selections.\"\"\"\n",
    "        name = path.split('/')[-1]\n",
    "        if change['new'] in ['Left', 'Right']:\n",
    "            # Reset other selections\n",
    "            for widget_list in self.image_widgets[self.current_index]:\n",
    "                if widget_list.children[1] is not current_radio and widget_list.children[1].value == change['new']:\n",
    "                    widget_list.children[1].value = 'None'\n",
    "            # Update text boxes\n",
    "            if change['new'] == 'Left':\n",
    "                self.left_text.value = name\n",
    "                self.left_val = path\n",
    "            elif change['new'] == 'Right':\n",
    "                self.right_text.value = name\n",
    "                self.right_val = path\n",
    "        else:\n",
    "            # Clear the text boxes if unselected\n",
    "            if self.left_text.value == name:\n",
    "                self.left_text.value = ''\n",
    "                self.left_val = None\n",
    "            if self.right_text.value == name:\n",
    "                self.right_text.value = ''\n",
    "                self.right_val = None\n",
    "    \n",
    "    def reset_all(self, button):\n",
    "        \"\"\"Reset all text boxes, radio buttons to 'None', and clear answer and type selections.\"\"\"\n",
    "        self.left_text.value = ''\n",
    "        self.right_text.value = ''\n",
    "        self.right_val = None\n",
    "        self.left_val = None\n",
    "#         self.type_buttons.value = 'None'\n",
    "        self.answer_buttons.value = None  # Deselect any selected answer\n",
    "        for widget_list in self.image_widget_1:\n",
    "            widget_list.children[1].value = 'None'\n",
    "        for widget_list in self.image_widget_2:\n",
    "            widget_list.children[1].value = 'None'\n",
    "\n",
    "    def save_and_next(self, button):\n",
    "        \"\"\"Save paths, type, answer, and update the question.\"\"\"\n",
    "#         left = self.image_root + '/' + self.left_text.value\n",
    "#         right = self.image_root + '/' + self.right_text.value\n",
    "\n",
    "        self.results.append({'image_1': self.left_val, 'image_2': self.right_val, \n",
    "#                              'type': self.type_buttons.value, \n",
    "                             'answer': self.answer_buttons.value, \n",
    "                             'question': self.question.value})\n",
    "\n",
    "        print(self.results[-1])\n",
    "        self.reset_all(None)\n",
    "\n",
    "    def next_list(self, button):\n",
    "        \"\"\"Move to the next list of images and update question text.\"\"\"\n",
    "        self.current_index += 1\n",
    "        if  self.current_index < self.end:\n",
    "            self.question.options = self.data[self.current_index]['question']\n",
    "            #self.image_root = '/'.join(self.data[self.current_index]['images'][0].split('/')[:3])  # Update the question box with the new question\n",
    "            self.display_images()\n",
    "        else:\n",
    "            print(\"No more lists available.\")\n",
    "    \n",
    "    def back_function(self, button):\n",
    "        self.results.pop()\n",
    "        self.reset_all(None)\n",
    "        print('remove last pair')\n",
    "    \n",
    "    \n",
    "    def save_updated_data(self):\n",
    "        with open(f'fashion_{self.start}_{self.end}.json', 'w') as file:\n",
    "            json.dump(self.results, file)\n",
    "    \n",
    "    def begin(self):\n",
    "        # Initialize the image_widgets list for each list of images\n",
    "        for _ in range(len(self.data)):\n",
    "            self.image_widgets.append([])\n",
    "        self.display_images()\n",
    "        self.question.options = self.data[self.current_index]['question']\n",
    "        #self.image_root = '/'.join(self.data[self.current_index]['images'][0].split('/')[:3])\n",
    "        # Link buttons to functions\n",
    "        self.reset_button.on_click(self.reset_all)\n",
    "        self.save_next_button.on_click(self.save_and_next)\n",
    "        self.next_list_button.on_click(self.next_list)\n",
    "        self.back_buttons.on_click(self.back_function)"
   ]
  },
  {
   "cell_type": "code",
   "execution_count": 71,
   "id": "0c3dacf7",
   "metadata": {
    "scrolled": false
   },
   "outputs": [
    {
     "name": "stdout",
     "output_type": "stream",
     "text": [
      "Left: distressed_vest\n",
      "Right: plain (pattern)_vest\n"
     ]
    },
    {
     "data": {
      "application/vnd.jupyter.widget-view+json": {
       "model_id": "2d62cddc660d45e3a0394ce9b570e02b",
       "version_major": 2,
       "version_minor": 0
      },
      "text/plain": [
       "HBox(children=(GridBox(children=(VBox(children=(Image(value=b'\\xff\\xd8\\xff\\xe0\\x00\\x10JFIF\\x00\\x01\\x01\\x00\\x00…"
      ]
     },
     "metadata": {},
     "output_type": "display_data"
    },
    {
     "data": {
      "application/vnd.jupyter.widget-view+json": {
       "model_id": "49cf7a0eb4144107ac2c61865c147d89",
       "version_major": 2,
       "version_minor": 0
      },
      "text/plain": [
       "RadioButtons(description='Question:', layout=Layout(width='80%'), options=(), value=None)"
      ]
     },
     "metadata": {},
     "output_type": "display_data"
    },
    {
     "data": {
      "application/vnd.jupyter.widget-view+json": {
       "model_id": "8f2bfad480e74b2393ee7ae902662f92",
       "version_major": 2,
       "version_minor": 0
      },
      "text/plain": [
       "HBox(children=(Text(value='', description='Left:', layout=Layout(width='80%')), Text(value='', description='Ri…"
      ]
     },
     "metadata": {},
     "output_type": "display_data"
    },
    {
     "data": {
      "application/vnd.jupyter.widget-view+json": {
       "model_id": "c0ef18e9b588432f922b96cb70dbb799",
       "version_major": 2,
       "version_minor": 0
      },
      "text/plain": [
       "RadioButtons(description='Answer:', index=2, options=('Left', 'Right', 'None'), value='None')"
      ]
     },
     "metadata": {},
     "output_type": "display_data"
    },
    {
     "data": {
      "application/vnd.jupyter.widget-view+json": {
       "model_id": "8a23fb5592754a1faf7960f41131a899",
       "version_major": 2,
       "version_minor": 0
      },
      "text/plain": [
       "HBox(children=(Button(description='Reset', style=ButtonStyle()), Button(description='Save and Next', style=But…"
      ]
     },
     "metadata": {},
     "output_type": "display_data"
    }
   ],
   "source": [
    "# Usage\n",
    "tool = label_tool('fashion_source_refined.json', 30, 34)\n",
    "tool.begin()"
   ]
  },
  {
   "cell_type": "code",
   "execution_count": 64,
   "id": "181dab7d",
   "metadata": {
    "scrolled": true
   },
   "outputs": [
    {
     "data": {
      "text/plain": [
       "{'image_1': ['adj_obj_folder_pairs_images/val/tiered_dress-paisley_dress/tiered_dress/25e92d53394ac92b6b9edbbfe7cb0e1e.jpg',\n",
       "  'adj_obj_folder_pairs_images/val/tiered_dress-paisley_dress/tiered_dress/ae214103040109df9e86f748c287472e.jpg',\n",
       "  'adj_obj_folder_pairs_images/val/tiered_dress-paisley_dress/tiered_dress/e73b13b557ab167a05cb10ed45decf52.jpg',\n",
       "  'adj_obj_folder_pairs_images/val/tiered_dress-paisley_dress/tiered_dress/dd5a9faddbee8afb6adc6c741da8c914.jpg',\n",
       "  'adj_obj_folder_pairs_images/val/tiered_dress-paisley_dress/tiered_dress/ae8c7fa59cb054a8e15b2d6518c95ee3.jpg',\n",
       "  'adj_obj_folder_pairs_images/val/tiered_dress-paisley_dress/tiered_dress/e57c17d89b576bfd05ccce0c247dc6bd.jpg',\n",
       "  'adj_obj_folder_pairs_images/val/tiered_dress-paisley_dress/tiered_dress/c091531b2b5cb6a6c8ad2ce197d530f4.jpg',\n",
       "  'adj_obj_folder_pairs_images/val/tiered_dress-paisley_dress/tiered_dress/47a6e8d14d0e8c92f3759036b8541cf9.jpg',\n",
       "  'adj_obj_folder_pairs_images/val/tiered_dress-paisley_dress/tiered_dress/e52ca16be4561e44d5f1322468cee6ec.jpg',\n",
       "  'adj_obj_folder_pairs_images/val/tiered_dress-paisley_dress/tiered_dress/1744183e925250327f807fdb15907f6a.jpg'],\n",
       " 'image_2': ['adj_obj_folder_pairs_images/val/tiered_dress-paisley_dress/paisley_dress/38f9af46bc5456b86585c68acbb089d3.jpg',\n",
       "  'adj_obj_folder_pairs_images/val/tiered_dress-paisley_dress/paisley_dress/ffebe7df5bfb5974878870b8cb3ebed4.jpg',\n",
       "  'adj_obj_folder_pairs_images/val/tiered_dress-paisley_dress/paisley_dress/0094940c58c343b742f48ae26eb5e9fa.jpg',\n",
       "  'adj_obj_folder_pairs_images/val/tiered_dress-paisley_dress/paisley_dress/dd5a9faddbee8afb6adc6c741da8c914.jpg',\n",
       "  'adj_obj_folder_pairs_images/val/tiered_dress-paisley_dress/paisley_dress/e2a1a7274d3839b1538e97d69107eb7c.jpg',\n",
       "  'adj_obj_folder_pairs_images/val/tiered_dress-paisley_dress/paisley_dress/2f103ab523c1808e842eead692ec5c40.jpg',\n",
       "  'adj_obj_folder_pairs_images/val/tiered_dress-paisley_dress/paisley_dress/31140648986fc92f80f858c6b2b59304.jpg',\n",
       "  'adj_obj_folder_pairs_images/val/tiered_dress-paisley_dress/paisley_dress/8dfb0daa689c59460fc5a65f27a66ff1.jpg',\n",
       "  'adj_obj_folder_pairs_images/val/tiered_dress-paisley_dress/paisley_dress/7642e0c82d9c6230883fa6378932c869.jpg',\n",
       "  'adj_obj_folder_pairs_images/val/tiered_dress-paisley_dress/paisley_dress/7e726464437432e79c18a5dba42562f8.jpg',\n",
       "  'adj_obj_folder_pairs_images/val/tiered_dress-paisley_dress/paisley_dress/fd567ffad275955ac945eeeacc1fdac5.jpg',\n",
       "  'adj_obj_folder_pairs_images/val/tiered_dress-paisley_dress/paisley_dress/742ca0ded538281bfd2d1f3ea331773e.jpg',\n",
       "  'adj_obj_folder_pairs_images/val/tiered_dress-paisley_dress/paisley_dress/2ad4ef98177e257b8d57cdfa8e421bde.jpg',\n",
       "  'adj_obj_folder_pairs_images/val/tiered_dress-paisley_dress/paisley_dress/5a6a709cdd926e51bdbaba834d0c7207.jpg',\n",
       "  'adj_obj_folder_pairs_images/val/tiered_dress-paisley_dress/paisley_dress/19b88ca66e3ab754d3b6aa7d5e2f0a83.jpg',\n",
       "  'adj_obj_folder_pairs_images/val/tiered_dress-paisley_dress/paisley_dress/97798485ca538a03284d8dbaceab92c4.jpg'],\n",
       " 'question': ['Which dress is more tiered?', 'Which dress is more paisley?'],\n",
       " 'folder': 'tiered_dress-paisley_dress'}"
      ]
     },
     "execution_count": 64,
     "metadata": {},
     "output_type": "execute_result"
    }
   ],
   "source": [
    "tool.data[0]"
   ]
  },
  {
   "cell_type": "code",
   "execution_count": null,
   "id": "63ce813b",
   "metadata": {},
   "outputs": [],
   "source": []
  }
 ],
 "metadata": {
  "kernelspec": {
   "display_name": "vl_compare",
   "language": "python",
   "name": "vl_compare"
  },
  "language_info": {
   "codemirror_mode": {
    "name": "ipython",
    "version": 3
   },
   "file_extension": ".py",
   "mimetype": "text/x-python",
   "name": "python",
   "nbconvert_exporter": "python",
   "pygments_lexer": "ipython3",
   "version": "3.10.14"
  }
 },
 "nbformat": 4,
 "nbformat_minor": 5
}
