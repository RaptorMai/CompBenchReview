{
 "cells": [
  {
   "cell_type": "code",
   "execution_count": 3,
   "id": "d592638d",
   "metadata": {
    "scrolled": true
   },
   "outputs": [],
   "source": [
    "import json\n",
    "from IPython.display import display, Image\n",
    "import ipywidgets as widgets\n",
    "from IPython.display import clear_output\n",
    "from ipywidgets import Image as WidgetImage\n",
    "import csv\n",
    "import os\n",
    "from collections import defaultdict\n",
    "from os import listdir\n",
    "import random\n",
    "import matplotlib.pyplot as plt\n",
    "from matplotlib.pyplot import imshow\n",
    "import matplotlib.image as mpimg\n",
    "from pattern import comparative\n",
    "import base64\n",
    "from os.path import join\n",
    "from collections import Counter"
   ]
  },
  {
   "cell_type": "code",
   "execution_count": 4,
   "id": "719f0ae3",
   "metadata": {
    "scrolled": true
   },
   "outputs": [],
   "source": [
    "def load_data(filename):\n",
    "    with open(filename, 'r') as file:\n",
    "        return json.load(file)"
   ]
  },
  {
   "cell_type": "markdown",
   "id": "4b88aa04",
   "metadata": {},
   "source": [
    "# create source data"
   ]
  },
  {
   "cell_type": "code",
   "execution_count": 6,
   "id": "84b06a8d",
   "metadata": {
    "scrolled": true
   },
   "outputs": [],
   "source": [
    "data_path = 'obj_images/test'\n",
    "folders = list(os.scandir(data_path))"
   ]
  },
  {
   "cell_type": "code",
   "execution_count": 57,
   "id": "6720c92c",
   "metadata": {
    "scrolled": true
   },
   "outputs": [],
   "source": [
    "all_name = []\n",
    "c = []\n",
    "for folder in folders:\n",
    "\n",
    "    if folder.name == '.DS_Store':\n",
    "        continue\n",
    "    noun = folder.name\n",
    "    all_data = [join(data_path, folder.name, i) for i in listdir(join(data_path, folder.name))]\n",
    "    data_l = len(all_data)\n",
    "    question = f'Which {noun} is closer to the camera?'\n",
    "    tmp = {}\n",
    "    if data_l < 2:\n",
    "        continue\n",
    "    if data_l > 20:\n",
    "        random.shuffle(all_data)\n",
    "        tmp = {}\n",
    "        sub_list = []\n",
    "        for i in all_data:\n",
    "            sub_list.append(i)\n",
    "            if len(sub_list) == 20:\n",
    "                tmp['question'] = question\n",
    "                tmp['images'] = sub_list\n",
    "                tmp['folder'] = folder.name\n",
    "                all_name.append(tmp)\n",
    "                tmp = {}\n",
    "                sub_list = []\n",
    "        if len(sub_list) > 0:\n",
    "            tmp['question'] = question\n",
    "            tmp['images'] = sub_list\n",
    "            tmp['folder'] = folder.name\n",
    "            all_name.append(tmp)\n",
    "    else:\n",
    "        tmp['question'] = question\n",
    "        tmp['images'] = all_data\n",
    "        tmp['folder'] = folder.name\n",
    "        all_name.append(tmp)"
   ]
  },
  {
   "cell_type": "code",
   "execution_count": 58,
   "id": "38d6176c",
   "metadata": {
    "scrolled": true
   },
   "outputs": [
    {
     "data": {
      "text/plain": [
       "529"
      ]
     },
     "execution_count": 58,
     "metadata": {},
     "output_type": "execute_result"
    }
   ],
   "source": [
    "len(all_name)"
   ]
  },
  {
   "cell_type": "code",
   "execution_count": 59,
   "id": "321636ee",
   "metadata": {
    "scrolled": true
   },
   "outputs": [],
   "source": [
    "with open('depth_source.json', 'w') as fout:\n",
    "    json.dump(all_name, fout)"
   ]
  },
  {
   "cell_type": "markdown",
   "id": "a2ea4f5f",
   "metadata": {},
   "source": [
    "# Label starts"
   ]
  },
  {
   "cell_type": "code",
   "execution_count": 7,
   "id": "8da44bf0",
   "metadata": {
    "scrolled": true
   },
   "outputs": [],
   "source": [
    "class label_tool():\n",
    "    def __init__(self, json_name, start, end):\n",
    "        self.current_index = start\n",
    "        self.data = load_data(json_name) \n",
    "        self.results = []\n",
    "        self.end = end\n",
    "        self.start = start\n",
    "        # Create widgets\n",
    "        self.left_text = widgets.Text(description=\"Left:\", layout={'width': '80%'})\n",
    "        self.right_text = widgets.Text(description=\"Right:\", layout={'width': '80%'})\n",
    "        self.reset_button = widgets.Button(description=\"Reset\")\n",
    "        self.save_next_button = widgets.Button(description=\"Save and Next\")\n",
    "        self.next_list_button = widgets.Button(description=\"Next List\")\n",
    "        self.question_text = widgets.Text(description=\"Question:\",layout={'width': '80%'})\n",
    "        #self.type_buttons = widgets.RadioButtons(options=['Size', 'Color', 'Texture', 'Shape', 'Pattern', 'State', 'None'], value='None', description='Type:')\n",
    "        self.answer_buttons = widgets.RadioButtons(options=['Left', 'Right', 'None'], value='None', description='Answer:')\n",
    "        self.back_buttons = widgets.Button(description=\"Back\")\n",
    "        self.image_widgets = []\n",
    "        \n",
    "    def create_image_widget(self, path):\n",
    "        \"\"\"Create a widget for each image with radio buttons and display the first 10 letters of the path.\"\"\"\n",
    "        if os.path.exists(path):\n",
    "            image_file = open(path, 'rb').read()\n",
    "        else:\n",
    "            # Provide a placeholder if the image isn't found\n",
    "            image_file = widgets.Label(value=\"Image not found\").value\n",
    "\n",
    "        image = widgets.Image(value=image_file, format='jpg')\n",
    "        radio_buttons = widgets.RadioButtons(\n",
    "            options=['Left', 'Right', 'None'],\n",
    "            value='None',  # Default value set to 'None'\n",
    "            description='',\n",
    "            disabled=False,\n",
    "            layout={'width': 'max-content'}\n",
    "        )\n",
    "        \n",
    "        name = path.split('/')[-1]\n",
    "        path_label = widgets.Label(value=name[:20])  # Display the first 10 letters of the path\n",
    "\n",
    "        radio_buttons.observe(lambda change, p=path, rb=radio_buttons: self.on_radio_change(change, p, rb), names='value')\n",
    "\n",
    "        box = widgets.VBox([image, radio_buttons, path_label])\n",
    "        return box\n",
    "    \n",
    "    def display_images(self):\n",
    "        \"\"\"Display all images for a given list index.\"\"\"\n",
    "        clear_output()\n",
    "        self.image_widgets[self.current_index] = []\n",
    "        \n",
    "        \n",
    "        for path in self.data[self.current_index]['images']:\n",
    "            widget = self.create_image_widget(path)\n",
    "            self.image_widgets[self.current_index].append(widget)\n",
    "\n",
    "        grid = widgets.GridBox(self.image_widgets[self.current_index], layout=widgets.Layout(grid_template_columns=\"repeat(3, 330px)\"))\n",
    "        display(grid)\n",
    "        print(self.data[self.current_index]['folder'])\n",
    "        display(widgets.VBox([self.question_text]))\n",
    "        display(self.left_text, self.right_text, self.answer_buttons, self.reset_button, self.save_next_button, self.next_list_button, self.back_buttons)\n",
    "        \n",
    "    \n",
    "    \n",
    "    def on_radio_change(self, change, path, current_radio):\n",
    "        \"\"\"Handle radio button state changes and ensure exclusivity for Left and Right selections.\"\"\"\n",
    "        name = path.split('/')[-1]\n",
    "        if change['new'] in ['Left', 'Right']:\n",
    "            # Reset other selections\n",
    "            for widget_list in self.image_widgets[self.current_index]:\n",
    "                if widget_list.children[1] is not current_radio and widget_list.children[1].value == change['new']:\n",
    "                    widget_list.children[1].value = 'None'\n",
    "            # Update text boxes\n",
    "            if change['new'] == 'Left':\n",
    "                self.left_text.value = name\n",
    "            elif change['new'] == 'Right':\n",
    "                self.right_text.value = name\n",
    "        else:\n",
    "            # Clear the text boxes if unselected\n",
    "            if self.left_text.value == name:\n",
    "                self.left_text.value = ''\n",
    "            if self.right_text.value == name:\n",
    "                self.right_text.value = ''\n",
    "    \n",
    "    def reset_all(self, button):\n",
    "        \"\"\"Reset all text boxes, radio buttons to 'None', and clear answer and type selections.\"\"\"\n",
    "        self.left_text.value = ''\n",
    "        self.right_text.value = ''\n",
    "#         self.type_buttons.value = 'None'\n",
    "        self.answer_buttons.value = None  # Deselect any selected answer\n",
    "        for widget_list in self.image_widgets[self.current_index]:\n",
    "            widget_list.children[1].value = 'None'\n",
    "\n",
    "    def save_and_next(self, button):\n",
    "        \"\"\"Save paths, type, answer, and update the question.\"\"\"\n",
    "        left = self.image_root + '/' + self.left_text.value\n",
    "        right = self.image_root + '/' + self.right_text.value\n",
    "\n",
    "        self.results.append({'image_1': left, 'image_2': right, \n",
    "#                              'type': self.type_buttons.value, \n",
    "                             'answer': self.answer_buttons.value, \n",
    "                             'question': self.question_text.value})\n",
    "\n",
    "        print(self.results[-1])\n",
    "        self.reset_all(None)\n",
    "\n",
    "    def next_list(self, button):\n",
    "        \"\"\"Move to the next list of images and update question text.\"\"\"\n",
    "        self.current_index += 1\n",
    "        if  self.current_index < self.end:\n",
    "            self.question_text.value = self.data[self.current_index]['question']\n",
    "            self.image_root = '/'.join(self.data[self.current_index]['images'][0].split('/')[:3])  # Update the question box with the new question\n",
    "            self.display_images()\n",
    "        else:\n",
    "            print(\"No more lists available.\")\n",
    "    \n",
    "    def back_function(self, button):\n",
    "        self.results.pop()\n",
    "        self.reset_all(None)\n",
    "        print('remove last pair')\n",
    "    \n",
    "    \n",
    "    def save_updated_data(self):\n",
    "        with open(f'Depth_{self.start}_{self.end}.json', 'w') as file:\n",
    "            json.dump(self.results, file)\n",
    "    \n",
    "    def begin(self):\n",
    "        # Initialize the image_widgets list for each list of images\n",
    "        for _ in range(len(self.data)):\n",
    "            self.image_widgets.append([])\n",
    "        self.display_images()\n",
    "        self.question_text.value = self.data[self.current_index]['question']\n",
    "        self.image_root = '/'.join(self.data[self.current_index]['images'][0].split('/')[:3])\n",
    "        # Link buttons to functions\n",
    "        self.reset_button.on_click(self.reset_all)\n",
    "        self.save_next_button.on_click(self.save_and_next)\n",
    "        self.next_list_button.on_click(self.next_list)\n",
    "        self.back_buttons.on_click(self.back_function)"
   ]
  },
  {
   "cell_type": "code",
   "execution_count": 8,
   "id": "56a74285",
   "metadata": {
    "scrolled": true
   },
   "outputs": [],
   "source": [
    "labeler = label_tool('depth_source.json',100,105)"
   ]
  },
  {
   "cell_type": "code",
   "execution_count": 9,
   "id": "2864dfb1",
   "metadata": {
    "scrolled": false
   },
   "outputs": [
    {
     "data": {
      "application/vnd.jupyter.widget-view+json": {
       "model_id": "764cb9a2333a4b62bda570bec7abf975",
       "version_major": 2,
       "version_minor": 0
      },
      "text/plain": [
       "GridBox(children=(VBox(children=(Image(value=b'\\xff\\xd8\\xff\\xe0\\x00\\x10JFIF\\x00\\x01\\x01\\x00\\x00\\x01\\x00\\x01\\x0…"
      ]
     },
     "metadata": {},
     "output_type": "display_data"
    },
    {
     "name": "stdout",
     "output_type": "stream",
     "text": [
      "counter\n"
     ]
    },
    {
     "data": {
      "application/vnd.jupyter.widget-view+json": {
       "model_id": "08d69d4920fb4a0d83924ff11d2e2e52",
       "version_major": 2,
       "version_minor": 0
      },
      "text/plain": [
       "VBox(children=(Text(value='', description='Question:', layout=Layout(width='80%')),))"
      ]
     },
     "metadata": {},
     "output_type": "display_data"
    },
    {
     "data": {
      "application/vnd.jupyter.widget-view+json": {
       "model_id": "1d3efb80c7ad45718b8024dfef185858",
       "version_major": 2,
       "version_minor": 0
      },
      "text/plain": [
       "Text(value='', description='Left:', layout=Layout(width='80%'))"
      ]
     },
     "metadata": {},
     "output_type": "display_data"
    },
    {
     "data": {
      "application/vnd.jupyter.widget-view+json": {
       "model_id": "433c8f29bec9400682b1d6328b9b2632",
       "version_major": 2,
       "version_minor": 0
      },
      "text/plain": [
       "Text(value='', description='Right:', layout=Layout(width='80%'))"
      ]
     },
     "metadata": {},
     "output_type": "display_data"
    },
    {
     "data": {
      "application/vnd.jupyter.widget-view+json": {
       "model_id": "97a5c485081a4d0caa0740c8c6664fca",
       "version_major": 2,
       "version_minor": 0
      },
      "text/plain": [
       "RadioButtons(description='Answer:', index=2, options=('Left', 'Right', 'None'), value='None')"
      ]
     },
     "metadata": {},
     "output_type": "display_data"
    },
    {
     "data": {
      "application/vnd.jupyter.widget-view+json": {
       "model_id": "0edacc51e51d4334b8f8d1878d9b8fc2",
       "version_major": 2,
       "version_minor": 0
      },
      "text/plain": [
       "Button(description='Reset', style=ButtonStyle())"
      ]
     },
     "metadata": {},
     "output_type": "display_data"
    },
    {
     "data": {
      "application/vnd.jupyter.widget-view+json": {
       "model_id": "723bcdc332ab4112a8813a1a882a9143",
       "version_major": 2,
       "version_minor": 0
      },
      "text/plain": [
       "Button(description='Save and Next', style=ButtonStyle())"
      ]
     },
     "metadata": {},
     "output_type": "display_data"
    },
    {
     "data": {
      "application/vnd.jupyter.widget-view+json": {
       "model_id": "0f3a9240a14e4e31b74975b420a59641",
       "version_major": 2,
       "version_minor": 0
      },
      "text/plain": [
       "Button(description='Next List', style=ButtonStyle())"
      ]
     },
     "metadata": {},
     "output_type": "display_data"
    },
    {
     "data": {
      "application/vnd.jupyter.widget-view+json": {
       "model_id": "9386acbaabb5463d965c0cab9dc1b3fa",
       "version_major": 2,
       "version_minor": 0
      },
      "text/plain": [
       "Button(description='Back', style=ButtonStyle())"
      ]
     },
     "metadata": {},
     "output_type": "display_data"
    }
   ],
   "source": [
    "labeler.begin()"
   ]
  },
  {
   "cell_type": "code",
   "execution_count": 54,
   "id": "ead49908",
   "metadata": {},
   "outputs": [
    {
     "data": {
      "text/plain": [
       "[{'image_1': 'obj_images/test/counter/771.jpg',\n",
       "  'image_2': 'obj_images/test/counter/510.jpg',\n",
       "  'answer': 'Right',\n",
       "  'question': 'Which counter is closer to the camera?'}]"
      ]
     },
     "execution_count": 54,
     "metadata": {},
     "output_type": "execute_result"
    }
   ],
   "source": [
    "labeler.results"
   ]
  },
  {
   "cell_type": "code",
   "execution_count": 55,
   "id": "b155ec7c",
   "metadata": {
    "scrolled": true
   },
   "outputs": [],
   "source": [
    "labeler.save_updated_data()"
   ]
  },
  {
   "cell_type": "code",
   "execution_count": null,
   "id": "a28c6082",
   "metadata": {},
   "outputs": [],
   "source": []
  }
 ],
 "metadata": {
  "kernelspec": {
   "display_name": "vl_compare",
   "language": "python",
   "name": "vl_compare"
  },
  "language_info": {
   "codemirror_mode": {
    "name": "ipython",
    "version": 3
   },
   "file_extension": ".py",
   "mimetype": "text/x-python",
   "name": "python",
   "nbconvert_exporter": "python",
   "pygments_lexer": "ipython3",
   "version": "3.10.14"
  }
 },
 "nbformat": 4,
 "nbformat_minor": 5
}
