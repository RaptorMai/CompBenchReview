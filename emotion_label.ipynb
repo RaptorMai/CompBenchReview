{
 "cells": [
  {
   "cell_type": "code",
   "execution_count": 2,
   "id": "d592638d",
   "metadata": {
    "scrolled": true
   },
   "outputs": [],
   "source": [
    "import json\n",
    "from IPython.display import display, Image\n",
    "import ipywidgets as widgets\n",
    "from IPython.display import clear_output\n",
    "from ipywidgets import Image as WidgetImage\n",
    "import csv\n",
    "import os\n",
    "from collections import defaultdict\n",
    "from os import listdir\n",
    "import random\n",
    "import matplotlib.pyplot as plt\n",
    "from matplotlib.pyplot import imshow\n",
    "import matplotlib.image as mpimg\n",
    "from pattern import comparative\n",
    "import base64\n",
    "from os.path import join\n",
    "from collections import Counter"
   ]
  },
  {
   "cell_type": "markdown",
   "id": "4b88aa04",
   "metadata": {},
   "source": [
    "# create source data"
   ]
  },
  {
   "cell_type": "code",
   "execution_count": 10,
   "id": "6720c92c",
   "metadata": {
    "scrolled": true
   },
   "outputs": [],
   "source": [
    "# data_path = '/home/marco/PhD/VL_fine-grained/celeba/adj_images/test/Smiling'\n",
    "# all_data = [join(data_path, i) for i in listdir(data_path)]\n",
    "# random.shuffle(all_data)\n",
    "# all_name = []\n",
    "# sub_list = []\n",
    "# c = []\n",
    "# tmp = {}\n",
    "# question = 'Which person smiles more?'\n",
    "# for i in all_data:\n",
    "#     sub_list.append(i)\n",
    "#     if len(sub_list) == 10:\n",
    "#         tmp['question'] = question\n",
    "#         tmp['images'] = sub_list\n",
    "#         all_name.append(tmp)\n",
    "#         c.append(len(sub_list))\n",
    "#         tmp = {}\n",
    "#         sub_list = []\n",
    "# if len(sub_list) > 1:\n",
    "#     tmp['question'] = question\n",
    "#     tmp['images'] = sub_list\n",
    "#     c.append(len(sub_list))\n",
    "#     all_name.append(tmp)\n",
    "# elif len(sub_list) > 0 and len(sub_list) < 2:\n",
    "#     all_name[-1]['images'] += sub_list\n",
    "#     c[-1] += 1"
   ]
  },
  {
   "cell_type": "code",
   "execution_count": 11,
   "id": "f88a6d3d",
   "metadata": {},
   "outputs": [
    {
     "data": {
      "text/plain": [
       "141"
      ]
     },
     "execution_count": 11,
     "metadata": {},
     "output_type": "execute_result"
    }
   ],
   "source": [
    "# len(all_name)"
   ]
  },
  {
   "cell_type": "code",
   "execution_count": 12,
   "id": "ab446990",
   "metadata": {},
   "outputs": [
    {
     "data": {
      "text/plain": [
       "Counter({10: 140, 8: 1})"
      ]
     },
     "execution_count": 12,
     "metadata": {},
     "output_type": "execute_result"
    }
   ],
   "source": [
    "# Counter(c)"
   ]
  },
  {
   "cell_type": "code",
   "execution_count": 13,
   "id": "66099d3f",
   "metadata": {},
   "outputs": [
    {
     "data": {
      "text/plain": [
       "{'question': 'Which person smiles more?',\n",
       " 'images': ['/home/marco/PhD/VL_fine-grained/celeba/adj_images/test/Smiling/174406.jpg',\n",
       "  '/home/marco/PhD/VL_fine-grained/celeba/adj_images/test/Smiling/051651.jpg',\n",
       "  '/home/marco/PhD/VL_fine-grained/celeba/adj_images/test/Smiling/026142.jpg',\n",
       "  '/home/marco/PhD/VL_fine-grained/celeba/adj_images/test/Smiling/152370.jpg',\n",
       "  '/home/marco/PhD/VL_fine-grained/celeba/adj_images/test/Smiling/085819.jpg',\n",
       "  '/home/marco/PhD/VL_fine-grained/celeba/adj_images/test/Smiling/107371.jpg',\n",
       "  '/home/marco/PhD/VL_fine-grained/celeba/adj_images/test/Smiling/032123.jpg',\n",
       "  '/home/marco/PhD/VL_fine-grained/celeba/adj_images/test/Smiling/104446.jpg',\n",
       "  '/home/marco/PhD/VL_fine-grained/celeba/adj_images/test/Smiling/192801.jpg',\n",
       "  '/home/marco/PhD/VL_fine-grained/celeba/adj_images/test/Smiling/025463.jpg']}"
      ]
     },
     "execution_count": 13,
     "metadata": {},
     "output_type": "execute_result"
    }
   ],
   "source": [
    "# all_name[0]"
   ]
  },
  {
   "cell_type": "code",
   "execution_count": 14,
   "id": "321636ee",
   "metadata": {
    "scrolled": true
   },
   "outputs": [],
   "source": [
    "# with open('emotion_source.json', 'w') as fout:\n",
    "#     json.dump(all_name, fout)"
   ]
  },
  {
   "cell_type": "markdown",
   "id": "a2ea4f5f",
   "metadata": {},
   "source": [
    "# Label starts"
   ]
  },
  {
   "cell_type": "code",
   "execution_count": 18,
   "id": "8da44bf0",
   "metadata": {
    "scrolled": true
   },
   "outputs": [],
   "source": [
    "def load_data(filename):\n",
    "    with open(filename, 'r') as file:\n",
    "        return json.load(file)\n",
    "    \n",
    "class label_tool():\n",
    "    def __init__(self, json_name, start, end):\n",
    "        self.current_index = start\n",
    "        self.data = load_data(json_name) \n",
    "        self.results = []\n",
    "        self.end = end\n",
    "        self.start = start\n",
    "        # Create widgets\n",
    "        self.left_text = widgets.Text(description=\"Left:\", layout={'width': '80%'})\n",
    "        self.right_text = widgets.Text(description=\"Right:\", layout={'width': '80%'})\n",
    "        self.reset_button = widgets.Button(description=\"Reset\")\n",
    "        self.save_next_button = widgets.Button(description=\"Save and Next\")\n",
    "        self.next_list_button = widgets.Button(description=\"Next List\")\n",
    "        self.question_text = widgets.Text(description=\"Question:\",layout={'width': '80%'})\n",
    "        #self.type_buttons = widgets.RadioButtons(options=['Size', 'Color', 'Texture', 'Shape', 'Pattern', 'State', 'None'], value='None', description='Type:')\n",
    "        self.answer_buttons = widgets.RadioButtons(options=['Left', 'Right', 'None'], value='None', description='Answer:')\n",
    "        self.back_buttons = widgets.Button(description=\"Back\")\n",
    "        self.image_widgets = []\n",
    "        \n",
    "    def create_image_widget(self, path):\n",
    "        \"\"\"Create a widget for each image with radio buttons and display the first 10 letters of the path.\"\"\"\n",
    "        if os.path.exists(path):\n",
    "            image_file = open(path, 'rb').read()\n",
    "        else:\n",
    "            # Provide a placeholder if the image isn't found\n",
    "            image_file = widgets.Label(value=\"Image not found\").value\n",
    "\n",
    "        image = widgets.Image(value=image_file, format='jpg')\n",
    "        radio_buttons = widgets.RadioButtons(\n",
    "            options=['Left', 'Right', 'None'],\n",
    "            value='None',  # Default value set to 'None'\n",
    "            description='',\n",
    "            disabled=False,\n",
    "            layout={'width': 'max-content'}\n",
    "        )\n",
    "        \n",
    "        name = path.split('/')[-1]\n",
    "        path_label = widgets.Label(value=name[:20])  # Display the first 10 letters of the path\n",
    "\n",
    "        radio_buttons.observe(lambda change, p=path, rb=radio_buttons: self.on_radio_change(change, p, rb), names='value')\n",
    "\n",
    "        box = widgets.VBox([image, radio_buttons, path_label])\n",
    "        return box\n",
    "    \n",
    "    def display_images(self):\n",
    "        \"\"\"Display all images for a given list index.\"\"\"\n",
    "        clear_output()\n",
    "        self.image_widgets[self.current_index] = []\n",
    "        \n",
    "        \n",
    "        for path in self.data[self.current_index]['images']:\n",
    "            widget = self.create_image_widget(path)\n",
    "            self.image_widgets[self.current_index].append(widget)\n",
    "\n",
    "        grid = widgets.GridBox(self.image_widgets[self.current_index], layout=widgets.Layout(grid_template_columns=\"repeat(3, 330px)\"))\n",
    "        display(grid)\n",
    "        display(widgets.VBox([self.question_text]))\n",
    "        display(self.left_text, self.right_text, self.answer_buttons, self.reset_button, self.save_next_button, self.next_list_button, self.back_buttons)\n",
    "        \n",
    "    \n",
    "    \n",
    "    def on_radio_change(self, change, path, current_radio):\n",
    "        \"\"\"Handle radio button state changes and ensure exclusivity for Left and Right selections.\"\"\"\n",
    "        name = path.split('/')[-1]\n",
    "        if change['new'] in ['Left', 'Right']:\n",
    "            # Reset other selections\n",
    "            for widget_list in self.image_widgets[self.current_index]:\n",
    "                if widget_list.children[1] is not current_radio and widget_list.children[1].value == change['new']:\n",
    "                    widget_list.children[1].value = 'None'\n",
    "            # Update text boxes\n",
    "            if change['new'] == 'Left':\n",
    "                self.left_text.value = name\n",
    "            elif change['new'] == 'Right':\n",
    "                self.right_text.value = name\n",
    "        else:\n",
    "            # Clear the text boxes if unselected\n",
    "            if self.left_text.value == name:\n",
    "                self.left_text.value = ''\n",
    "            if self.right_text.value == name:\n",
    "                self.right_text.value = ''\n",
    "    \n",
    "    def reset_all(self, button):\n",
    "        \"\"\"Reset all text boxes, radio buttons to 'None', and clear answer and type selections.\"\"\"\n",
    "        self.left_text.value = ''\n",
    "        self.right_text.value = ''\n",
    "#         self.type_buttons.value = 'None'\n",
    "        self.answer_buttons.value = None  # Deselect any selected answer\n",
    "        for widget_list in self.image_widgets[self.current_index]:\n",
    "            widget_list.children[1].value = 'None'\n",
    "\n",
    "    def save_and_next(self, button):\n",
    "        \"\"\"Save paths, type, answer, and update the question.\"\"\"\n",
    "        left = self.image_root + '/' + self.left_text.value\n",
    "        right = self.image_root + '/' + self.right_text.value\n",
    "\n",
    "        self.results.append({'image_1': left, 'image_2': right, \n",
    "#                              'type': self.type_buttons.value, \n",
    "                             'answer': self.answer_buttons.value, \n",
    "                             'question': self.question_text.value})\n",
    "\n",
    "        print(self.results[-1])\n",
    "        self.reset_all(None)\n",
    "\n",
    "    def next_list(self, button):\n",
    "        \"\"\"Move to the next list of images and update question text.\"\"\"\n",
    "        self.current_index += 1\n",
    "        if  self.current_index < self.end:\n",
    "            self.question_text.value = self.data[self.current_index]['question']\n",
    "            self.image_root = '/'.join(self.data[self.current_index]['images'][0].split('/')[:3])  # Update the question box with the new question\n",
    "            self.display_images()\n",
    "        else:\n",
    "            print(\"No more lists available.\")\n",
    "    \n",
    "    def back_function(self, button):\n",
    "        self.results.pop()\n",
    "        self.reset_all(None)\n",
    "        print('remove last pair')\n",
    "    \n",
    "    \n",
    "    def save_updated_data(self):\n",
    "        with open(f'emotion_{self.start}_{self.end}.json', 'w') as file:\n",
    "            json.dump(self.results, file)\n",
    "    \n",
    "    def begin(self):\n",
    "        # Initialize the image_widgets list for each list of images\n",
    "        for _ in range(len(self.data)):\n",
    "            self.image_widgets.append([])\n",
    "        self.display_images()\n",
    "        self.question_text.value = self.data[self.current_index]['question']\n",
    "        self.image_root = '/'.join(self.data[self.current_index]['images'][0].split('/')[:3])\n",
    "        # Link buttons to functions\n",
    "        self.reset_button.on_click(self.reset_all)\n",
    "        self.save_next_button.on_click(self.save_and_next)\n",
    "        self.next_list_button.on_click(self.next_list)\n",
    "        self.back_buttons.on_click(self.back_function)"
   ]
  },
  {
   "cell_type": "code",
   "execution_count": 19,
   "id": "56a74285",
   "metadata": {
    "scrolled": true
   },
   "outputs": [],
   "source": [
    "labeler = label_tool('emotion_source.json',100,105)"
   ]
  },
  {
   "cell_type": "code",
   "execution_count": 20,
   "id": "2864dfb1",
   "metadata": {
    "scrolled": false
   },
   "outputs": [
    {
     "data": {
      "application/vnd.jupyter.widget-view+json": {
       "model_id": "58d537020b474505892e6877d9aea606",
       "version_major": 2,
       "version_minor": 0
      },
      "text/plain": [
       "GridBox(children=(VBox(children=(Image(value=b'\\xff\\xd8\\xff\\xe0\\x00\\x10JFIF\\x00\\x01\\x01\\x00\\x00\\x01\\x00\\x01\\x0…"
      ]
     },
     "metadata": {},
     "output_type": "display_data"
    },
    {
     "data": {
      "application/vnd.jupyter.widget-view+json": {
       "model_id": "2d6a995fb1004063b73391a7b306d616",
       "version_major": 2,
       "version_minor": 0
      },
      "text/plain": [
       "VBox(children=(Text(value='', description='Question:', layout=Layout(width='80%')),))"
      ]
     },
     "metadata": {},
     "output_type": "display_data"
    },
    {
     "data": {
      "application/vnd.jupyter.widget-view+json": {
       "model_id": "5f2f8f35d5ba4311b28b7fd1160e0b65",
       "version_major": 2,
       "version_minor": 0
      },
      "text/plain": [
       "Text(value='', description='Left:', layout=Layout(width='80%'))"
      ]
     },
     "metadata": {},
     "output_type": "display_data"
    },
    {
     "data": {
      "application/vnd.jupyter.widget-view+json": {
       "model_id": "d4f316fdf3e94b0fb76f4c5b359eef03",
       "version_major": 2,
       "version_minor": 0
      },
      "text/plain": [
       "Text(value='', description='Right:', layout=Layout(width='80%'))"
      ]
     },
     "metadata": {},
     "output_type": "display_data"
    },
    {
     "data": {
      "application/vnd.jupyter.widget-view+json": {
       "model_id": "eeebe7352d634fafbb2adfd5c3f47734",
       "version_major": 2,
       "version_minor": 0
      },
      "text/plain": [
       "RadioButtons(description='Answer:', index=2, options=('Left', 'Right', 'None'), value='None')"
      ]
     },
     "metadata": {},
     "output_type": "display_data"
    },
    {
     "data": {
      "application/vnd.jupyter.widget-view+json": {
       "model_id": "19d2d087a46a45849379a252e79a43d6",
       "version_major": 2,
       "version_minor": 0
      },
      "text/plain": [
       "Button(description='Reset', style=ButtonStyle())"
      ]
     },
     "metadata": {},
     "output_type": "display_data"
    },
    {
     "data": {
      "application/vnd.jupyter.widget-view+json": {
       "model_id": "d8dde30c6972428d8374f01a1efb8434",
       "version_major": 2,
       "version_minor": 0
      },
      "text/plain": [
       "Button(description='Save and Next', style=ButtonStyle())"
      ]
     },
     "metadata": {},
     "output_type": "display_data"
    },
    {
     "data": {
      "application/vnd.jupyter.widget-view+json": {
       "model_id": "b5b3dd8ca8a44e9e85c439f00cf8f03f",
       "version_major": 2,
       "version_minor": 0
      },
      "text/plain": [
       "Button(description='Next List', style=ButtonStyle())"
      ]
     },
     "metadata": {},
     "output_type": "display_data"
    },
    {
     "data": {
      "application/vnd.jupyter.widget-view+json": {
       "model_id": "9ec4840f51f64957b72b8b13b4d90759",
       "version_major": 2,
       "version_minor": 0
      },
      "text/plain": [
       "Button(description='Back', style=ButtonStyle())"
      ]
     },
     "metadata": {},
     "output_type": "display_data"
    }
   ],
   "source": [
    "labeler.begin()"
   ]
  },
  {
   "cell_type": "code",
   "execution_count": 35,
   "id": "ead49908",
   "metadata": {},
   "outputs": [
    {
     "data": {
      "text/plain": [
       "[{'image_1': 'cub_200_2011/att_cls_images/test/Sayornis_0130_98678.jpg',\n",
       "  'image_2': 'cub_200_2011/att_cls_images/test/Sayornis_0094_98512.jpg',\n",
       "  'answer': 'Right',\n",
       "  'question': 'Which bird has more brown on its crown?'}]"
      ]
     },
     "execution_count": 35,
     "metadata": {},
     "output_type": "execute_result"
    }
   ],
   "source": [
    "labeler.results"
   ]
  },
  {
   "cell_type": "code",
   "execution_count": 55,
   "id": "b155ec7c",
   "metadata": {
    "scrolled": true
   },
   "outputs": [],
   "source": [
    "labeler.save_updated_data()"
   ]
  },
  {
   "cell_type": "code",
   "execution_count": null,
   "id": "a28c6082",
   "metadata": {},
   "outputs": [],
   "source": []
  }
 ],
 "metadata": {
  "kernelspec": {
   "display_name": "vl_compare",
   "language": "python",
   "name": "vl_compare"
  },
  "language_info": {
   "codemirror_mode": {
    "name": "ipython",
    "version": 3
   },
   "file_extension": ".py",
   "mimetype": "text/x-python",
   "name": "python",
   "nbconvert_exporter": "python",
   "pygments_lexer": "ipython3",
   "version": "3.10.14"
  }
 },
 "nbformat": 4,
 "nbformat_minor": 5
}
